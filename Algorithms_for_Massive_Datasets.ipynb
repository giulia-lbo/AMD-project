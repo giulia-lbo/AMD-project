{
  "nbformat": 4,
  "nbformat_minor": 0,
  "metadata": {
    "colab": {
      "provenance": [],
      "collapsed_sections": [],
      "authorship_tag": "ABX9TyNOJAiIC4uVS6Fv+fcUBJtD",
      "include_colab_link": true
    },
    "kernelspec": {
      "name": "python3",
      "display_name": "Python 3"
    },
    "language_info": {
      "name": "python"
    }
  },
  "cells": [
    {
      "cell_type": "markdown",
      "metadata": {
        "id": "view-in-github",
        "colab_type": "text"
      },
      "source": [
        "<a href=\"https://colab.research.google.com/github/zulai98/AMD-project/blob/main/Algorithms_for_Massive_Datasets.ipynb\" target=\"_parent\"><img src=\"https://colab.research.google.com/assets/colab-badge.svg\" alt=\"Open In Colab\"/></a>"
      ]
    },
    {
      "cell_type": "code",
      "execution_count": null,
      "metadata": {
        "id": "6ebAtaVCTKOx"
      },
      "outputs": [],
      "source": [
        "#Mount drives to load them\n",
        "from google.colab import drive\n",
        " "
      ]
    },
    {
      "cell_type": "code",
      "source": [
        "!pip install kaggle\n"
      ],
      "metadata": {
        "colab": {
          "base_uri": "https://localhost:8080/"
        },
        "id": "jdy5AK8BTZ3J",
        "outputId": "f44158b6-ec64-4cdf-86c7-ec35f6bf0a97"
      },
      "execution_count": 1,
      "outputs": [
        {
          "output_type": "stream",
          "name": "stdout",
          "text": [
            "Looking in indexes: https://pypi.org/simple, https://us-python.pkg.dev/colab-wheels/public/simple/\n",
            "Requirement already satisfied: kaggle in /usr/local/lib/python3.7/dist-packages (1.5.12)\n",
            "Requirement already satisfied: python-dateutil in /usr/local/lib/python3.7/dist-packages (from kaggle) (2.8.2)\n",
            "Requirement already satisfied: python-slugify in /usr/local/lib/python3.7/dist-packages (from kaggle) (6.1.2)\n",
            "Requirement already satisfied: certifi in /usr/local/lib/python3.7/dist-packages (from kaggle) (2022.9.24)\n",
            "Requirement already satisfied: six>=1.10 in /usr/local/lib/python3.7/dist-packages (from kaggle) (1.15.0)\n",
            "Requirement already satisfied: tqdm in /usr/local/lib/python3.7/dist-packages (from kaggle) (4.64.1)\n",
            "Requirement already satisfied: requests in /usr/local/lib/python3.7/dist-packages (from kaggle) (2.23.0)\n",
            "Requirement already satisfied: urllib3 in /usr/local/lib/python3.7/dist-packages (from kaggle) (1.24.3)\n",
            "Requirement already satisfied: text-unidecode>=1.3 in /usr/local/lib/python3.7/dist-packages (from python-slugify->kaggle) (1.3)\n",
            "Requirement already satisfied: chardet<4,>=3.0.2 in /usr/local/lib/python3.7/dist-packages (from requests->kaggle) (3.0.4)\n",
            "Requirement already satisfied: idna<3,>=2.5 in /usr/local/lib/python3.7/dist-packages (from requests->kaggle) (2.10)\n"
          ]
        }
      ]
    },
    {
      "cell_type": "code",
      "source": [
        "import os\n",
        "os.environ[\"KAGGLE_USERNAME\"] = \"giulialob\"\n",
        "os.environ[\"KAGGLE_KEY\"] = \"d39799005be12f6ee0e278d0afddda99\""
      ],
      "metadata": {
        "id": "3PFsLMaiUbpq"
      },
      "execution_count": 2,
      "outputs": []
    },
    {
      "cell_type": "code",
      "source": [
        "!kaggle datasets download -d bwandowando/ukraine-russian-crisis-twitter-dataset-1-2-m-rows\n"
      ],
      "metadata": {
        "colab": {
          "base_uri": "https://localhost:8080/"
        },
        "id": "3DOv3UhZpHlB",
        "outputId": "37662717-49eb-4c0b-870b-47fe40aef662"
      },
      "execution_count": 3,
      "outputs": [
        {
          "output_type": "stream",
          "name": "stdout",
          "text": [
            "Downloading ukraine-russian-crisis-twitter-dataset-1-2-m-rows.zip to /content\n",
            "100% 12.3G/12.3G [04:00<00:00, 53.6MB/s]\n",
            "100% 12.3G/12.3G [04:00<00:00, 54.8MB/s]\n"
          ]
        }
      ]
    },
    {
      "cell_type": "code",
      "source": [
        "!unzip ukraine-russian-crisis-twitter-dataset-1-2-m-rows.zip "
      ],
      "metadata": {
        "colab": {
          "base_uri": "https://localhost:8080/"
        },
        "id": "fYj5NKmhpI2g",
        "outputId": "6f842e42-1040-4ed6-dfc0-30f44c932f8d"
      },
      "execution_count": 4,
      "outputs": [
        {
          "output_type": "stream",
          "name": "stdout",
          "text": [
            "Archive:  ukraine-russian-crisis-twitter-dataset-1-2-m-rows.zip\n",
            "  inflating: 0819_UkraineCombinedTweetsDeduped.csv.gzip  \n",
            "  inflating: 0820_UkraineCombinedTweetsDeduped.csv.gzip  \n",
            "  inflating: 0821_UkraineCombinedTweetsDeduped.csv.gzip  \n",
            "  inflating: 0822_UkraineCombinedTweetsDeduped.csv.gzip  \n",
            "  inflating: 0823_UkraineCombinedTweetsDeduped.csv.gzip  \n",
            "  inflating: 0824_UkraineCombinedTweetsDeduped.csv.gzip  \n",
            "  inflating: 0825_UkraineCombinedTweetsDeduped.csv.gzip  \n",
            "  inflating: 0826_UkraineCombinedTweetsDeduped.csv.gzip  \n",
            "  inflating: 0827_UkraineCombinedTweetsDeduped.csv.gzip  \n",
            "  inflating: 0828_UkraineCombinedTweetsDeduped.csv.gzip  \n",
            "  inflating: 0829_UkraineCombinedTweetsDeduped.csv.gzip  \n",
            "  inflating: 0830_UkraineCombinedTweetsDeduped.csv.gzip  \n",
            "  inflating: 0831_UkraineCombinedTweetsDeduped.csv.gzip  \n",
            "  inflating: 0901_UkraineCombinedTweetsDeduped.csv.gzip  \n",
            "  inflating: 0902_UkraineCombinedTweetsDeduped.csv.gzip  \n",
            "  inflating: 0903_UkraineCombinedTweetsDeduped.csv.gzip  \n",
            "  inflating: 0904_UkraineCombinedTweetsDeduped.csv.gzip  \n",
            "  inflating: 0905_UkraineCombinedTweetsDeduped.csv.gzip  \n",
            "  inflating: 0906_UkraineCombinedTweetsDeduped.csv.gzip  \n",
            "  inflating: 0907_UkraineCombinedTweetsDeduped.csv.gzip  \n",
            "  inflating: 0908_UkraineCombinedTweetsDeduped.csv.gzip  \n",
            "  inflating: 0909_UkraineCombinedTweetsDeduped.csv.gzip  \n",
            "  inflating: 0910_UkraineCombinedTweetsDeduped.csv.gzip  \n",
            "  inflating: 0911_UkraineCombinedTweetsDeduped.csv.gzip  \n",
            "  inflating: 0912_UkraineCombinedTweetsDeduped.csv.gzip  \n",
            "  inflating: 0913_UkraineCombinedTweetsDeduped.csv.gzip  \n",
            "  inflating: 0914_UkraineCombinedTweetsDeduped.csv.gzip  \n",
            "  inflating: 0915_UkraineCombinedTweetsDeduped.csv.gzip  \n",
            "  inflating: 0916_UkraineCombinedTweetsDeduped.csv.gzip  \n",
            "  inflating: 0917_UkraineCombinedTweetsDeduped.csv.gzip  \n",
            "  inflating: 0918_UkraineCombinedTweetsDeduped.csv.gzip  \n",
            "  inflating: 0919_UkraineCombinedTweetsDeduped.csv.gzip  \n",
            "  inflating: 0921_UkraineCombinedTweetsDeduped.csv.gzip  \n",
            "  inflating: 0922_UkraineCombinedTweetsDeduped.csv.gzip  \n",
            "  inflating: 0923_UkraineCombinedTweetsDeduped.csv.gzip  \n",
            "  inflating: 0924_UkraineCombinedTweetsDeduped.csv.gzip  \n",
            "  inflating: 0925_UkraineCombinedTweetsDeduped.csv.gzip  \n",
            "  inflating: 0926_UkraineCombinedTweetsDeduped.csv.gzip  \n",
            "  inflating: 0927_UkraineCombinedTweetsDeduped.csv.gzip  \n",
            "  inflating: 0928_UkraineCombinedTweetsDeduped.csv.gzip  \n",
            "  inflating: 0929_UkraineCombinedTweetsDeduped.csv.gzip  \n",
            "  inflating: 0930_UkraineCombinedTweetsDeduped.csv.gzip  \n",
            "  inflating: 1001_UkraineCombinedTweetsDeduped.csv.gzip  \n",
            "  inflating: 1002_UkraineCombinedTweetsDeduped.csv.gzip  \n",
            "  inflating: 1003_UkraineCombinedTweetsDeduped.csv.gzip  \n",
            "  inflating: 1004_UkraineCombinedTweetsDeduped.csv.gzip  \n",
            "  inflating: 1005_UkraineCombinedTweetsDeduped.csv.gzip  \n",
            "  inflating: 1006_UkraineCombinedTweetsDeduped.csv.gzip  \n",
            "  inflating: UkraineWar/UkraineWar/0401_UkraineCombinedTweetsDeduped.csv.gzip  \n",
            "  inflating: UkraineWar/UkraineWar/0402_UkraineCombinedTweetsDeduped.csv.gzip  \n",
            "  inflating: UkraineWar/UkraineWar/0403_UkraineCombinedTweetsDeduped.csv.gzip  \n",
            "  inflating: UkraineWar/UkraineWar/0404_UkraineCombinedTweetsDeduped.csv.gzip  \n",
            "  inflating: UkraineWar/UkraineWar/0405_UkraineCombinedTweetsDeduped.csv.gzip  \n",
            "  inflating: UkraineWar/UkraineWar/0406_UkraineCombinedTweetsDeduped.csv.gzip  \n",
            "  inflating: UkraineWar/UkraineWar/0407_UkraineCombinedTweetsDeduped.csv.gzip  \n",
            "  inflating: UkraineWar/UkraineWar/0408_UkraineCombinedTweetsDeduped.csv.gzip  \n",
            "  inflating: UkraineWar/UkraineWar/0409_UkraineCombinedTweetsDeduped.csv.gzip  \n",
            "  inflating: UkraineWar/UkraineWar/0410_UkraineCombinedTweetsDeduped.csv.gzip  \n",
            "  inflating: UkraineWar/UkraineWar/0411_UkraineCombinedTweetsDeduped.csv.gzip  \n",
            "  inflating: UkraineWar/UkraineWar/0412_UkraineCombinedTweetsDeduped.csv.gzip  \n",
            "  inflating: UkraineWar/UkraineWar/0413_UkraineCombinedTweetsDeduped.csv.gzip  \n",
            "  inflating: UkraineWar/UkraineWar/0414_UkraineCombinedTweetsDeduped.csv.gzip  \n",
            "  inflating: UkraineWar/UkraineWar/0415_UkraineCombinedTweetsDeduped.csv.gzip  \n",
            "  inflating: UkraineWar/UkraineWar/0416_UkraineCombinedTweetsDeduped.csv.gzip  \n",
            "  inflating: UkraineWar/UkraineWar/0417_UkraineCombinedTweetsDeduped.csv.gzip  \n",
            "  inflating: UkraineWar/UkraineWar/0418_UkraineCombinedTweetsDeduped.csv.gzip  \n",
            "  inflating: UkraineWar/UkraineWar/0419_UkraineCombinedTweetsDeduped.csv.gzip  \n",
            "  inflating: UkraineWar/UkraineWar/0420_UkraineCombinedTweetsDeduped.csv.gzip  \n",
            "  inflating: UkraineWar/UkraineWar/0421_UkraineCombinedTweetsDeduped.csv.gzip  \n",
            "  inflating: UkraineWar/UkraineWar/0422_UkraineCombinedTweetsDeduped.csv.gzip  \n",
            "  inflating: UkraineWar/UkraineWar/0423_UkraineCombinedTweetsDeduped.csv.gzip  \n",
            "  inflating: UkraineWar/UkraineWar/0424_UkraineCombinedTweetsDeduped.csv.gzip  \n",
            "  inflating: UkraineWar/UkraineWar/0425_UkraineCombinedTweetsDeduped.csv.gzip  \n",
            "  inflating: UkraineWar/UkraineWar/0426_UkraineCombinedTweetsDeduped.csv.gzip  \n",
            "  inflating: UkraineWar/UkraineWar/0427_UkraineCombinedTweetsDeduped.csv.gzip  \n",
            "  inflating: UkraineWar/UkraineWar/0428_UkraineCombinedTweetsDeduped.csv.gzip  \n",
            "  inflating: UkraineWar/UkraineWar/0429_UkraineCombinedTweetsDeduped.csv.gzip  \n",
            "  inflating: UkraineWar/UkraineWar/0430_UkraineCombinedTweetsDeduped.csv.gzip  \n",
            "  inflating: UkraineWar/UkraineWar/0501_UkraineCombinedTweetsDeduped.csv.gzip  \n",
            "  inflating: UkraineWar/UkraineWar/0502_UkraineCombinedTweetsDeduped.csv.gzip  \n",
            "  inflating: UkraineWar/UkraineWar/0503_UkraineCombinedTweetsDeduped.csv.gzip  \n",
            "  inflating: UkraineWar/UkraineWar/0504_UkraineCombinedTweetsDeduped.csv.gzip  \n",
            "  inflating: UkraineWar/UkraineWar/0505_to_0507_UkraineCombinedTweetsDeduped.csv.gzip  \n",
            "  inflating: UkraineWar/UkraineWar/0508_UkraineCombinedTweetsDeduped.csv.gzip  \n",
            "  inflating: UkraineWar/UkraineWar/0509_UkraineCombinedTweetsDeduped.csv.gzip  \n",
            "  inflating: UkraineWar/UkraineWar/0510_UkraineCombinedTweetsDeduped.csv.gzip  \n",
            "  inflating: UkraineWar/UkraineWar/0511_UkraineCombinedTweetsDeduped.csv.gzip  \n",
            "  inflating: UkraineWar/UkraineWar/0512_UkraineCombinedTweetsDeduped.csv.gzip  \n",
            "  inflating: UkraineWar/UkraineWar/0513_UkraineCombinedTweetsDeduped.csv.gzip  \n",
            "  inflating: UkraineWar/UkraineWar/0514_UkraineCombinedTweetsDeduped.csv.gzip  \n",
            "  inflating: UkraineWar/UkraineWar/0515_UkraineCombinedTweetsDeduped.csv.gzip  \n",
            "  inflating: UkraineWar/UkraineWar/0516_UkraineCombinedTweetsDeduped.csv.gzip  \n",
            "  inflating: UkraineWar/UkraineWar/0517_UkraineCombinedTweetsDeduped.csv.gzip  \n",
            "  inflating: UkraineWar/UkraineWar/0518_UkraineCombinedTweetsDeduped.csv.gzip  \n",
            "  inflating: UkraineWar/UkraineWar/0519_UkraineCombinedTweetsDeduped.csv.gzip  \n",
            "  inflating: UkraineWar/UkraineWar/0520_UkraineCombinedTweetsDeduped.csv.gzip  \n",
            "  inflating: UkraineWar/UkraineWar/0521_UkraineCombinedTweetsDeduped.csv.gzip  \n",
            "  inflating: UkraineWar/UkraineWar/0522_UkraineCombinedTweetsDeduped.csv.gzip  \n",
            "  inflating: UkraineWar/UkraineWar/0523_UkraineCombinedTweetsDeduped.csv.gzip  \n",
            "  inflating: UkraineWar/UkraineWar/0524_UkraineCombinedTweetsDeduped.csv.gzip  \n",
            "  inflating: UkraineWar/UkraineWar/0525_UkraineCombinedTweetsDeduped.csv.gzip  \n",
            "  inflating: UkraineWar/UkraineWar/0526_UkraineCombinedTweetsDeduped.csv.gzip  \n",
            "  inflating: UkraineWar/UkraineWar/0527_UkraineCombinedTweetsDeduped.csv.gzip  \n",
            "  inflating: UkraineWar/UkraineWar/0528_UkraineCombinedTweetsDeduped.csv.gzip  \n",
            "  inflating: UkraineWar/UkraineWar/0529_UkraineCombinedTweetsDeduped.csv.gzip  \n",
            "  inflating: UkraineWar/UkraineWar/0530_UkraineCombinedTweetsDeduped.csv.gzip  \n",
            "  inflating: UkraineWar/UkraineWar/0531_UkraineCombinedTweetsDeduped.csv.gzip  \n",
            "  inflating: UkraineWar/UkraineWar/0601_UkraineCombinedTweetsDeduped.csv.gzip  \n",
            "  inflating: UkraineWar/UkraineWar/0602_UkraineCombinedTweetsDeduped.csv.gzip  \n",
            "  inflating: UkraineWar/UkraineWar/0603_UkraineCombinedTweetsDeduped.csv.gzip  \n",
            "  inflating: UkraineWar/UkraineWar/0604_UkraineCombinedTweetsDeduped.csv.gzip  \n",
            "  inflating: UkraineWar/UkraineWar/0605_UkraineCombinedTweetsDeduped.csv.gzip  \n",
            "  inflating: UkraineWar/UkraineWar/0606_to_08_UkraineCombinedTweetsDeduped.csv.gzip  \n",
            "  inflating: UkraineWar/UkraineWar/0609_UkraineCombinedTweetsDeduped.csv.gzip  \n",
            "  inflating: UkraineWar/UkraineWar/0610_UkraineCombinedTweetsDeduped.csv.gzip  \n",
            "  inflating: UkraineWar/UkraineWar/0611_UkraineCombinedTweetsDeduped.csv.gzip  \n",
            "  inflating: UkraineWar/UkraineWar/0612_UkraineCombinedTweetsDeduped.csv.gzip  \n",
            "  inflating: UkraineWar/UkraineWar/0613_UkraineCombinedTweetsDeduped.csv.gzip  \n",
            "  inflating: UkraineWar/UkraineWar/0614_UkraineCombinedTweetsDeduped.csv.gzip  \n",
            "  inflating: UkraineWar/UkraineWar/0615_UkraineCombinedTweetsDeduped.csv.gzip  \n",
            "  inflating: UkraineWar/UkraineWar/0616_UkraineCombinedTweetsDeduped.csv.gzip  \n",
            "  inflating: UkraineWar/UkraineWar/0617_UkraineCombinedTweetsDeduped.csv.gzip  \n",
            "  inflating: UkraineWar/UkraineWar/0618_UkraineCombinedTweetsDeduped.csv.gzip  \n",
            "  inflating: UkraineWar/UkraineWar/0619_UkraineCombinedTweetsDeduped.csv.gzip  \n",
            "  inflating: UkraineWar/UkraineWar/0620_UkraineCombinedTweetsDeduped.csv.gzip  \n",
            "  inflating: UkraineWar/UkraineWar/0621_UkraineCombinedTweetsDeduped.csv.gzip  \n",
            "  inflating: UkraineWar/UkraineWar/0622_UkraineCombinedTweetsDeduped.csv.gzip  \n",
            "  inflating: UkraineWar/UkraineWar/0623_UkraineCombinedTweetsDeduped.csv.gzip  \n",
            "  inflating: UkraineWar/UkraineWar/0624_UkraineCombinedTweetsDeduped.csv.gzip  \n",
            "  inflating: UkraineWar/UkraineWar/0625_UkraineCombinedTweetsDeduped.csv.gzip  \n",
            "  inflating: UkraineWar/UkraineWar/0626_UkraineCombinedTweetsDeduped.csv.gzip  \n",
            "  inflating: UkraineWar/UkraineWar/0627_UkraineCombinedTweetsDeduped.csv.gzip  \n",
            "  inflating: UkraineWar/UkraineWar/0628_UkraineCombinedTweetsDeduped.csv.gzip  \n",
            "  inflating: UkraineWar/UkraineWar/0629_UkraineCombinedTweetsDeduped.csv.gzip  \n",
            "  inflating: UkraineWar/UkraineWar/0630_UkraineCombinedTweetsDeduped.csv.gzip  \n",
            "  inflating: UkraineWar/UkraineWar/0701_UkraineCombinedTweetsDeduped.csv.gzip  \n",
            "  inflating: UkraineWar/UkraineWar/0702_UkraineCombinedTweetsDeduped.csv.gzip  \n",
            "  inflating: UkraineWar/UkraineWar/0703_UkraineCombinedTweetsDeduped.csv.gzip  \n",
            "  inflating: UkraineWar/UkraineWar/0704_UkraineCombinedTweetsDeduped.csv.gzip  \n",
            "  inflating: UkraineWar/UkraineWar/0705_UkraineCombinedTweetsDeduped.csv.gzip  \n",
            "  inflating: UkraineWar/UkraineWar/0706_UkraineCombinedTweetsDeduped.csv.gzip  \n",
            "  inflating: UkraineWar/UkraineWar/0707_UkraineCombinedTweetsDeduped.csv.gzip  \n",
            "  inflating: UkraineWar/UkraineWar/0708_UkraineCombinedTweetsDeduped.csv.gzip  \n",
            "  inflating: UkraineWar/UkraineWar/0709_UkraineCombinedTweetsDeduped.csv.gzip  \n",
            "  inflating: UkraineWar/UkraineWar/0710_UkraineCombinedTweetsDeduped.csv.gzip  \n",
            "  inflating: UkraineWar/UkraineWar/0711_UkraineCombinedTweetsDeduped.csv.gzip  \n",
            "  inflating: UkraineWar/UkraineWar/0712_UkraineCombinedTweetsDeduped.csv.gzip  \n",
            "  inflating: UkraineWar/UkraineWar/0713_UkraineCombinedTweetsDeduped.csv.gzip  \n",
            "  inflating: UkraineWar/UkraineWar/0714_UkraineCombinedTweetsDeduped.csv.gzip  \n",
            "  inflating: UkraineWar/UkraineWar/0715_UkraineCombinedTweetsDeduped.csv.gzip  \n",
            "  inflating: UkraineWar/UkraineWar/0716_UkraineCombinedTweetsDeduped.csv.gzip  \n",
            "  inflating: UkraineWar/UkraineWar/0717_UkraineCombinedTweetsDeduped.csv.gzip  \n",
            "  inflating: UkraineWar/UkraineWar/0718_UkraineCombinedTweetsDeduped.csv.gzip  \n",
            "  inflating: UkraineWar/UkraineWar/0719_UkraineCombinedTweetsDeduped.csv.gzip  \n",
            "  inflating: UkraineWar/UkraineWar/0720_UkraineCombinedTweetsDeduped.csv.gzip  \n",
            "  inflating: UkraineWar/UkraineWar/0721_UkraineCombinedTweetsDeduped.csv.gzip  \n",
            "  inflating: UkraineWar/UkraineWar/0722_UkraineCombinedTweetsDeduped.csv.gzip  \n",
            "  inflating: UkraineWar/UkraineWar/0723_UkraineCombinedTweetsDeduped.csv.gzip  \n",
            "  inflating: UkraineWar/UkraineWar/0724_UkraineCombinedTweetsDeduped.csv.gzip  \n",
            "  inflating: UkraineWar/UkraineWar/0725_UkraineCombinedTweetsDeduped.csv.gzip  \n",
            "  inflating: UkraineWar/UkraineWar/0726_UkraineCombinedTweetsDeduped.csv.gzip  \n",
            "  inflating: UkraineWar/UkraineWar/0727_UkraineCombinedTweetsDeduped.csv.gzip  \n",
            "  inflating: UkraineWar/UkraineWar/0728_UkraineCombinedTweetsDeduped.csv.gzip  \n",
            "  inflating: UkraineWar/UkraineWar/0729_UkraineCombinedTweetsDeduped.csv.gzip  \n",
            "  inflating: UkraineWar/UkraineWar/0730_UkraineCombinedTweetsDeduped.csv.gzip  \n",
            "  inflating: UkraineWar/UkraineWar/0731_UkraineCombinedTweetsDeduped.csv.gzip  \n",
            "  inflating: UkraineWar/UkraineWar/0801_UkraineCombinedTweetsDeduped.csv.gzip  \n",
            "  inflating: UkraineWar/UkraineWar/0802_UkraineCombinedTweetsDeduped.csv.gzip  \n",
            "  inflating: UkraineWar/UkraineWar/0803_UkraineCombinedTweetsDeduped.csv.gzip  \n",
            "  inflating: UkraineWar/UkraineWar/0804_UkraineCombinedTweetsDeduped.csv.gzip  \n",
            "  inflating: UkraineWar/UkraineWar/0805_UkraineCombinedTweetsDeduped.csv.gzip  \n",
            "  inflating: UkraineWar/UkraineWar/0806_UkraineCombinedTweetsDeduped.csv.gzip  \n",
            "  inflating: UkraineWar/UkraineWar/0807_UkraineCombinedTweetsDeduped.csv.gzip  \n",
            "  inflating: UkraineWar/UkraineWar/0808_UkraineCombinedTweetsDeduped.csv.gzip  \n",
            "  inflating: UkraineWar/UkraineWar/0809_UkraineCombinedTweetsDeduped.csv.gzip  \n",
            "  inflating: UkraineWar/UkraineWar/0810_UkraineCombinedTweetsDeduped.csv.gzip  \n",
            "  inflating: UkraineWar/UkraineWar/0811_UkraineCombinedTweetsDeduped.csv.gzip  \n",
            "  inflating: UkraineWar/UkraineWar/0812_UkraineCombinedTweetsDeduped.csv.gzip  \n",
            "  inflating: UkraineWar/UkraineWar/0813_UkraineCombinedTweetsDeduped.csv.gzip  \n",
            "  inflating: UkraineWar/UkraineWar/0814_UkraineCombinedTweetsDeduped.csv.gzip  \n",
            "  inflating: UkraineWar/UkraineWar/0815_UkraineCombinedTweetsDeduped.csv.gzip  \n",
            "  inflating: UkraineWar/UkraineWar/0816_UkraineCombinedTweetsDeduped.csv.gzip  \n",
            "  inflating: UkraineWar/UkraineWar/0817_UkraineCombinedTweetsDeduped.csv.gzip  \n",
            "  inflating: UkraineWar/UkraineWar/0818_UkraineCombinedTweetsDeduped.csv.gzip  \n",
            "  inflating: UkraineWar/UkraineWar/UkraineCombinedTweetsDeduped20220227-131611.csv.gzip  \n",
            "  inflating: UkraineWar/UkraineWar/UkraineCombinedTweetsDeduped_FEB27.csv.gzip  \n",
            "  inflating: UkraineWar/UkraineWar/UkraineCombinedTweetsDeduped_FEB28_part1.csv.gzip  \n",
            "  inflating: UkraineWar/UkraineWar/UkraineCombinedTweetsDeduped_FEB28_part2.csv.gzip  \n",
            "  inflating: UkraineWar/UkraineWar/UkraineCombinedTweetsDeduped_MAR01.csv.gzip  \n",
            "  inflating: UkraineWar/UkraineWar/UkraineCombinedTweetsDeduped_MAR02.csv.gzip  \n",
            "  inflating: UkraineWar/UkraineWar/UkraineCombinedTweetsDeduped_MAR03.csv.gzip  \n",
            "  inflating: UkraineWar/UkraineWar/UkraineCombinedTweetsDeduped_MAR04.csv.gzip  \n",
            "  inflating: UkraineWar/UkraineWar/UkraineCombinedTweetsDeduped_MAR05.csv.gzip  \n",
            "  inflating: UkraineWar/UkraineWar/UkraineCombinedTweetsDeduped_MAR06.csv.gzip  \n",
            "  inflating: UkraineWar/UkraineWar/UkraineCombinedTweetsDeduped_MAR07.csv.gzip  \n",
            "  inflating: UkraineWar/UkraineWar/UkraineCombinedTweetsDeduped_MAR08.csv.gzip  \n",
            "  inflating: UkraineWar/UkraineWar/UkraineCombinedTweetsDeduped_MAR09.csv.gzip  \n",
            "  inflating: UkraineWar/UkraineWar/UkraineCombinedTweetsDeduped_MAR10.csv.gzip  \n",
            "  inflating: UkraineWar/UkraineWar/UkraineCombinedTweetsDeduped_MAR11.csv.gzip  \n",
            "  inflating: UkraineWar/UkraineWar/UkraineCombinedTweetsDeduped_MAR12.csv.gzip  \n",
            "  inflating: UkraineWar/UkraineWar/UkraineCombinedTweetsDeduped_MAR13.csv.gzip  \n",
            "  inflating: UkraineWar/UkraineWar/UkraineCombinedTweetsDeduped_MAR14.csv.gzip  \n",
            "  inflating: UkraineWar/UkraineWar/UkraineCombinedTweetsDeduped_MAR15.csv.gzip  \n",
            "  inflating: UkraineWar/UkraineWar/UkraineCombinedTweetsDeduped_MAR16.csv.gzip  \n",
            "  inflating: UkraineWar/UkraineWar/UkraineCombinedTweetsDeduped_MAR17.csv.gzip  \n",
            "  inflating: UkraineWar/UkraineWar/UkraineCombinedTweetsDeduped_MAR18.csv.gzip  \n",
            "  inflating: UkraineWar/UkraineWar/UkraineCombinedTweetsDeduped_MAR19.csv.gzip  \n",
            "  inflating: UkraineWar/UkraineWar/UkraineCombinedTweetsDeduped_MAR20.csv.gzip  \n",
            "  inflating: UkraineWar/UkraineWar/UkraineCombinedTweetsDeduped_MAR21.csv.gzip  \n",
            "  inflating: UkraineWar/UkraineWar/UkraineCombinedTweetsDeduped_MAR22.csv.gzip  \n",
            "  inflating: UkraineWar/UkraineWar/UkraineCombinedTweetsDeduped_MAR23.csv.gzip  \n",
            "  inflating: UkraineWar/UkraineWar/UkraineCombinedTweetsDeduped_MAR24.csv.gzip  \n",
            "  inflating: UkraineWar/UkraineWar/UkraineCombinedTweetsDeduped_MAR25.csv.gzip  \n",
            "  inflating: UkraineWar/UkraineWar/UkraineCombinedTweetsDeduped_MAR26.csv.gzip  \n",
            "  inflating: UkraineWar/UkraineWar/UkraineCombinedTweetsDeduped_MAR27_to_28.csv.gzip  \n",
            "  inflating: UkraineWar/UkraineWar/UkraineCombinedTweetsDeduped_MAR29.csv.gzip  \n",
            "  inflating: UkraineWar/UkraineWar/UkraineCombinedTweetsDeduped_MAR30.csv.gzip  \n",
            "  inflating: UkraineWar/UkraineWar/UkraineCombinedTweetsDeduped_MAR31.csv.gzip  \n"
          ]
        }
      ]
    },
    {
      "cell_type": "code",
      "source": [
        "!mkdir UkrWar\n",
        "!rm -rf sample_data"
      ],
      "metadata": {
        "id": "dzryfnYdpyhc"
      },
      "execution_count": 8,
      "outputs": []
    },
    {
      "cell_type": "code",
      "source": [
        "!gzip -l *.gz\n",
        "#          278455064           732598840  62.0% UkraineCombinedTweetsDeduped20220227-131611.csv\n",
        "#          82892498           209652014  60.5% UkraineCombinedTweetsDeduped_FEB27.csv\n",
        "#          35812015            97510321  63.3% 0722_UkraineCombinedTweetsDeduped.csv\n",
        "#          28378314            72450067  60.8% 0921_UkraineCombinedTweetsDeduped.csv.gzip\n",
        "#          17729064            47865629  63.0% 0808_UkraineCombinedTweetsDeduped.csv\n",
        "#          14550285            38189130  61.9% 1005_UkraineCombinedTweetsDeduped.csv.gzip\n",
        "#          12507492            33878722  63.1% 0818_UkraineCombinedTweetsDeduped.csv\n"
      ],
      "metadata": {
        "colab": {
          "base_uri": "https://localhost:8080/"
        },
        "id": "B5_D67fkxv5l",
        "outputId": "0720b17d-28d0-412f-fcd5-bd62d4c67fa8"
      },
      "execution_count": 33,
      "outputs": [
        {
          "output_type": "stream",
          "name": "stdout",
          "text": [
            "         compressed        uncompressed  ratio uncompressed_name\n",
            "           84434516           219533443  61.5% 0401_UkraineCombinedTweetsDeduped.csv\n",
            "           83271492           221367381  62.4% 0402_UkraineCombinedTweetsDeduped.csv\n",
            "          100213353           266178275  62.4% 0403_UkraineCombinedTweetsDeduped.csv\n",
            "           98707386           256320083  61.5% 0404_UkraineCombinedTweetsDeduped.csv\n",
            "          106306921           273469217  61.1% 0405_UkraineCombinedTweetsDeduped.csv\n",
            "           99734645           257606285  61.3% 0406_UkraineCombinedTweetsDeduped.csv\n",
            "           90274322           230445167  60.8% 0407_UkraineCombinedTweetsDeduped.csv\n",
            "           94538537           246757806  61.7% 0408_UkraineCombinedTweetsDeduped.csv\n",
            "           92164537           243386796  62.1% 0409_UkraineCombinedTweetsDeduped.csv\n",
            "           84251394           225925491  62.7% 0410_UkraineCombinedTweetsDeduped.csv\n",
            "           85328851           228111355  62.6% 0411_UkraineCombinedTweetsDeduped.csv\n",
            "           90254109           239386841  62.3% 0412_UkraineCombinedTweetsDeduped.csv\n",
            "           87275812           234025344  62.7% 0413_UkraineCombinedTweetsDeduped.csv\n",
            "           83580519           220486336  62.1% 0414_UkraineCombinedTweetsDeduped.csv\n",
            "           82012344           214246484  61.7% 0415_UkraineCombinedTweetsDeduped.csv\n",
            "           75893753           196672483  61.4% 0416_UkraineCombinedTweetsDeduped.csv\n",
            "           74247709           194083131  61.7% 0417_UkraineCombinedTweetsDeduped.csv\n",
            "           76703558           201498244  61.9% 0418_UkraineCombinedTweetsDeduped.csv\n",
            "           92373053           250651602  63.1% 0419_UkraineCombinedTweetsDeduped.csv\n",
            "           88262755           239366056  63.1% 0420_UkraineCombinedTweetsDeduped.csv\n",
            "           82364130           220601969  62.7% 0421_UkraineCombinedTweetsDeduped.csv\n",
            "           84919521           234869843  63.8% 0422_UkraineCombinedTweetsDeduped.csv\n",
            "           90995781           251253813  63.8% 0423_UkraineCombinedTweetsDeduped.csv\n",
            "           88527924           239020314  63.0% 0424_UkraineCombinedTweetsDeduped.csv\n",
            "           81704166           221136835  63.1% 0425_UkraineCombinedTweetsDeduped.csv\n",
            "           89318365           230085371  61.2% 0426_UkraineCombinedTweetsDeduped.csv\n",
            "           79996347           215786046  62.9% 0427_UkraineCombinedTweetsDeduped.csv\n",
            "           81076961           213950861  62.1% 0428_UkraineCombinedTweetsDeduped.csv\n",
            "           86417023           220167492  60.7% 0429_UkraineCombinedTweetsDeduped.csv\n",
            "           84516065           217928553  61.2% 0430_UkraineCombinedTweetsDeduped.csv\n",
            "           87997508           232347060  62.1% 0501_UkraineCombinedTweetsDeduped.csv\n",
            "           86608169           221236508  60.9% 0502_UkraineCombinedTweetsDeduped.csv\n",
            "           78764427           204857171  61.6% 0503_UkraineCombinedTweetsDeduped.csv\n",
            "          104413589           266033397  60.8% 0504_UkraineCombinedTweetsDeduped.csv\n",
            "          279204729           720345923  61.2% 0505_to_0507_UkraineCombinedTweetsDeduped.csv\n",
            "           94106694           245855638  61.7% 0508_UkraineCombinedTweetsDeduped.csv\n",
            "          104248866           269415174  61.3% 0509_UkraineCombinedTweetsDeduped.csv\n",
            "           91025600           238028441  61.8% 0510_UkraineCombinedTweetsDeduped.csv\n",
            "           82892824           214593807  61.4% 0511_UkraineCombinedTweetsDeduped.csv\n",
            "           81637071           209851804  61.1% 0512_UkraineCombinedTweetsDeduped.csv\n",
            "           75993738           194969706  61.0% 0513_UkraineCombinedTweetsDeduped.csv\n",
            "           82190252           215402395  61.8% 0514_UkraineCombinedTweetsDeduped.csv\n",
            "          104851272           266559482  60.7% 0515_UkraineCombinedTweetsDeduped.csv\n",
            "          100038834           266555515  62.5% 0516_UkraineCombinedTweetsDeduped.csv\n",
            "           88630833           234218787  62.2% 0517_UkraineCombinedTweetsDeduped.csv\n",
            "           83315319           220585772  62.2% 0518_UkraineCombinedTweetsDeduped.csv\n",
            "           73661056           190050347  61.2% 0519_UkraineCombinedTweetsDeduped.csv\n",
            "           62845685           163334042  61.5% 0520_UkraineCombinedTweetsDeduped.csv\n",
            "           57568591           149310316  61.4% 0521_UkraineCombinedTweetsDeduped.csv\n",
            "           53802145           140825420  61.8% 0522_UkraineCombinedTweetsDeduped.csv\n",
            "           66854617           173583149  61.5% 0523_UkraineCombinedTweetsDeduped.csv\n",
            "           66460700           174400306  61.9% 0524_UkraineCombinedTweetsDeduped.csv\n",
            "           60499894           160676451  62.3% 0525_UkraineCombinedTweetsDeduped.csv\n",
            "           56869277           150265372  62.2% 0526_UkraineCombinedTweetsDeduped.csv\n",
            "           64023132           165434617  61.3% 0527_UkraineCombinedTweetsDeduped.csv\n",
            "           59224870           157565586  62.4% 0528_UkraineCombinedTweetsDeduped.csv\n",
            "           57105640           150792539  62.1% 0529_UkraineCombinedTweetsDeduped.csv\n",
            "           62825448           163137410  61.5% 0530_UkraineCombinedTweetsDeduped.csv\n",
            "           58943945           153385206  61.6% 0531_UkraineCombinedTweetsDeduped.csv\n",
            "           68772214           185909473  63.0% 0601_UkraineCombinedTweetsDeduped.csv\n",
            "           57984231           150795531  61.5% 0602_UkraineCombinedTweetsDeduped.csv\n",
            "           60944816           159764531  61.9% 0603_UkraineCombinedTweetsDeduped.csv\n",
            "           61768099           165660836  62.7% 0604_UkraineCombinedTweetsDeduped.csv\n",
            "           56983534           149953408  62.0% 0605_UkraineCombinedTweetsDeduped.csv\n",
            "          187056817           495515625  62.3% 0606_to_08_UkraineCombinedTweetsDeduped.csv\n",
            "           68481465           184247823  62.8% 0609_UkraineCombinedTweetsDeduped.csv\n",
            "           66985672           180475590  62.9% 0610_UkraineCombinedTweetsDeduped.csv\n",
            "           58415994           152767258  61.8% 0611_UkraineCombinedTweetsDeduped.csv\n",
            "           56038963           149777589  62.6% 0612_UkraineCombinedTweetsDeduped.csv\n",
            "           58630625           153786410  61.9% 0613_UkraineCombinedTweetsDeduped.csv\n",
            "           59439692           155162579  61.7% 0614_UkraineCombinedTweetsDeduped.csv\n",
            "           58463660           151682465  61.5% 0615_UkraineCombinedTweetsDeduped.csv\n",
            "           77090953           198628071  61.2% 0616_UkraineCombinedTweetsDeduped.csv\n",
            "           71025483           182505639  61.1% 0617_UkraineCombinedTweetsDeduped.csv\n",
            "           55159341           148513701  62.9% 0618_UkraineCombinedTweetsDeduped.csv\n",
            "           48486544           129339039  62.5% 0619_UkraineCombinedTweetsDeduped.csv\n",
            "           51692247           138127490  62.6% 0620_UkraineCombinedTweetsDeduped.csv\n",
            "           51295776           136796626  62.5% 0621_UkraineCombinedTweetsDeduped.csv\n",
            "           52518713           143295187  63.3% 0622_UkraineCombinedTweetsDeduped.csv\n",
            "           59012661           159787893  63.1% 0623_UkraineCombinedTweetsDeduped.csv\n",
            "           55564431           148525335  62.6% 0624_UkraineCombinedTweetsDeduped.csv\n",
            "           47044589           127332978  63.1% 0625_UkraineCombinedTweetsDeduped.csv\n",
            "           57082996           154129821  63.0% 0626_UkraineCombinedTweetsDeduped.csv\n",
            "           69949838           191810617  63.5% 0627_UkraineCombinedTweetsDeduped.csv\n",
            "           74640890           200555180  62.8% 0628_UkraineCombinedTweetsDeduped.csv\n",
            "           75541829           198470396  61.9% 0629_UkraineCombinedTweetsDeduped.csv\n",
            "           61605597           160077511  61.5% 0630_UkraineCombinedTweetsDeduped.csv\n",
            "           53566633           141764199  62.2% 0701_UkraineCombinedTweetsDeduped.csv\n",
            "           45061790           120802781  62.7% 0702_UkraineCombinedTweetsDeduped.csv\n",
            "           42573109           114231003  62.7% 0703_UkraineCombinedTweetsDeduped.csv\n",
            "           49192606           131908650  62.7% 0704_UkraineCombinedTweetsDeduped.csv\n",
            "           46573674           125661124  62.9% 0705_UkraineCombinedTweetsDeduped.csv\n",
            "           43571108           119137482  63.4% 0706_UkraineCombinedTweetsDeduped.csv\n",
            "           46417233           125136736  62.9% 0707_UkraineCombinedTweetsDeduped.csv\n",
            "           48549852           131894464  63.2% 0708_UkraineCombinedTweetsDeduped.csv\n",
            "           41358176           113442562  63.5% 0709_UkraineCombinedTweetsDeduped.csv\n",
            "           47088198           130118089  63.8% 0710_UkraineCombinedTweetsDeduped.csv\n",
            "           60553110           165030552  63.3% 0711_UkraineCombinedTweetsDeduped.csv\n",
            "           51683456           138345387  62.6% 0712_UkraineCombinedTweetsDeduped.csv\n",
            "           44737361           120473882  62.9% 0713_UkraineCombinedTweetsDeduped.csv\n",
            "           61537506           173841187  64.6% 0714_UkraineCombinedTweetsDeduped.csv\n",
            "           57282181           159021988  64.0% 0715_UkraineCombinedTweetsDeduped.csv\n",
            "           44372995           120737744  63.2% 0716_UkraineCombinedTweetsDeduped.csv\n",
            "           41689562           116764751  64.3% 0717_UkraineCombinedTweetsDeduped.csv\n",
            "           44432118           120971616  63.3% 0718_UkraineCombinedTweetsDeduped.csv\n",
            "           44162205           118557071  62.8% 0719_UkraineCombinedTweetsDeduped.csv\n",
            "           45458905           124693593  63.5% 0720_UkraineCombinedTweetsDeduped.csv\n",
            "           39155557           107014772  63.4% 0721_UkraineCombinedTweetsDeduped.csv\n",
            "           35812015            97510321  63.3% 0722_UkraineCombinedTweetsDeduped.csv\n",
            "           34658971            93221303  62.8% 0723_UkraineCombinedTweetsDeduped.csv\n",
            "           30278744            82307204  63.2% 0724_UkraineCombinedTweetsDeduped.csv\n",
            "           32643902            88644497  63.2% 0725_UkraineCombinedTweetsDeduped.csv\n",
            "           31931277            86130020  62.9% 0726_UkraineCombinedTweetsDeduped.csv\n",
            "           38640942           103186306  62.6% 0727_UkraineCombinedTweetsDeduped.csv\n",
            "           44525036           118790384  62.5% 0728_UkraineCombinedTweetsDeduped.csv\n",
            "           52655621           152217105  65.4% 0729_UkraineCombinedTweetsDeduped.csv\n",
            "           42799922           117639823  63.6% 0730_UkraineCombinedTweetsDeduped.csv\n",
            "           49631380           132239131  62.5% 0731_UkraineCombinedTweetsDeduped.csv\n",
            "           51940366           136533771  62.0% 0801_UkraineCombinedTweetsDeduped.csv\n",
            "           76772837           207932427  63.1% 0802_UkraineCombinedTweetsDeduped.csv\n",
            "           79330460           230396945  65.6% 0803_UkraineCombinedTweetsDeduped.csv\n",
            "           49281120           131789282  62.6% 0804_UkraineCombinedTweetsDeduped.csv\n",
            "           41966838           114373543  63.3% 0805_UkraineCombinedTweetsDeduped.csv\n",
            "           50804630           137922059  63.2% 0806_UkraineCombinedTweetsDeduped.csv\n",
            "           64624162           174132628  62.9% 0807_UkraineCombinedTweetsDeduped.csv\n",
            "           17729064            47865629  63.0% 0808_UkraineCombinedTweetsDeduped.csv\n",
            "           10188873            27654265  63.2% 0809_UkraineCombinedTweetsDeduped.csv\n",
            "           12993757            35158501  63.0% 0810_UkraineCombinedTweetsDeduped.csv\n",
            "           13123242            36045115  63.6% 0811_UkraineCombinedTweetsDeduped.csv\n",
            "           15711318            41883664  62.5% 0812_UkraineCombinedTweetsDeduped.csv\n",
            "           10696675            29019103  63.1% 0813_UkraineCombinedTweetsDeduped.csv\n",
            "            8540174            23623891  63.8% 0814_UkraineCombinedTweetsDeduped.csv\n",
            "           10195112            27939094  63.5% 0815_UkraineCombinedTweetsDeduped.csv\n",
            "           11896295            32129025  63.0% 0816_UkraineCombinedTweetsDeduped.csv\n",
            "           13867715            38732233  64.2% 0817_UkraineCombinedTweetsDeduped.csv\n",
            "           12507492            33878722  63.1% 0818_UkraineCombinedTweetsDeduped.csv\n",
            "          278455064           732598840  62.0% UkraineCombinedTweetsDeduped20220227-131611.csv\n",
            "           82892498           209652014  60.5% UkraineCombinedTweetsDeduped_FEB27.csv\n",
            "           55549375           140652287  60.5% UkraineCombinedTweetsDeduped_FEB28_part1.csv\n",
            "           32859196            82565493  60.2% UkraineCombinedTweetsDeduped_FEB28_part2.csv\n",
            "           96198140           247063242  61.1% UkraineCombinedTweetsDeduped_MAR01.csv\n",
            "           97409206           246970090  60.6% UkraineCombinedTweetsDeduped_MAR02.csv\n",
            "           92044210           236774093  61.1% UkraineCombinedTweetsDeduped_MAR03.csv\n",
            "          105970641           284090370  62.7% UkraineCombinedTweetsDeduped_MAR04.csv\n",
            "          127271794           324458130  60.8% UkraineCombinedTweetsDeduped_MAR05.csv\n",
            "          126955647           333918124  62.0% UkraineCombinedTweetsDeduped_MAR06.csv\n",
            "          130917359           339219021  61.4% UkraineCombinedTweetsDeduped_MAR07.csv\n",
            "          123161437           316025564  61.0% UkraineCombinedTweetsDeduped_MAR08.csv\n",
            "          115588576           310486605  62.8% UkraineCombinedTweetsDeduped_MAR09.csv\n",
            "          109540784           276254827  60.3% UkraineCombinedTweetsDeduped_MAR10.csv\n",
            "           97539347           247174892  60.5% UkraineCombinedTweetsDeduped_MAR11.csv\n",
            "           93742581           237798637  60.6% UkraineCombinedTweetsDeduped_MAR12.csv\n",
            "          103990610           264690736  60.7% UkraineCombinedTweetsDeduped_MAR13.csv\n",
            "           97365921           248288789  60.8% UkraineCombinedTweetsDeduped_MAR14.csv\n",
            "          110772731           281583275  60.7% UkraineCombinedTweetsDeduped_MAR15.csv\n",
            "          101159184           256786317  60.6% UkraineCombinedTweetsDeduped_MAR16.csv\n",
            "          107419406           273700791  60.8% UkraineCombinedTweetsDeduped_MAR17.csv\n",
            "          106845974           276202604  61.3% UkraineCombinedTweetsDeduped_MAR18.csv\n",
            "          102349874           264554592  61.3% UkraineCombinedTweetsDeduped_MAR19.csv\n",
            "           96016687           252002144  61.9% UkraineCombinedTweetsDeduped_MAR20.csv\n",
            "          109347250           287468785  62.0% UkraineCombinedTweetsDeduped_MAR21.csv\n",
            "           96289248           247307825  61.1% UkraineCombinedTweetsDeduped_MAR22.csv\n",
            "           96513526           245277040  60.7% UkraineCombinedTweetsDeduped_MAR23.csv\n",
            "           87553783           224940011  61.1% UkraineCombinedTweetsDeduped_MAR24.csv\n",
            "           98783880           253876789  61.1% UkraineCombinedTweetsDeduped_MAR25.csv\n",
            "           95523850           246352192  61.2% UkraineCombinedTweetsDeduped_MAR26.csv\n",
            "          178044318           459777442  61.3% UkraineCombinedTweetsDeduped_MAR27_to_28.csv\n",
            "           86386078           224233080  61.5% UkraineCombinedTweetsDeduped_MAR29.csv\n",
            "           83152090           214091376  61.2% UkraineCombinedTweetsDeduped_MAR30.csv\n",
            "           80910142           210699862  61.6% UkraineCombinedTweetsDeduped_MAR31.csv\n",
            "        12423233926         32687312363  62.0% (totals)\n"
          ]
        }
      ]
    },
    {
      "cell_type": "code",
      "source": [
        "sh = \"\"\"\n",
        "for file in UkraineWar/UkraineWar/*.gzip; do\n",
        "    mv \"$file\" UkrWar/\"$(basename \"$file\" .gzip).gz\"\n",
        "done\n",
        "for file in *.gzip; do\n",
        "    mv \"$file\" UkrWar/\"$(basename \"$file\".gzip).gz\"\n",
        "done\n",
        "\"\"\"\n",
        "with open('script.sh', 'w') as file:\n",
        "  file.write(sh)\n",
        "\n",
        "!bash script.sh"
      ],
      "metadata": {
        "id": "CusjU3BPUdFR"
      },
      "execution_count": 9,
      "outputs": []
    },
    {
      "cell_type": "code",
      "source": [
        "!rm -rf UkraineWar\n",
        "!rm -rf sample_data"
      ],
      "metadata": {
        "id": "dlHKBQ3-iIoL"
      },
      "execution_count": 10,
      "outputs": []
    },
    {
      "cell_type": "code",
      "source": [
        "#Find first date \n",
        "sh = \"\"\"\n",
        "(find $PWD -type f -iname \"*FEB27*\" )\n",
        "\"\"\"\n",
        "with open('script.sh', 'w') as file:\n",
        "  file.write(sh)\n",
        "\n",
        "!bash script.sh\n",
        "#*FEB27*"
      ],
      "metadata": {
        "colab": {
          "base_uri": "https://localhost:8080/"
        },
        "id": "OzF8Eu1Femc8",
        "outputId": "b331353f-4836-4cbb-98fc-0cd7e8d2079a"
      },
      "execution_count": 106,
      "outputs": [
        {
          "output_type": "stream",
          "name": "stdout",
          "text": [
            "/content/UkrWar/UkraineCombinedTweetsDeduped_FEB27.csv.gz.gz\n"
          ]
        }
      ]
    },
    {
      "cell_type": "code",
      "source": [
        "FILENAME='/content/UkrWar/UkraineCombinedTweetsDeduped_FEB27.csv.gz.gz'"
      ],
      "metadata": {
        "id": "fWo94BuWJw46"
      },
      "execution_count": 109,
      "outputs": []
    },
    {
      "cell_type": "code",
      "source": [
        "#Install Pyspark\n",
        "%%capture\n",
        "!pip install pyspark\n",
        "!pip install findspark\n",
        "!pip install spark-nlp==4.2.0\n"
      ],
      "metadata": {
        "id": "uHKmF3xDkabv"
      },
      "execution_count": 15,
      "outputs": []
    },
    {
      "cell_type": "code",
      "source": [
        "import numpy as np\n",
        "import pandas as pd\n",
        "import csv\n",
        "import os\n",
        "from pyspark.sql import SparkSession, Row\n",
        "import random\n",
        "import sparknlp\n",
        "import math\n",
        "\n",
        "from sparknlp.base import *\n",
        "from sparknlp.annotator import *\n",
        "from pyspark.ml import Pipeline"
      ],
      "metadata": {
        "id": "QjZDlLOhkT2A"
      },
      "execution_count": 16,
      "outputs": []
    },
    {
      "cell_type": "code",
      "source": [
        "# Build spark context\n",
        "spark = sparknlp.start()\n",
        "sc = spark.sparkContext"
      ],
      "metadata": {
        "id": "VUpNmjSKZ7eV"
      },
      "execution_count": 17,
      "outputs": []
    },
    {
      "cell_type": "code",
      "source": [
        "# Loading the data from Market_Basket_Optimisation.csv inside the dataframe\n",
        "raw_df = spark.read.csv(FILENAME, header=True, escape=\"\\\"\", quote=\"\\\"\", multiLine=True)\n"
      ],
      "metadata": {
        "id": "UmO6RI4xtAAz"
      },
      "execution_count": 110,
      "outputs": []
    },
    {
      "cell_type": "code",
      "source": [
        "raw_df.printSchema()"
      ],
      "metadata": {
        "colab": {
          "base_uri": "https://localhost:8080/"
        },
        "id": "sQbifBBFdDXO",
        "outputId": "fc36edf6-9025-4fa3-befb-630d469baa71"
      },
      "execution_count": 43,
      "outputs": [
        {
          "output_type": "stream",
          "name": "stdout",
          "text": [
            "root\n",
            " |-- _c0: string (nullable = true)\n",
            " |-- userid: string (nullable = true)\n",
            " |-- username: string (nullable = true)\n",
            " |-- acctdesc: string (nullable = true)\n",
            " |-- location: string (nullable = true)\n",
            " |-- following: string (nullable = true)\n",
            " |-- followers: string (nullable = true)\n",
            " |-- totaltweets: string (nullable = true)\n",
            " |-- usercreatedts: string (nullable = true)\n",
            " |-- tweetid: string (nullable = true)\n",
            " |-- tweetcreatedts: string (nullable = true)\n",
            " |-- retweetcount: string (nullable = true)\n",
            " |-- text: string (nullable = true)\n",
            " |-- hashtags: string (nullable = true)\n",
            " |-- language: string (nullable = true)\n",
            " |-- coordinates: string (nullable = true)\n",
            " |-- favorite_count: string (nullable = true)\n",
            " |-- extractedts: string (nullable = true)\n",
            "\n"
          ]
        }
      ]
    },
    {
      "cell_type": "code",
      "source": [
        "raw_df.show()"
      ],
      "metadata": {
        "colab": {
          "base_uri": "https://localhost:8080/"
        },
        "id": "d_17B7T6dNlu",
        "outputId": "dea32932-e4ea-4c3e-d0ff-209f1591a71e"
      },
      "execution_count": 111,
      "outputs": [
        {
          "output_type": "stream",
          "name": "stdout",
          "text": [
            "+-------+-------------------+---------------+--------------------+--------------------+---------+---------+-----------+--------------------+-------------------+-------------------+------------+--------------------+--------------------+--------+-----------+--------------+--------------------+\n",
            "|    _c0|             userid|       username|            acctdesc|            location|following|followers|totaltweets|       usercreatedts|            tweetid|     tweetcreatedts|retweetcount|                text|            hashtags|language|coordinates|favorite_count|         extractedts|\n",
            "+-------+-------------------+---------------+--------------------+--------------------+---------+---------+-----------+--------------------+-------------------+-------------------+------------+--------------------+--------------------+--------+-----------+--------------+--------------------+\n",
            "|1141800|1466752038960656385| Curtin2Tiffany|I am just like ev...|       Colorado, USA|      253|       40|         94|2021-12-03 12:52:...|1497724980259262467|2022-02-27 00:07:16|           5|#UkraineRussiaWar...|[{'text': 'Ukrain...|      en|       null|             0|2022-02-27 00:09:...|\n",
            "|1141801|1111276809302216710|         5ela60|الأب ..الأخ ..الج...|                null|      167|        9|        656|2019-03-28 14:40:...|1497724980271984641|2022-02-27 00:07:16|          28|Like everybody el...|                  []|      en|       null|             0|2022-02-27 00:09:...|\n",
            "|1141802|1364735420236505088|   StatistWomen|                🇹🇷|     Cumhur İttifakı|     1771|     1766|      37009|2021-02-25 00:35:...|1497724980322349058|2022-02-27 00:07:16|           3|#Ukrayna Güvenlik...|[{'text': 'Ukrayn...|      tr|       null|             0|2022-02-27 00:09:...|\n",
            "|1141803|          597779527|OurTurnToRescue|Issues: Threats t...|                null|     4847|     4080|      33666|2012-06-02 21:53:...|1497724980573966346|2022-02-27 00:07:16|           1|We elected a game...|[{'text': 'Ukrain...|      en|       null|             0|2022-02-27 00:09:...|\n",
            "|1141804|         1646145848| DrWAVeSportCd1|Addicted to News,...|                 USA|     5002|     3950|     466629|2013-08-04 21:07:...|1497724980653694976|2022-02-27 00:07:16|         277|Ukrainian soldier...|[{'text': 'Ukrain...|      en|       null|             0|2022-02-27 00:09:...|\n",
            "|1141805|         2191952909|  WyvernReports|In war, truth is ...|     The Blue Marble|      700|     6424|      20689|2013-11-22 21:51:...|1497724980833968129|2022-02-27 00:07:16|         565|russian troops de...|                  []|      en|       null|             0|2022-02-27 00:09:...|\n",
            "|1141806| 809948300849901568|    mikemoody02|                null|                null|       82|        4|        756|2016-12-17 02:28:...|1497724980972376064|2022-02-27 00:07:16|           1|Це російські бенз...|[{'text': 'Ukrain...|      uk|       null|             4|2022-02-27 00:09:...|\n",
            "|1141807|          507593498|       ecakir67|                null|                null|     5001|     1152|     328058|2012-02-28 16:31:...|1497724981026951176|2022-02-27 00:07:16|           1|✅Rusya Merkez Ban...|                  []|      tr|       null|             0|2022-02-27 00:09:...|\n",
            "|1141808|           23611466|         isunja|                null|    Göteborg, Sweden|      710|      219|       1328|2009-03-10 16:23:...|1497724981157023749|2022-02-27 00:07:16|          53|Some scenes from ...|[{'text': 'Kyiv',...|      en|       null|             0|2022-02-27 00:09:...|\n",
            "|1141809| 875055153157722112|   manonatelier|WordPress • Desig...|               NY/PA|     2779|      582|     116858|2017-06-14 18:19:...|1497724981538660357|2022-02-27 00:07:16|          40|Meanwhile America...|                  []|      en|       null|             0|2022-02-27 00:09:...|\n",
            "|1141810|         2415248203|     bumaktooms|Founder of: 1. AM...|                 UAE|     1021|      680|      26359|2014-03-28 02:50:...|1497724981542895618|2022-02-27 00:07:16|          94|To remind the wor...|                  []|      en|       null|             0|2022-02-27 00:09:...|\n",
            "|1141811|1396997667612512262|CaptainNostrad1|🚫Lists Plz #DemC...|        Georgia, USA|     2957|     2533|       8305|2021-05-25 01:13:...|1497724981714767875|2022-02-27 00:07:16|         134|Please pass it on...|[{'text': 'Ukrain...|      en|       null|             0|2022-02-27 00:09:...|\n",
            "|1141812|1447403355618304003|Heather86556656|                null|                null|      114|       97|       4638|2021-10-11 03:28:...|1497724982004178945|2022-02-27 00:07:16|        1044|In their coverage...|[{'text': 'Ukrain...|      en|       null|             0|2022-02-27 00:09:...|\n",
            "|1141813|         2387627840|     tomassugar|                null|Brno, Česká repub...|       13|       13|         14|2014-03-13 18:23:...|1497724982067142660|2022-02-27 00:07:16|           0|@KAT96060497 @KCh...|[{'text': 'saynot...|      en|       null|             0|2022-02-27 00:09:...|\n",
            "|1141814|1193399359238475777|SensibleThough3|Trying to make se...|               Earth|       20|       56|       9889|2019-11-10 05:26:...|1497724982092173313|2022-02-27 00:07:16|           3|@christogrozev My...|[{'text': 'Kyiv',...|      en|       null|             0|2022-02-27 00:09:...|\n",
            "|1141815|          130378207|       rose_a87|29. She/They. Tac...|          Texas, USA|      789|      833|      31172|2010-04-07 03:40:...|1497724982155227140|2022-02-27 00:07:16|          75|Long lines at Lai...|                  []|      en|       null|             0|2022-02-27 00:09:...|\n",
            "|1141816|1354454422726840328| AnneGWoodhead1|I Declare World P...|  Lexington, KY USA |      440|      467|      17355|2021-01-27 15:41:...|1497724982302027777|2022-02-27 00:07:16|           1|#Ukraine \\n#Ukrai...|[{'text': 'Ukrain...|     und|       null|             0|2022-02-27 00:09:...|\n",
            "|1141817|1424629308350402561|     GreyArrow5|Takip için takip ...|                null|      186|       52|       2456|2021-08-09 07:11:...|1497724982633414656|2022-02-27 00:07:16|           0|Anonyme Hacker ve...|[{'text': 'Russla...|      de|       null|             0|2022-02-27 00:09:...|\n",
            "|1141818|1372570359585763332|       CraesOne|I stand with Tigr...|                null|      882|      761|      29429|2021-03-18 15:28:...|1497724982671065090|2022-02-27 00:07:16|           3|The Int community...|[{'text': 'Ukrain...|      en|       null|             3|2022-02-27 00:09:...|\n",
            "|1141819|         1286787672|      NSamarets|                null|                null|       14|        9|         88|2013-03-21 19:45:...|1497724982671118346|2022-02-27 00:07:16|           0|#UkraineWar #Ukra...|[{'text': 'Ukrain...|      en|       null|             0|2022-02-27 00:09:...|\n",
            "+-------+-------------------+---------------+--------------------+--------------------+---------+---------+-----------+--------------------+-------------------+-------------------+------------+--------------------+--------------------+--------+-----------+--------------+--------------------+\n",
            "only showing top 20 rows\n",
            "\n"
          ]
        }
      ]
    },
    {
      "cell_type": "code",
      "source": [
        "raw_df.show(n=5, truncate=False)"
      ],
      "metadata": {
        "colab": {
          "base_uri": "https://localhost:8080/"
        },
        "id": "xI8v8s5K17WH",
        "outputId": "24f702fe-76ac-420b-cfe4-9fff0d84964b"
      },
      "execution_count": 112,
      "outputs": [
        {
          "output_type": "stream",
          "name": "stdout",
          "text": [
            "+-------+-------------------+---------------+-------------------------------------------------------------------------------------------------------------------------------------------------------------+---------------+---------+---------+-----------+--------------------------+-------------------+-------------------+------------+----------------------------------------------------------------------------------------------------------------------------------------------------------------------------------------------------------------------------------------------------------------------------------------------------------------+-------------------------------------------------------------------------------------------------------------------------------------------------------------------+--------+-----------+--------------+--------------------------+\n",
            "|_c0    |userid             |username       |acctdesc                                                                                                                                                     |location       |following|followers|totaltweets|usercreatedts             |tweetid            |tweetcreatedts     |retweetcount|text                                                                                                                                                                                                                                                                                                            |hashtags                                                                                                                                                           |language|coordinates|favorite_count|extractedts               |\n",
            "+-------+-------------------+---------------+-------------------------------------------------------------------------------------------------------------------------------------------------------------+---------------+---------+---------+-----------+--------------------------+-------------------+-------------------+------------+----------------------------------------------------------------------------------------------------------------------------------------------------------------------------------------------------------------------------------------------------------------------------------------------------------------+-------------------------------------------------------------------------------------------------------------------------------------------------------------------+--------+-----------+--------------+--------------------------+\n",
            "|1141800|1466752038960656385|Curtin2Tiffany |I am just like everyone else.  The universe experiencing itself.                                                                                             |Colorado, USA  |253      |40       |94         |2021-12-03 12:52:22.000000|1497724980259262467|2022-02-27 00:07:16|5           |#UkraineRussiaWar Captured Russian soldiers\\n\\n\"They said what their own battalion, where they are from and then told him it was just training and did not know they are in ukraine.\"\\n#RussianArmy #Soldiers #Україна #Ukraine #UkraineRussiaWar https://t.co/KVIPqs7TzJ https://t.co/LdlzDnxCzG               |[{'text': 'UkraineRussiaWar', 'indices': [19, 36]}]                                                                                                                |en      |null       |0             |2022-02-27 00:09:33.084131|\n",
            "|1141801|1111276809302216710|5ela60         |الأب ..الأخ ..الجار ..الحبيب .. السديك                                                                                                                       |null           |167      |9        |656        |2019-03-28 14:40:12.000000|1497724980271984641|2022-02-27 00:07:16|28          |Like everybody else I am rooting for Ukraine to fight off Russia, but seeing this video is truly sad. These soldiers are clueless and lost and are forced to fight for a corrupted dictator that is Vladimir Putin. They don’t want this. #UkraineRussiaWar #UkraineUnderAttack #Ukrania https://t.co/IckHqDBbQC|[]                                                                                                                                                                 |en      |null       |0             |2022-02-27 00:09:33.068011|\n",
            "|1141802|1364735420236505088|StatistWomen   |🇹🇷                                                                                                                                                         |Cumhur İttifakı|1771     |1766     |37009      |2021-02-25 00:35:28.000000|1497724980322349058|2022-02-27 00:07:16|3           |#Ukrayna Güvenlik Servisi, #Rus finosu #Kadirov'un konvoyunun Gostomel yakınlarında imha edildiğini bildirdi.\\n\\n#SİHA Reis'e rastlamışlar.. :)\\n#UkraineRussiaWar                                                                                                                                              |[{'text': 'Ukrayna', 'indices': [15, 23]}, {'text': 'Rus', 'indices': [42, 46]}, {'text': 'Kadirov', 'indices': [54, 62]}, {'text': 'SİHA', 'indices': [126, 131]}]|tr      |null       |0             |2022-02-27 00:09:33.059979|\n",
            "|1141803|597779527          |OurTurnToRescue|Issues: Threats to Democracy, Racism, GOP corruption, Climate Change, and Health Care\\nCellist, Zen Buddhist, Lover of animals                               |null           |4847     |4080     |33666      |2012-06-02 21:53:59.000000|1497724980573966346|2022-02-27 00:07:16|1           |We elected a game show host and got a clown. #Ukraine elected a comedian and got a hero. (Source: Unknown)                                                                                                                                                                                                      |[{'text': 'Ukraine', 'indices': [63, 71]}]                                                                                                                         |en      |null       |0             |2022-02-27 00:09:33.051823|\n",
            "|1141804|1646145848         |DrWAVeSportCd1 |Addicted to News, Music, Cooking, Gardens, Outdoors, Tennis, Politics. 🖕🏼T, @GOP, @NRA #Putin‼️ 💙 #Democrats #Resist #LGBTQ FAMILIES #Veterans #USA #Biden|USA            |5002     |3950     |466629     |2013-08-04 21:07:08.000000|1497724980653694976|2022-02-27 00:07:16|277         |Ukrainian soldiers wearing sunflowers in their hair\\n\\n🌻Sunflowers are the national flower of Ukraine🇺🇦\\n\\n#Ukraine #Ukrania #UkraineRussiaWar https://t.co/md7nPCUxQE                                                                                                                                       |[{'text': 'Ukraine', 'indices': [122, 130]}, {'text': 'Ukrania', 'indices': [131, 139]}]                                                                           |en      |null       |0             |2022-02-27 00:09:33.043812|\n",
            "+-------+-------------------+---------------+-------------------------------------------------------------------------------------------------------------------------------------------------------------+---------------+---------+---------+-----------+--------------------------+-------------------+-------------------+------------+----------------------------------------------------------------------------------------------------------------------------------------------------------------------------------------------------------------------------------------------------------------------------------------------------------------+-------------------------------------------------------------------------------------------------------------------------------------------------------------------+--------+-----------+--------------+--------------------------+\n",
            "only showing top 5 rows\n",
            "\n"
          ]
        }
      ]
    },
    {
      "cell_type": "code",
      "source": [
        "raw_df.select('language').distinct().show()"
      ],
      "metadata": {
        "colab": {
          "base_uri": "https://localhost:8080/"
        },
        "id": "nywina8M1WlD",
        "outputId": "cbd3a8cb-d144-4b27-8d27-f5a3b22a3e38"
      },
      "execution_count": 113,
      "outputs": [
        {
          "output_type": "stream",
          "name": "stdout",
          "text": [
            "+--------+\n",
            "|language|\n",
            "+--------+\n",
            "|      en|\n",
            "|      ne|\n",
            "|      vi|\n",
            "|      ps|\n",
            "|      ro|\n",
            "|      sl|\n",
            "|     und|\n",
            "|      ur|\n",
            "|      ka|\n",
            "|      lv|\n",
            "|      pl|\n",
            "|      hy|\n",
            "|      pt|\n",
            "|    null|\n",
            "|      tl|\n",
            "|      in|\n",
            "|      ko|\n",
            "|      uk|\n",
            "|      cs|\n",
            "|     ckb|\n",
            "+--------+\n",
            "only showing top 20 rows\n",
            "\n"
          ]
        }
      ]
    },
    {
      "cell_type": "code",
      "source": [
        "raw_df.select('language').distinct().count()"
      ],
      "metadata": {
        "colab": {
          "base_uri": "https://localhost:8080/"
        },
        "id": "JApd4idy2rBx",
        "outputId": "b4e8b1e9-096a-4483-b26e-c9e030609a96"
      },
      "execution_count": 114,
      "outputs": [
        {
          "output_type": "execute_result",
          "data": {
            "text/plain": [
              "63"
            ]
          },
          "metadata": {},
          "execution_count": 114
        }
      ]
    },
    {
      "cell_type": "code",
      "source": [
        "lang_dist=raw_df.groupby('language').count()\n",
        "lang_dist.show()"
      ],
      "metadata": {
        "colab": {
          "base_uri": "https://localhost:8080/"
        },
        "id": "4qP5ewPW3wh5",
        "outputId": "d1a2e02e-dc8a-45ac-a3b0-3203935e6457"
      },
      "execution_count": 115,
      "outputs": [
        {
          "output_type": "stream",
          "name": "stdout",
          "text": [
            "+--------+------+\n",
            "|language| count|\n",
            "+--------+------+\n",
            "|      en|227513|\n",
            "|      ne|    15|\n",
            "|      vi|    21|\n",
            "|      ps|    10|\n",
            "|      ro|   263|\n",
            "|      sl|    38|\n",
            "|     und| 13800|\n",
            "|      ur|   526|\n",
            "|      ka|    40|\n",
            "|      lv|    40|\n",
            "|      pl|  4505|\n",
            "|      hy|     1|\n",
            "|      pt|  2097|\n",
            "|    null|     2|\n",
            "|      tl|   138|\n",
            "|      in|   560|\n",
            "|      ko|   317|\n",
            "|      uk|  1004|\n",
            "|      cs|   275|\n",
            "|     ckb|    16|\n",
            "+--------+------+\n",
            "only showing top 20 rows\n",
            "\n"
          ]
        }
      ]
    },
    {
      "cell_type": "code",
      "source": [
        "langdistribution=lang_dist.toPandas()\n",
        "langdistribution=langdistribution.set_index(\"language\")\n",
        "langdistribution"
      ],
      "metadata": {
        "colab": {
          "base_uri": "https://localhost:8080/",
          "height": 455
        },
        "id": "UVKEtPw70zfd",
        "outputId": "376b3b5d-15b6-4cda-b768-9dbe2478cc98"
      },
      "execution_count": 116,
      "outputs": [
        {
          "output_type": "execute_result",
          "data": {
            "text/plain": [
              "           count\n",
              "language        \n",
              "en        227513\n",
              "ne            15\n",
              "vi            21\n",
              "ps            10\n",
              "ro           263\n",
              "...          ...\n",
              "am            16\n",
              "ja          3572\n",
              "or            21\n",
              "da           252\n",
              "fi           439\n",
              "\n",
              "[63 rows x 1 columns]"
            ],
            "text/html": [
              "\n",
              "  <div id=\"df-fa072d65-56e1-4de4-8fa1-bc3948d83fe6\">\n",
              "    <div class=\"colab-df-container\">\n",
              "      <div>\n",
              "<style scoped>\n",
              "    .dataframe tbody tr th:only-of-type {\n",
              "        vertical-align: middle;\n",
              "    }\n",
              "\n",
              "    .dataframe tbody tr th {\n",
              "        vertical-align: top;\n",
              "    }\n",
              "\n",
              "    .dataframe thead th {\n",
              "        text-align: right;\n",
              "    }\n",
              "</style>\n",
              "<table border=\"1\" class=\"dataframe\">\n",
              "  <thead>\n",
              "    <tr style=\"text-align: right;\">\n",
              "      <th></th>\n",
              "      <th>count</th>\n",
              "    </tr>\n",
              "    <tr>\n",
              "      <th>language</th>\n",
              "      <th></th>\n",
              "    </tr>\n",
              "  </thead>\n",
              "  <tbody>\n",
              "    <tr>\n",
              "      <th>en</th>\n",
              "      <td>227513</td>\n",
              "    </tr>\n",
              "    <tr>\n",
              "      <th>ne</th>\n",
              "      <td>15</td>\n",
              "    </tr>\n",
              "    <tr>\n",
              "      <th>vi</th>\n",
              "      <td>21</td>\n",
              "    </tr>\n",
              "    <tr>\n",
              "      <th>ps</th>\n",
              "      <td>10</td>\n",
              "    </tr>\n",
              "    <tr>\n",
              "      <th>ro</th>\n",
              "      <td>263</td>\n",
              "    </tr>\n",
              "    <tr>\n",
              "      <th>...</th>\n",
              "      <td>...</td>\n",
              "    </tr>\n",
              "    <tr>\n",
              "      <th>am</th>\n",
              "      <td>16</td>\n",
              "    </tr>\n",
              "    <tr>\n",
              "      <th>ja</th>\n",
              "      <td>3572</td>\n",
              "    </tr>\n",
              "    <tr>\n",
              "      <th>or</th>\n",
              "      <td>21</td>\n",
              "    </tr>\n",
              "    <tr>\n",
              "      <th>da</th>\n",
              "      <td>252</td>\n",
              "    </tr>\n",
              "    <tr>\n",
              "      <th>fi</th>\n",
              "      <td>439</td>\n",
              "    </tr>\n",
              "  </tbody>\n",
              "</table>\n",
              "<p>63 rows × 1 columns</p>\n",
              "</div>\n",
              "      <button class=\"colab-df-convert\" onclick=\"convertToInteractive('df-fa072d65-56e1-4de4-8fa1-bc3948d83fe6')\"\n",
              "              title=\"Convert this dataframe to an interactive table.\"\n",
              "              style=\"display:none;\">\n",
              "        \n",
              "  <svg xmlns=\"http://www.w3.org/2000/svg\" height=\"24px\"viewBox=\"0 0 24 24\"\n",
              "       width=\"24px\">\n",
              "    <path d=\"M0 0h24v24H0V0z\" fill=\"none\"/>\n",
              "    <path d=\"M18.56 5.44l.94 2.06.94-2.06 2.06-.94-2.06-.94-.94-2.06-.94 2.06-2.06.94zm-11 1L8.5 8.5l.94-2.06 2.06-.94-2.06-.94L8.5 2.5l-.94 2.06-2.06.94zm10 10l.94 2.06.94-2.06 2.06-.94-2.06-.94-.94-2.06-.94 2.06-2.06.94z\"/><path d=\"M17.41 7.96l-1.37-1.37c-.4-.4-.92-.59-1.43-.59-.52 0-1.04.2-1.43.59L10.3 9.45l-7.72 7.72c-.78.78-.78 2.05 0 2.83L4 21.41c.39.39.9.59 1.41.59.51 0 1.02-.2 1.41-.59l7.78-7.78 2.81-2.81c.8-.78.8-2.07 0-2.86zM5.41 20L4 18.59l7.72-7.72 1.47 1.35L5.41 20z\"/>\n",
              "  </svg>\n",
              "      </button>\n",
              "      \n",
              "  <style>\n",
              "    .colab-df-container {\n",
              "      display:flex;\n",
              "      flex-wrap:wrap;\n",
              "      gap: 12px;\n",
              "    }\n",
              "\n",
              "    .colab-df-convert {\n",
              "      background-color: #E8F0FE;\n",
              "      border: none;\n",
              "      border-radius: 50%;\n",
              "      cursor: pointer;\n",
              "      display: none;\n",
              "      fill: #1967D2;\n",
              "      height: 32px;\n",
              "      padding: 0 0 0 0;\n",
              "      width: 32px;\n",
              "    }\n",
              "\n",
              "    .colab-df-convert:hover {\n",
              "      background-color: #E2EBFA;\n",
              "      box-shadow: 0px 1px 2px rgba(60, 64, 67, 0.3), 0px 1px 3px 1px rgba(60, 64, 67, 0.15);\n",
              "      fill: #174EA6;\n",
              "    }\n",
              "\n",
              "    [theme=dark] .colab-df-convert {\n",
              "      background-color: #3B4455;\n",
              "      fill: #D2E3FC;\n",
              "    }\n",
              "\n",
              "    [theme=dark] .colab-df-convert:hover {\n",
              "      background-color: #434B5C;\n",
              "      box-shadow: 0px 1px 3px 1px rgba(0, 0, 0, 0.15);\n",
              "      filter: drop-shadow(0px 1px 2px rgba(0, 0, 0, 0.3));\n",
              "      fill: #FFFFFF;\n",
              "    }\n",
              "  </style>\n",
              "\n",
              "      <script>\n",
              "        const buttonEl =\n",
              "          document.querySelector('#df-fa072d65-56e1-4de4-8fa1-bc3948d83fe6 button.colab-df-convert');\n",
              "        buttonEl.style.display =\n",
              "          google.colab.kernel.accessAllowed ? 'block' : 'none';\n",
              "\n",
              "        async function convertToInteractive(key) {\n",
              "          const element = document.querySelector('#df-fa072d65-56e1-4de4-8fa1-bc3948d83fe6');\n",
              "          const dataTable =\n",
              "            await google.colab.kernel.invokeFunction('convertToInteractive',\n",
              "                                                     [key], {});\n",
              "          if (!dataTable) return;\n",
              "\n",
              "          const docLinkHtml = 'Like what you see? Visit the ' +\n",
              "            '<a target=\"_blank\" href=https://colab.research.google.com/notebooks/data_table.ipynb>data table notebook</a>'\n",
              "            + ' to learn more about interactive tables.';\n",
              "          element.innerHTML = '';\n",
              "          dataTable['output_type'] = 'display_data';\n",
              "          await google.colab.output.renderOutput(dataTable, element);\n",
              "          const docLink = document.createElement('div');\n",
              "          docLink.innerHTML = docLinkHtml;\n",
              "          element.appendChild(docLink);\n",
              "        }\n",
              "      </script>\n",
              "    </div>\n",
              "  </div>\n",
              "  "
            ]
          },
          "metadata": {},
          "execution_count": 116
        }
      ]
    },
    {
      "cell_type": "code",
      "source": [
        "pie = langdistribution.plot.pie(y = \"count\", figsize = (13,13), autopct = \"%1.1f%%\")\n",
        "pie.legend(loc = \"upper left\");\n",
        "pie.set(title = \"language\", ylabel = \"% tweets\");"
      ],
      "metadata": {
        "colab": {
          "base_uri": "https://localhost:8080/",
          "height": 1000
        },
        "id": "trmoz-Iw5sN2",
        "outputId": "07444719-a74d-4d6c-d6cb-00df5ace9dc3"
      },
      "execution_count": 117,
      "outputs": [
        {
          "output_type": "display_data",
          "data": {
            "text/plain": [
              "<Figure size 936x936 with 1 Axes>"
            ],
            "image/png": "[encoded data removed]"
          },
          "metadata": {}
        }
      ]
    },
    {
      "cell_type": "code",
      "source": [
        "# Choose English -- most tweets\n",
        "english_select=raw_df.where(raw_df.language == \"en\")"
      ],
      "metadata": {
        "id": "c_PCusMMcMpN"
      },
      "execution_count": 118,
      "outputs": []
    },
    {
      "cell_type": "code",
      "source": [
        "english_select.show(truncate=False)"
      ],
      "metadata": {
        "colab": {
          "base_uri": "https://localhost:8080/"
        },
        "id": "XQG5BdnZgCGy",
        "outputId": "8e528f1f-4467-4cc3-d45f-3e87bbf69fc8"
      },
      "execution_count": 119,
      "outputs": [
        {
          "output_type": "stream",
          "name": "stdout",
          "text": [
            "+-------+-------------------+---------------+----------------------------------------------------------------------------------------------------------------------------------------------------------------+------------------------------+---------+---------+-----------+--------------------------+-------------------+-------------------+------------+---------------------------------------------------------------------------------------------------------------------------------------------------------------------------------------------------------------------------------------------------------------------------------------------------------------------------------------+----------------------------------------------------------------------------------------------------------------------------------------------------------------------------------------------------------------------------------+--------+-----------+--------------+--------------------------+\n",
            "|_c0    |userid             |username       |acctdesc                                                                                                                                                        |location                      |following|followers|totaltweets|usercreatedts             |tweetid            |tweetcreatedts     |retweetcount|text                                                                                                                                                                                                                                                                                                                                   |hashtags                                                                                                                                                                                                                          |language|coordinates|favorite_count|extractedts               |\n",
            "+-------+-------------------+---------------+----------------------------------------------------------------------------------------------------------------------------------------------------------------+------------------------------+---------+---------+-----------+--------------------------+-------------------+-------------------+------------+---------------------------------------------------------------------------------------------------------------------------------------------------------------------------------------------------------------------------------------------------------------------------------------------------------------------------------------+----------------------------------------------------------------------------------------------------------------------------------------------------------------------------------------------------------------------------------+--------+-----------+--------------+--------------------------+\n",
            "|1141800|1466752038960656385|Curtin2Tiffany |I am just like everyone else.  The universe experiencing itself.                                                                                                |Colorado, USA                 |253      |40       |94         |2021-12-03 12:52:22.000000|1497724980259262467|2022-02-27 00:07:16|5           |#UkraineRussiaWar Captured Russian soldiers\\n\\n\"They said what their own battalion, where they are from and then told him it was just training and did not know they are in ukraine.\"\\n#RussianArmy #Soldiers #Україна #Ukraine #UkraineRussiaWar https://t.co/KVIPqs7TzJ https://t.co/LdlzDnxCzG                                      |[{'text': 'UkraineRussiaWar', 'indices': [19, 36]}]                                                                                                                                                                               |en      |null       |0             |2022-02-27 00:09:33.084131|\n",
            "|1141801|1111276809302216710|5ela60         |الأب ..الأخ ..الجار ..الحبيب .. السديك                                                                                                                          |null                          |167      |9        |656        |2019-03-28 14:40:12.000000|1497724980271984641|2022-02-27 00:07:16|28          |Like everybody else I am rooting for Ukraine to fight off Russia, but seeing this video is truly sad. These soldiers are clueless and lost and are forced to fight for a corrupted dictator that is Vladimir Putin. They don’t want this. #UkraineRussiaWar #UkraineUnderAttack #Ukrania https://t.co/IckHqDBbQC                       |[]                                                                                                                                                                                                                                |en      |null       |0             |2022-02-27 00:09:33.068011|\n",
            "|1141803|597779527          |OurTurnToRescue|Issues: Threats to Democracy, Racism, GOP corruption, Climate Change, and Health Care\\nCellist, Zen Buddhist, Lover of animals                                  |null                          |4847     |4080     |33666      |2012-06-02 21:53:59.000000|1497724980573966346|2022-02-27 00:07:16|1           |We elected a game show host and got a clown. #Ukraine elected a comedian and got a hero. (Source: Unknown)                                                                                                                                                                                                                             |[{'text': 'Ukraine', 'indices': [63, 71]}]                                                                                                                                                                                        |en      |null       |0             |2022-02-27 00:09:33.051823|\n",
            "|1141804|1646145848         |DrWAVeSportCd1 |Addicted to News, Music, Cooking, Gardens, Outdoors, Tennis, Politics. 🖕🏼T, @GOP, @NRA #Putin‼️ 💙 #Democrats #Resist #LGBTQ FAMILIES #Veterans #USA #Biden   |USA                           |5002     |3950     |466629     |2013-08-04 21:07:08.000000|1497724980653694976|2022-02-27 00:07:16|277         |Ukrainian soldiers wearing sunflowers in their hair\\n\\n🌻Sunflowers are the national flower of Ukraine🇺🇦\\n\\n#Ukraine #Ukrania #UkraineRussiaWar https://t.co/md7nPCUxQE                                                                                                                                                              |[{'text': 'Ukraine', 'indices': [122, 130]}, {'text': 'Ukrania', 'indices': [131, 139]}]                                                                                                                                          |en      |null       |0             |2022-02-27 00:09:33.043812|\n",
            "|1141805|2191952909         |WyvernReports  |In war, truth is the first casualty. Focus #Syria & #Libya. Contributor to @Liveuamap & @Bellingcat. (Re)tweets, follows and likes are not endorsement.         |The Blue Marble               |700      |6424     |20689      |2013-11-22 21:51:19.000000|1497724980833968129|2022-02-27 00:07:16|565         |russian troops destroyed a commercial oil base near Vasylkiv.  This is ecological catastrophe not only for Ukraine, but also for the all #Europe \\n\\n#StopRussia #StopRussianAggression #Ukraine https://t.co/PnVr3ezoH4                                                                                                               |[]                                                                                                                                                                                                                                |en      |null       |0             |2022-02-27 00:09:33.035798|\n",
            "|1141808|23611466           |isunja         |null                                                                                                                                                            |Göteborg, Sweden              |710      |219      |1328       |2009-03-10 16:23:20.000000|1497724981157023749|2022-02-27 00:07:16|53          |Some scenes from #Kyiv this morning: The building at Lobanovskyi Prospekt hit by a missile at 8am, (no dead), people in shelter (Perry the dog) and firemen trying to extinguish the fire in a gym underneath. #ukraine https://t.co/qsaJbkWoAQ                                                                                        |[{'text': 'Kyiv', 'indices': [32, 37]}]                                                                                                                                                                                           |en      |null       |0             |2022-02-27 00:09:33.003577|\n",
            "|1141809|875055153157722112 |manonatelier   |WordPress • Designer Dork • Art Lover • Hometown NYC • Scorpio/Snake • GenX • She/her • Ayiti parentage • Header art: Von Stuck's \"Péché\"                       |NY/PA                         |2779     |582      |116858     |2017-06-14 18:19:41.000000|1497724981538660357|2022-02-27 00:07:16|40          |Meanwhile American “intelligence” pretended an emailed risotto recipe was the greatest national security threat we’d ever faced. 😒 #UkraineRussiaWar https://t.co/UbPBPgbd5s https://t.co/lDc0E9SB2C                                                                                                                                  |[]                                                                                                                                                                                                                                |en      |null       |0             |2022-02-27 00:09:32.995537|\n",
            "|1141810|2415248203         |bumaktooms     |Founder of: 1. AMI INT. UKRAINE 2. Business Gate Ukraine 3 TECHNO FIT Fitness Center Abu Dhabi 4. Ruwwad 1010 micro investments Abu Dhabi 4. WME dig.  Marketing|UAE                           |1021     |680      |26359      |2014-03-28 02:50:27.000000|1497724981542895618|2022-02-27 00:07:16|94          |To remind the world: Gaza has lived through 4 wars in 12 years, The children of Gaza after the wars suffer from post-traumatic stress disorder, the world is not fair. \\n🇵🇸🇵🇸🇵🇸🇵🇸🇵🇸🇵🇸🇵🇸🇷🇺🇺🇦🇷🇺🇺🇦🇷🇺🇺🇦🇷🇺\\n#Ukraine #RussiaUkraineWar #Russia #UkraineRussia #روسيا_واوكرانيا #أوكرانيا https://t.co/osBDnqStMm|[]                                                                                                                                                                                                                                |en      |null       |0             |2022-02-27 00:09:32.987465|\n",
            "|1141811|1396997667612512262|CaptainNostrad1|🚫Lists Plz #DemCastGa🌊 #ONEV1🌊 #DemCast🌊 🚫DM's Please 🙏 🇺🇸 #Resist Helping To Build Back Better ⚓Blue Dot Red State 4Th Generation Veteran 🇺🇸         |Georgia, USA                  |2957     |2533     |8305       |2021-05-25 01:13:14.000000|1497724981714767875|2022-02-27 00:07:16|134         |Please pass it on if you can spot the difference. 🤔\\n#UkraineUnderAttack #Ukraine https://t.co/lgjRbF9Nvt                                                                                                                                                                                                                             |[{'text': 'UkraineUnderAttack', 'indices': [66, 85]}, {'text': 'Ukraine', 'indices': [86, 94]}]                                                                                                                                   |en      |null       |0             |2022-02-27 00:09:32.979423|\n",
            "|1141812|1447403355618304003|Heather86556656|null                                                                                                                                                            |null                          |114      |97       |4638       |2021-10-11 03:28:07.000000|1497724982004178945|2022-02-27 00:07:16|1044        |In their coverage @FoxNews actually sound disappointed that #Ukraine is holding off Russia.\\n\\nThat's where the Republican party is in 2022.\\n\\nRooting for Russia.                                                                                                                                                                    |[{'text': 'Ukraine', 'indices': [76, 84]}]                                                                                                                                                                                        |en      |null       |0             |2022-02-27 00:09:32.971370|\n",
            "|1141813|2387627840         |tomassugar     |null                                                                                                                                                            |Brno, Česká republika         |13       |13       |14         |2014-03-13 18:23:29.000000|1497724982067142660|2022-02-27 00:07:16|0           |@KAT96060497 @KChimaev Please, stop involving the man's family. I don't want him to do anything crazy. People of Ukraine are dying and we are close to WW3. Everything counts. That`s all. #saynotowar #UkraineWar                                                                                                                     |[{'text': 'saynotowar', 'indices': [187, 198]}, {'text': 'UkraineWar', 'indices': [199, 210]}]                                                                                                                                    |en      |null       |0             |2022-02-27 00:09:32.963297|\n",
            "|1141814|1193399359238475777|SensibleThough3|Trying to make sense of it all\\nObservations from the sanitarium \\nDrivel from my brain to yours\\nWidow with 3 little birds to help launch                      |Earth                         |20       |56       |9889       |2019-11-10 05:26:11.000000|1497724982092173313|2022-02-27 00:07:16|3           |@christogrozev My beautiful #Kyiv. This is what we were all afraid of. May God protect #Ukraine and its defenders tonight. #russianinvasion #UnitedWithUkraine                                                                                                                                                                         |[{'text': 'Kyiv', 'indices': [46, 51]}, {'text': 'Ukraine', 'indices': [105, 113]}]                                                                                                                                               |en      |null       |0             |2022-02-27 00:09:32.947090|\n",
            "|1141815|130378207          |rose_a87       |29. She/They. Taco Enthusiast. Serving my overlord, Misha Collins. My Danneel shirt made Jensen laugh 😌 FA11🐧                                                 |Texas, USA                    |789      |833      |31172      |2010-04-07 03:40:34.000000|1497724982155227140|2022-02-27 00:07:16|75          |Long lines at Laika today, a Ukrainian-owned cheesecake &amp; espresso shop in San Antonio, as employees sold 1,400 cheesecake jars &amp; 288 slices of cheesecake. Employees said all proceeds will be donated to aid Ukrainian humanitarian groups as Russia continues to attack #Ukraine. https://t.co/n0OMrv3cHr                   |[]                                                                                                                                                                                                                                |en      |null       |0             |2022-02-27 00:09:32.938989|\n",
            "|1141818|1372570359585763332|CraesOne       |I stand with Tigray all Tigray lives matters Tigray people need food Tigray people need freedom Tigray people need alon my heart broken 😞                      |null                          |882      |761      |29429      |2021-03-18 15:28:22.000000|1497724982671065090|2022-02-27 00:07:16|3           |The Int community has displayed their condemnation towards Russia, in light of the devastation in #Ukraine - while aiding and endorsing the genocidal regime in #Ethiopia. The selective outrage is leaving the Tigrayan people stuck in a genocidal war. #TigrayGenocide @jeremycorbyn                                                |[{'text': 'Ukraine', 'indices': [98, 106]}, {'text': 'Ethiopia', 'indices': [160, 169]}, {'text': 'TigrayGenocide', 'indices': [250, 265]}]                                                                                       |en      |null       |3             |2022-02-27 00:09:32.914647|\n",
            "|1141819|1286787672         |NSamarets      |null                                                                                                                                                            |null                          |14       |9        |88         |2013-03-21 19:45:22.000000|1497724982671118346|2022-02-27 00:07:16|0           |#UkraineWar #UkraineRussia #StopRussia Anonymous prevent Russian occupiers from communicating https://t.co/UHo9Gfkz4d                                                                                                                                                                                                                  |[{'text': 'UkraineWar', 'indices': [0, 11]}, {'text': 'UkraineRussia', 'indices': [12, 26]}, {'text': 'StopRussia', 'indices': [27, 38]}]                                                                                         |en      |null       |0             |2022-02-27 00:09:32.906439|\n",
            "|1141820|49303023           |DC4Hope        |Just a girl living in DC waiting for the world to change. Still With HER! 🙋‍♀️🇺🇸 #RESIST #TraitorTrUMP #FightFascism 🥁🐝#FreePress #DCStatehoodNOW          |Washington DC                 |980      |3263     |522333     |2009-06-21 12:24:44.000000|1497724982687715330|2022-02-27 00:07:16|2           |My heart is with everyone suffering in #Ukraine. May there be a fast and peaceful resolution that maintains their right to sovereignty and self-determination 🇺🇦 https://t.co/lyPXSjMeoP                                                                                                                                             |[{'text': 'Ukraine', 'indices': [53, 61]}]                                                                                                                                                                                        |en      |null       |0             |2022-02-27 00:09:32.898391|\n",
            "|1141821|866570158810255360 |RomanTkach7    |Ukraine. Ravens fan.                                                                                                                                            |Україна                       |242      |39       |43         |2017-05-22 08:23:20.000000|1497724982763339776|2022-02-27 00:07:16|0           |Ghost of Kyiv locked our Capital’s sky. This man have entered 10 battles with russian jets. He’s 10-0. THATS SOME COVERAGE. #ghostofkyiv #Legend #Ukranine #UkraineRussia #war https://t.co/AL9dkJBuu2                                                                                                                                 |[{'text': 'ghostofkyiv', 'indices': [124, 136]}, {'text': 'Legend', 'indices': [137, 144]}, {'text': 'Ukranine', 'indices': [145, 154]}, {'text': 'UkraineRussia', 'indices': [155, 169]}, {'text': 'war', 'indices': [170, 174]}]|en      |null       |3             |2022-02-27 00:09:32.890263|\n",
            "|1141822|2997348674         |ahmadMehs      |Muzammali | Believe in constitution | Civilian supremacy | Democracy.                                                                                           |Islamabad, Pakistan           |621      |259      |7605       |2015-01-26 17:41:14.000000|1497724982818111491|2022-02-27 00:07:16|264         |The sky in Kyiv right now. #Ukraine https://t.co/fGgfycXGbL                                                                                                                                                                                                                                                                            |[{'text': 'Ukraine', 'indices': [47, 55]}]                                                                                                                                                                                        |en      |null       |0             |2022-02-27 00:09:32.882185|\n",
            "|1141823|15108492           |Autumnseer     |Doomed in Florida. Progressive Christian. Ever curious. Healthcare worker. Justice, compassion, truth. Get freakin vaccinated!! #DeathSantis                    |In FL hoping for the mountains|1037     |295      |3866       |2008-06-13 15:51:19.000000|1497724982855704577|2022-02-27 00:07:16|17          |@Xenta777 I STAND WITH #UKRAINE AND UKRAINIAN PRESIDENT @ZelenskyyUa \\n\\n🌻🌻🌻🌻🌻🌻🌻🌻🌻\\n\\n#StandWithUkraine \\n#PuckFutin #Kyiv https://t.co/WAQgSmRO9g                                                                                                                                                                            |[{'text': 'UKRAINE', 'indices': [43, 51]}, {'text': 'StandWithUkraine', 'indices': [102, 119]}, {'text': 'PuckFutin', 'indices': [121, 131]}, {'text': 'Kyiv', 'indices': [132, 137]}]                                            |en      |null       |0             |2022-02-27 00:09:32.874156|\n",
            "|1141824|1050715828763668480|DrakulicIlija  |Real change can only follow from citizens informing themselves and applying pressure.                                                                           |Belgrade, Republic of Serbia  |4796     |758      |38495      |2018-10-12 11:52:29.000000|1497724982868291591|2022-02-27 00:07:16|14          |We call all hackers and digital activists to be united as one. If this war is not won with weapons, it will be won with cyberweapons. Democracy and freedom will destroy fascism and imperialism. #Anonymous #Ukraine #Russia #PutinIsaWarCriminal https://t.co/MYEZn0CKLR                                                             |[]                                                                                                                                                                                                                                |en      |null       |0             |2022-02-27 00:09:32.866047|\n",
            "+-------+-------------------+---------------+----------------------------------------------------------------------------------------------------------------------------------------------------------------+------------------------------+---------+---------+-----------+--------------------------+-------------------+-------------------+------------+---------------------------------------------------------------------------------------------------------------------------------------------------------------------------------------------------------------------------------------------------------------------------------------------------------------------------------------+----------------------------------------------------------------------------------------------------------------------------------------------------------------------------------------------------------------------------------+--------+-----------+--------------+--------------------------+\n",
            "only showing top 20 rows\n",
            "\n"
          ]
        }
      ]
    },
    {
      "cell_type": "code",
      "source": [
        "filtered_df = english_select.select(\"text\")"
      ],
      "metadata": {
        "id": "j9Ga-F-vgBPN"
      },
      "execution_count": 120,
      "outputs": []
    },
    {
      "cell_type": "code",
      "source": [
        "filtered_df.show(truncate=False)"
      ],
      "metadata": {
        "colab": {
          "base_uri": "https://localhost:8080/"
        },
        "id": "q8zVaal-tljf",
        "outputId": "a7772625-a08d-4e42-e3e0-5c4a78571f09"
      },
      "execution_count": 121,
      "outputs": [
        {
          "output_type": "stream",
          "name": "stdout",
          "text": [
            "+---------------------------------------------------------------------------------------------------------------------------------------------------------------------------------------------------------------------------------------------------------------------------------------------------------------------------------------+\n",
            "|text                                                                                                                                                                                                                                                                                                                                   |\n",
            "+---------------------------------------------------------------------------------------------------------------------------------------------------------------------------------------------------------------------------------------------------------------------------------------------------------------------------------------+\n",
            "|#UkraineRussiaWar Captured Russian soldiers\\n\\n\"They said what their own battalion, where they are from and then told him it was just training and did not know they are in ukraine.\"\\n#RussianArmy #Soldiers #Україна #Ukraine #UkraineRussiaWar https://t.co/KVIPqs7TzJ https://t.co/LdlzDnxCzG                                      |\n",
            "|Like everybody else I am rooting for Ukraine to fight off Russia, but seeing this video is truly sad. These soldiers are clueless and lost and are forced to fight for a corrupted dictator that is Vladimir Putin. They don’t want this. #UkraineRussiaWar #UkraineUnderAttack #Ukrania https://t.co/IckHqDBbQC                       |\n",
            "|We elected a game show host and got a clown. #Ukraine elected a comedian and got a hero. (Source: Unknown)                                                                                                                                                                                                                             |\n",
            "|Ukrainian soldiers wearing sunflowers in their hair\\n\\n🌻Sunflowers are the national flower of Ukraine🇺🇦\\n\\n#Ukraine #Ukrania #UkraineRussiaWar https://t.co/md7nPCUxQE                                                                                                                                                              |\n",
            "|russian troops destroyed a commercial oil base near Vasylkiv.  This is ecological catastrophe not only for Ukraine, but also for the all #Europe \\n\\n#StopRussia #StopRussianAggression #Ukraine https://t.co/PnVr3ezoH4                                                                                                               |\n",
            "|Some scenes from #Kyiv this morning: The building at Lobanovskyi Prospekt hit by a missile at 8am, (no dead), people in shelter (Perry the dog) and firemen trying to extinguish the fire in a gym underneath. #ukraine https://t.co/qsaJbkWoAQ                                                                                        |\n",
            "|Meanwhile American “intelligence” pretended an emailed risotto recipe was the greatest national security threat we’d ever faced. 😒 #UkraineRussiaWar https://t.co/UbPBPgbd5s https://t.co/lDc0E9SB2C                                                                                                                                  |\n",
            "|To remind the world: Gaza has lived through 4 wars in 12 years, The children of Gaza after the wars suffer from post-traumatic stress disorder, the world is not fair. \\n🇵🇸🇵🇸🇵🇸🇵🇸🇵🇸🇵🇸🇵🇸🇷🇺🇺🇦🇷🇺🇺🇦🇷🇺🇺🇦🇷🇺\\n#Ukraine #RussiaUkraineWar #Russia #UkraineRussia #روسيا_واوكرانيا #أوكرانيا https://t.co/osBDnqStMm|\n",
            "|Please pass it on if you can spot the difference. 🤔\\n#UkraineUnderAttack #Ukraine https://t.co/lgjRbF9Nvt                                                                                                                                                                                                                             |\n",
            "|In their coverage @FoxNews actually sound disappointed that #Ukraine is holding off Russia.\\n\\nThat's where the Republican party is in 2022.\\n\\nRooting for Russia.                                                                                                                                                                    |\n",
            "|@KAT96060497 @KChimaev Please, stop involving the man's family. I don't want him to do anything crazy. People of Ukraine are dying and we are close to WW3. Everything counts. That`s all. #saynotowar #UkraineWar                                                                                                                     |\n",
            "|@christogrozev My beautiful #Kyiv. This is what we were all afraid of. May God protect #Ukraine and its defenders tonight. #russianinvasion #UnitedWithUkraine                                                                                                                                                                         |\n",
            "|Long lines at Laika today, a Ukrainian-owned cheesecake &amp; espresso shop in San Antonio, as employees sold 1,400 cheesecake jars &amp; 288 slices of cheesecake. Employees said all proceeds will be donated to aid Ukrainian humanitarian groups as Russia continues to attack #Ukraine. https://t.co/n0OMrv3cHr                   |\n",
            "|The Int community has displayed their condemnation towards Russia, in light of the devastation in #Ukraine - while aiding and endorsing the genocidal regime in #Ethiopia. The selective outrage is leaving the Tigrayan people stuck in a genocidal war. #TigrayGenocide @jeremycorbyn                                                |\n",
            "|#UkraineWar #UkraineRussia #StopRussia Anonymous prevent Russian occupiers from communicating https://t.co/UHo9Gfkz4d                                                                                                                                                                                                                  |\n",
            "|My heart is with everyone suffering in #Ukraine. May there be a fast and peaceful resolution that maintains their right to sovereignty and self-determination 🇺🇦 https://t.co/lyPXSjMeoP                                                                                                                                             |\n",
            "|Ghost of Kyiv locked our Capital’s sky. This man have entered 10 battles with russian jets. He’s 10-0. THATS SOME COVERAGE. #ghostofkyiv #Legend #Ukranine #UkraineRussia #war https://t.co/AL9dkJBuu2                                                                                                                                 |\n",
            "|The sky in Kyiv right now. #Ukraine https://t.co/fGgfycXGbL                                                                                                                                                                                                                                                                            |\n",
            "|@Xenta777 I STAND WITH #UKRAINE AND UKRAINIAN PRESIDENT @ZelenskyyUa \\n\\n🌻🌻🌻🌻🌻🌻🌻🌻🌻\\n\\n#StandWithUkraine \\n#PuckFutin #Kyiv https://t.co/WAQgSmRO9g                                                                                                                                                                            |\n",
            "|We call all hackers and digital activists to be united as one. If this war is not won with weapons, it will be won with cyberweapons. Democracy and freedom will destroy fascism and imperialism. #Anonymous #Ukraine #Russia #PutinIsaWarCriminal https://t.co/MYEZn0CKLR                                                             |\n",
            "+---------------------------------------------------------------------------------------------------------------------------------------------------------------------------------------------------------------------------------------------------------------------------------------------------------------------------------------+\n",
            "only showing top 20 rows\n",
            "\n"
          ]
        }
      ]
    },
    {
      "cell_type": "markdown",
      "source": [
        "Define PreProcessing Pipeline"
      ],
      "metadata": {
        "id": "R4uzW30-LIXV"
      }
    },
    {
      "cell_type": "code",
      "source": [
        "# In this step we define a sparkNLP pipeline which will preprocess our data\n",
        "# by tokenizing it and removing unwanted tokens\n",
        "\n",
        "from sparknlp.base import *\n",
        "from sparknlp.annotator import *\n",
        "\n",
        "def create_preprocessing_pipeline():\n",
        "  documentAssembler = DocumentAssembler().setInputCol(\"text\").setOutputCol(\"document\")\n",
        "  tokenizer = Tokenizer().setInputCols([\"document\"]).setOutputCol(\"token\")\n",
        "    #remove links\n",
        "  linkRemover = Normalizer().setInputCols([\"token\"]).setOutputCol(\"tokensWoutLinks\") \\\n",
        "  .setCleanupPatterns([\"http\\S+|www\\S+|https\\S+\"]).setLowercase(True)#convert to lowercase\n",
        "      #no whitespace or http (:)\n",
        "    #[^\\s]--keep spaces\n",
        "    #[^\\d]--keep numbers\n",
        "    #[^\\w]--keep letters\n",
        "#remove punctuation\n",
        "  punctuationRemover = Normalizer().setInputCols([\"tokensWoutLinks\"]).setOutputCol(\"tokensWoutLinksAndPuct\") \\\n",
        "    .setCleanupPatterns([\"&(amp)|@[A-Za-z0-9]+|[^\\w ]|_|\"])#regex remove all '!\"#$%&\\'()*+,-./:;<=>?@[\\\\]^_`{|}~' \n",
        "  #keep spaces\n",
        "  stopWordsCleaner =  StopWordsCleaner.pretrained('stopwords_en', 'en').setInputCols(\"tokensWoutLinksAndPuct\").setOutputCol(\"cleanedTokens\")\\\n",
        "      .setCaseSensitive(False)#\n",
        "  stemmer = Stemmer().setInputCols([\"cleanedTokens\"]).setOutputCol(\"cleanedStemmedTokens\")\n",
        "  \n",
        "  return Pipeline().setStages([\n",
        "    documentAssembler,\n",
        "    tokenizer,\n",
        "    linkRemover,\n",
        "    punctuationRemover,\n",
        "    stopWordsCleaner,\n",
        "    stemmer\n",
        "])\n",
        "def apply_preprocessing_pipeline(pipeline, dataframe):\n",
        "    return pipeline.fit(dataframe).transform(dataframe).selectExpr(\"cleanedStemmedTokens.result\")"
      ],
      "metadata": {
        "id": "ZHiSXwPZxwLH"
      },
      "execution_count": 18,
      "outputs": []
    },
    {
      "cell_type": "code",
      "source": [
        "preprocessed_df=apply_preprocessing_pipeline(create_preprocessing_pipeline(),filtered_df)"
      ],
      "metadata": {
        "colab": {
          "base_uri": "https://localhost:8080/"
        },
        "id": "hWk7mgWVMScN",
        "outputId": "f84c74cb-04ce-4878-ad30-72d774c2c672"
      },
      "execution_count": 210,
      "outputs": [
        {
          "output_type": "stream",
          "name": "stdout",
          "text": [
            "stopwords_en download started this may take some time.\n",
            "Approximate size to download 2.9 KB\n",
            "[OK!]\n"
          ]
        }
      ]
    },
    {
      "cell_type": "code",
      "source": [
        "preprocessed_df.show(truncate=False)"
      ],
      "metadata": {
        "colab": {
          "base_uri": "https://localhost:8080/"
        },
        "id": "xJf0FG2vpqhA",
        "outputId": "fd47ded5-4f45-4ecd-95dd-1a5b1dedcded"
      },
      "execution_count": 123,
      "outputs": [
        {
          "output_type": "stream",
          "name": "stdout",
          "text": [
            "+------------------------------------------------------------------------------------------------------------------------------------------------------------------------------------------------------------------------------------------+\n",
            "|result                                                                                                                                                                                                                                    |\n",
            "+------------------------------------------------------------------------------------------------------------------------------------------------------------------------------------------------------------------------------------------+\n",
            "|[ukrainerussiawar, captur, russian, soldier, battalion, told, train, ukrain, russianarmi, soldier, ukrain, ukrainerussiawar]                                                                                                              |\n",
            "|[root, ukrain, fight, russia, video, sad, soldier, clueless, lost, forc, fight, corrupt, dictat, vladimir, putin, dont, ukrainerussiawar, ukraineunderattack, ukrania]                                                                    |\n",
            "|[elect, game, show, host, clown, ukrain, elect, comedian, hero, sourc, unknown]                                                                                                                                                           |\n",
            "|[ukrainian, soldier, wear, sunflow, hair, sunflow, nation, flower, ukrain, ukrain, ukrania, ukrainerussiawar]                                                                                                                             |\n",
            "|[russian, troop, destroi, commerci, oil, base, vasylkiv, ecolog, catastroph, ukrain, europ, stoprussia, stoprussianaggress, ukrain]                                                                                                       |\n",
            "|[scene, kyiv, morn, build, lobanovskyi, prospekt, hit, missil, 8am, dead, peopl, shelter, perri, dog, firemen, extinguish, fire, gym, underneath, ukrain]                                                                                 |\n",
            "|[american, intellig, pretend, email, risotto, recip, greatest, nation, secur, threat, wed, face, ukrainerussiawar]                                                                                                                        |\n",
            "|[remind, world, gaza, live, 4, war, 12, year, children, gaza, war, suffer, posttraumat, stress, disord, world, fair, ukrain, russiaukrainewar, russia, ukrainerussia]                                                                     |\n",
            "|[pass, spot, differ, ukraineunderattack, ukrain]                                                                                                                                                                                          |\n",
            "|[coverag, sound, disappoint, ukrain, hold, russia, republican, parti, 2022, root, russia]                                                                                                                                                 |\n",
            "|[stop, involv, man, famili, dont, crazi, peopl, ukrain, dy, close, ww3, count, saynotowar, ukrainewar]                                                                                                                                    |\n",
            "|[beauti, kyiv, afraid, god, protect, ukrain, defend, tonight, russianinvas, unitedwithukrain]                                                                                                                                             |\n",
            "|[long, line, laika, todai, ukrainianown, cheesecak, espresso, shop, san, antonio, employe, sold, 1400, cheesecak, jar, 288, slice, cheesecak, employe, proce, donat, aid, ukrainian, humanitarian, group, russia, continu, attack, ukrain]|\n",
            "|[int, commun, displai, condemn, russia, light, devast, ukrain, aid, endors, genocid, regim, ethiopia, select, outrag, leav, tigrayan, peopl, stuck, genocid, war, tigraygenocid]                                                          |\n",
            "|[ukrainewar, ukrainerussia, stoprussia, anonym, prevent, russian, occupi, commun]                                                                                                                                                         |\n",
            "|[heart, suffer, ukrain, fast, peac, resolut, maintain, sovereignti, selfdetermin]                                                                                                                                                         |\n",
            "|[ghost, kyiv, lock, capit, sky, man, enter, 10, battl, russian, jet, he, 100, coverag, ghostofkyiv, legend, ukranin, ukrainerussia, war]                                                                                                  |\n",
            "|[sky, kyiv, ukrain]                                                                                                                                                                                                                       |\n",
            "|[stand, ukrain, ukrainian, presid, standwithukrain, puckfutin, kyiv]                                                                                                                                                                      |\n",
            "|[call, hacker, digit, activist, unit, war, won, weapon, won, cyberweapon, democraci, freedom, destroi, fascism, imperi, anonym, ukrain, russia, putinisawarcrimin]                                                                        |\n",
            "+------------------------------------------------------------------------------------------------------------------------------------------------------------------------------------------------------------------------------------------+\n",
            "only showing top 20 rows\n",
            "\n"
          ]
        }
      ]
    },
    {
      "cell_type": "code",
      "source": [
        "#Remove duplicates\n",
        "input_rdd = preprocessed_df.rdd.map(lambda x: ( list(set(x[0]))))#reorder\n",
        "input_rdd.take(2)"
      ],
      "metadata": {
        "colab": {
          "base_uri": "https://localhost:8080/"
        },
        "id": "6-wlo04qrGda",
        "outputId": "e4b4710a-bc6e-41c9-b9f5-b5c78e9c1824"
      },
      "execution_count": 125,
      "outputs": [
        {
          "output_type": "execute_result",
          "data": {
            "text/plain": [
              "[['train',\n",
              "  'captur',\n",
              "  'ukrain',\n",
              "  'russianarmi',\n",
              "  'battalion',\n",
              "  'soldier',\n",
              "  'ukrainerussiawar',\n",
              "  'told',\n",
              "  'russian'],\n",
              " ['clueless',\n",
              "  'ukrain',\n",
              "  'corrupt',\n",
              "  'ukraineunderattack',\n",
              "  'dictat',\n",
              "  'vladimir',\n",
              "  'fight',\n",
              "  'dont',\n",
              "  'soldier',\n",
              "  'putin',\n",
              "  'russia',\n",
              "  'ukrainerussiawar',\n",
              "  'ukrania',\n",
              "  'forc',\n",
              "  'lost',\n",
              "  'sad',\n",
              "  'video',\n",
              "  'root']]"
            ]
          },
          "metadata": {},
          "execution_count": 125
        }
      ]
    },
    {
      "cell_type": "code",
      "source": [
        "#If needed --save to file to inspect\n",
        "#!rm -rf itemsets.txt\n",
        "#input_rdd.saveAsTextFile('itemsets.txt')"
      ],
      "metadata": {
        "id": "WL2RiBNCCyVL"
      },
      "execution_count": null,
      "outputs": []
    },
    {
      "cell_type": "code",
      "source": [
        "n_of_baskets = input_rdd.count()#countlenght\n",
        "MIN_SUPPORT_PERC = 0.2\n",
        "MIN_SUPPORT = math.ceil(n_of_baskets * MIN_SUPPORT_PERC)\n"
      ],
      "metadata": {
        "id": "oZAZDF8B_Vkf"
      },
      "execution_count": 131,
      "outputs": []
    },
    {
      "cell_type": "code",
      "source": [
        "MIN_SUPPORT"
      ],
      "metadata": {
        "colab": {
          "base_uri": "https://localhost:8080/"
        },
        "id": "1Lj3NoaZw1m-",
        "outputId": "929d3350-0479-4b1e-860b-08afda2208b1"
      },
      "execution_count": 132,
      "outputs": [
        {
          "output_type": "execute_result",
          "data": {
            "text/plain": [
              "45503"
            ]
          },
          "metadata": {},
          "execution_count": 132
        }
      ]
    },
    {
      "cell_type": "code",
      "source": [
        "\n",
        "#FREQUENT SINGLETONS\n",
        "\n",
        "singleton_itemsets_rdd = input_rdd.flatMap(lambda x:x).map(lambda x: (x,1))\n",
        "\n",
        "# Compute frequencies using a reduce operation\n",
        "singleton_itemsets_w_frequencies_rdd = singleton_itemsets_rdd.reduceByKey(lambda x,y: x + y)\n",
        "#add 1 if/per count\n",
        "\n",
        "# Filter singletons with a frequency higher than THRESHOLD\n",
        "frequent_singleton_itemsets_rdd = singleton_itemsets_w_frequencies_rdd.map(lambda x: (x[0], x[1])).filter(lambda x: x[1] > MIN_SUPPORT)\n",
        "\n",
        "# These are examples of frequent singleton itemsets with the relative frequency\n",
        "frequent_singleton_itemsets_rdd.take(10)#support\n",
        "\n",
        "#supportRDD.take(10)"
      ],
      "metadata": {
        "colab": {
          "base_uri": "https://localhost:8080/"
        },
        "id": "_ZLnJc9Kqbpu",
        "outputId": "fa1f82b3-435e-4d71-dafb-82631d9be813"
      },
      "execution_count": 133,
      "outputs": [
        {
          "output_type": "execute_result",
          "data": {
            "text/plain": [
              "[('ukrain', 163217), ('russian', 63249), ('putin', 46503), ('russia', 83932)]"
            ]
          },
          "metadata": {},
          "execution_count": 133
        }
      ]
    },
    {
      "cell_type": "code",
      "source": [
        "frequents_RDD= frequent_singleton_itemsets_rdd.map(lambda x:x[0])  \n",
        "frequents_RDD.take(10)##this must not be empty ..first 10 elemnts"
      ],
      "metadata": {
        "colab": {
          "base_uri": "https://localhost:8080/"
        },
        "id": "nrAjHwUmw_d9",
        "outputId": "5326d85b-29e8-4a53-f309-7e221fb425c9"
      },
      "execution_count": 134,
      "outputs": [
        {
          "output_type": "execute_result",
          "data": {
            "text/plain": [
              "['ukrain', 'russian', 'putin', 'russia']"
            ]
          },
          "metadata": {},
          "execution_count": 134
        }
      ]
    },
    {
      "cell_type": "markdown",
      "source": [
        "Get All Possible Candidates Function"
      ],
      "metadata": {
        "id": "n9z8sUu6LUdu"
      }
    },
    {
      "cell_type": "code",
      "source": [
        "import itertools\n",
        "def get_all_possible_candidates(frequents,n):#all possible combo.\n",
        "  frequents=frequents.collect()#all of them\n",
        "  if (n==2):\n",
        "    singles = set()\n",
        "    for item in frequents:#for item\n",
        "      singles.add(item)#add if unique\n",
        "    \n",
        "  if (n>2):\n",
        "    singles=set() \n",
        "    for itemsets in frequents: \n",
        "      for item in itemsets: #Get each individual item>\n",
        "        singles.add(item) \n",
        "  print(singles)      \n",
        "  candidates=[set(itemsets) for itemsets in list(itertools.combinations(singles, n))] \n",
        "  #itertools.combinations(singles, n) combo of singles to form n-uples\n",
        "  print(candidates)\n",
        "  #Create a list of the combinations (no rep., single)\n",
        "  return candidates"
      ],
      "metadata": {
        "id": "UvWRexpcx8Gm"
      },
      "execution_count": 19,
      "outputs": []
    },
    {
      "cell_type": "markdown",
      "source": [
        "<br>**filter_and_map_transaction()**\n",
        "<br> <br>The function is expected to compare each item with the candidate set. If the item is present in the transaction, the corresponding item in the candidate set must be mapped with value 1 and if they are absent, then the value must be 0."
      ],
      "metadata": {
        "id": "mART_QkS01jS"
      }
    },
    {
      "cell_type": "code",
      "source": [
        "#Is combo of items a subset of the ini transaction set\n",
        "#Put 1 if combo of item is in ini transaction set\n",
        "def count_candidates(x, candidates):\n",
        "    c_list = []\n",
        "    for itemsets in candidates:\n",
        "        print(itemsets)                     \n",
        "        if set(list(itemsets)).issubset(set(x)):#if candidate \n",
        "            c_list.append([tuple(itemsets), 1])\n",
        "            print(c_list)\n",
        "        else:\n",
        "            c_list.append([tuple(itemsets), 0])\n",
        "    return c_list"
      ],
      "metadata": {
        "id": "i189kcdh0glI"
      },
      "execution_count": 20,
      "outputs": []
    },
    {
      "cell_type": "code",
      "source": [
        "def get_frequent_itemsets(candidates, itemsets, MIN_SUPPORT):\n",
        "    frequent_item_set = itemsets.flatMap(lambda x: count_candidates(x, candidates)).reduceByKey(lambda a, b: a+b).map(lambda x: x).filter(lambda x: x[1]>=MIN_SUPPORT)\n",
        "    return frequent_item_set"
      ],
      "metadata": {
        "id": "q1OzOD9H0aqw"
      },
      "execution_count": 21,
      "outputs": []
    },
    {
      "cell_type": "code",
      "source": [
        "candidate_sets = get_all_possible_candidates(frequents_RDD, 2)#items --list"
      ],
      "metadata": {
        "colab": {
          "base_uri": "https://localhost:8080/"
        },
        "id": "kSID7gXzx9Qa",
        "outputId": "df2d858e-95e7-4303-9d05-077093b6f10d"
      },
      "execution_count": 138,
      "outputs": [
        {
          "output_type": "stream",
          "name": "stdout",
          "text": [
            "{'putin', 'russia', 'ukrain', 'russian'}\n",
            "[{'putin', 'russia'}, {'putin', 'ukrain'}, {'putin', 'russian'}, {'russia', 'ukrain'}, {'russia', 'russian'}, {'ukrain', 'russian'}]\n"
          ]
        }
      ]
    },
    {
      "cell_type": "code",
      "source": [
        "len(candidate_sets)##36 possible comb (9!/(2!*7!))"
      ],
      "metadata": {
        "colab": {
          "base_uri": "https://localhost:8080/"
        },
        "id": "VZ3dH62n1YOm",
        "outputId": "e332318f-43cb-41fe-c190-4c75cc0b5a6c"
      },
      "execution_count": 139,
      "outputs": [
        {
          "output_type": "execute_result",
          "data": {
            "text/plain": [
              "6"
            ]
          },
          "metadata": {},
          "execution_count": 139
        }
      ]
    },
    {
      "cell_type": "code",
      "source": [
        "candidate_sets#combo--tuple,0 or 1"
      ],
      "metadata": {
        "colab": {
          "base_uri": "https://localhost:8080/"
        },
        "id": "3HJcidfpyL-d",
        "outputId": "f1b88fec-cac2-4e02-d7db-c74449f2e1b9"
      },
      "execution_count": 140,
      "outputs": [
        {
          "output_type": "execute_result",
          "data": {
            "text/plain": [
              "[{'putin', 'russia'},\n",
              " {'putin', 'ukrain'},\n",
              " {'putin', 'russian'},\n",
              " {'russia', 'ukrain'},\n",
              " {'russia', 'russian'},\n",
              " {'russian', 'ukrain'}]"
            ]
          },
          "metadata": {},
          "execution_count": 140
        }
      ]
    },
    {
      "cell_type": "code",
      "source": [
        "frequent_itemsets = get_frequent_itemsets(candidate_sets, input_rdd, MIN_SUPPORT)"
      ],
      "metadata": {
        "id": "_dGpf9G4A59T"
      },
      "execution_count": 141,
      "outputs": []
    },
    {
      "cell_type": "code",
      "source": [
        "frequents_pair_RDD = frequent_itemsets.map(lambda x:x[0])"
      ],
      "metadata": {
        "id": "Y8-k_7KPFM0U"
      },
      "execution_count": 142,
      "outputs": []
    },
    {
      "cell_type": "code",
      "source": [
        "frequent_itemsets.take(5)"
      ],
      "metadata": {
        "colab": {
          "base_uri": "https://localhost:8080/"
        },
        "id": "dV-AlywaFQ2m",
        "outputId": "af4a4691-83c8-46e0-9095-97fe8098a3ee"
      },
      "execution_count": 143,
      "outputs": [
        {
          "output_type": "execute_result",
          "data": {
            "text/plain": [
              "[(('russia', 'ukrain'), 63693), (('ukrain', 'russian'), 49165)]"
            ]
          },
          "metadata": {},
          "execution_count": 143
        }
      ]
    },
    {
      "cell_type": "code",
      "source": [
        "frequents_pair_RDD.take(5)"
      ],
      "metadata": {
        "colab": {
          "base_uri": "https://localhost:8080/"
        },
        "id": "VUKKkuEeGqe7",
        "outputId": "f9091d3c-04de-4286-fffa-ce568d79d0b7"
      },
      "execution_count": 144,
      "outputs": [
        {
          "output_type": "execute_result",
          "data": {
            "text/plain": [
              "[('russia', 'ukrain'), ('ukrain', 'russian')]"
            ]
          },
          "metadata": {},
          "execution_count": 144
        }
      ]
    },
    {
      "cell_type": "code",
      "source": [
        "candidate_sets = get_all_possible_candidates(frequents_pair_RDD, 3)#items --list"
      ],
      "metadata": {
        "colab": {
          "base_uri": "https://localhost:8080/"
        },
        "id": "pdX-77lbLwbL",
        "outputId": "b692d4f6-ac0d-4250-c0cb-1b02e534b4f3"
      },
      "execution_count": 145,
      "outputs": [
        {
          "output_type": "stream",
          "name": "stdout",
          "text": [
            "{'russia', 'russian', 'ukrain'}\n",
            "[{'russia', 'russian', 'ukrain'}]\n"
          ]
        }
      ]
    },
    {
      "cell_type": "code",
      "source": [
        "frequent_itemsets = get_frequent_itemsets(candidate_sets, input_rdd, MIN_SUPPORT)"
      ],
      "metadata": {
        "id": "kNx0rpRALxTa"
      },
      "execution_count": 146,
      "outputs": []
    },
    {
      "cell_type": "code",
      "source": [
        "frequents_trip_RDD = frequent_itemsets.map(lambda x:x[0])\n"
      ],
      "metadata": {
        "id": "VC5yc9gqL7vo"
      },
      "execution_count": 147,
      "outputs": []
    },
    {
      "cell_type": "code",
      "source": [
        "frequents_trip_RDD.take(10)"
      ],
      "metadata": {
        "colab": {
          "base_uri": "https://localhost:8080/"
        },
        "id": "witYukLTL-5U",
        "outputId": "27ba91ab-db71-4d9d-b1d0-05e4d199f373"
      },
      "execution_count": 148,
      "outputs": [
        {
          "output_type": "execute_result",
          "data": {
            "text/plain": [
              "[]"
            ]
          },
          "metadata": {},
          "execution_count": 148
        }
      ]
    },
    {
      "cell_type": "code",
      "source": [
        "#Runtime vs support graph -- size"
      ],
      "metadata": {
        "id": "QKUBqkezMsy8"
      },
      "execution_count": null,
      "outputs": []
    },
    {
      "cell_type": "markdown",
      "source": [
        "Get specific date shell script"
      ],
      "metadata": {
        "id": "hGOzFpIYLcmp"
      }
    },
    {
      "cell_type": "code",
      "source": [
        "sh = \"\"\"\n",
        "specialformat=true\n",
        "if  [ $1 = \"02\" ]\n",
        "then\n",
        "  var=\"FEB\"\n",
        "  echo $var\n",
        "elif  [ $1 = \"03\" ]\n",
        "then\n",
        "  var=\"MAR\"\n",
        "  echo $var\n",
        "else\n",
        "  specialformat=false\n",
        "fi\n",
        "if $specialformat\n",
        "then\n",
        "  (find $PWD -type f -iname \"*$var$2*\" )|tee out\n",
        "else\n",
        "  (find $PWD -type f -iname \"*$1$2*\" )|tee out\n",
        "fi\n",
        "\n",
        "\"\"\"\n",
        "with open('find_file_data.sh', 'w') as file:\n",
        "  file.write(sh)\n"
      ],
      "metadata": {
        "id": "22f2-qt-X3T-"
      },
      "execution_count": 30,
      "outputs": []
    },
    {
      "cell_type": "code",
      "source": [
        "#Generate a priori algorithm\n",
        "  #need a while loop\n",
        "def not_empty(freq_sets):\n",
        "    return (freq_sets.count() > 0) and (freq_sets is not None)"
      ],
      "metadata": {
        "id": "FKwrfOui3VEC"
      },
      "execution_count": 23,
      "outputs": []
    },
    {
      "cell_type": "code",
      "source": [
        "def apriori(input_rdd,MIN_SUPPORT):\n",
        "      \n",
        "   tweet_freqRDD=(input_rdd.flatMap(lambda x:x).map(lambda i: (i, 1)).reduceByKey(lambda a,b: a+b))\n",
        "   frequent_items_and_count_RDD= tweet_freqRDD.map(lambda x: (x[0], x[1])).filter(lambda x: x[1]>=MIN_SUPPORT)    \n",
        "   frequent_items_RDD= frequent_items_and_count_RDD.map(lambda x:x[0])  \n",
        "   n=2\n",
        "   input_rdd.cache()\n",
        "   frequent_items_and_count_RDD = sc.parallelize([]) \n",
        "\n",
        "   while not_empty(frequent_items_RDD):\n",
        "     \n",
        "     candidate_sets = get_all_possible_candidates(frequent_items_RDD, n)\n",
        "     frequent_itemsets = get_frequent_itemsets(candidate_sets, input_rdd, MIN_SUPPORT)\n",
        "     frequent_items_and_count_RDD  = frequent_items_and_count_RDD.union(frequent_itemsets)#support\n",
        "     frequent_items_RDD = frequent_itemsets.map(lambda x:x[0])\n",
        "     \n",
        "   \n",
        "     n += 1\n",
        "   input_rdd.unpersist()\n",
        "   return frequent_items_and_count_RDD"
      ],
      "metadata": {
        "id": "6zvGnRZv3jt4"
      },
      "execution_count": 24,
      "outputs": []
    },
    {
      "cell_type": "code",
      "source": [
        "def apply_preprocessing_pipeline(pipeline, dataframe):\n",
        "    return pipeline.fit(dataframe).transform(dataframe).selectExpr(\"cleanedStemmedTokens.result\")"
      ],
      "metadata": {
        "id": "Gm5uLNnwKBHm"
      },
      "execution_count": 25,
      "outputs": []
    },
    {
      "cell_type": "code",
      "source": [
        "#Try to get a story out of it\n",
        "# Set limit = -1 to avoid limit\n",
        "# for FEB28 we specify only part1\n",
        "\n",
        "# The idea of this function is to apply the a_priori_algorithm just by specifing the date which we want to process \n",
        "# (and a few other input params)\n",
        "def generate_results(FILENAME, preprocessing_pipeline, TRESHOLD_PERCENTAGE):\n",
        "\n",
        "  # Reading and filtering the dataset\n",
        "  raw_df = spark.read.csv(FILENAME, header=True, escape=\"\\\"\", quote=\"\\\"\", multiLine=True)\n",
        "  filtered_df = raw_df.where(raw_df.language == \"en\").select(\"text\")\n",
        "\n",
        "  # Preprocessing the dataset using a predefined pipeline (This avoid having to re-download the stopwords set each time)\n",
        "  preprocessed_df = apply_preprocessing_pipeline(preprocessing_pipeline,filtered_df)\n",
        "  # Preparing the RDD for the a_priori_algorithm\n",
        "  input_rdd = preprocessed_df.rdd.map(lambda x: (list(set(x[0]))))\n",
        "\n",
        "  # Defining the threshold\n",
        "  n_of_baskets = input_rdd.count()#countlenght -> 227,513 (rows)\n",
        "  print('No of tweets are ', n_of_baskets)\n",
        "  TRESHOLD = math.ceil(n_of_baskets * TRESHOLD_PERCENTAGE)\n",
        "  print('Min support is ' , TRESHOLD)\n",
        "  # Returning the actual result\n",
        "  import time ## min_support=0.0004\n",
        "  start_time = time.time()\n",
        "  result=apriori(input_rdd, TRESHOLD)\n",
        "  end_time = time.time()\n",
        "  print('Runtime is' , end_time - start_time)\n",
        "\n",
        "  return result"
      ],
      "metadata": {
        "id": "oVkG7o5GMuvV"
      },
      "execution_count": 26,
      "outputs": []
    },
    {
      "cell_type": "code",
      "source": [
        "# Defining the pipeline once (donwload stopwords only once)\n",
        "preprocessing_pipeline = create_preprocessing_pipeline()"
      ],
      "metadata": {
        "colab": {
          "base_uri": "https://localhost:8080/"
        },
        "id": "8S2ecJOVSIBF",
        "outputId": "416a96f7-ab2f-4dc8-ab55-41b22eab78c6"
      },
      "execution_count": 32,
      "outputs": [
        {
          "output_type": "stream",
          "name": "stdout",
          "text": [
            "stopwords_en download started this may take some time.\n",
            "Approximate size to download 2.9 KB\n",
            "[OK!]\n"
          ]
        }
      ]
    },
    {
      "cell_type": "code",
      "source": [
        "!rm out\n",
        "!bash find_file_data.sh 02 27\n",
        "with open('out', 'r') as file:\n",
        "    PATHNAME = file.readline().strip()\n",
        "    if(PATHNAME == ''):\n",
        "      print(\"Data not found -- exit\")\n",
        "    else:\n",
        "      result_02_27_C005=generate_results(PATHNAME, preprocessing_pipeline,0.05)"
      ],
      "metadata": {
        "colab": {
          "base_uri": "https://localhost:8080/"
        },
        "id": "S2P6mpgWHAyY",
        "outputId": "bbc1a176-215a-477b-ee42-c9a8044cffdf"
      },
      "execution_count": 35,
      "outputs": [
        {
          "output_type": "stream",
          "name": "stdout",
          "text": [
            "FEB\n",
            "/content/UkrWar/UkraineCombinedTweetsDeduped_FEB27.csv.gz.gz\n",
            "No of tweets are  227513\n",
            "Min support is  11376\n",
            "{'anonym', 'ukrainewar', 'ukraineunderattack', 'world', 'russiaukrainewar', 'kyiv', 'putin', 'ukrainerussiawar', 'war', 'support', 'militari', 'ukrainian', 'ukrain', 'standwithukrain', 'countri', 'russia', 'russian', 'peopl'}\n",
            "[{'ukrainewar', 'anonym'}, {'ukraineunderattack', 'anonym'}, {'anonym', 'world'}, {'anonym', 'russiaukrainewar'}, {'kyiv', 'anonym'}, {'putin', 'anonym'}, {'ukrainerussiawar', 'anonym'}, {'war', 'anonym'}, {'support', 'anonym'}, {'militari', 'anonym'}, {'ukrainian', 'anonym'}, {'ukrain', 'anonym'}, {'anonym', 'standwithukrain'}, {'anonym', 'countri'}, {'russia', 'anonym'}, {'russian', 'anonym'}, {'peopl', 'anonym'}, {'ukrainewar', 'ukraineunderattack'}, {'ukrainewar', 'world'}, {'ukrainewar', 'russiaukrainewar'}, {'kyiv', 'ukrainewar'}, {'putin', 'ukrainewar'}, {'ukrainerussiawar', 'ukrainewar'}, {'ukrainewar', 'war'}, {'support', 'ukrainewar'}, {'ukrainewar', 'militari'}, {'ukrainian', 'ukrainewar'}, {'ukrainewar', 'ukrain'}, {'ukrainewar', 'standwithukrain'}, {'ukrainewar', 'countri'}, {'russia', 'ukrainewar'}, {'ukrainewar', 'russian'}, {'ukrainewar', 'peopl'}, {'ukraineunderattack', 'world'}, {'ukraineunderattack', 'russiaukrainewar'}, {'kyiv', 'ukraineunderattack'}, {'putin', 'ukraineunderattack'}, {'ukrainerussiawar', 'ukraineunderattack'}, {'war', 'ukraineunderattack'}, {'support', 'ukraineunderattack'}, {'ukraineunderattack', 'militari'}, {'ukrainian', 'ukraineunderattack'}, {'ukraineunderattack', 'ukrain'}, {'ukraineunderattack', 'standwithukrain'}, {'ukraineunderattack', 'countri'}, {'russia', 'ukraineunderattack'}, {'russian', 'ukraineunderattack'}, {'ukraineunderattack', 'peopl'}, {'world', 'russiaukrainewar'}, {'kyiv', 'world'}, {'putin', 'world'}, {'ukrainerussiawar', 'world'}, {'war', 'world'}, {'support', 'world'}, {'militari', 'world'}, {'ukrainian', 'world'}, {'ukrain', 'world'}, {'standwithukrain', 'world'}, {'world', 'countri'}, {'russia', 'world'}, {'russian', 'world'}, {'peopl', 'world'}, {'kyiv', 'russiaukrainewar'}, {'putin', 'russiaukrainewar'}, {'ukrainerussiawar', 'russiaukrainewar'}, {'war', 'russiaukrainewar'}, {'support', 'russiaukrainewar'}, {'militari', 'russiaukrainewar'}, {'ukrainian', 'russiaukrainewar'}, {'ukrain', 'russiaukrainewar'}, {'standwithukrain', 'russiaukrainewar'}, {'countri', 'russiaukrainewar'}, {'russia', 'russiaukrainewar'}, {'russian', 'russiaukrainewar'}, {'peopl', 'russiaukrainewar'}, {'kyiv', 'putin'}, {'kyiv', 'ukrainerussiawar'}, {'kyiv', 'war'}, {'kyiv', 'support'}, {'kyiv', 'militari'}, {'kyiv', 'ukrainian'}, {'kyiv', 'ukrain'}, {'kyiv', 'standwithukrain'}, {'kyiv', 'countri'}, {'kyiv', 'russia'}, {'kyiv', 'russian'}, {'kyiv', 'peopl'}, {'putin', 'ukrainerussiawar'}, {'putin', 'war'}, {'putin', 'support'}, {'putin', 'militari'}, {'ukrainian', 'putin'}, {'putin', 'ukrain'}, {'putin', 'standwithukrain'}, {'putin', 'countri'}, {'putin', 'russia'}, {'putin', 'russian'}, {'putin', 'peopl'}, {'ukrainerussiawar', 'war'}, {'support', 'ukrainerussiawar'}, {'ukrainerussiawar', 'militari'}, {'ukrainian', 'ukrainerussiawar'}, {'ukrainerussiawar', 'ukrain'}, {'ukrainerussiawar', 'standwithukrain'}, {'ukrainerussiawar', 'countri'}, {'russia', 'ukrainerussiawar'}, {'ukrainerussiawar', 'russian'}, {'ukrainerussiawar', 'peopl'}, {'support', 'war'}, {'war', 'militari'}, {'ukrainian', 'war'}, {'war', 'ukrain'}, {'war', 'standwithukrain'}, {'war', 'countri'}, {'russia', 'war'}, {'war', 'russian'}, {'war', 'peopl'}, {'support', 'militari'}, {'ukrainian', 'support'}, {'support', 'ukrain'}, {'support', 'standwithukrain'}, {'support', 'countri'}, {'support', 'russia'}, {'support', 'russian'}, {'support', 'peopl'}, {'ukrainian', 'militari'}, {'ukrain', 'militari'}, {'militari', 'standwithukrain'}, {'militari', 'countri'}, {'russia', 'militari'}, {'russian', 'militari'}, {'peopl', 'militari'}, {'ukrainian', 'ukrain'}, {'ukrainian', 'standwithukrain'}, {'ukrainian', 'countri'}, {'ukrainian', 'russia'}, {'ukrainian', 'russian'}, {'ukrainian', 'peopl'}, {'ukrain', 'standwithukrain'}, {'ukrain', 'countri'}, {'russia', 'ukrain'}, {'russian', 'ukrain'}, {'ukrain', 'peopl'}, {'standwithukrain', 'countri'}, {'russia', 'standwithukrain'}, {'russian', 'standwithukrain'}, {'peopl', 'standwithukrain'}, {'russia', 'countri'}, {'russian', 'countri'}, {'peopl', 'countri'}, {'russia', 'russian'}, {'russia', 'peopl'}, {'russian', 'peopl'}]\n",
            "{'ukrainewar', 'ukraineunderattack', 'world', 'kyiv', 'putin', 'ukrainerussiawar', 'war', 'support', 'ukrainian', 'peopl', 'ukrain', 'countri', 'russia', 'russian', 'anonym'}\n",
            "[{'ukrainewar', 'ukraineunderattack', 'world'}, {'kyiv', 'ukrainewar', 'ukraineunderattack'}, {'putin', 'ukrainewar', 'ukraineunderattack'}, {'ukrainerussiawar', 'ukrainewar', 'ukraineunderattack'}, {'ukrainewar', 'ukraineunderattack', 'war'}, {'support', 'ukrainewar', 'ukraineunderattack'}, {'ukrainian', 'ukrainewar', 'ukraineunderattack'}, {'ukrainewar', 'ukraineunderattack', 'peopl'}, {'ukrainewar', 'ukraineunderattack', 'ukrain'}, {'ukrainewar', 'ukraineunderattack', 'countri'}, {'russia', 'ukrainewar', 'ukraineunderattack'}, {'ukrainewar', 'russian', 'ukraineunderattack'}, {'ukrainewar', 'ukraineunderattack', 'anonym'}, {'kyiv', 'ukrainewar', 'world'}, {'putin', 'ukrainewar', 'world'}, {'ukrainerussiawar', 'ukrainewar', 'world'}, {'ukrainewar', 'war', 'world'}, {'support', 'ukrainewar', 'world'}, {'ukrainian', 'ukrainewar', 'world'}, {'ukrainewar', 'peopl', 'world'}, {'ukrainewar', 'ukrain', 'world'}, {'ukrainewar', 'world', 'countri'}, {'russia', 'ukrainewar', 'world'}, {'ukrainewar', 'russian', 'world'}, {'ukrainewar', 'anonym', 'world'}, {'kyiv', 'putin', 'ukrainewar'}, {'kyiv', 'ukrainewar', 'ukrainerussiawar'}, {'kyiv', 'ukrainewar', 'war'}, {'kyiv', 'support', 'ukrainewar'}, {'kyiv', 'ukrainewar', 'ukrainian'}, {'kyiv', 'ukrainewar', 'peopl'}, {'kyiv', 'ukrainewar', 'ukrain'}, {'kyiv', 'ukrainewar', 'countri'}, {'kyiv', 'russia', 'ukrainewar'}, {'kyiv', 'ukrainewar', 'russian'}, {'kyiv', 'ukrainewar', 'anonym'}, {'ukrainerussiawar', 'putin', 'ukrainewar'}, {'putin', 'ukrainewar', 'war'}, {'putin', 'ukrainewar', 'support'}, {'ukrainian', 'putin', 'ukrainewar'}, {'putin', 'ukrainewar', 'peopl'}, {'putin', 'ukrainewar', 'ukrain'}, {'putin', 'ukrainewar', 'countri'}, {'putin', 'ukrainewar', 'russia'}, {'putin', 'ukrainewar', 'russian'}, {'putin', 'ukrainewar', 'anonym'}, {'ukrainerussiawar', 'ukrainewar', 'war'}, {'ukrainerussiawar', 'support', 'ukrainewar'}, {'ukrainerussiawar', 'ukrainewar', 'ukrainian'}, {'ukrainerussiawar', 'ukrainewar', 'peopl'}, {'ukrainerussiawar', 'ukrainewar', 'ukrain'}, {'ukrainerussiawar', 'ukrainewar', 'countri'}, {'ukrainerussiawar', 'russia', 'ukrainewar'}, {'ukrainerussiawar', 'ukrainewar', 'russian'}, {'ukrainerussiawar', 'ukrainewar', 'anonym'}, {'support', 'ukrainewar', 'war'}, {'ukrainian', 'ukrainewar', 'war'}, {'ukrainewar', 'peopl', 'war'}, {'ukrainewar', 'ukrain', 'war'}, {'ukrainewar', 'war', 'countri'}, {'russia', 'ukrainewar', 'war'}, {'ukrainewar', 'russian', 'war'}, {'anonym', 'ukrainewar', 'war'}, {'ukrainian', 'support', 'ukrainewar'}, {'support', 'ukrainewar', 'peopl'}, {'support', 'ukrainewar', 'ukrain'}, {'support', 'ukrainewar', 'countri'}, {'support', 'ukrainewar', 'russia'}, {'support', 'ukrainewar', 'russian'}, {'support', 'ukrainewar', 'anonym'}, {'ukrainian', 'ukrainewar', 'peopl'}, {'ukrainian', 'ukrainewar', 'ukrain'}, {'ukrainian', 'ukrainewar', 'countri'}, {'ukrainian', 'russia', 'ukrainewar'}, {'ukrainian', 'ukrainewar', 'russian'}, {'ukrainian', 'ukrainewar', 'anonym'}, {'ukrainewar', 'ukrain', 'peopl'}, {'ukrainewar', 'peopl', 'countri'}, {'russia', 'ukrainewar', 'peopl'}, {'ukrainewar', 'russian', 'peopl'}, {'anonym', 'ukrainewar', 'peopl'}, {'ukrainewar', 'ukrain', 'countri'}, {'russia', 'ukrainewar', 'ukrain'}, {'ukrainewar', 'russian', 'ukrain'}, {'ukrainewar', 'ukrain', 'anonym'}, {'russia', 'ukrainewar', 'countri'}, {'ukrainewar', 'russian', 'countri'}, {'ukrainewar', 'anonym', 'countri'}, {'russia', 'ukrainewar', 'russian'}, {'russia', 'ukrainewar', 'anonym'}, {'ukrainewar', 'russian', 'anonym'}, {'kyiv', 'ukraineunderattack', 'world'}, {'putin', 'ukraineunderattack', 'world'}, {'ukrainerussiawar', 'ukraineunderattack', 'world'}, {'war', 'ukraineunderattack', 'world'}, {'support', 'ukraineunderattack', 'world'}, {'ukrainian', 'ukraineunderattack', 'world'}, {'ukraineunderattack', 'peopl', 'world'}, {'ukraineunderattack', 'ukrain', 'world'}, {'ukraineunderattack', 'world', 'countri'}, {'russia', 'ukraineunderattack', 'world'}, {'russian', 'ukraineunderattack', 'world'}, {'ukraineunderattack', 'anonym', 'world'}, {'kyiv', 'putin', 'ukraineunderattack'}, {'kyiv', 'ukrainerussiawar', 'ukraineunderattack'}, {'kyiv', 'war', 'ukraineunderattack'}, {'kyiv', 'support', 'ukraineunderattack'}, {'kyiv', 'ukrainian', 'ukraineunderattack'}, {'kyiv', 'ukraineunderattack', 'peopl'}, {'kyiv', 'ukraineunderattack', 'ukrain'}, {'kyiv', 'ukraineunderattack', 'countri'}, {'kyiv', 'russia', 'ukraineunderattack'}, {'kyiv', 'russian', 'ukraineunderattack'}, {'kyiv', 'ukraineunderattack', 'anonym'}, {'putin', 'ukrainerussiawar', 'ukraineunderattack'}, {'putin', 'war', 'ukraineunderattack'}, {'putin', 'support', 'ukraineunderattack'}, {'ukrainian', 'putin', 'ukraineunderattack'}, {'putin', 'ukraineunderattack', 'peopl'}, {'putin', 'ukraineunderattack', 'ukrain'}, {'putin', 'ukraineunderattack', 'countri'}, {'putin', 'russia', 'ukraineunderattack'}, {'putin', 'russian', 'ukraineunderattack'}, {'putin', 'ukraineunderattack', 'anonym'}, {'ukrainerussiawar', 'ukraineunderattack', 'war'}, {'support', 'ukrainerussiawar', 'ukraineunderattack'}, {'ukrainian', 'ukrainerussiawar', 'ukraineunderattack'}, {'ukrainerussiawar', 'ukraineunderattack', 'peopl'}, {'ukrainerussiawar', 'ukraineunderattack', 'ukrain'}, {'ukrainerussiawar', 'ukraineunderattack', 'countri'}, {'russia', 'ukrainerussiawar', 'ukraineunderattack'}, {'ukrainerussiawar', 'russian', 'ukraineunderattack'}, {'ukrainerussiawar', 'ukraineunderattack', 'anonym'}, {'support', 'war', 'ukraineunderattack'}, {'ukrainian', 'war', 'ukraineunderattack'}, {'war', 'ukraineunderattack', 'peopl'}, {'war', 'ukraineunderattack', 'ukrain'}, {'war', 'ukraineunderattack', 'countri'}, {'russia', 'war', 'ukraineunderattack'}, {'war', 'russian', 'ukraineunderattack'}, {'war', 'ukraineunderattack', 'anonym'}, {'ukrainian', 'support', 'ukraineunderattack'}, {'support', 'ukraineunderattack', 'peopl'}, {'support', 'ukraineunderattack', 'ukrain'}, {'support', 'ukraineunderattack', 'countri'}, {'support', 'russia', 'ukraineunderattack'}, {'support', 'russian', 'ukraineunderattack'}, {'support', 'ukraineunderattack', 'anonym'}, {'ukrainian', 'ukraineunderattack', 'peopl'}, {'ukrainian', 'ukraineunderattack', 'ukrain'}, {'ukrainian', 'ukraineunderattack', 'countri'}, {'ukrainian', 'russia', 'ukraineunderattack'}, {'ukrainian', 'russian', 'ukraineunderattack'}, {'ukrainian', 'ukraineunderattack', 'anonym'}, {'ukrain', 'ukraineunderattack', 'peopl'}, {'ukraineunderattack', 'peopl', 'countri'}, {'russia', 'ukraineunderattack', 'peopl'}, {'russian', 'ukraineunderattack', 'peopl'}, {'anonym', 'ukraineunderattack', 'peopl'}, {'ukraineunderattack', 'ukrain', 'countri'}, {'russia', 'ukraineunderattack', 'ukrain'}, {'russian', 'ukraineunderattack', 'ukrain'}, {'anonym', 'ukraineunderattack', 'ukrain'}, {'russia', 'ukraineunderattack', 'countri'}, {'russian', 'ukraineunderattack', 'countri'}, {'ukraineunderattack', 'anonym', 'countri'}, {'russia', 'russian', 'ukraineunderattack'}, {'russia', 'ukraineunderattack', 'anonym'}, {'russian', 'ukraineunderattack', 'anonym'}, {'kyiv', 'putin', 'world'}, {'kyiv', 'ukrainerussiawar', 'world'}, {'kyiv', 'war', 'world'}, {'kyiv', 'support', 'world'}, {'kyiv', 'ukrainian', 'world'}, {'kyiv', 'peopl', 'world'}, {'kyiv', 'ukrain', 'world'}, {'kyiv', 'world', 'countri'}, {'kyiv', 'russia', 'world'}, {'kyiv', 'russian', 'world'}, {'kyiv', 'anonym', 'world'}, {'putin', 'ukrainerussiawar', 'world'}, {'putin', 'war', 'world'}, {'putin', 'support', 'world'}, {'ukrainian', 'putin', 'world'}, {'putin', 'peopl', 'world'}, {'putin', 'ukrain', 'world'}, {'putin', 'world', 'countri'}, {'putin', 'russia', 'world'}, {'putin', 'russian', 'world'}, {'putin', 'anonym', 'world'}, {'ukrainerussiawar', 'war', 'world'}, {'support', 'ukrainerussiawar', 'world'}, {'ukrainian', 'ukrainerussiawar', 'world'}, {'ukrainerussiawar', 'peopl', 'world'}, {'ukrainerussiawar', 'ukrain', 'world'}, {'ukrainerussiawar', 'world', 'countri'}, {'russia', 'ukrainerussiawar', 'world'}, {'ukrainerussiawar', 'russian', 'world'}, {'ukrainerussiawar', 'anonym', 'world'}, {'support', 'war', 'world'}, {'ukrainian', 'war', 'world'}, {'war', 'peopl', 'world'}, {'war', 'ukrain', 'world'}, {'war', 'world', 'countri'}, {'russia', 'war', 'world'}, {'war', 'russian', 'world'}, {'war', 'anonym', 'world'}, {'ukrainian', 'support', 'world'}, {'support', 'peopl', 'world'}, {'support', 'ukrain', 'world'}, {'support', 'world', 'countri'}, {'support', 'russia', 'world'}, {'support', 'russian', 'world'}, {'support', 'anonym', 'world'}, {'ukrainian', 'peopl', 'world'}, {'ukrainian', 'ukrain', 'world'}, {'ukrainian', 'world', 'countri'}, {'ukrainian', 'russia', 'world'}, {'ukrainian', 'russian', 'world'}, {'ukrainian', 'anonym', 'world'}, {'ukrain', 'peopl', 'world'}, {'peopl', 'world', 'countri'}, {'russia', 'peopl', 'world'}, {'russian', 'peopl', 'world'}, {'anonym', 'peopl', 'world'}, {'ukrain', 'world', 'countri'}, {'russia', 'ukrain', 'world'}, {'russian', 'ukrain', 'world'}, {'ukrain', 'anonym', 'world'}, {'russia', 'world', 'countri'}, {'russian', 'world', 'countri'}, {'anonym', 'world', 'countri'}, {'russia', 'russian', 'world'}, {'russia', 'anonym', 'world'}, {'russian', 'anonym', 'world'}, {'kyiv', 'putin', 'ukrainerussiawar'}, {'kyiv', 'putin', 'war'}, {'kyiv', 'putin', 'support'}, {'kyiv', 'putin', 'ukrainian'}, {'kyiv', 'putin', 'peopl'}, {'kyiv', 'putin', 'ukrain'}, {'kyiv', 'putin', 'countri'}, {'kyiv', 'putin', 'russia'}, {'kyiv', 'putin', 'russian'}, {'kyiv', 'putin', 'anonym'}, {'kyiv', 'ukrainerussiawar', 'war'}, {'kyiv', 'support', 'ukrainerussiawar'}, {'kyiv', 'ukrainerussiawar', 'ukrainian'}, {'kyiv', 'ukrainerussiawar', 'peopl'}, {'kyiv', 'ukrainerussiawar', 'ukrain'}, {'kyiv', 'ukrainerussiawar', 'countri'}, {'kyiv', 'russia', 'ukrainerussiawar'}, {'kyiv', 'ukrainerussiawar', 'russian'}, {'kyiv', 'ukrainerussiawar', 'anonym'}, {'kyiv', 'support', 'war'}, {'kyiv', 'war', 'ukrainian'}, {'kyiv', 'war', 'peopl'}, {'kyiv', 'war', 'ukrain'}, {'kyiv', 'war', 'countri'}, {'kyiv', 'russia', 'war'}, {'kyiv', 'war', 'russian'}, {'kyiv', 'war', 'anonym'}, {'kyiv', 'support', 'ukrainian'}, {'kyiv', 'support', 'peopl'}, {'kyiv', 'support', 'ukrain'}, {'kyiv', 'support', 'countri'}, {'kyiv', 'support', 'russia'}, {'kyiv', 'support', 'russian'}, {'kyiv', 'support', 'anonym'}, {'kyiv', 'ukrainian', 'peopl'}, {'kyiv', 'ukrainian', 'ukrain'}, {'kyiv', 'ukrainian', 'countri'}, {'kyiv', 'russia', 'ukrainian'}, {'kyiv', 'ukrainian', 'russian'}, {'kyiv', 'ukrainian', 'anonym'}, {'kyiv', 'ukrain', 'peopl'}, {'kyiv', 'peopl', 'countri'}, {'kyiv', 'russia', 'peopl'}, {'kyiv', 'russian', 'peopl'}, {'kyiv', 'anonym', 'peopl'}, {'kyiv', 'ukrain', 'countri'}, {'kyiv', 'russia', 'ukrain'}, {'kyiv', 'russian', 'ukrain'}, {'kyiv', 'ukrain', 'anonym'}, {'kyiv', 'russia', 'countri'}, {'kyiv', 'russian', 'countri'}, {'kyiv', 'anonym', 'countri'}, {'kyiv', 'russia', 'russian'}, {'kyiv', 'russia', 'anonym'}, {'kyiv', 'russian', 'anonym'}, {'putin', 'ukrainerussiawar', 'war'}, {'putin', 'ukrainerussiawar', 'support'}, {'ukrainian', 'putin', 'ukrainerussiawar'}, {'putin', 'ukrainerussiawar', 'peopl'}, {'putin', 'ukrainerussiawar', 'ukrain'}, {'putin', 'ukrainerussiawar', 'countri'}, {'putin', 'ukrainerussiawar', 'russia'}, {'putin', 'ukrainerussiawar', 'russian'}, {'putin', 'ukrainerussiawar', 'anonym'}, {'putin', 'war', 'support'}, {'ukrainian', 'putin', 'war'}, {'putin', 'war', 'peopl'}, {'putin', 'war', 'ukrain'}, {'putin', 'war', 'countri'}, {'putin', 'war', 'russia'}, {'putin', 'war', 'russian'}, {'putin', 'war', 'anonym'}, {'ukrainian', 'putin', 'support'}, {'putin', 'support', 'peopl'}, {'putin', 'support', 'ukrain'}, {'putin', 'support', 'countri'}, {'putin', 'russia', 'support'}, {'putin', 'support', 'russian'}, {'putin', 'support', 'anonym'}, {'ukrainian', 'putin', 'peopl'}, {'ukrainian', 'putin', 'ukrain'}, {'ukrainian', 'putin', 'countri'}, {'ukrainian', 'putin', 'russia'}, {'ukrainian', 'putin', 'russian'}, {'ukrainian', 'putin', 'anonym'}, {'putin', 'ukrain', 'peopl'}, {'putin', 'peopl', 'countri'}, {'putin', 'russia', 'peopl'}, {'putin', 'russian', 'peopl'}, {'anonym', 'putin', 'peopl'}, {'putin', 'ukrain', 'countri'}, {'putin', 'russia', 'ukrain'}, {'putin', 'russian', 'ukrain'}, {'putin', 'ukrain', 'anonym'}, {'putin', 'russia', 'countri'}, {'putin', 'russian', 'countri'}, {'putin', 'anonym', 'countri'}, {'putin', 'russia', 'russian'}, {'putin', 'russia', 'anonym'}, {'putin', 'russian', 'anonym'}, {'support', 'ukrainerussiawar', 'war'}, {'ukrainian', 'ukrainerussiawar', 'war'}, {'ukrainerussiawar', 'peopl', 'war'}, {'ukrainerussiawar', 'ukrain', 'war'}, {'ukrainerussiawar', 'war', 'countri'}, {'russia', 'ukrainerussiawar', 'war'}, {'ukrainerussiawar', 'russian', 'war'}, {'anonym', 'ukrainerussiawar', 'war'}, {'ukrainian', 'support', 'ukrainerussiawar'}, {'support', 'ukrainerussiawar', 'peopl'}, {'support', 'ukrainerussiawar', 'ukrain'}, {'support', 'ukrainerussiawar', 'countri'}, {'support', 'ukrainerussiawar', 'russia'}, {'support', 'ukrainerussiawar', 'russian'}, {'support', 'ukrainerussiawar', 'anonym'}, {'ukrainian', 'ukrainerussiawar', 'peopl'}, {'ukrainian', 'ukrainerussiawar', 'ukrain'}, {'ukrainian', 'ukrainerussiawar', 'countri'}, {'ukrainian', 'russia', 'ukrainerussiawar'}, {'ukrainian', 'ukrainerussiawar', 'russian'}, {'ukrainian', 'ukrainerussiawar', 'anonym'}, {'ukrainerussiawar', 'ukrain', 'peopl'}, {'ukrainerussiawar', 'peopl', 'countri'}, {'russia', 'ukrainerussiawar', 'peopl'}, {'ukrainerussiawar', 'russian', 'peopl'}, {'anonym', 'ukrainerussiawar', 'peopl'}, {'ukrainerussiawar', 'ukrain', 'countri'}, {'russia', 'ukrainerussiawar', 'ukrain'}, {'ukrainerussiawar', 'russian', 'ukrain'}, {'ukrainerussiawar', 'ukrain', 'anonym'}, {'russia', 'ukrainerussiawar', 'countri'}, {'ukrainerussiawar', 'russian', 'countri'}, {'ukrainerussiawar', 'anonym', 'countri'}, {'russia', 'ukrainerussiawar', 'russian'}, {'russia', 'ukrainerussiawar', 'anonym'}, {'ukrainerussiawar', 'russian', 'anonym'}, {'ukrainian', 'support', 'war'}, {'support', 'war', 'peopl'}, {'support', 'war', 'ukrain'}, {'support', 'war', 'countri'}, {'support', 'war', 'russia'}, {'support', 'war', 'russian'}, {'support', 'war', 'anonym'}, {'ukrainian', 'war', 'peopl'}, {'ukrainian', 'war', 'ukrain'}, {'ukrainian', 'war', 'countri'}, {'ukrainian', 'russia', 'war'}, {'ukrainian', 'war', 'russian'}, {'ukrainian', 'war', 'anonym'}, {'war', 'ukrain', 'peopl'}, {'war', 'peopl', 'countri'}, {'russia', 'war', 'peopl'}, {'war', 'russian', 'peopl'}, {'anonym', 'war', 'peopl'}, {'war', 'ukrain', 'countri'}, {'russia', 'war', 'ukrain'}, {'war', 'russian', 'ukrain'}, {'war', 'ukrain', 'anonym'}, {'russia', 'war', 'countri'}, {'war', 'russian', 'countri'}, {'war', 'anonym', 'countri'}, {'russia', 'war', 'russian'}, {'russia', 'war', 'anonym'}, {'war', 'russian', 'anonym'}, {'ukrainian', 'support', 'peopl'}, {'ukrainian', 'support', 'ukrain'}, {'ukrainian', 'support', 'countri'}, {'ukrainian', 'support', 'russia'}, {'ukrainian', 'support', 'russian'}, {'ukrainian', 'support', 'anonym'}, {'support', 'ukrain', 'peopl'}, {'support', 'peopl', 'countri'}, {'support', 'russia', 'peopl'}, {'support', 'russian', 'peopl'}, {'anonym', 'support', 'peopl'}, {'support', 'ukrain', 'countri'}, {'support', 'russia', 'ukrain'}, {'support', 'russian', 'ukrain'}, {'support', 'ukrain', 'anonym'}, {'support', 'russia', 'countri'}, {'support', 'russian', 'countri'}, {'support', 'anonym', 'countri'}, {'support', 'russia', 'russian'}, {'support', 'russia', 'anonym'}, {'support', 'russian', 'anonym'}, {'ukrainian', 'ukrain', 'peopl'}, {'ukrainian', 'peopl', 'countri'}, {'ukrainian', 'russia', 'peopl'}, {'ukrainian', 'russian', 'peopl'}, {'ukrainian', 'anonym', 'peopl'}, {'ukrainian', 'ukrain', 'countri'}, {'ukrainian', 'russia', 'ukrain'}, {'ukrainian', 'russian', 'ukrain'}, {'ukrainian', 'ukrain', 'anonym'}, {'ukrainian', 'russia', 'countri'}, {'ukrainian', 'russian', 'countri'}, {'ukrainian', 'anonym', 'countri'}, {'ukrainian', 'russia', 'russian'}, {'ukrainian', 'russia', 'anonym'}, {'ukrainian', 'russian', 'anonym'}, {'ukrain', 'peopl', 'countri'}, {'russia', 'ukrain', 'peopl'}, {'russian', 'ukrain', 'peopl'}, {'anonym', 'ukrain', 'peopl'}, {'russia', 'peopl', 'countri'}, {'russian', 'peopl', 'countri'}, {'anonym', 'peopl', 'countri'}, {'russia', 'russian', 'peopl'}, {'anonym', 'russia', 'peopl'}, {'anonym', 'russian', 'peopl'}, {'russia', 'ukrain', 'countri'}, {'russian', 'ukrain', 'countri'}, {'ukrain', 'anonym', 'countri'}, {'russia', 'russian', 'ukrain'}, {'russia', 'ukrain', 'anonym'}, {'russian', 'ukrain', 'anonym'}, {'russia', 'russian', 'countri'}, {'russia', 'anonym', 'countri'}, {'russian', 'anonym', 'countri'}, {'russia', 'russian', 'anonym'}]\n",
            "{'putin', 'war', 'ukrainian', 'ukrain', 'russia', 'russian'}\n",
            "[{'ukrainian', 'putin', 'war', 'ukrain'}, {'ukrainian', 'putin', 'war', 'russia'}, {'ukrainian', 'putin', 'war', 'russian'}, {'putin', 'war', 'ukrain', 'russia'}, {'putin', 'war', 'russian', 'ukrain'}, {'putin', 'war', 'russian', 'russia'}, {'ukrainian', 'putin', 'russia', 'ukrain'}, {'ukrainian', 'putin', 'russian', 'ukrain'}, {'ukrainian', 'putin', 'russia', 'russian'}, {'putin', 'russia', 'russian', 'ukrain'}, {'ukrainian', 'russia', 'war', 'ukrain'}, {'ukrainian', 'war', 'russian', 'ukrain'}, {'ukrainian', 'russia', 'war', 'russian'}, {'russia', 'war', 'russian', 'ukrain'}, {'ukrainian', 'russia', 'russian', 'ukrain'}]\n",
            "Runtime is 10375.439755678177\n"
          ]
        }
      ]
    },
    {
      "cell_type": "code",
      "source": [
        "#Focus on one day (largest) -- but vary LIMIT--record time (take 5 measures). Find best compromise for future ones\n",
        "#find file\n",
        "!rm out\n",
        "!bash find_file_data.sh 02 27\n",
        "with open('out', 'r') as file:\n",
        "    PATHNAME = file.readline().strip()\n",
        "    if(PATHNAME == ''):\n",
        "      print(\"Data not found -- exit\")\n",
        "    else:\n",
        "      result_02_27_C01=generate_results(PATHNAME, preprocessing_pipeline,0.1)"
      ],
      "metadata": {
        "colab": {
          "base_uri": "https://localhost:8080/"
        },
        "id": "9iPqxCDDYrrP",
        "outputId": "9ce14910-607a-4bdb-cdec-06232e0004f2"
      },
      "execution_count": 36,
      "outputs": [
        {
          "output_type": "stream",
          "name": "stdout",
          "text": [
            "FEB\n",
            "/content/UkrWar/UkraineCombinedTweetsDeduped_FEB27.csv.gz.gz\n",
            "No of tweets are  227513\n",
            "Min support is  22752\n",
            "{'kyiv', 'putin', 'ukrainerussiawar', 'war', 'ukrainian', 'ukrain', 'russia', 'russian', 'peopl'}\n",
            "[{'kyiv', 'putin'}, {'kyiv', 'ukrainerussiawar'}, {'kyiv', 'war'}, {'kyiv', 'ukrainian'}, {'kyiv', 'ukrain'}, {'kyiv', 'russia'}, {'kyiv', 'russian'}, {'kyiv', 'peopl'}, {'putin', 'ukrainerussiawar'}, {'putin', 'war'}, {'ukrainian', 'putin'}, {'putin', 'ukrain'}, {'putin', 'russia'}, {'putin', 'russian'}, {'putin', 'peopl'}, {'ukrainerussiawar', 'war'}, {'ukrainian', 'ukrainerussiawar'}, {'ukrainerussiawar', 'ukrain'}, {'russia', 'ukrainerussiawar'}, {'ukrainerussiawar', 'russian'}, {'ukrainerussiawar', 'peopl'}, {'ukrainian', 'war'}, {'war', 'ukrain'}, {'russia', 'war'}, {'war', 'russian'}, {'war', 'peopl'}, {'ukrainian', 'ukrain'}, {'ukrainian', 'russia'}, {'ukrainian', 'russian'}, {'ukrainian', 'peopl'}, {'russia', 'ukrain'}, {'russian', 'ukrain'}, {'ukrain', 'peopl'}, {'russia', 'russian'}, {'russia', 'peopl'}, {'russian', 'peopl'}]\n",
            "{'putin', 'war', 'ukrainian', 'ukrain', 'russia', 'russian'}\n",
            "[{'ukrainian', 'putin', 'war'}, {'putin', 'war', 'ukrain'}, {'putin', 'war', 'russia'}, {'putin', 'war', 'russian'}, {'ukrainian', 'putin', 'ukrain'}, {'ukrainian', 'putin', 'russia'}, {'ukrainian', 'putin', 'russian'}, {'putin', 'russia', 'ukrain'}, {'putin', 'russian', 'ukrain'}, {'putin', 'russia', 'russian'}, {'ukrainian', 'war', 'ukrain'}, {'ukrainian', 'russia', 'war'}, {'ukrainian', 'war', 'russian'}, {'russia', 'war', 'ukrain'}, {'war', 'russian', 'ukrain'}, {'russia', 'war', 'russian'}, {'ukrainian', 'russia', 'ukrain'}, {'ukrainian', 'russian', 'ukrain'}, {'ukrainian', 'russia', 'russian'}, {'russia', 'russian', 'ukrain'}]\n",
            "Runtime is 1856.7753727436066\n"
          ]
        }
      ]
    },
    {
      "cell_type": "code",
      "source": [],
      "metadata": {
        "id": "gxk5vfg-WR1N"
      },
      "execution_count": 36,
      "outputs": []
    },
    {
      "cell_type": "code",
      "source": [
        "#Focus on one day (largest)-- but vary LIMIT--record time (take 5 measures). Find best compromise for future ones\n",
        "#find file\n",
        "!rm out\n",
        "!bash find_file_data.sh 02 27\n",
        "with open('out', 'r') as file:\n",
        "    PATHNAME = file.readline().strip()\n",
        "    if(PATHNAME == ''):\n",
        "      print(\"Data not found -- exit\")\n",
        "    else:\n",
        "      result_02_27_C015=generate_results(PATHNAME, preprocessing_pipeline,0.15)"
      ],
      "metadata": {
        "colab": {
          "base_uri": "https://localhost:8080/"
        },
        "id": "o6d50hIMU0fU",
        "outputId": "67a8b139-45a7-4c5b-e616-c69e50fc9476"
      },
      "execution_count": 37,
      "outputs": [
        {
          "output_type": "stream",
          "name": "stdout",
          "text": [
            "FEB\n",
            "/content/UkrWar/UkraineCombinedTweetsDeduped_FEB27.csv.gz.gz\n",
            "No of tweets are  227513\n",
            "Min support is  34127\n",
            "{'putin', 'ukrainian', 'ukrain', 'russia', 'russian'}\n",
            "[{'ukrainian', 'putin'}, {'putin', 'ukrain'}, {'putin', 'russia'}, {'putin', 'russian'}, {'ukrainian', 'ukrain'}, {'ukrainian', 'russia'}, {'ukrainian', 'russian'}, {'russia', 'ukrain'}, {'russian', 'ukrain'}, {'russia', 'russian'}]\n",
            "{'russia', 'russian', 'ukrain'}\n",
            "[{'russia', 'russian', 'ukrain'}]\n",
            "Runtime is 1318.6258103847504\n"
          ]
        }
      ]
    },
    {
      "cell_type": "code",
      "source": [
        "#Focus on one day (largest)-- but vary LIMIT--record time (take 5 measures). Find best compromise for future ones\n",
        "#find file\n",
        "!rm out\n",
        "!bash find_file_data.sh 02 27\n",
        "with open('out', 'r') as file:\n",
        "    PATHNAME = file.readline().strip()\n",
        "    if(PATHNAME == ''):\n",
        "      print(\"Data not found -- exit\")\n",
        "    else:\n",
        "      result_02_27_C02=generate_results(PATHNAME, preprocessing_pipeline,0.2)"
      ],
      "metadata": {
        "colab": {
          "base_uri": "https://localhost:8080/"
        },
        "id": "i5ssYVFBWUUV",
        "outputId": "cfc1360c-e95d-49d8-9966-57a59b2f8e11"
      },
      "execution_count": 38,
      "outputs": [
        {
          "output_type": "stream",
          "name": "stdout",
          "text": [
            "FEB\n",
            "/content/UkrWar/UkraineCombinedTweetsDeduped_FEB27.csv.gz.gz\n",
            "No of tweets are  227513\n",
            "Min support is  45503\n",
            "{'putin', 'russia', 'russian', 'ukrain'}\n",
            "[{'putin', 'russia'}, {'putin', 'russian'}, {'putin', 'ukrain'}, {'russia', 'russian'}, {'russia', 'ukrain'}, {'russian', 'ukrain'}]\n",
            "{'russia', 'russian', 'ukrain'}\n",
            "[{'russia', 'russian', 'ukrain'}]\n",
            "Runtime is 1277.746163368225\n"
          ]
        }
      ]
    },
    {
      "cell_type": "code",
      "source": [
        "#Focus on one day (largest)-- but vary LIMIT--record time (take 5 measures). Find best compromise for future ones\n",
        "#find file\n",
        "!rm out\n",
        "!bash find_file_data.sh 02 27\n",
        "with open('out', 'r') as file:\n",
        "    PATHNAME = file.readline().strip()\n",
        "    if(PATHNAME == ''):\n",
        "      print(\"Data not found -- exit\")\n",
        "    else:\n",
        "      result_02_27_C03=generate_results(PATHNAME, preprocessing_pipeline,0.3)\n"
      ],
      "metadata": {
        "colab": {
          "base_uri": "https://localhost:8080/"
        },
        "id": "1pjcILGeZ8u1",
        "outputId": "6b820e48-f587-4702-95bb-689ae6933b7a"
      },
      "execution_count": 39,
      "outputs": [
        {
          "output_type": "stream",
          "name": "stdout",
          "text": [
            "FEB\n",
            "/content/UkrWar/UkraineCombinedTweetsDeduped_FEB27.csv.gz.gz\n",
            "No of tweets are  227513\n",
            "Min support is  68254\n",
            "{'russia', 'ukrain'}\n",
            "[{'russia', 'ukrain'}]\n",
            "Runtime is 1164.8368389606476\n"
          ]
        }
      ]
    },
    {
      "cell_type": "code",
      "source": [
        "#for feb \n",
        "#68254 Runtime is 1164.8368389606476 (.3)\n",
        "#45503 Runtime is 1277.746163368225 (.2)\n",
        "#34127 Runtime is 1318.6258103847504 (.15)\n",
        "#22752 Runtime is 1856.7753727436066 (.1)\n",
        "#11376 Runtime is 10375.439755678177 (.05)\n",
        "\n",
        "import matplotlib.pyplot as plt\n",
        "#treshold=[68254,45503,34127,22752,11376]\n",
        "treshold_perc=[.3,.2,.15,.1,.05]\n",
        "elapsed_time=[1164.8,1277.7,1318.6,1856.7,10375.4]\n",
        "\n",
        "#apriori plot for threshold size between 0.0003 and 0.0008 on 25% size sample\n",
        "\n",
        "time_treshold_perc_ratio = pd.DataFrame()\n",
        "time_treshold_perc_ratio['Elapsed_time'] = elapsed_time\n",
        "time_treshold_perc_ratio['Threshold'] = treshold_perc\n",
        "plt.plot(time_treshold_perc_ratio['Threshold'], time_treshold_perc_ratio['Elapsed_time'],\n",
        "         label = 'A-Priori algorithm', marker = 'o')\n",
        "plt.xlabel('Threshold percentage (of # baskets)')\n",
        "plt.ylabel('Elapsed time in seconds')\n",
        "plt.savefig('time_threshold_perc_ratio.jpg')\n",
        "plt.legend()\n",
        "plt.grid()\n",
        "plt.title('Time/Treshold Percentage')\n",
        "plt.show()\n",
        "##explain the jump"
      ],
      "metadata": {
        "colab": {
          "base_uri": "https://localhost:8080/",
          "height": 295
        },
        "id": "j22aiNc5ORdr",
        "outputId": "ec0d5a6d-4a00-478b-8e59-d3696485c127"
      },
      "execution_count": 65,
      "outputs": [
        {
          "output_type": "display_data",
          "data": {
            "text/plain": [
              "<Figure size 432x288 with 1 Axes>"
            ],
            "image/png": "[encoded data removed]"
          },
          "metadata": {
            "needs_background": "light"
          }
        }
      ]
    },
    {
      "cell_type": "code",
      "source": [
        "#Collect times and C -- plot graph"
      ],
      "metadata": {
        "id": "Wz4417WPaD87"
      },
      "execution_count": 41,
      "outputs": []
    },
    {
      "cell_type": "code",
      "source": [
        "#For 02 27 -- get the best C"
      ],
      "metadata": {
        "id": "zhYXx5WmMfRL"
      },
      "execution_count": 42,
      "outputs": []
    },
    {
      "cell_type": "code",
      "source": [
        "BEST_MIN_SUPPORT=0.1"
      ],
      "metadata": {
        "id": "Kp15LPbFWfUq"
      },
      "execution_count": 43,
      "outputs": []
    },
    {
      "cell_type": "code",
      "source": [
        "#          278455064           732598840  62.0% UkraineCombinedTweetsDeduped20220227-131611.csv\n",
        "#          82892498           209652014  60.5% UkraineCombinedTweetsDeduped_FEB27.csv\n",
        "#          35812015            97510321  63.3% 0722_UkraineCombinedTweetsDeduped.csv\n",
        "#          28378314            72450067  60.8% 0921_UkraineCombinedTweetsDeduped.csv.gzip\n",
        "#          14550285            38189130  61.9% 1005_UkraineCombinedTweetsDeduped.csv.gzip\n",
        "#          12507492            33878722  63.1% 0818_UkraineCombinedTweetsDeduped.csv\n"
      ],
      "metadata": {
        "id": "gUEc_8IgM_RT"
      },
      "execution_count": null,
      "outputs": []
    },
    {
      "cell_type": "code",
      "source": [
        "!rm out\n",
        "!bash find_file_data.sh 03 06\n",
        "with open('out', 'r') as file:\n",
        "    PATHNAME = file.readline().strip()\n",
        "    if(PATHNAME == ''):\n",
        "      print(\"Data not found -- exit\")\n",
        "    else:\n",
        "      generate_results(PATHNAME, preprocessing_pipeline,BEST_MIN_SUPPORT)"
      ],
      "metadata": {
        "id": "OIM8qmTN5Md6",
        "colab": {
          "base_uri": "https://localhost:8080/"
        },
        "outputId": "d465b86d-0af3-4692-c131-0310b6d9b2c6"
      },
      "execution_count": 48,
      "outputs": [
        {
          "output_type": "stream",
          "name": "stdout",
          "text": [
            "MAR\n",
            "/content/UkrWar/UkraineCombinedTweetsDeduped_MAR06.csv.gz\n",
            "No of tweets are  396249\n",
            "Min support is  39625\n",
            "{'ukrainian', 'innoc', 'stop', 'war', 'humanitarian', 'standwithukrain', 'provid', 'weapon', 'russia', 'ukrainerussianwar', 'russian', 'defend', 'civilian', 'putin', 'peopl', 'ukrain'}\n",
            "[{'ukrainian', 'innoc'}, {'ukrainian', 'stop'}, {'ukrainian', 'war'}, {'ukrainian', 'humanitarian'}, {'ukrainian', 'standwithukrain'}, {'ukrainian', 'provid'}, {'ukrainian', 'weapon'}, {'ukrainian', 'russia'}, {'ukrainian', 'ukrainerussianwar'}, {'ukrainian', 'russian'}, {'ukrainian', 'defend'}, {'ukrainian', 'civilian'}, {'ukrainian', 'putin'}, {'ukrainian', 'peopl'}, {'ukrainian', 'ukrain'}, {'innoc', 'stop'}, {'innoc', 'war'}, {'innoc', 'humanitarian'}, {'innoc', 'standwithukrain'}, {'innoc', 'provid'}, {'innoc', 'weapon'}, {'russia', 'innoc'}, {'innoc', 'ukrainerussianwar'}, {'innoc', 'russian'}, {'innoc', 'defend'}, {'innoc', 'civilian'}, {'putin', 'innoc'}, {'innoc', 'peopl'}, {'innoc', 'ukrain'}, {'war', 'stop'}, {'stop', 'humanitarian'}, {'standwithukrain', 'stop'}, {'provid', 'stop'}, {'stop', 'weapon'}, {'russia', 'stop'}, {'ukrainerussianwar', 'stop'}, {'russian', 'stop'}, {'stop', 'defend'}, {'civilian', 'stop'}, {'putin', 'stop'}, {'peopl', 'stop'}, {'ukrain', 'stop'}, {'war', 'humanitarian'}, {'standwithukrain', 'war'}, {'provid', 'war'}, {'war', 'weapon'}, {'russia', 'war'}, {'ukrainerussianwar', 'war'}, {'russian', 'war'}, {'war', 'defend'}, {'civilian', 'war'}, {'putin', 'war'}, {'peopl', 'war'}, {'ukrain', 'war'}, {'standwithukrain', 'humanitarian'}, {'provid', 'humanitarian'}, {'weapon', 'humanitarian'}, {'russia', 'humanitarian'}, {'ukrainerussianwar', 'humanitarian'}, {'russian', 'humanitarian'}, {'defend', 'humanitarian'}, {'civilian', 'humanitarian'}, {'putin', 'humanitarian'}, {'peopl', 'humanitarian'}, {'ukrain', 'humanitarian'}, {'standwithukrain', 'provid'}, {'standwithukrain', 'weapon'}, {'russia', 'standwithukrain'}, {'standwithukrain', 'ukrainerussianwar'}, {'standwithukrain', 'russian'}, {'standwithukrain', 'defend'}, {'standwithukrain', 'civilian'}, {'putin', 'standwithukrain'}, {'peopl', 'standwithukrain'}, {'standwithukrain', 'ukrain'}, {'provid', 'weapon'}, {'russia', 'provid'}, {'ukrainerussianwar', 'provid'}, {'provid', 'russian'}, {'provid', 'defend'}, {'provid', 'civilian'}, {'putin', 'provid'}, {'peopl', 'provid'}, {'ukrain', 'provid'}, {'russia', 'weapon'}, {'ukrainerussianwar', 'weapon'}, {'russian', 'weapon'}, {'defend', 'weapon'}, {'civilian', 'weapon'}, {'putin', 'weapon'}, {'peopl', 'weapon'}, {'ukrain', 'weapon'}, {'russia', 'ukrainerussianwar'}, {'russia', 'russian'}, {'russia', 'defend'}, {'russia', 'civilian'}, {'russia', 'putin'}, {'russia', 'peopl'}, {'russia', 'ukrain'}, {'ukrainerussianwar', 'russian'}, {'ukrainerussianwar', 'defend'}, {'ukrainerussianwar', 'civilian'}, {'putin', 'ukrainerussianwar'}, {'peopl', 'ukrainerussianwar'}, {'ukrain', 'ukrainerussianwar'}, {'russian', 'defend'}, {'civilian', 'russian'}, {'putin', 'russian'}, {'peopl', 'russian'}, {'ukrain', 'russian'}, {'civilian', 'defend'}, {'putin', 'defend'}, {'peopl', 'defend'}, {'ukrain', 'defend'}, {'putin', 'civilian'}, {'peopl', 'civilian'}, {'ukrain', 'civilian'}, {'putin', 'peopl'}, {'putin', 'ukrain'}, {'peopl', 'ukrain'}]\n",
            "{'stop', 'humanitarian', 'provid', 'russia', 'russian', 'civilian', 'putin', 'ukrain'}\n",
            "[{'provid', 'stop', 'humanitarian'}, {'russia', 'stop', 'humanitarian'}, {'russian', 'stop', 'humanitarian'}, {'civilian', 'stop', 'humanitarian'}, {'putin', 'stop', 'humanitarian'}, {'ukrain', 'stop', 'humanitarian'}, {'russia', 'provid', 'stop'}, {'provid', 'russian', 'stop'}, {'provid', 'civilian', 'stop'}, {'putin', 'provid', 'stop'}, {'ukrain', 'provid', 'stop'}, {'russia', 'russian', 'stop'}, {'russia', 'civilian', 'stop'}, {'russia', 'putin', 'stop'}, {'russia', 'ukrain', 'stop'}, {'civilian', 'russian', 'stop'}, {'putin', 'russian', 'stop'}, {'ukrain', 'russian', 'stop'}, {'putin', 'civilian', 'stop'}, {'ukrain', 'civilian', 'stop'}, {'putin', 'ukrain', 'stop'}, {'russia', 'provid', 'humanitarian'}, {'provid', 'russian', 'humanitarian'}, {'provid', 'civilian', 'humanitarian'}, {'putin', 'provid', 'humanitarian'}, {'ukrain', 'provid', 'humanitarian'}, {'russia', 'russian', 'humanitarian'}, {'russia', 'civilian', 'humanitarian'}, {'russia', 'putin', 'humanitarian'}, {'russia', 'ukrain', 'humanitarian'}, {'civilian', 'russian', 'humanitarian'}, {'putin', 'russian', 'humanitarian'}, {'ukrain', 'russian', 'humanitarian'}, {'putin', 'civilian', 'humanitarian'}, {'ukrain', 'civilian', 'humanitarian'}, {'putin', 'ukrain', 'humanitarian'}, {'russia', 'provid', 'russian'}, {'russia', 'provid', 'civilian'}, {'russia', 'provid', 'putin'}, {'russia', 'ukrain', 'provid'}, {'civilian', 'provid', 'russian'}, {'putin', 'provid', 'russian'}, {'ukrain', 'provid', 'russian'}, {'putin', 'provid', 'civilian'}, {'ukrain', 'provid', 'civilian'}, {'putin', 'ukrain', 'provid'}, {'russia', 'civilian', 'russian'}, {'russia', 'russian', 'putin'}, {'russia', 'ukrain', 'russian'}, {'russia', 'civilian', 'putin'}, {'russia', 'ukrain', 'civilian'}, {'russia', 'ukrain', 'putin'}, {'putin', 'civilian', 'russian'}, {'ukrain', 'civilian', 'russian'}, {'putin', 'ukrain', 'russian'}, {'putin', 'ukrain', 'civilian'}]\n",
            "Runtime is 2835.1599831581116\n"
          ]
        }
      ]
    },
    {
      "cell_type": "code",
      "source": [
        "!rm out\n",
        "#month -day\n",
        "!bash find_file_data.sh 04 07\n",
        "with open('out', 'r') as file:\n",
        "    PATHNAME = file.readline().strip()\n",
        "    if(PATHNAME == ''):\n",
        "      print(\"Data not found -- exit\")\n",
        "    else:\n",
        "      generate_results(PATHNAME, preprocessing_pipeline,BEST_MIN_SUPPORT)"
      ],
      "metadata": {
        "id": "gOzR1Xt-5VNN",
        "colab": {
          "base_uri": "https://localhost:8080/"
        },
        "outputId": "26bf9c31-6864-40ec-de93-d7cf8e31cd50"
      },
      "execution_count": 49,
      "outputs": [
        {
          "output_type": "stream",
          "name": "stdout",
          "text": [
            "/content/UkrWar/0407_UkraineCombinedTweetsDeduped.csv.gz\n",
            "No of tweets are  259123\n",
            "Min support is  25913\n",
            "{'ukrainian', 'war', 'standwithukrain', 'bucha', 'russia', 'russian', 'peopl', 'ukrain'}\n",
            "[{'ukrainian', 'war'}, {'ukrainian', 'standwithukrain'}, {'ukrainian', 'bucha'}, {'ukrainian', 'russia'}, {'ukrainian', 'russian'}, {'ukrainian', 'peopl'}, {'ukrainian', 'ukrain'}, {'standwithukrain', 'war'}, {'bucha', 'war'}, {'russia', 'war'}, {'russian', 'war'}, {'peopl', 'war'}, {'ukrain', 'war'}, {'standwithukrain', 'bucha'}, {'russia', 'standwithukrain'}, {'standwithukrain', 'russian'}, {'peopl', 'standwithukrain'}, {'standwithukrain', 'ukrain'}, {'russia', 'bucha'}, {'bucha', 'russian'}, {'peopl', 'bucha'}, {'ukrain', 'bucha'}, {'russia', 'russian'}, {'russia', 'peopl'}, {'russia', 'ukrain'}, {'peopl', 'russian'}, {'ukrain', 'russian'}, {'peopl', 'ukrain'}]\n",
            "{'ukrainian', 'russia', 'ukrain', 'russian'}\n",
            "[{'ukrainian', 'russia', 'ukrain'}, {'ukrainian', 'russia', 'russian'}, {'ukrainian', 'ukrain', 'russian'}, {'russia', 'ukrain', 'russian'}]\n",
            "Runtime is 768.658120393753\n"
          ]
        }
      ]
    },
    {
      "cell_type": "code",
      "source": [
        "!rm out\n",
        "!bash find_file_data.sh 05 16\n",
        "with open('out', 'r') as file:\n",
        "    PATHNAME = file.readline().strip()\n",
        "    if(PATHNAME == ''):\n",
        "      print(\"Data not found -- exit\")\n",
        "    else:\n",
        "      generate_results(PATHNAME, preprocessing_pipeline,BEST_MIN_SUPPORT)"
      ],
      "metadata": {
        "id": "0gWqdiRt5n8z",
        "colab": {
          "base_uri": "https://localhost:8080/"
        },
        "outputId": "b788e10b-21a2-4066-ff69-d184a57ec63c"
      },
      "execution_count": 42,
      "outputs": [
        {
          "output_type": "stream",
          "name": "stdout",
          "text": [
            "/content/UkrWar/0516_UkraineCombinedTweetsDeduped.csv.gz\n",
            "No of tweets are  258309\n",
            "Min support is  25831\n",
            "{'ukrainian', 'tigrai', 'russia', 'russian', 'ukrain'}\n",
            "[{'ukrainian', 'tigrai'}, {'ukrainian', 'russia'}, {'ukrainian', 'russian'}, {'ukrainian', 'ukrain'}, {'russia', 'tigrai'}, {'tigrai', 'russian'}, {'tigrai', 'ukrain'}, {'russia', 'russian'}, {'russia', 'ukrain'}, {'ukrain', 'russian'}]\n",
            "{'ukrain', 'russian'}\n",
            "[]\n",
            "Runtime is 646.5206425189972\n"
          ]
        }
      ]
    },
    {
      "cell_type": "code",
      "source": [
        "!rm out\n",
        "!bash find_file_data.sh 06 10\n",
        "with open('out', 'r') as file:\n",
        "    PATHNAME = file.readline().strip()\n",
        "    if(PATHNAME == ''):\n",
        "      print(\"Data not found -- exit\")\n",
        "    else:\n",
        "      generate_results(PATHNAME, preprocessing_pipeline,BEST_MIN_SUPPORT)"
      ],
      "metadata": {
        "colab": {
          "base_uri": "https://localhost:8080/"
        },
        "id": "CN9K_YP_H4_v",
        "outputId": "452b97ab-8ed1-4c53-e7a6-9af3c40fe752"
      },
      "execution_count": 43,
      "outputs": [
        {
          "output_type": "stream",
          "name": "stdout",
          "text": [
            "/content/UkrWar/0610_UkraineCombinedTweetsDeduped.csv.gz\n",
            "No of tweets are  182985\n",
            "Min support is  18299\n",
            "{'ukrainian', 'tigrai', 'war', 'russia', 'russian', 'ukrain'}\n",
            "[{'ukrainian', 'tigrai'}, {'ukrainian', 'war'}, {'ukrainian', 'russia'}, {'ukrainian', 'russian'}, {'ukrainian', 'ukrain'}, {'tigrai', 'war'}, {'russia', 'tigrai'}, {'tigrai', 'russian'}, {'tigrai', 'ukrain'}, {'russia', 'war'}, {'russian', 'war'}, {'ukrain', 'war'}, {'russia', 'russian'}, {'russia', 'ukrain'}, {'ukrain', 'russian'}]\n",
            "{'ukrainian', 'russia', 'ukrain', 'russian'}\n",
            "[{'ukrainian', 'russia', 'ukrain'}, {'ukrainian', 'russia', 'russian'}, {'ukrainian', 'ukrain', 'russian'}, {'russia', 'ukrain', 'russian'}]\n",
            "Runtime is 496.0256106853485\n"
          ]
        }
      ]
    },
    {
      "cell_type": "code",
      "source": [
        "!rm out\n",
        "!bash find_file_data.sh 07 22\n",
        "with open('out', 'r') as file:\n",
        "    PATHNAME = file.readline().strip()\n",
        "    if(PATHNAME == ''):\n",
        "      print(\"Data not found -- exit\")\n",
        "    else:\n",
        "      generate_results(PATHNAME, preprocessing_pipeline,BEST_MIN_SUPPORT)"
      ],
      "metadata": {
        "id": "hJ6MniJi5p7t",
        "colab": {
          "base_uri": "https://localhost:8080/"
        },
        "outputId": "a31fca5d-d361-4c90-d344-cb674ce98f23"
      },
      "execution_count": 44,
      "outputs": [
        {
          "output_type": "stream",
          "name": "stdout",
          "text": [
            "/content/UkrWar/0722_UkraineCombinedTweetsDeduped.csv.gz\n",
            "No of tweets are  88929\n",
            "Min support is  8893\n",
            "{'ukrainian', 'war', 'standwithukrain', 'russia', 'russian', 'putin', 'ukrain', 'world'}\n",
            "[{'ukrainian', 'war'}, {'ukrainian', 'standwithukrain'}, {'ukrainian', 'russia'}, {'ukrainian', 'russian'}, {'ukrainian', 'putin'}, {'ukrainian', 'ukrain'}, {'ukrainian', 'world'}, {'standwithukrain', 'war'}, {'russia', 'war'}, {'russian', 'war'}, {'putin', 'war'}, {'ukrain', 'war'}, {'world', 'war'}, {'russia', 'standwithukrain'}, {'standwithukrain', 'russian'}, {'putin', 'standwithukrain'}, {'standwithukrain', 'ukrain'}, {'standwithukrain', 'world'}, {'russia', 'russian'}, {'russia', 'putin'}, {'russia', 'ukrain'}, {'russia', 'world'}, {'putin', 'russian'}, {'ukrain', 'russian'}, {'world', 'russian'}, {'putin', 'ukrain'}, {'putin', 'world'}, {'ukrain', 'world'}]\n",
            "{'russia', 'ukrain', 'russian'}\n",
            "[{'russia', 'ukrain', 'russian'}]\n",
            "Runtime is 253.8920032978058\n"
          ]
        }
      ]
    },
    {
      "cell_type": "code",
      "source": [
        "!rm out\n",
        "!bash find_file_data.sh 08 18\n",
        "with open('out', 'r') as file:\n",
        "    PATHNAME = file.readline().strip()\n",
        "    if(PATHNAME == ''):\n",
        "      print(\"Data not found -- exit\")\n",
        "    else:\n",
        "      generate_results(PATHNAME, preprocessing_pipeline,BEST_MIN_SUPPORT)"
      ],
      "metadata": {
        "id": "68gLloC45qCo",
        "colab": {
          "base_uri": "https://localhost:8080/"
        },
        "outputId": "bbb38dc3-f11d-4bba-b4e9-71e47d7c5040"
      },
      "execution_count": 45,
      "outputs": [
        {
          "output_type": "stream",
          "name": "stdout",
          "text": [
            "/content/UkrWar/0818_UkraineCombinedTweetsDeduped.csv.gz\n",
            "No of tweets are  22991\n",
            "Min support is  2300\n",
            "{'ukrainian', 'war', 'russia', 'russian', 'ukrain'}\n",
            "[{'ukrainian', 'war'}, {'ukrainian', 'russia'}, {'ukrainian', 'russian'}, {'ukrainian', 'ukrain'}, {'russia', 'war'}, {'russian', 'war'}, {'ukrain', 'war'}, {'russia', 'russian'}, {'russia', 'ukrain'}, {'ukrain', 'russian'}]\n",
            "{'russia', 'ukrain'}\n",
            "[]\n",
            "Runtime is 54.70946216583252\n"
          ]
        }
      ]
    },
    {
      "cell_type": "code",
      "source": [
        "!rm out\n",
        "!bash find_file_data.sh 08 18\n",
        "with open('out', 'r') as file:\n",
        "    PATHNAME = file.readline().strip()\n",
        "    if(PATHNAME == ''):\n",
        "      print(\"Data not found -- exit\")\n",
        "    else:\n",
        "      generate_results(PATHNAME, preprocessing_pipeline,0.05)"
      ],
      "metadata": {
        "colab": {
          "base_uri": "https://localhost:8080/"
        },
        "id": "N6FKa8mN8jpT",
        "outputId": "4f9fc2e5-4e06-41ae-fc78-495cc1a1ade8"
      },
      "execution_count": 52,
      "outputs": [
        {
          "output_type": "stream",
          "name": "stdout",
          "text": [
            "/content/UkrWar/0818_UkraineCombinedTweetsDeduped.csv.gz\n",
            "No of tweets are  22991\n",
            "Min support is  1150\n",
            "{'ukrainian', 'russiaisateroristst', 'china', 'war', 'standwithukrain', 'russiaisaterroristst', 'russia', 'militari', 'biden', 'ukrainerussiawar', 'russian', 'putin', 'peopl', 'ukrain'}\n",
            "[{'ukrainian', 'russiaisateroristst'}, {'ukrainian', 'china'}, {'ukrainian', 'war'}, {'ukrainian', 'standwithukrain'}, {'ukrainian', 'russiaisaterroristst'}, {'ukrainian', 'russia'}, {'ukrainian', 'militari'}, {'ukrainian', 'biden'}, {'ukrainian', 'ukrainerussiawar'}, {'ukrainian', 'russian'}, {'ukrainian', 'putin'}, {'ukrainian', 'peopl'}, {'ukrainian', 'ukrain'}, {'russiaisateroristst', 'china'}, {'russiaisateroristst', 'war'}, {'russiaisateroristst', 'standwithukrain'}, {'russiaisateroristst', 'russiaisaterroristst'}, {'russia', 'russiaisateroristst'}, {'militari', 'russiaisateroristst'}, {'russiaisateroristst', 'biden'}, {'russiaisateroristst', 'ukrainerussiawar'}, {'russiaisateroristst', 'russian'}, {'putin', 'russiaisateroristst'}, {'russiaisateroristst', 'peopl'}, {'russiaisateroristst', 'ukrain'}, {'china', 'war'}, {'standwithukrain', 'china'}, {'china', 'russiaisaterroristst'}, {'russia', 'china'}, {'militari', 'china'}, {'biden', 'china'}, {'ukrainerussiawar', 'china'}, {'china', 'russian'}, {'putin', 'china'}, {'peopl', 'china'}, {'ukrain', 'china'}, {'standwithukrain', 'war'}, {'russiaisaterroristst', 'war'}, {'russia', 'war'}, {'militari', 'war'}, {'biden', 'war'}, {'ukrainerussiawar', 'war'}, {'russian', 'war'}, {'putin', 'war'}, {'peopl', 'war'}, {'ukrain', 'war'}, {'standwithukrain', 'russiaisaterroristst'}, {'russia', 'standwithukrain'}, {'militari', 'standwithukrain'}, {'biden', 'standwithukrain'}, {'ukrainerussiawar', 'standwithukrain'}, {'standwithukrain', 'russian'}, {'putin', 'standwithukrain'}, {'peopl', 'standwithukrain'}, {'standwithukrain', 'ukrain'}, {'russia', 'russiaisaterroristst'}, {'militari', 'russiaisaterroristst'}, {'biden', 'russiaisaterroristst'}, {'ukrainerussiawar', 'russiaisaterroristst'}, {'russiaisaterroristst', 'russian'}, {'putin', 'russiaisaterroristst'}, {'peopl', 'russiaisaterroristst'}, {'ukrain', 'russiaisaterroristst'}, {'russia', 'militari'}, {'russia', 'biden'}, {'russia', 'ukrainerussiawar'}, {'russia', 'russian'}, {'russia', 'putin'}, {'russia', 'peopl'}, {'russia', 'ukrain'}, {'militari', 'biden'}, {'militari', 'ukrainerussiawar'}, {'militari', 'russian'}, {'militari', 'putin'}, {'militari', 'peopl'}, {'militari', 'ukrain'}, {'ukrainerussiawar', 'biden'}, {'biden', 'russian'}, {'putin', 'biden'}, {'biden', 'peopl'}, {'biden', 'ukrain'}, {'ukrainerussiawar', 'russian'}, {'putin', 'ukrainerussiawar'}, {'ukrainerussiawar', 'peopl'}, {'ukrainerussiawar', 'ukrain'}, {'putin', 'russian'}, {'peopl', 'russian'}, {'ukrain', 'russian'}, {'putin', 'peopl'}, {'putin', 'ukrain'}, {'peopl', 'ukrain'}]\n",
            "{'ukrainian', 'war', 'russia', 'russian', 'ukrain'}\n",
            "[{'ukrainian', 'russia', 'war'}, {'ukrainian', 'russian', 'war'}, {'ukrainian', 'ukrain', 'war'}, {'ukrainian', 'russia', 'russian'}, {'ukrainian', 'russia', 'ukrain'}, {'ukrainian', 'ukrain', 'russian'}, {'russia', 'russian', 'war'}, {'russia', 'ukrain', 'war'}, {'ukrain', 'russian', 'war'}, {'russia', 'ukrain', 'russian'}]\n",
            "Runtime is 94.76136088371277\n"
          ]
        }
      ]
    },
    {
      "cell_type": "code",
      "source": [
        "!rm out\n",
        "!bash find_file_data.sh 09 21\n",
        "with open('out', 'r') as file:\n",
        "    PATHNAME = file.readline().strip()\n",
        "    if(PATHNAME == ''):\n",
        "      print(\"Data not found -- exit\")\n",
        "    else:\n",
        "      generate_results(PATHNAME, preprocessing_pipeline,BEST_MIN_SUPPORT)"
      ],
      "metadata": {
        "id": "RV--fMhG5qMD",
        "colab": {
          "base_uri": "https://localhost:8080/"
        },
        "outputId": "849dac5d-eb7a-4c5d-ec83-9a21777d2e8a"
      },
      "execution_count": 46,
      "outputs": [
        {
          "output_type": "stream",
          "name": "stdout",
          "text": [
            "/content/UkrWar/0921_UkraineCombinedTweetsDeduped.csv.gzip.gzip.gz\n",
            "No of tweets are  47859\n",
            "Min support is  4786\n",
            "{'war', 'russia', 'ukrainerussiawar', 'russian', 'putin', 'ukrain'}\n",
            "[{'russia', 'war'}, {'ukrainerussiawar', 'war'}, {'russian', 'war'}, {'putin', 'war'}, {'ukrain', 'war'}, {'russia', 'ukrainerussiawar'}, {'russia', 'russian'}, {'russia', 'putin'}, {'russia', 'ukrain'}, {'ukrainerussiawar', 'russian'}, {'putin', 'ukrainerussiawar'}, {'ukrainerussiawar', 'ukrain'}, {'putin', 'russian'}, {'ukrain', 'russian'}, {'putin', 'ukrain'}]\n",
            "{'putin', 'russia', 'ukrain'}\n",
            "[{'putin', 'russia', 'ukrain'}]\n",
            "Runtime is 119.03190064430237\n"
          ]
        }
      ]
    },
    {
      "cell_type": "code",
      "source": [
        "##much smaller \n",
        "!rm out\n",
        "!bash find_file_data.sh 09 21\n",
        "with open('out', 'r') as file:\n",
        "    PATHNAME = file.readline().strip()\n",
        "    if(PATHNAME == ''):\n",
        "      print(\"Data not found -- exit\")\n",
        "    else:\n",
        "      generate_results(PATHNAME, preprocessing_pipeline,0.05)"
      ],
      "metadata": {
        "colab": {
          "base_uri": "https://localhost:8080/"
        },
        "id": "avspp8326IaS",
        "outputId": "bd4e673e-38be-4184-d820-4913d8c11697"
      },
      "execution_count": 51,
      "outputs": [
        {
          "output_type": "stream",
          "name": "stdout",
          "text": [
            "/content/UkrWar/0921_UkraineCombinedTweetsDeduped.csv.gzip.gzip.gz\n",
            "No of tweets are  47859\n",
            "Min support is  2393\n",
            "{'ukrainian', 'war', 'russia', 'ukrainerussiawar', 'biden', 'mobil', 'russian', 'putin', 'peopl', 'ukrain', 'world'}\n",
            "[{'ukrainian', 'war'}, {'ukrainian', 'russia'}, {'ukrainian', 'ukrainerussiawar'}, {'ukrainian', 'biden'}, {'ukrainian', 'mobil'}, {'ukrainian', 'russian'}, {'ukrainian', 'putin'}, {'ukrainian', 'peopl'}, {'ukrainian', 'ukrain'}, {'ukrainian', 'world'}, {'russia', 'war'}, {'ukrainerussiawar', 'war'}, {'biden', 'war'}, {'mobil', 'war'}, {'russian', 'war'}, {'putin', 'war'}, {'peopl', 'war'}, {'ukrain', 'war'}, {'world', 'war'}, {'russia', 'ukrainerussiawar'}, {'russia', 'biden'}, {'russia', 'mobil'}, {'russia', 'russian'}, {'russia', 'putin'}, {'russia', 'peopl'}, {'russia', 'ukrain'}, {'russia', 'world'}, {'ukrainerussiawar', 'biden'}, {'ukrainerussiawar', 'mobil'}, {'ukrainerussiawar', 'russian'}, {'putin', 'ukrainerussiawar'}, {'ukrainerussiawar', 'peopl'}, {'ukrainerussiawar', 'ukrain'}, {'ukrainerussiawar', 'world'}, {'biden', 'mobil'}, {'biden', 'russian'}, {'putin', 'biden'}, {'biden', 'peopl'}, {'biden', 'ukrain'}, {'biden', 'world'}, {'mobil', 'russian'}, {'putin', 'mobil'}, {'peopl', 'mobil'}, {'mobil', 'ukrain'}, {'mobil', 'world'}, {'putin', 'russian'}, {'peopl', 'russian'}, {'ukrain', 'russian'}, {'world', 'russian'}, {'putin', 'peopl'}, {'putin', 'ukrain'}, {'putin', 'world'}, {'peopl', 'ukrain'}, {'peopl', 'world'}, {'ukrain', 'world'}]\n",
            "{'war', 'russia', 'ukrainerussiawar', 'mobil', 'russian', 'putin', 'ukrain'}\n",
            "[{'russia', 'ukrainerussiawar', 'war'}, {'russia', 'mobil', 'war'}, {'russia', 'russian', 'war'}, {'russia', 'putin', 'war'}, {'russia', 'ukrain', 'war'}, {'ukrainerussiawar', 'mobil', 'war'}, {'ukrainerussiawar', 'russian', 'war'}, {'putin', 'ukrainerussiawar', 'war'}, {'ukrainerussiawar', 'ukrain', 'war'}, {'mobil', 'russian', 'war'}, {'putin', 'mobil', 'war'}, {'mobil', 'ukrain', 'war'}, {'putin', 'russian', 'war'}, {'ukrain', 'russian', 'war'}, {'putin', 'ukrain', 'war'}, {'russia', 'ukrainerussiawar', 'mobil'}, {'russia', 'ukrainerussiawar', 'russian'}, {'russia', 'ukrainerussiawar', 'putin'}, {'russia', 'ukrainerussiawar', 'ukrain'}, {'russia', 'mobil', 'russian'}, {'russia', 'mobil', 'putin'}, {'russia', 'mobil', 'ukrain'}, {'russia', 'russian', 'putin'}, {'russia', 'ukrain', 'russian'}, {'russia', 'ukrain', 'putin'}, {'ukrainerussiawar', 'mobil', 'russian'}, {'putin', 'ukrainerussiawar', 'mobil'}, {'ukrainerussiawar', 'mobil', 'ukrain'}, {'putin', 'ukrainerussiawar', 'russian'}, {'ukrainerussiawar', 'ukrain', 'russian'}, {'putin', 'ukrainerussiawar', 'ukrain'}, {'putin', 'mobil', 'russian'}, {'mobil', 'ukrain', 'russian'}, {'putin', 'mobil', 'ukrain'}, {'putin', 'ukrain', 'russian'}]\n",
            "{'putin', 'russia', 'ukrain'}\n",
            "[]\n",
            "Runtime is 178.05866599082947\n"
          ]
        }
      ]
    },
    {
      "cell_type": "code",
      "source": [
        "!rm out\n",
        "!bash find_file_data.sh 10 05\n",
        "with open('out', 'r') as file:\n",
        "    PATHNAME = file.readline().strip()\n",
        "    if(PATHNAME == ''):\n",
        "      print(\"Data not found -- exit\")\n",
        "    else:\n",
        "      generate_results(PATHNAME, preprocessing_pipeline,BEST_MIN_SUPPORT)"
      ],
      "metadata": {
        "id": "bCSPl12z58u1",
        "colab": {
          "base_uri": "https://localhost:8080/"
        },
        "outputId": "3998e236-a6c5-47c6-909d-5242fb9ee40e"
      },
      "execution_count": 47,
      "outputs": [
        {
          "output_type": "stream",
          "name": "stdout",
          "text": [
            "/content/UkrWar/1005_UkraineCombinedTweetsDeduped.csv.gzip.gzip.gz\n",
            "No of tweets are  25546\n",
            "Min support is  2555\n",
            "{'ukrainian', 'war', 'russia', 'russian', 'putin', 'ukrain'}\n",
            "[{'ukrainian', 'war'}, {'ukrainian', 'russia'}, {'ukrainian', 'russian'}, {'ukrainian', 'putin'}, {'ukrainian', 'ukrain'}, {'russia', 'war'}, {'russian', 'war'}, {'putin', 'war'}, {'ukrain', 'war'}, {'russia', 'russian'}, {'russia', 'putin'}, {'russia', 'ukrain'}, {'putin', 'russian'}, {'ukrain', 'russian'}, {'putin', 'ukrain'}]\n",
            "{'russia', 'ukrain', 'russian'}\n",
            "[{'russia', 'ukrain', 'russian'}]\n",
            "Runtime is 64.93034839630127\n"
          ]
        }
      ]
    },
    {
      "cell_type": "code",
      "source": [
        "!rm out\n",
        "!bash find_file_data.sh 10 05\n",
        "with open('out', 'r') as file:\n",
        "    PATHNAME = file.readline().strip()\n",
        "    if(PATHNAME == ''):\n",
        "      print(\"Data not found -- exit\")\n",
        "    else:\n",
        "      generate_results(PATHNAME, preprocessing_pipeline,0.05)"
      ],
      "metadata": {
        "colab": {
          "base_uri": "https://localhost:8080/"
        },
        "id": "Cdd1dRHa6M1E",
        "outputId": "2282d1bb-120e-49f1-8935-2d7751efc884"
      },
      "execution_count": 50,
      "outputs": [
        {
          "output_type": "stream",
          "name": "stdout",
          "text": [
            "/content/UkrWar/1005_UkraineCombinedTweetsDeduped.csv.gzip.gzip.gz\n",
            "No of tweets are  25546\n",
            "Min support is  1278\n",
            "{'ukrainian', 'region', 'war', 'standwithukrain', 'ukrainewar', 'russia', 'ukrainerussiawar', 'nato', 'russian', 'forc', 'putin', 'kherson', 'ukrain', 'world'}\n",
            "[{'ukrainian', 'region'}, {'ukrainian', 'war'}, {'ukrainian', 'standwithukrain'}, {'ukrainian', 'ukrainewar'}, {'ukrainian', 'russia'}, {'ukrainian', 'ukrainerussiawar'}, {'ukrainian', 'nato'}, {'ukrainian', 'russian'}, {'ukrainian', 'forc'}, {'ukrainian', 'putin'}, {'ukrainian', 'kherson'}, {'ukrainian', 'ukrain'}, {'ukrainian', 'world'}, {'region', 'war'}, {'region', 'standwithukrain'}, {'region', 'ukrainewar'}, {'russia', 'region'}, {'ukrainerussiawar', 'region'}, {'nato', 'region'}, {'region', 'russian'}, {'region', 'forc'}, {'putin', 'region'}, {'kherson', 'region'}, {'region', 'ukrain'}, {'region', 'world'}, {'standwithukrain', 'war'}, {'ukrainewar', 'war'}, {'russia', 'war'}, {'ukrainerussiawar', 'war'}, {'nato', 'war'}, {'russian', 'war'}, {'war', 'forc'}, {'putin', 'war'}, {'kherson', 'war'}, {'ukrain', 'war'}, {'world', 'war'}, {'standwithukrain', 'ukrainewar'}, {'russia', 'standwithukrain'}, {'ukrainerussiawar', 'standwithukrain'}, {'nato', 'standwithukrain'}, {'standwithukrain', 'russian'}, {'standwithukrain', 'forc'}, {'putin', 'standwithukrain'}, {'kherson', 'standwithukrain'}, {'standwithukrain', 'ukrain'}, {'standwithukrain', 'world'}, {'russia', 'ukrainewar'}, {'ukrainerussiawar', 'ukrainewar'}, {'nato', 'ukrainewar'}, {'russian', 'ukrainewar'}, {'ukrainewar', 'forc'}, {'putin', 'ukrainewar'}, {'kherson', 'ukrainewar'}, {'ukrain', 'ukrainewar'}, {'world', 'ukrainewar'}, {'russia', 'ukrainerussiawar'}, {'russia', 'nato'}, {'russia', 'russian'}, {'russia', 'forc'}, {'russia', 'putin'}, {'russia', 'kherson'}, {'russia', 'ukrain'}, {'russia', 'world'}, {'nato', 'ukrainerussiawar'}, {'ukrainerussiawar', 'russian'}, {'ukrainerussiawar', 'forc'}, {'putin', 'ukrainerussiawar'}, {'ukrainerussiawar', 'kherson'}, {'ukrainerussiawar', 'ukrain'}, {'ukrainerussiawar', 'world'}, {'nato', 'russian'}, {'nato', 'forc'}, {'putin', 'nato'}, {'nato', 'kherson'}, {'nato', 'ukrain'}, {'nato', 'world'}, {'russian', 'forc'}, {'putin', 'russian'}, {'kherson', 'russian'}, {'ukrain', 'russian'}, {'world', 'russian'}, {'putin', 'forc'}, {'kherson', 'forc'}, {'ukrain', 'forc'}, {'world', 'forc'}, {'putin', 'kherson'}, {'putin', 'ukrain'}, {'putin', 'world'}, {'kherson', 'ukrain'}, {'kherson', 'world'}, {'ukrain', 'world'}]\n",
            "{'ukrainian', 'war', 'russia', 'russian', 'putin', 'ukrain'}\n",
            "[{'ukrainian', 'russia', 'war'}, {'ukrainian', 'russian', 'war'}, {'ukrainian', 'putin', 'war'}, {'ukrainian', 'ukrain', 'war'}, {'ukrainian', 'russia', 'russian'}, {'ukrainian', 'russia', 'putin'}, {'ukrainian', 'russia', 'ukrain'}, {'ukrainian', 'russian', 'putin'}, {'ukrainian', 'ukrain', 'russian'}, {'ukrainian', 'ukrain', 'putin'}, {'russia', 'russian', 'war'}, {'russia', 'putin', 'war'}, {'russia', 'ukrain', 'war'}, {'putin', 'russian', 'war'}, {'ukrain', 'russian', 'war'}, {'putin', 'ukrain', 'war'}, {'russia', 'russian', 'putin'}, {'russia', 'ukrain', 'russian'}, {'russia', 'ukrain', 'putin'}, {'putin', 'ukrain', 'russian'}]\n",
            "Runtime is 113.02063179016113\n"
          ]
        }
      ]
    },
    {
      "cell_type": "code",
      "source": [
        "#for minsupport=10% no.baskets --note (one basket) tweets can have more words\n",
        "#month minsupp time\n",
        "#feb 22,752 - 1856.8 ---find a lot of words\n",
        "#mar 39,625 - 2835.2 -----find a lot of words\n",
        "\n",
        "#apr 25,913 - 768.7 --- prob. less words better\n",
        "#may 25,813 - 646.52 ##sim to apr in size\n",
        "#jun 18,299 - 496.02\n",
        "#jul  8,893 -253.820 \n",
        "#aug  2,300 -54.7 \n",
        "#sep  4,786 - 119.0\n",
        "#oct  2,555 - 64.93 ##sim to aug in size\n",
        "import matplotlib.pyplot as plt\n",
        "treshold=[39625, 22752, 25913, 18299, 8893, 4786, 2300]\n",
        "elapsed_time=[2835.2,1856.8,768.7,496.02,253.82,119.0,54.7]\n",
        "\n",
        "#apriori plot for threshold size between 0.0003 and 0.0008 on 25% size sample\n",
        "\n",
        "time_threshold_ratio = pd.DataFrame()\n",
        "time_threshold_ratio['Elapsed_time'] = elapsed_time\n",
        "time_threshold_ratio['Threshold'] = treshold\n",
        "plt.plot(time_threshold_ratio['Threshold'], time_threshold_ratio['Elapsed_time'],\n",
        "         label = 'A-Priori algorithm', marker = 'o')\n",
        "plt.xlabel('Threshold')\n",
        "plt.ylabel('Elapsed time in seconds')\n",
        "plt.savefig('time_threshold_ratio.jpg')\n",
        "plt.legend()\n",
        "plt.title('Time/Size')\n",
        "plt.show()\n",
        "##explain the jump"
      ],
      "metadata": {
        "colab": {
          "base_uri": "https://localhost:8080/",
          "height": 295
        },
        "id": "02PSNRaTJnsc",
        "outputId": "3fb5b929-568a-4b0b-b1b0-8bb20df88086"
      },
      "execution_count": 57,
      "outputs": [
        {
          "output_type": "display_data",
          "data": {
            "text/plain": [
              "<Figure size 432x288 with 1 Axes>"
            ],
            "image/png": "[encoded data removed]"
          },
          "metadata": {
            "needs_background": "light"
          }
        }
      ]
    }
  ]
}