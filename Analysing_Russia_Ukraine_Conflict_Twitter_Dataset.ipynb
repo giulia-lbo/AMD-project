{
  "nbformat": 4,
  "nbformat_minor": 0,
  "metadata": {
    "colab": {
      "provenance": [],
      "collapsed_sections": [],
      "authorship_tag": "ABX9TyMRzLvNFff0Z/QrapYOCWOT",
      "include_colab_link": true
    },
    "kernelspec": {
      "name": "python3",
      "display_name": "Python 3"
    },
    "language_info": {
      "name": "python"
    }
  },
  "cells": [
    {
      "cell_type": "markdown",
      "metadata": {
        "id": "view-in-github",
        "colab_type": "text"
      },
      "source": [
        "<a href=\"https://colab.research.google.com/github/zulai98/AMD-project/blob/main/Analysing_Russia_Ukraine_Conflict_Twitter_Dataset.ipynb\" target=\"_parent\"><img src=\"https://colab.research.google.com/assets/colab-badge.svg\" alt=\"Open In Colab\"/></a>"
      ]
    },
    {
      "cell_type": "code",
      "execution_count": null,
      "metadata": {
        "id": "6ebAtaVCTKOx"
      },
      "outputs": [],
      "source": [
        "from google.colab import drive"
      ]
    },
    {
      "cell_type": "markdown",
      "source": [
        "1.   Get Dataset\n",
        "\n",
        "\n",
        "\n",
        "\n",
        "\n"
      ],
      "metadata": {
        "id": "aCH8I9WV5z5-"
      }
    },
    {
      "cell_type": "code",
      "source": [
        "!pip install kaggle\n"
      ],
      "metadata": {
        "colab": {
          "base_uri": "https://localhost:8080/"
        },
        "id": "jdy5AK8BTZ3J",
        "outputId": "3ec5fe55-639d-41c3-8990-13567a3a088c"
      },
      "execution_count": 1,
      "outputs": [
        {
          "output_type": "stream",
          "name": "stdout",
          "text": [
            "Looking in indexes: https://pypi.org/simple, https://us-python.pkg.dev/colab-wheels/public/simple/\n",
            "Requirement already satisfied: kaggle in /usr/local/lib/python3.7/dist-packages (1.5.12)\n",
            "Requirement already satisfied: urllib3 in /usr/local/lib/python3.7/dist-packages (from kaggle) (1.24.3)\n",
            "Requirement already satisfied: certifi in /usr/local/lib/python3.7/dist-packages (from kaggle) (2022.9.24)\n",
            "Requirement already satisfied: python-slugify in /usr/local/lib/python3.7/dist-packages (from kaggle) (6.1.2)\n",
            "Requirement already satisfied: requests in /usr/local/lib/python3.7/dist-packages (from kaggle) (2.23.0)\n",
            "Requirement already satisfied: python-dateutil in /usr/local/lib/python3.7/dist-packages (from kaggle) (2.8.2)\n",
            "Requirement already satisfied: six>=1.10 in /usr/local/lib/python3.7/dist-packages (from kaggle) (1.15.0)\n",
            "Requirement already satisfied: tqdm in /usr/local/lib/python3.7/dist-packages (from kaggle) (4.64.1)\n",
            "Requirement already satisfied: text-unidecode>=1.3 in /usr/local/lib/python3.7/dist-packages (from python-slugify->kaggle) (1.3)\n",
            "Requirement already satisfied: idna<3,>=2.5 in /usr/local/lib/python3.7/dist-packages (from requests->kaggle) (2.10)\n",
            "Requirement already satisfied: chardet<4,>=3.0.2 in /usr/local/lib/python3.7/dist-packages (from requests->kaggle) (3.0.4)\n"
          ]
        }
      ]
    },
    {
      "cell_type": "code",
      "source": [
        "import os\n",
        "os.environ[\"KAGGLE_USERNAME\"] = \"giulialob\"\n",
        "os.environ[\"KAGGLE_KEY\"] = \"d39799005be12f6ee0e278d0afddda99\""
      ],
      "metadata": {
        "id": "3PFsLMaiUbpq"
      },
      "execution_count": 2,
      "outputs": []
    },
    {
      "cell_type": "code",
      "source": [
        "!kaggle datasets download -d bwandowando/ukraine-russian-crisis-twitter-dataset-1-2-m-rows\n"
      ],
      "metadata": {
        "colab": {
          "base_uri": "https://localhost:8080/"
        },
        "id": "3DOv3UhZpHlB",
        "outputId": "39c006f1-c2c1-4395-d8f5-16e58b288127"
      },
      "execution_count": 40,
      "outputs": [
        {
          "output_type": "stream",
          "name": "stdout",
          "text": [
            "ukraine-russian-crisis-twitter-dataset-1-2-m-rows.zip: Skipping, found more recently modified local copy (use --force to force download)\n"
          ]
        }
      ]
    },
    {
      "cell_type": "markdown",
      "source": [
        "\n",
        "\n",
        "2.   Unzip and move Dataset\n",
        "\n"
      ],
      "metadata": {
        "id": "gWZ04u5l6JyW"
      }
    },
    {
      "cell_type": "code",
      "source": [
        "!unzip ukraine-russian-crisis-twitter-dataset-1-2-m-rows.zip "
      ],
      "metadata": {
        "colab": {
          "base_uri": "https://localhost:8080/"
        },
        "id": "fYj5NKmhpI2g",
        "outputId": "e726d711-8761-4484-d66e-9a619eb5cb0e"
      },
      "execution_count": 41,
      "outputs": [
        {
          "output_type": "stream",
          "name": "stdout",
          "text": [
            "Archive:  ukraine-russian-crisis-twitter-dataset-1-2-m-rows.zip\n",
            "  inflating: 0819_UkraineCombinedTweetsDeduped.csv.gzip  \n",
            "  inflating: 0820_UkraineCombinedTweetsDeduped.csv.gzip  \n",
            "  inflating: 0821_UkraineCombinedTweetsDeduped.csv.gzip  \n",
            "  inflating: 0822_UkraineCombinedTweetsDeduped.csv.gzip  \n",
            "  inflating: 0823_UkraineCombinedTweetsDeduped.csv.gzip  \n",
            "  inflating: 0824_UkraineCombinedTweetsDeduped.csv.gzip  \n",
            "  inflating: 0825_UkraineCombinedTweetsDeduped.csv.gzip  \n",
            "  inflating: 0826_UkraineCombinedTweetsDeduped.csv.gzip  \n",
            "  inflating: 0827_UkraineCombinedTweetsDeduped.csv.gzip  \n",
            "  inflating: 0828_UkraineCombinedTweetsDeduped.csv.gzip  \n",
            "  inflating: 0829_UkraineCombinedTweetsDeduped.csv.gzip  \n",
            "  inflating: 0830_UkraineCombinedTweetsDeduped.csv.gzip  \n",
            "  inflating: 0831_UkraineCombinedTweetsDeduped.csv.gzip  \n",
            "  inflating: 0901_UkraineCombinedTweetsDeduped.csv.gzip  \n",
            "  inflating: 0902_UkraineCombinedTweetsDeduped.csv.gzip  \n",
            "  inflating: 0903_UkraineCombinedTweetsDeduped.csv.gzip  \n",
            "  inflating: 0904_UkraineCombinedTweetsDeduped.csv.gzip  \n",
            "  inflating: 0905_UkraineCombinedTweetsDeduped.csv.gzip  \n",
            "  inflating: 0906_UkraineCombinedTweetsDeduped.csv.gzip  \n",
            "  inflating: 0907_UkraineCombinedTweetsDeduped.csv.gzip  \n",
            "  inflating: 0908_UkraineCombinedTweetsDeduped.csv.gzip  \n",
            "  inflating: 0909_UkraineCombinedTweetsDeduped.csv.gzip  \n",
            "  inflating: 0910_UkraineCombinedTweetsDeduped.csv.gzip  \n",
            "  inflating: 0911_UkraineCombinedTweetsDeduped.csv.gzip  \n",
            "  inflating: 0912_UkraineCombinedTweetsDeduped.csv.gzip  \n",
            "  inflating: 0913_UkraineCombinedTweetsDeduped.csv.gzip  \n",
            "  inflating: 0914_UkraineCombinedTweetsDeduped.csv.gzip  \n",
            "  inflating: 0915_UkraineCombinedTweetsDeduped.csv.gzip  \n",
            "  inflating: 0916_UkraineCombinedTweetsDeduped.csv.gzip  \n",
            "  inflating: 0917_UkraineCombinedTweetsDeduped.csv.gzip  \n",
            "  inflating: 0918_UkraineCombinedTweetsDeduped.csv.gzip  \n",
            "  inflating: 0919_UkraineCombinedTweetsDeduped.csv.gzip  \n",
            "  inflating: 0921_UkraineCombinedTweetsDeduped.csv.gzip  \n",
            "  inflating: 0922_UkraineCombinedTweetsDeduped.csv.gzip  \n",
            "  inflating: 0923_UkraineCombinedTweetsDeduped.csv.gzip  \n",
            "  inflating: 0924_UkraineCombinedTweetsDeduped.csv.gzip  \n",
            "  inflating: 0925_UkraineCombinedTweetsDeduped.csv.gzip  \n",
            "  inflating: 0926_UkraineCombinedTweetsDeduped.csv.gzip  \n",
            "  inflating: 0927_UkraineCombinedTweetsDeduped.csv.gzip  \n",
            "  inflating: 0928_UkraineCombinedTweetsDeduped.csv.gzip  \n",
            "  inflating: 0929_UkraineCombinedTweetsDeduped.csv.gzip  \n",
            "  inflating: 0930_UkraineCombinedTweetsDeduped.csv.gzip  \n",
            "  inflating: 1001_UkraineCombinedTweetsDeduped.csv.gzip  \n",
            "  inflating: 1002_UkraineCombinedTweetsDeduped.csv.gzip  \n",
            "  inflating: 1003_UkraineCombinedTweetsDeduped.csv.gzip  \n",
            "  inflating: 1004_UkraineCombinedTweetsDeduped.csv.gzip  \n",
            "  inflating: 1005_UkraineCombinedTweetsDeduped.csv.gzip  \n",
            "  inflating: 1006_UkraineCombinedTweetsDeduped.csv.gzip  \n",
            "  inflating: 1007_UkraineCombinedTweetsDeduped.csv.gzip  \n",
            "  inflating: 1008_UkraineCombinedTweetsDeduped.csv.gzip  \n",
            "  inflating: 1009_UkraineCombinedTweetsDeduped.csv.gzip  \n",
            "  inflating: 1010_UkraineCombinedTweetsDeduped.csv.gzip  \n",
            "  inflating: 1011_UkraineCombinedTweetsDeduped.csv.gzip  \n",
            "  inflating: 1012_UkraineCombinedTweetsDeduped.csv.gzip  \n",
            "  inflating: 1013_UkraineCombinedTweetsDeduped.csv.gzip  \n",
            "  inflating: 1014_UkraineCombinedTweetsDeduped.csv.gzip  \n",
            "  inflating: 1015_UkraineCombinedTweetsDeduped.csv.gzip  \n",
            "  inflating: 1016_UkraineCombinedTweetsDeduped.csv.gzip  \n",
            "  inflating: 1017_UkraineCombinedTweetsDeduped.csv.gzip  \n",
            "  inflating: 1018_UkraineCombinedTweetsDeduped.csv.gzip  \n",
            "  inflating: 1019_UkraineCombinedTweetsDeduped.csv.gzip  \n",
            "  inflating: 1020_UkraineCombinedTweetsDeduped.csv.gzip  \n",
            "  inflating: 1021_UkraineCombinedTweetsDeduped.csv.gzip  \n",
            "  inflating: UkraineWar/UkraineWar/0401_UkraineCombinedTweetsDeduped.csv.gzip  \n",
            "  inflating: UkraineWar/UkraineWar/0402_UkraineCombinedTweetsDeduped.csv.gzip  \n",
            "  inflating: UkraineWar/UkraineWar/0403_UkraineCombinedTweetsDeduped.csv.gzip  \n",
            "  inflating: UkraineWar/UkraineWar/0404_UkraineCombinedTweetsDeduped.csv.gzip  \n",
            "  inflating: UkraineWar/UkraineWar/0405_UkraineCombinedTweetsDeduped.csv.gzip  \n",
            "  inflating: UkraineWar/UkraineWar/0406_UkraineCombinedTweetsDeduped.csv.gzip  \n",
            "  inflating: UkraineWar/UkraineWar/0407_UkraineCombinedTweetsDeduped.csv.gzip  \n",
            "  inflating: UkraineWar/UkraineWar/0408_UkraineCombinedTweetsDeduped.csv.gzip  \n",
            "  inflating: UkraineWar/UkraineWar/0409_UkraineCombinedTweetsDeduped.csv.gzip  \n",
            "  inflating: UkraineWar/UkraineWar/0410_UkraineCombinedTweetsDeduped.csv.gzip  \n",
            "  inflating: UkraineWar/UkraineWar/0411_UkraineCombinedTweetsDeduped.csv.gzip  \n",
            "  inflating: UkraineWar/UkraineWar/0412_UkraineCombinedTweetsDeduped.csv.gzip  \n",
            "  inflating: UkraineWar/UkraineWar/0413_UkraineCombinedTweetsDeduped.csv.gzip  \n",
            "  inflating: UkraineWar/UkraineWar/0414_UkraineCombinedTweetsDeduped.csv.gzip  \n",
            "  inflating: UkraineWar/UkraineWar/0415_UkraineCombinedTweetsDeduped.csv.gzip  \n",
            "  inflating: UkraineWar/UkraineWar/0416_UkraineCombinedTweetsDeduped.csv.gzip  \n",
            "  inflating: UkraineWar/UkraineWar/0417_UkraineCombinedTweetsDeduped.csv.gzip  \n",
            "  inflating: UkraineWar/UkraineWar/0418_UkraineCombinedTweetsDeduped.csv.gzip  \n",
            "  inflating: UkraineWar/UkraineWar/0419_UkraineCombinedTweetsDeduped.csv.gzip  \n",
            "  inflating: UkraineWar/UkraineWar/0420_UkraineCombinedTweetsDeduped.csv.gzip  \n",
            "  inflating: UkraineWar/UkraineWar/0421_UkraineCombinedTweetsDeduped.csv.gzip  \n",
            "  inflating: UkraineWar/UkraineWar/0422_UkraineCombinedTweetsDeduped.csv.gzip  \n",
            "  inflating: UkraineWar/UkraineWar/0423_UkraineCombinedTweetsDeduped.csv.gzip  \n",
            "  inflating: UkraineWar/UkraineWar/0424_UkraineCombinedTweetsDeduped.csv.gzip  \n",
            "  inflating: UkraineWar/UkraineWar/0425_UkraineCombinedTweetsDeduped.csv.gzip  \n",
            "  inflating: UkraineWar/UkraineWar/0426_UkraineCombinedTweetsDeduped.csv.gzip  \n",
            "  inflating: UkraineWar/UkraineWar/0427_UkraineCombinedTweetsDeduped.csv.gzip  \n",
            "  inflating: UkraineWar/UkraineWar/0428_UkraineCombinedTweetsDeduped.csv.gzip  \n",
            "  inflating: UkraineWar/UkraineWar/0429_UkraineCombinedTweetsDeduped.csv.gzip  \n",
            "  inflating: UkraineWar/UkraineWar/0430_UkraineCombinedTweetsDeduped.csv.gzip  \n",
            "  inflating: UkraineWar/UkraineWar/0501_UkraineCombinedTweetsDeduped.csv.gzip  \n",
            "  inflating: UkraineWar/UkraineWar/0502_UkraineCombinedTweetsDeduped.csv.gzip  \n",
            "  inflating: UkraineWar/UkraineWar/0503_UkraineCombinedTweetsDeduped.csv.gzip  \n",
            "  inflating: UkraineWar/UkraineWar/0504_UkraineCombinedTweetsDeduped.csv.gzip  \n",
            "  inflating: UkraineWar/UkraineWar/0505_to_0507_UkraineCombinedTweetsDeduped.csv.gzip  \n",
            "  inflating: UkraineWar/UkraineWar/0508_UkraineCombinedTweetsDeduped.csv.gzip  \n",
            "  inflating: UkraineWar/UkraineWar/0509_UkraineCombinedTweetsDeduped.csv.gzip  \n",
            "  inflating: UkraineWar/UkraineWar/0510_UkraineCombinedTweetsDeduped.csv.gzip  \n",
            "  inflating: UkraineWar/UkraineWar/0511_UkraineCombinedTweetsDeduped.csv.gzip  \n",
            "  inflating: UkraineWar/UkraineWar/0512_UkraineCombinedTweetsDeduped.csv.gzip  \n",
            "  inflating: UkraineWar/UkraineWar/0513_UkraineCombinedTweetsDeduped.csv.gzip  \n",
            "  inflating: UkraineWar/UkraineWar/0514_UkraineCombinedTweetsDeduped.csv.gzip  \n",
            "  inflating: UkraineWar/UkraineWar/0515_UkraineCombinedTweetsDeduped.csv.gzip  \n",
            "  inflating: UkraineWar/UkraineWar/0516_UkraineCombinedTweetsDeduped.csv.gzip  \n",
            "  inflating: UkraineWar/UkraineWar/0517_UkraineCombinedTweetsDeduped.csv.gzip  \n",
            "  inflating: UkraineWar/UkraineWar/0518_UkraineCombinedTweetsDeduped.csv.gzip  \n",
            "  inflating: UkraineWar/UkraineWar/0519_UkraineCombinedTweetsDeduped.csv.gzip  \n",
            "  inflating: UkraineWar/UkraineWar/0520_UkraineCombinedTweetsDeduped.csv.gzip  \n",
            "  inflating: UkraineWar/UkraineWar/0521_UkraineCombinedTweetsDeduped.csv.gzip  \n",
            "  inflating: UkraineWar/UkraineWar/0522_UkraineCombinedTweetsDeduped.csv.gzip  \n",
            "  inflating: UkraineWar/UkraineWar/0523_UkraineCombinedTweetsDeduped.csv.gzip  \n",
            "  inflating: UkraineWar/UkraineWar/0524_UkraineCombinedTweetsDeduped.csv.gzip  \n",
            "  inflating: UkraineWar/UkraineWar/0525_UkraineCombinedTweetsDeduped.csv.gzip  \n",
            "  inflating: UkraineWar/UkraineWar/0526_UkraineCombinedTweetsDeduped.csv.gzip  \n",
            "  inflating: UkraineWar/UkraineWar/0527_UkraineCombinedTweetsDeduped.csv.gzip  \n",
            "  inflating: UkraineWar/UkraineWar/0528_UkraineCombinedTweetsDeduped.csv.gzip  \n",
            "  inflating: UkraineWar/UkraineWar/0529_UkraineCombinedTweetsDeduped.csv.gzip  \n",
            "  inflating: UkraineWar/UkraineWar/0530_UkraineCombinedTweetsDeduped.csv.gzip  \n",
            "  inflating: UkraineWar/UkraineWar/0531_UkraineCombinedTweetsDeduped.csv.gzip  \n",
            "  inflating: UkraineWar/UkraineWar/0601_UkraineCombinedTweetsDeduped.csv.gzip  \n",
            "  inflating: UkraineWar/UkraineWar/0602_UkraineCombinedTweetsDeduped.csv.gzip  \n",
            "  inflating: UkraineWar/UkraineWar/0603_UkraineCombinedTweetsDeduped.csv.gzip  \n",
            "  inflating: UkraineWar/UkraineWar/0604_UkraineCombinedTweetsDeduped.csv.gzip  \n",
            "  inflating: UkraineWar/UkraineWar/0605_UkraineCombinedTweetsDeduped.csv.gzip  \n",
            "  inflating: UkraineWar/UkraineWar/0606_to_08_UkraineCombinedTweetsDeduped.csv.gzip  \n",
            "  inflating: UkraineWar/UkraineWar/0609_UkraineCombinedTweetsDeduped.csv.gzip  \n",
            "  inflating: UkraineWar/UkraineWar/0610_UkraineCombinedTweetsDeduped.csv.gzip  \n",
            "  inflating: UkraineWar/UkraineWar/0611_UkraineCombinedTweetsDeduped.csv.gzip  \n",
            "  inflating: UkraineWar/UkraineWar/0612_UkraineCombinedTweetsDeduped.csv.gzip  \n",
            "  inflating: UkraineWar/UkraineWar/0613_UkraineCombinedTweetsDeduped.csv.gzip  \n",
            "  inflating: UkraineWar/UkraineWar/0614_UkraineCombinedTweetsDeduped.csv.gzip  \n",
            "  inflating: UkraineWar/UkraineWar/0615_UkraineCombinedTweetsDeduped.csv.gzip  \n",
            "  inflating: UkraineWar/UkraineWar/0616_UkraineCombinedTweetsDeduped.csv.gzip  \n",
            "  inflating: UkraineWar/UkraineWar/0617_UkraineCombinedTweetsDeduped.csv.gzip  \n",
            "  inflating: UkraineWar/UkraineWar/0618_UkraineCombinedTweetsDeduped.csv.gzip  \n",
            "  inflating: UkraineWar/UkraineWar/0619_UkraineCombinedTweetsDeduped.csv.gzip  \n",
            "  inflating: UkraineWar/UkraineWar/0620_UkraineCombinedTweetsDeduped.csv.gzip  \n",
            "  inflating: UkraineWar/UkraineWar/0621_UkraineCombinedTweetsDeduped.csv.gzip  \n",
            "  inflating: UkraineWar/UkraineWar/0622_UkraineCombinedTweetsDeduped.csv.gzip  \n",
            "  inflating: UkraineWar/UkraineWar/0623_UkraineCombinedTweetsDeduped.csv.gzip  \n",
            "  inflating: UkraineWar/UkraineWar/0624_UkraineCombinedTweetsDeduped.csv.gzip  \n",
            "  inflating: UkraineWar/UkraineWar/0625_UkraineCombinedTweetsDeduped.csv.gzip  \n",
            "  inflating: UkraineWar/UkraineWar/0626_UkraineCombinedTweetsDeduped.csv.gzip  \n",
            "  inflating: UkraineWar/UkraineWar/0627_UkraineCombinedTweetsDeduped.csv.gzip  \n",
            "  inflating: UkraineWar/UkraineWar/0628_UkraineCombinedTweetsDeduped.csv.gzip  \n",
            "  inflating: UkraineWar/UkraineWar/0629_UkraineCombinedTweetsDeduped.csv.gzip  \n",
            "  inflating: UkraineWar/UkraineWar/0630_UkraineCombinedTweetsDeduped.csv.gzip  \n",
            "  inflating: UkraineWar/UkraineWar/0701_UkraineCombinedTweetsDeduped.csv.gzip  \n",
            "  inflating: UkraineWar/UkraineWar/0702_UkraineCombinedTweetsDeduped.csv.gzip  \n",
            "  inflating: UkraineWar/UkraineWar/0703_UkraineCombinedTweetsDeduped.csv.gzip  \n",
            "  inflating: UkraineWar/UkraineWar/0704_UkraineCombinedTweetsDeduped.csv.gzip  \n",
            "  inflating: UkraineWar/UkraineWar/0705_UkraineCombinedTweetsDeduped.csv.gzip  \n",
            "  inflating: UkraineWar/UkraineWar/0706_UkraineCombinedTweetsDeduped.csv.gzip  \n",
            "  inflating: UkraineWar/UkraineWar/0707_UkraineCombinedTweetsDeduped.csv.gzip  \n",
            "  inflating: UkraineWar/UkraineWar/0708_UkraineCombinedTweetsDeduped.csv.gzip  \n",
            "  inflating: UkraineWar/UkraineWar/0709_UkraineCombinedTweetsDeduped.csv.gzip  \n",
            "  inflating: UkraineWar/UkraineWar/0710_UkraineCombinedTweetsDeduped.csv.gzip  \n",
            "  inflating: UkraineWar/UkraineWar/0711_UkraineCombinedTweetsDeduped.csv.gzip  \n",
            "  inflating: UkraineWar/UkraineWar/0712_UkraineCombinedTweetsDeduped.csv.gzip  \n",
            "  inflating: UkraineWar/UkraineWar/0713_UkraineCombinedTweetsDeduped.csv.gzip  \n",
            "  inflating: UkraineWar/UkraineWar/0714_UkraineCombinedTweetsDeduped.csv.gzip  \n",
            "  inflating: UkraineWar/UkraineWar/0715_UkraineCombinedTweetsDeduped.csv.gzip  \n",
            "  inflating: UkraineWar/UkraineWar/0716_UkraineCombinedTweetsDeduped.csv.gzip  \n",
            "  inflating: UkraineWar/UkraineWar/0717_UkraineCombinedTweetsDeduped.csv.gzip  \n",
            "  inflating: UkraineWar/UkraineWar/0718_UkraineCombinedTweetsDeduped.csv.gzip  \n",
            "  inflating: UkraineWar/UkraineWar/0719_UkraineCombinedTweetsDeduped.csv.gzip  \n",
            "  inflating: UkraineWar/UkraineWar/0720_UkraineCombinedTweetsDeduped.csv.gzip  \n",
            "  inflating: UkraineWar/UkraineWar/0721_UkraineCombinedTweetsDeduped.csv.gzip  \n",
            "  inflating: UkraineWar/UkraineWar/0722_UkraineCombinedTweetsDeduped.csv.gzip  \n",
            "  inflating: UkraineWar/UkraineWar/0723_UkraineCombinedTweetsDeduped.csv.gzip  \n",
            "  inflating: UkraineWar/UkraineWar/0724_UkraineCombinedTweetsDeduped.csv.gzip  \n",
            "  inflating: UkraineWar/UkraineWar/0725_UkraineCombinedTweetsDeduped.csv.gzip  \n",
            "  inflating: UkraineWar/UkraineWar/0726_UkraineCombinedTweetsDeduped.csv.gzip  \n",
            "  inflating: UkraineWar/UkraineWar/0727_UkraineCombinedTweetsDeduped.csv.gzip  \n",
            "  inflating: UkraineWar/UkraineWar/0728_UkraineCombinedTweetsDeduped.csv.gzip  \n",
            "  inflating: UkraineWar/UkraineWar/0729_UkraineCombinedTweetsDeduped.csv.gzip  \n",
            "  inflating: UkraineWar/UkraineWar/0730_UkraineCombinedTweetsDeduped.csv.gzip  \n",
            "  inflating: UkraineWar/UkraineWar/0731_UkraineCombinedTweetsDeduped.csv.gzip  \n",
            "  inflating: UkraineWar/UkraineWar/0801_UkraineCombinedTweetsDeduped.csv.gzip  \n",
            "  inflating: UkraineWar/UkraineWar/0802_UkraineCombinedTweetsDeduped.csv.gzip  \n",
            "  inflating: UkraineWar/UkraineWar/0803_UkraineCombinedTweetsDeduped.csv.gzip  \n",
            "  inflating: UkraineWar/UkraineWar/0804_UkraineCombinedTweetsDeduped.csv.gzip  \n",
            "  inflating: UkraineWar/UkraineWar/0805_UkraineCombinedTweetsDeduped.csv.gzip  \n",
            "  inflating: UkraineWar/UkraineWar/0806_UkraineCombinedTweetsDeduped.csv.gzip  \n",
            "  inflating: UkraineWar/UkraineWar/0807_UkraineCombinedTweetsDeduped.csv.gzip  \n",
            "  inflating: UkraineWar/UkraineWar/0808_UkraineCombinedTweetsDeduped.csv.gzip  \n",
            "  inflating: UkraineWar/UkraineWar/0809_UkraineCombinedTweetsDeduped.csv.gzip  \n",
            "  inflating: UkraineWar/UkraineWar/0810_UkraineCombinedTweetsDeduped.csv.gzip  \n",
            "  inflating: UkraineWar/UkraineWar/0811_UkraineCombinedTweetsDeduped.csv.gzip  \n",
            "  inflating: UkraineWar/UkraineWar/0812_UkraineCombinedTweetsDeduped.csv.gzip  \n",
            "  inflating: UkraineWar/UkraineWar/0813_UkraineCombinedTweetsDeduped.csv.gzip  \n",
            "  inflating: UkraineWar/UkraineWar/0814_UkraineCombinedTweetsDeduped.csv.gzip  \n",
            "  inflating: UkraineWar/UkraineWar/0815_UkraineCombinedTweetsDeduped.csv.gzip  \n",
            "  inflating: UkraineWar/UkraineWar/0816_UkraineCombinedTweetsDeduped.csv.gzip  \n",
            "  inflating: UkraineWar/UkraineWar/0817_UkraineCombinedTweetsDeduped.csv.gzip  \n",
            "  inflating: UkraineWar/UkraineWar/0818_UkraineCombinedTweetsDeduped.csv.gzip  \n",
            "  inflating: UkraineWar/UkraineWar/UkraineCombinedTweetsDeduped20220227-131611.csv.gzip  \n",
            "  inflating: UkraineWar/UkraineWar/UkraineCombinedTweetsDeduped_FEB27.csv.gzip  \n",
            "  inflating: UkraineWar/UkraineWar/UkraineCombinedTweetsDeduped_FEB28_part1.csv.gzip  \n",
            "  inflating: UkraineWar/UkraineWar/UkraineCombinedTweetsDeduped_FEB28_part2.csv.gzip  \n",
            "  inflating: UkraineWar/UkraineWar/UkraineCombinedTweetsDeduped_MAR01.csv.gzip  \n",
            "  inflating: UkraineWar/UkraineWar/UkraineCombinedTweetsDeduped_MAR02.csv.gzip  \n",
            "  inflating: UkraineWar/UkraineWar/UkraineCombinedTweetsDeduped_MAR03.csv.gzip  \n",
            "  inflating: UkraineWar/UkraineWar/UkraineCombinedTweetsDeduped_MAR04.csv.gzip  \n",
            "  inflating: UkraineWar/UkraineWar/UkraineCombinedTweetsDeduped_MAR05.csv.gzip  \n",
            "  inflating: UkraineWar/UkraineWar/UkraineCombinedTweetsDeduped_MAR06.csv.gzip  \n",
            "  inflating: UkraineWar/UkraineWar/UkraineCombinedTweetsDeduped_MAR07.csv.gzip  \n",
            "  inflating: UkraineWar/UkraineWar/UkraineCombinedTweetsDeduped_MAR08.csv.gzip  \n",
            "  inflating: UkraineWar/UkraineWar/UkraineCombinedTweetsDeduped_MAR09.csv.gzip  \n",
            "  inflating: UkraineWar/UkraineWar/UkraineCombinedTweetsDeduped_MAR10.csv.gzip  \n",
            "  inflating: UkraineWar/UkraineWar/UkraineCombinedTweetsDeduped_MAR11.csv.gzip  \n",
            "  inflating: UkraineWar/UkraineWar/UkraineCombinedTweetsDeduped_MAR12.csv.gzip  \n",
            "  inflating: UkraineWar/UkraineWar/UkraineCombinedTweetsDeduped_MAR13.csv.gzip  \n",
            "  inflating: UkraineWar/UkraineWar/UkraineCombinedTweetsDeduped_MAR14.csv.gzip  \n",
            "  inflating: UkraineWar/UkraineWar/UkraineCombinedTweetsDeduped_MAR15.csv.gzip  \n",
            "  inflating: UkraineWar/UkraineWar/UkraineCombinedTweetsDeduped_MAR16.csv.gzip  \n",
            "  inflating: UkraineWar/UkraineWar/UkraineCombinedTweetsDeduped_MAR17.csv.gzip  \n",
            "  inflating: UkraineWar/UkraineWar/UkraineCombinedTweetsDeduped_MAR18.csv.gzip  \n",
            "  inflating: UkraineWar/UkraineWar/UkraineCombinedTweetsDeduped_MAR19.csv.gzip  \n",
            "  inflating: UkraineWar/UkraineWar/UkraineCombinedTweetsDeduped_MAR20.csv.gzip  \n",
            "  inflating: UkraineWar/UkraineWar/UkraineCombinedTweetsDeduped_MAR21.csv.gzip  \n",
            "  inflating: UkraineWar/UkraineWar/UkraineCombinedTweetsDeduped_MAR22.csv.gzip  \n",
            "  inflating: UkraineWar/UkraineWar/UkraineCombinedTweetsDeduped_MAR23.csv.gzip  \n",
            "  inflating: UkraineWar/UkraineWar/UkraineCombinedTweetsDeduped_MAR24.csv.gzip  \n",
            "  inflating: UkraineWar/UkraineWar/UkraineCombinedTweetsDeduped_MAR25.csv.gzip  \n",
            "  inflating: UkraineWar/UkraineWar/UkraineCombinedTweetsDeduped_MAR26.csv.gzip  \n",
            "  inflating: UkraineWar/UkraineWar/UkraineCombinedTweetsDeduped_MAR27_to_28.csv.gzip  \n",
            "  inflating: UkraineWar/UkraineWar/UkraineCombinedTweetsDeduped_MAR29.csv.gzip  \n",
            "  inflating: UkraineWar/UkraineWar/UkraineCombinedTweetsDeduped_MAR30.csv.gzip  \n",
            "  inflating: UkraineWar/UkraineWar/UkraineCombinedTweetsDeduped_MAR31.csv.gzip  \n"
          ]
        }
      ]
    },
    {
      "cell_type": "code",
      "source": [
        "!mkdir UkrWar\n",
        "!rm -rf sample_data"
      ],
      "metadata": {
        "id": "dzryfnYdpyhc"
      },
      "execution_count": 42,
      "outputs": []
    },
    {
      "cell_type": "code",
      "source": [
        "!gzip -l *.gzip\n"
      ],
      "metadata": {
        "colab": {
          "base_uri": "https://localhost:8080/"
        },
        "id": "B5_D67fkxv5l",
        "outputId": "7e29ec91-d8f7-46dd-981b-29054fcb731c"
      },
      "execution_count": 8,
      "outputs": [
        {
          "output_type": "stream",
          "name": "stdout",
          "text": [
            "         compressed        uncompressed  ratio uncompressed_name\n",
            "           12904715            34953892  63.1% 0819_UkraineCombinedTweetsDeduped.csv.gzip\n",
            "           11555246            31061403  62.8% 0820_UkraineCombinedTweetsDeduped.csv.gzip\n",
            "           12666569            33388881  62.1% 0821_UkraineCombinedTweetsDeduped.csv.gzip\n",
            "           12630276            33832341  62.7% 0822_UkraineCombinedTweetsDeduped.csv.gzip\n",
            "           13369828            35582191  62.4% 0823_UkraineCombinedTweetsDeduped.csv.gzip\n",
            "           20484768            54244263  62.2% 0824_UkraineCombinedTweetsDeduped.csv.gzip\n",
            "           15528348            41169048  62.3% 0825_UkraineCombinedTweetsDeduped.csv.gzip\n",
            "           14596291            39188267  62.8% 0826_UkraineCombinedTweetsDeduped.csv.gzip\n",
            "            9805376            26458798  62.9% 0827_UkraineCombinedTweetsDeduped.csv.gzip\n",
            "            9554083            26180377  63.5% 0828_UkraineCombinedTweetsDeduped.csv.gzip\n",
            "           14004266            37338970  62.5% 0829_UkraineCombinedTweetsDeduped.csv.gzip\n",
            "           17108743            45044068  62.0% 0830_UkraineCombinedTweetsDeduped.csv.gzip\n",
            "           14538406            38631531  62.4% 0831_UkraineCombinedTweetsDeduped.csv.gzip\n",
            "           13024872            34344030  62.1% 0901_UkraineCombinedTweetsDeduped.csv.gzip\n",
            "           14307048            37865264  62.2% 0902_UkraineCombinedTweetsDeduped.csv.gzip\n",
            "           10845941            28853553  62.4% 0903_UkraineCombinedTweetsDeduped.csv.gzip\n",
            "           10619884            28488829  62.7% 0904_UkraineCombinedTweetsDeduped.csv.gzip\n",
            "           12030170            31960617  62.4% 0905_UkraineCombinedTweetsDeduped.csv.gzip\n",
            "           15835857            43379406  63.5% 0906_UkraineCombinedTweetsDeduped.csv.gzip\n",
            "           12430356            33674255  63.1% 0907_UkraineCombinedTweetsDeduped.csv.gzip\n",
            "           12712845            34166741  62.8% 0908_UkraineCombinedTweetsDeduped.csv.gzip\n",
            "           18047057            47964316  62.4% 0909_UkraineCombinedTweetsDeduped.csv.gzip\n",
            "           16850503            44523355  62.2% 0910_UkraineCombinedTweetsDeduped.csv.gzip\n",
            "           17374011            46426461  62.6% 0911_UkraineCombinedTweetsDeduped.csv.gzip\n",
            "           16808503            44578392  62.3% 0912_UkraineCombinedTweetsDeduped.csv.gzip\n",
            "           17325298            45767651  62.1% 0913_UkraineCombinedTweetsDeduped.csv.gzip\n",
            "           19088304            52533171  63.7% 0914_UkraineCombinedTweetsDeduped.csv.gzip\n",
            "           17548484            47641489  63.2% 0915_UkraineCombinedTweetsDeduped.csv.gzip\n",
            "           16811510            44532993  62.2% 0916_UkraineCombinedTweetsDeduped.csv.gzip\n",
            "           13284533            35349789  62.4% 0917_UkraineCombinedTweetsDeduped.csv.gzip\n",
            "           11350458            30315960  62.6% 0918_UkraineCombinedTweetsDeduped.csv.gzip\n",
            "           13225471            35794939  63.1% 0919_UkraineCombinedTweetsDeduped.csv.gzip\n",
            "           28378314            72450067  60.8% 0921_UkraineCombinedTweetsDeduped.csv.gzip\n",
            "           21782613            56289313  61.3% 0922_UkraineCombinedTweetsDeduped.csv.gzip\n",
            "           21136246            55988957  62.2% 0923_UkraineCombinedTweetsDeduped.csv.gzip\n",
            "           17021073            45728000  62.8% 0924_UkraineCombinedTweetsDeduped.csv.gzip\n",
            "           14183746            37881009  62.6% 0925_UkraineCombinedTweetsDeduped.csv.gzip\n",
            "           16045371            42590503  62.3% 0926_UkraineCombinedTweetsDeduped.csv.gzip\n",
            "           18459104            48427328  61.9% 0927_UkraineCombinedTweetsDeduped.csv.gzip\n",
            "           21975161            56712217  61.3% 0928_UkraineCombinedTweetsDeduped.csv.gzip\n",
            "           18078232            47520688  62.0% 0929_UkraineCombinedTweetsDeduped.csv.gzip\n",
            "           18043602            47518712  62.0% 0930_UkraineCombinedTweetsDeduped.csv.gzip\n",
            "           17664741            46013431  61.6% 1001_UkraineCombinedTweetsDeduped.csv.gzip\n",
            "           13705342            35887333  61.8% 1002_UkraineCombinedTweetsDeduped.csv.gzip\n",
            "           15625789            41506523  62.4% 1003_UkraineCombinedTweetsDeduped.csv.gzip\n",
            "           15912448            41667420  61.8% 1004_UkraineCombinedTweetsDeduped.csv.gzip\n",
            "           14550285            38189130  61.9% 1005_UkraineCombinedTweetsDeduped.csv.gzip\n",
            "           14765632            39232696  62.4% 1006_UkraineCombinedTweetsDeduped.csv.gzip\n",
            "           16144541            42259468  61.8% 1007_UkraineCombinedTweetsDeduped.csv.gzip\n",
            "           22587074            58528385  61.4% 1008_UkraineCombinedTweetsDeduped.csv.gzip\n",
            "           17286942            46314932  62.7% 1009_UkraineCombinedTweetsDeduped.csv.gzip\n",
            "           38221903            99693345  61.7% 1010_UkraineCombinedTweetsDeduped.csv.gzip\n",
            "           22619138            58665981  61.4% 1011_UkraineCombinedTweetsDeduped.csv.gzip\n",
            "           19442056            50075885  61.2% 1012_UkraineCombinedTweetsDeduped.csv.gzip\n",
            "           16020324            41958126  61.8% 1013_UkraineCombinedTweetsDeduped.csv.gzip\n",
            "           13888617            36208344  61.6% 1014_UkraineCombinedTweetsDeduped.csv.gzip\n",
            "           12337297            32749073  62.3% 1015_UkraineCombinedTweetsDeduped.csv.gzip\n",
            "           11314599            30226152  62.6% 1016_UkraineCombinedTweetsDeduped.csv.gzip\n",
            "           16716910            44796483  62.7% 1017_UkraineCombinedTweetsDeduped.csv.gzip\n",
            "           18339041            48426009  62.1% 1018_UkraineCombinedTweetsDeduped.csv.gzip\n",
            "           16567968            43809884  62.2% 1019_UkraineCombinedTweetsDeduped.csv.gzip\n",
            "           13801784            36094623  61.8% 1020_UkraineCombinedTweetsDeduped.csv.gzip\n",
            "           12136751            32404404  62.5% 1021_UkraineCombinedTweetsDeduped.csv.gzip\n",
            "         1013020664          2681049662  62.2% (totals)\n"
          ]
        }
      ]
    },
    {
      "cell_type": "code",
      "source": [
        "sh = \"\"\"\n",
        "for file in UkraineWar/UkraineWar/*.gzip; do\n",
        "    mv \"$file\" UkrWar/\"$(basename \"$file\" .gzip).gz\"\n",
        "done\n",
        "for file in *.gzip; do\n",
        "    mv \"$file\" UkrWar/\"$(basename \"$file\".gzip).gz\"\n",
        "done\n",
        "\"\"\"\n",
        "with open('mv_script.sh', 'w') as file:\n",
        "  file.write(sh)\n",
        "\n",
        "!bash mv_script.sh"
      ],
      "metadata": {
        "id": "CusjU3BPUdFR"
      },
      "execution_count": 43,
      "outputs": []
    },
    {
      "cell_type": "code",
      "source": [
        "!rm -rf UkraineWar\n",
        "!rm -rf sample_data"
      ],
      "metadata": {
        "id": "dlHKBQ3-iIoL"
      },
      "execution_count": 48,
      "outputs": []
    },
    {
      "cell_type": "markdown",
      "source": [
        "3. First sample -- Feb 27"
      ],
      "metadata": {
        "id": "ZKgWJ8kQ6Uyn"
      }
    },
    {
      "cell_type": "code",
      "source": [
        "#Find first date \n",
        "sh = \"\"\"\n",
        "cd UkrWar\n",
        "(find $PWD -type f -iname \"*FEB27*\" )\n",
        "\"\"\"\n",
        "with open('find_feb_27_script.sh', 'w') as file:\n",
        "  file.write(sh)\n",
        "\n",
        "!bash find_feb_27_script.sh\n"
      ],
      "metadata": {
        "colab": {
          "base_uri": "https://localhost:8080/"
        },
        "id": "OzF8Eu1Femc8",
        "outputId": "264c0ff7-5a6f-4386-f305-520190eb6e18"
      },
      "execution_count": 47,
      "outputs": [
        {
          "output_type": "stream",
          "name": "stdout",
          "text": [
            "/content/UkrWar/UkraineCombinedTweetsDeduped_FEB27.csv.gz\n"
          ]
        }
      ]
    },
    {
      "cell_type": "code",
      "source": [
        "FILENAME='/content/UkrWar/UkraineCombinedTweetsDeduped_FEB27.csv.gz.gz'"
      ],
      "metadata": {
        "id": "fWo94BuWJw46"
      },
      "execution_count": null,
      "outputs": []
    },
    {
      "cell_type": "code",
      "source": [
        "#Install Pyspark\n",
        "%%capture\n",
        "!pip install pyspark\n",
        "!pip install findspark\n",
        "!pip install spark-nlp==4.2.0\n"
      ],
      "metadata": {
        "id": "uHKmF3xDkabv"
      },
      "execution_count": 11,
      "outputs": []
    },
    {
      "cell_type": "code",
      "source": [
        "import numpy as np\n",
        "import pandas as pd\n",
        "import csv\n",
        "import os\n",
        "from pyspark.sql import SparkSession, Row\n",
        "import random\n",
        "import sparknlp\n",
        "import math\n",
        "\n",
        "from sparknlp.base import *\n",
        "from sparknlp.annotator import *\n",
        "from pyspark.ml import Pipeline"
      ],
      "metadata": {
        "id": "QjZDlLOhkT2A"
      },
      "execution_count": 12,
      "outputs": []
    },
    {
      "cell_type": "code",
      "source": [
        "# Build spark context\n",
        "spark = sparknlp.start()\n",
        "sc = spark.sparkContext"
      ],
      "metadata": {
        "id": "VUpNmjSKZ7eV"
      },
      "execution_count": 13,
      "outputs": []
    },
    {
      "cell_type": "code",
      "source": [
        "# Loading the data from Market_Basket_Optimisation.csv inside the dataframe\n",
        "raw_df = spark.read.csv(FILENAME, header=True, escape=\"\\\"\", quote=\"\\\"\", multiLine=True)\n"
      ],
      "metadata": {
        "id": "UmO6RI4xtAAz"
      },
      "execution_count": null,
      "outputs": []
    },
    {
      "cell_type": "markdown",
      "source": [
        "4. Exploratory Data Analysis"
      ],
      "metadata": {
        "id": "QJ_YZPEP6bbF"
      }
    },
    {
      "cell_type": "code",
      "source": [
        "raw_df.printSchema()"
      ],
      "metadata": {
        "colab": {
          "base_uri": "https://localhost:8080/"
        },
        "id": "sQbifBBFdDXO",
        "outputId": "fc36edf6-9025-4fa3-befb-630d469baa71"
      },
      "execution_count": null,
      "outputs": [
        {
          "output_type": "stream",
          "name": "stdout",
          "text": [
            "root\n",
            " |-- _c0: string (nullable = true)\n",
            " |-- userid: string (nullable = true)\n",
            " |-- username: string (nullable = true)\n",
            " |-- acctdesc: string (nullable = true)\n",
            " |-- location: string (nullable = true)\n",
            " |-- following: string (nullable = true)\n",
            " |-- followers: string (nullable = true)\n",
            " |-- totaltweets: string (nullable = true)\n",
            " |-- usercreatedts: string (nullable = true)\n",
            " |-- tweetid: string (nullable = true)\n",
            " |-- tweetcreatedts: string (nullable = true)\n",
            " |-- retweetcount: string (nullable = true)\n",
            " |-- text: string (nullable = true)\n",
            " |-- hashtags: string (nullable = true)\n",
            " |-- language: string (nullable = true)\n",
            " |-- coordinates: string (nullable = true)\n",
            " |-- favorite_count: string (nullable = true)\n",
            " |-- extractedts: string (nullable = true)\n",
            "\n"
          ]
        }
      ]
    },
    {
      "cell_type": "code",
      "source": [
        "raw_df.show()"
      ],
      "metadata": {
        "colab": {
          "base_uri": "https://localhost:8080/"
        },
        "id": "d_17B7T6dNlu",
        "outputId": "dea32932-e4ea-4c3e-d0ff-209f1591a71e"
      },
      "execution_count": null,
      "outputs": [
        {
          "output_type": "stream",
          "name": "stdout",
          "text": [
            "+-------+-------------------+---------------+--------------------+--------------------+---------+---------+-----------+--------------------+-------------------+-------------------+------------+--------------------+--------------------+--------+-----------+--------------+--------------------+\n",
            "|    _c0|             userid|       username|            acctdesc|            location|following|followers|totaltweets|       usercreatedts|            tweetid|     tweetcreatedts|retweetcount|                text|            hashtags|language|coordinates|favorite_count|         extractedts|\n",
            "+-------+-------------------+---------------+--------------------+--------------------+---------+---------+-----------+--------------------+-------------------+-------------------+------------+--------------------+--------------------+--------+-----------+--------------+--------------------+\n",
            "|1141800|1466752038960656385| Curtin2Tiffany|I am just like ev...|       Colorado, USA|      253|       40|         94|2021-12-03 12:52:...|1497724980259262467|2022-02-27 00:07:16|           5|#UkraineRussiaWar...|[{'text': 'Ukrain...|      en|       null|             0|2022-02-27 00:09:...|\n",
            "|1141801|1111276809302216710|         5ela60|الأب ..الأخ ..الج...|                null|      167|        9|        656|2019-03-28 14:40:...|1497724980271984641|2022-02-27 00:07:16|          28|Like everybody el...|                  []|      en|       null|             0|2022-02-27 00:09:...|\n",
            "|1141802|1364735420236505088|   StatistWomen|                🇹🇷|     Cumhur İttifakı|     1771|     1766|      37009|2021-02-25 00:35:...|1497724980322349058|2022-02-27 00:07:16|           3|#Ukrayna Güvenlik...|[{'text': 'Ukrayn...|      tr|       null|             0|2022-02-27 00:09:...|\n",
            "|1141803|          597779527|OurTurnToRescue|Issues: Threats t...|                null|     4847|     4080|      33666|2012-06-02 21:53:...|1497724980573966346|2022-02-27 00:07:16|           1|We elected a game...|[{'text': 'Ukrain...|      en|       null|             0|2022-02-27 00:09:...|\n",
            "|1141804|         1646145848| DrWAVeSportCd1|Addicted to News,...|                 USA|     5002|     3950|     466629|2013-08-04 21:07:...|1497724980653694976|2022-02-27 00:07:16|         277|Ukrainian soldier...|[{'text': 'Ukrain...|      en|       null|             0|2022-02-27 00:09:...|\n",
            "|1141805|         2191952909|  WyvernReports|In war, truth is ...|     The Blue Marble|      700|     6424|      20689|2013-11-22 21:51:...|1497724980833968129|2022-02-27 00:07:16|         565|russian troops de...|                  []|      en|       null|             0|2022-02-27 00:09:...|\n",
            "|1141806| 809948300849901568|    mikemoody02|                null|                null|       82|        4|        756|2016-12-17 02:28:...|1497724980972376064|2022-02-27 00:07:16|           1|Це російські бенз...|[{'text': 'Ukrain...|      uk|       null|             4|2022-02-27 00:09:...|\n",
            "|1141807|          507593498|       ecakir67|                null|                null|     5001|     1152|     328058|2012-02-28 16:31:...|1497724981026951176|2022-02-27 00:07:16|           1|✅Rusya Merkez Ban...|                  []|      tr|       null|             0|2022-02-27 00:09:...|\n",
            "|1141808|           23611466|         isunja|                null|    Göteborg, Sweden|      710|      219|       1328|2009-03-10 16:23:...|1497724981157023749|2022-02-27 00:07:16|          53|Some scenes from ...|[{'text': 'Kyiv',...|      en|       null|             0|2022-02-27 00:09:...|\n",
            "|1141809| 875055153157722112|   manonatelier|WordPress • Desig...|               NY/PA|     2779|      582|     116858|2017-06-14 18:19:...|1497724981538660357|2022-02-27 00:07:16|          40|Meanwhile America...|                  []|      en|       null|             0|2022-02-27 00:09:...|\n",
            "|1141810|         2415248203|     bumaktooms|Founder of: 1. AM...|                 UAE|     1021|      680|      26359|2014-03-28 02:50:...|1497724981542895618|2022-02-27 00:07:16|          94|To remind the wor...|                  []|      en|       null|             0|2022-02-27 00:09:...|\n",
            "|1141811|1396997667612512262|CaptainNostrad1|🚫Lists Plz #DemC...|        Georgia, USA|     2957|     2533|       8305|2021-05-25 01:13:...|1497724981714767875|2022-02-27 00:07:16|         134|Please pass it on...|[{'text': 'Ukrain...|      en|       null|             0|2022-02-27 00:09:...|\n",
            "|1141812|1447403355618304003|Heather86556656|                null|                null|      114|       97|       4638|2021-10-11 03:28:...|1497724982004178945|2022-02-27 00:07:16|        1044|In their coverage...|[{'text': 'Ukrain...|      en|       null|             0|2022-02-27 00:09:...|\n",
            "|1141813|         2387627840|     tomassugar|                null|Brno, Česká repub...|       13|       13|         14|2014-03-13 18:23:...|1497724982067142660|2022-02-27 00:07:16|           0|@KAT96060497 @KCh...|[{'text': 'saynot...|      en|       null|             0|2022-02-27 00:09:...|\n",
            "|1141814|1193399359238475777|SensibleThough3|Trying to make se...|               Earth|       20|       56|       9889|2019-11-10 05:26:...|1497724982092173313|2022-02-27 00:07:16|           3|@christogrozev My...|[{'text': 'Kyiv',...|      en|       null|             0|2022-02-27 00:09:...|\n",
            "|1141815|          130378207|       rose_a87|29. She/They. Tac...|          Texas, USA|      789|      833|      31172|2010-04-07 03:40:...|1497724982155227140|2022-02-27 00:07:16|          75|Long lines at Lai...|                  []|      en|       null|             0|2022-02-27 00:09:...|\n",
            "|1141816|1354454422726840328| AnneGWoodhead1|I Declare World P...|  Lexington, KY USA |      440|      467|      17355|2021-01-27 15:41:...|1497724982302027777|2022-02-27 00:07:16|           1|#Ukraine \\n#Ukrai...|[{'text': 'Ukrain...|     und|       null|             0|2022-02-27 00:09:...|\n",
            "|1141817|1424629308350402561|     GreyArrow5|Takip için takip ...|                null|      186|       52|       2456|2021-08-09 07:11:...|1497724982633414656|2022-02-27 00:07:16|           0|Anonyme Hacker ve...|[{'text': 'Russla...|      de|       null|             0|2022-02-27 00:09:...|\n",
            "|1141818|1372570359585763332|       CraesOne|I stand with Tigr...|                null|      882|      761|      29429|2021-03-18 15:28:...|1497724982671065090|2022-02-27 00:07:16|           3|The Int community...|[{'text': 'Ukrain...|      en|       null|             3|2022-02-27 00:09:...|\n",
            "|1141819|         1286787672|      NSamarets|                null|                null|       14|        9|         88|2013-03-21 19:45:...|1497724982671118346|2022-02-27 00:07:16|           0|#UkraineWar #Ukra...|[{'text': 'Ukrain...|      en|       null|             0|2022-02-27 00:09:...|\n",
            "+-------+-------------------+---------------+--------------------+--------------------+---------+---------+-----------+--------------------+-------------------+-------------------+------------+--------------------+--------------------+--------+-----------+--------------+--------------------+\n",
            "only showing top 20 rows\n",
            "\n"
          ]
        }
      ]
    },
    {
      "cell_type": "code",
      "source": [
        "raw_df.show(n=5, truncate=False)"
      ],
      "metadata": {
        "colab": {
          "base_uri": "https://localhost:8080/"
        },
        "id": "xI8v8s5K17WH",
        "outputId": "24f702fe-76ac-420b-cfe4-9fff0d84964b"
      },
      "execution_count": null,
      "outputs": [
        {
          "output_type": "stream",
          "name": "stdout",
          "text": [
            "+-------+-------------------+---------------+-------------------------------------------------------------------------------------------------------------------------------------------------------------+---------------+---------+---------+-----------+--------------------------+-------------------+-------------------+------------+----------------------------------------------------------------------------------------------------------------------------------------------------------------------------------------------------------------------------------------------------------------------------------------------------------------+-------------------------------------------------------------------------------------------------------------------------------------------------------------------+--------+-----------+--------------+--------------------------+\n",
            "|_c0    |userid             |username       |acctdesc                                                                                                                                                     |location       |following|followers|totaltweets|usercreatedts             |tweetid            |tweetcreatedts     |retweetcount|text                                                                                                                                                                                                                                                                                                            |hashtags                                                                                                                                                           |language|coordinates|favorite_count|extractedts               |\n",
            "+-------+-------------------+---------------+-------------------------------------------------------------------------------------------------------------------------------------------------------------+---------------+---------+---------+-----------+--------------------------+-------------------+-------------------+------------+----------------------------------------------------------------------------------------------------------------------------------------------------------------------------------------------------------------------------------------------------------------------------------------------------------------+-------------------------------------------------------------------------------------------------------------------------------------------------------------------+--------+-----------+--------------+--------------------------+\n",
            "|1141800|1466752038960656385|Curtin2Tiffany |I am just like everyone else.  The universe experiencing itself.                                                                                             |Colorado, USA  |253      |40       |94         |2021-12-03 12:52:22.000000|1497724980259262467|2022-02-27 00:07:16|5           |#UkraineRussiaWar Captured Russian soldiers\\n\\n\"They said what their own battalion, where they are from and then told him it was just training and did not know they are in ukraine.\"\\n#RussianArmy #Soldiers #Україна #Ukraine #UkraineRussiaWar https://t.co/KVIPqs7TzJ https://t.co/LdlzDnxCzG               |[{'text': 'UkraineRussiaWar', 'indices': [19, 36]}]                                                                                                                |en      |null       |0             |2022-02-27 00:09:33.084131|\n",
            "|1141801|1111276809302216710|5ela60         |الأب ..الأخ ..الجار ..الحبيب .. السديك                                                                                                                       |null           |167      |9        |656        |2019-03-28 14:40:12.000000|1497724980271984641|2022-02-27 00:07:16|28          |Like everybody else I am rooting for Ukraine to fight off Russia, but seeing this video is truly sad. These soldiers are clueless and lost and are forced to fight for a corrupted dictator that is Vladimir Putin. They don’t want this. #UkraineRussiaWar #UkraineUnderAttack #Ukrania https://t.co/IckHqDBbQC|[]                                                                                                                                                                 |en      |null       |0             |2022-02-27 00:09:33.068011|\n",
            "|1141802|1364735420236505088|StatistWomen   |🇹🇷                                                                                                                                                         |Cumhur İttifakı|1771     |1766     |37009      |2021-02-25 00:35:28.000000|1497724980322349058|2022-02-27 00:07:16|3           |#Ukrayna Güvenlik Servisi, #Rus finosu #Kadirov'un konvoyunun Gostomel yakınlarında imha edildiğini bildirdi.\\n\\n#SİHA Reis'e rastlamışlar.. :)\\n#UkraineRussiaWar                                                                                                                                              |[{'text': 'Ukrayna', 'indices': [15, 23]}, {'text': 'Rus', 'indices': [42, 46]}, {'text': 'Kadirov', 'indices': [54, 62]}, {'text': 'SİHA', 'indices': [126, 131]}]|tr      |null       |0             |2022-02-27 00:09:33.059979|\n",
            "|1141803|597779527          |OurTurnToRescue|Issues: Threats to Democracy, Racism, GOP corruption, Climate Change, and Health Care\\nCellist, Zen Buddhist, Lover of animals                               |null           |4847     |4080     |33666      |2012-06-02 21:53:59.000000|1497724980573966346|2022-02-27 00:07:16|1           |We elected a game show host and got a clown. #Ukraine elected a comedian and got a hero. (Source: Unknown)                                                                                                                                                                                                      |[{'text': 'Ukraine', 'indices': [63, 71]}]                                                                                                                         |en      |null       |0             |2022-02-27 00:09:33.051823|\n",
            "|1141804|1646145848         |DrWAVeSportCd1 |Addicted to News, Music, Cooking, Gardens, Outdoors, Tennis, Politics. 🖕🏼T, @GOP, @NRA #Putin‼️ 💙 #Democrats #Resist #LGBTQ FAMILIES #Veterans #USA #Biden|USA            |5002     |3950     |466629     |2013-08-04 21:07:08.000000|1497724980653694976|2022-02-27 00:07:16|277         |Ukrainian soldiers wearing sunflowers in their hair\\n\\n🌻Sunflowers are the national flower of Ukraine🇺🇦\\n\\n#Ukraine #Ukrania #UkraineRussiaWar https://t.co/md7nPCUxQE                                                                                                                                       |[{'text': 'Ukraine', 'indices': [122, 130]}, {'text': 'Ukrania', 'indices': [131, 139]}]                                                                           |en      |null       |0             |2022-02-27 00:09:33.043812|\n",
            "+-------+-------------------+---------------+-------------------------------------------------------------------------------------------------------------------------------------------------------------+---------------+---------+---------+-----------+--------------------------+-------------------+-------------------+------------+----------------------------------------------------------------------------------------------------------------------------------------------------------------------------------------------------------------------------------------------------------------------------------------------------------------+-------------------------------------------------------------------------------------------------------------------------------------------------------------------+--------+-----------+--------------+--------------------------+\n",
            "only showing top 5 rows\n",
            "\n"
          ]
        }
      ]
    },
    {
      "cell_type": "code",
      "source": [
        "raw_df.select('language').distinct().show()"
      ],
      "metadata": {
        "colab": {
          "base_uri": "https://localhost:8080/"
        },
        "id": "nywina8M1WlD",
        "outputId": "cbd3a8cb-d144-4b27-8d27-f5a3b22a3e38"
      },
      "execution_count": null,
      "outputs": [
        {
          "output_type": "stream",
          "name": "stdout",
          "text": [
            "+--------+\n",
            "|language|\n",
            "+--------+\n",
            "|      en|\n",
            "|      ne|\n",
            "|      vi|\n",
            "|      ps|\n",
            "|      ro|\n",
            "|      sl|\n",
            "|     und|\n",
            "|      ur|\n",
            "|      ka|\n",
            "|      lv|\n",
            "|      pl|\n",
            "|      hy|\n",
            "|      pt|\n",
            "|    null|\n",
            "|      tl|\n",
            "|      in|\n",
            "|      ko|\n",
            "|      uk|\n",
            "|      cs|\n",
            "|     ckb|\n",
            "+--------+\n",
            "only showing top 20 rows\n",
            "\n"
          ]
        }
      ]
    },
    {
      "cell_type": "code",
      "source": [
        "raw_df.select('language').distinct().count()"
      ],
      "metadata": {
        "colab": {
          "base_uri": "https://localhost:8080/"
        },
        "id": "JApd4idy2rBx",
        "outputId": "b4e8b1e9-096a-4483-b26e-c9e030609a96"
      },
      "execution_count": null,
      "outputs": [
        {
          "output_type": "execute_result",
          "data": {
            "text/plain": [
              "63"
            ]
          },
          "metadata": {},
          "execution_count": 114
        }
      ]
    },
    {
      "cell_type": "code",
      "source": [
        "lang_dist=raw_df.groupby('language').count()\n",
        "lang_dist.show()"
      ],
      "metadata": {
        "colab": {
          "base_uri": "https://localhost:8080/"
        },
        "id": "4qP5ewPW3wh5",
        "outputId": "d1a2e02e-dc8a-45ac-a3b0-3203935e6457"
      },
      "execution_count": null,
      "outputs": [
        {
          "output_type": "stream",
          "name": "stdout",
          "text": [
            "+--------+------+\n",
            "|language| count|\n",
            "+--------+------+\n",
            "|      en|227513|\n",
            "|      ne|    15|\n",
            "|      vi|    21|\n",
            "|      ps|    10|\n",
            "|      ro|   263|\n",
            "|      sl|    38|\n",
            "|     und| 13800|\n",
            "|      ur|   526|\n",
            "|      ka|    40|\n",
            "|      lv|    40|\n",
            "|      pl|  4505|\n",
            "|      hy|     1|\n",
            "|      pt|  2097|\n",
            "|    null|     2|\n",
            "|      tl|   138|\n",
            "|      in|   560|\n",
            "|      ko|   317|\n",
            "|      uk|  1004|\n",
            "|      cs|   275|\n",
            "|     ckb|    16|\n",
            "+--------+------+\n",
            "only showing top 20 rows\n",
            "\n"
          ]
        }
      ]
    },
    {
      "cell_type": "code",
      "source": [
        "langdistribution=lang_dist.toPandas()\n",
        "langdistribution=langdistribution.set_index(\"language\")\n",
        "langdistribution"
      ],
      "metadata": {
        "colab": {
          "base_uri": "https://localhost:8080/",
          "height": 455
        },
        "id": "UVKEtPw70zfd",
        "outputId": "376b3b5d-15b6-4cda-b768-9dbe2478cc98"
      },
      "execution_count": null,
      "outputs": [
        {
          "output_type": "execute_result",
          "data": {
            "text/plain": [
              "           count\n",
              "language        \n",
              "en        227513\n",
              "ne            15\n",
              "vi            21\n",
              "ps            10\n",
              "ro           263\n",
              "...          ...\n",
              "am            16\n",
              "ja          3572\n",
              "or            21\n",
              "da           252\n",
              "fi           439\n",
              "\n",
              "[63 rows x 1 columns]"
            ],
            "text/html": [
              "\n",
              "  <div id=\"df-fa072d65-56e1-4de4-8fa1-bc3948d83fe6\">\n",
              "    <div class=\"colab-df-container\">\n",
              "      <div>\n",
              "<style scoped>\n",
              "    .dataframe tbody tr th:only-of-type {\n",
              "        vertical-align: middle;\n",
              "    }\n",
              "\n",
              "    .dataframe tbody tr th {\n",
              "        vertical-align: top;\n",
              "    }\n",
              "\n",
              "    .dataframe thead th {\n",
              "        text-align: right;\n",
              "    }\n",
              "</style>\n",
              "<table border=\"1\" class=\"dataframe\">\n",
              "  <thead>\n",
              "    <tr style=\"text-align: right;\">\n",
              "      <th></th>\n",
              "      <th>count</th>\n",
              "    </tr>\n",
              "    <tr>\n",
              "      <th>language</th>\n",
              "      <th></th>\n",
              "    </tr>\n",
              "  </thead>\n",
              "  <tbody>\n",
              "    <tr>\n",
              "      <th>en</th>\n",
              "      <td>227513</td>\n",
              "    </tr>\n",
              "    <tr>\n",
              "      <th>ne</th>\n",
              "      <td>15</td>\n",
              "    </tr>\n",
              "    <tr>\n",
              "      <th>vi</th>\n",
              "      <td>21</td>\n",
              "    </tr>\n",
              "    <tr>\n",
              "      <th>ps</th>\n",
              "      <td>10</td>\n",
              "    </tr>\n",
              "    <tr>\n",
              "      <th>ro</th>\n",
              "      <td>263</td>\n",
              "    </tr>\n",
              "    <tr>\n",
              "      <th>...</th>\n",
              "      <td>...</td>\n",
              "    </tr>\n",
              "    <tr>\n",
              "      <th>am</th>\n",
              "      <td>16</td>\n",
              "    </tr>\n",
              "    <tr>\n",
              "      <th>ja</th>\n",
              "      <td>3572</td>\n",
              "    </tr>\n",
              "    <tr>\n",
              "      <th>or</th>\n",
              "      <td>21</td>\n",
              "    </tr>\n",
              "    <tr>\n",
              "      <th>da</th>\n",
              "      <td>252</td>\n",
              "    </tr>\n",
              "    <tr>\n",
              "      <th>fi</th>\n",
              "      <td>439</td>\n",
              "    </tr>\n",
              "  </tbody>\n",
              "</table>\n",
              "<p>63 rows × 1 columns</p>\n",
              "</div>\n",
              "      <button class=\"colab-df-convert\" onclick=\"convertToInteractive('df-fa072d65-56e1-4de4-8fa1-bc3948d83fe6')\"\n",
              "              title=\"Convert this dataframe to an interactive table.\"\n",
              "              style=\"display:none;\">\n",
              "        \n",
              "  <svg xmlns=\"http://www.w3.org/2000/svg\" height=\"24px\"viewBox=\"0 0 24 24\"\n",
              "       width=\"24px\">\n",
              "    <path d=\"M0 0h24v24H0V0z\" fill=\"none\"/>\n",
              "    <path d=\"M18.56 5.44l.94 2.06.94-2.06 2.06-.94-2.06-.94-.94-2.06-.94 2.06-2.06.94zm-11 1L8.5 8.5l.94-2.06 2.06-.94-2.06-.94L8.5 2.5l-.94 2.06-2.06.94zm10 10l.94 2.06.94-2.06 2.06-.94-2.06-.94-.94-2.06-.94 2.06-2.06.94z\"/><path d=\"M17.41 7.96l-1.37-1.37c-.4-.4-.92-.59-1.43-.59-.52 0-1.04.2-1.43.59L10.3 9.45l-7.72 7.72c-.78.78-.78 2.05 0 2.83L4 21.41c.39.39.9.59 1.41.59.51 0 1.02-.2 1.41-.59l7.78-7.78 2.81-2.81c.8-.78.8-2.07 0-2.86zM5.41 20L4 18.59l7.72-7.72 1.47 1.35L5.41 20z\"/>\n",
              "  </svg>\n",
              "      </button>\n",
              "      \n",
              "  <style>\n",
              "    .colab-df-container {\n",
              "      display:flex;\n",
              "      flex-wrap:wrap;\n",
              "      gap: 12px;\n",
              "    }\n",
              "\n",
              "    .colab-df-convert {\n",
              "      background-color: #E8F0FE;\n",
              "      border: none;\n",
              "      border-radius: 50%;\n",
              "      cursor: pointer;\n",
              "      display: none;\n",
              "      fill: #1967D2;\n",
              "      height: 32px;\n",
              "      padding: 0 0 0 0;\n",
              "      width: 32px;\n",
              "    }\n",
              "\n",
              "    .colab-df-convert:hover {\n",
              "      background-color: #E2EBFA;\n",
              "      box-shadow: 0px 1px 2px rgba(60, 64, 67, 0.3), 0px 1px 3px 1px rgba(60, 64, 67, 0.15);\n",
              "      fill: #174EA6;\n",
              "    }\n",
              "\n",
              "    [theme=dark] .colab-df-convert {\n",
              "      background-color: #3B4455;\n",
              "      fill: #D2E3FC;\n",
              "    }\n",
              "\n",
              "    [theme=dark] .colab-df-convert:hover {\n",
              "      background-color: #434B5C;\n",
              "      box-shadow: 0px 1px 3px 1px rgba(0, 0, 0, 0.15);\n",
              "      filter: drop-shadow(0px 1px 2px rgba(0, 0, 0, 0.3));\n",
              "      fill: #FFFFFF;\n",
              "    }\n",
              "  </style>\n",
              "\n",
              "      <script>\n",
              "        const buttonEl =\n",
              "          document.querySelector('#df-fa072d65-56e1-4de4-8fa1-bc3948d83fe6 button.colab-df-convert');\n",
              "        buttonEl.style.display =\n",
              "          google.colab.kernel.accessAllowed ? 'block' : 'none';\n",
              "\n",
              "        async function convertToInteractive(key) {\n",
              "          const element = document.querySelector('#df-fa072d65-56e1-4de4-8fa1-bc3948d83fe6');\n",
              "          const dataTable =\n",
              "            await google.colab.kernel.invokeFunction('convertToInteractive',\n",
              "                                                     [key], {});\n",
              "          if (!dataTable) return;\n",
              "\n",
              "          const docLinkHtml = 'Like what you see? Visit the ' +\n",
              "            '<a target=\"_blank\" href=https://colab.research.google.com/notebooks/data_table.ipynb>data table notebook</a>'\n",
              "            + ' to learn more about interactive tables.';\n",
              "          element.innerHTML = '';\n",
              "          dataTable['output_type'] = 'display_data';\n",
              "          await google.colab.output.renderOutput(dataTable, element);\n",
              "          const docLink = document.createElement('div');\n",
              "          docLink.innerHTML = docLinkHtml;\n",
              "          element.appendChild(docLink);\n",
              "        }\n",
              "      </script>\n",
              "    </div>\n",
              "  </div>\n",
              "  "
            ]
          },
          "metadata": {},
          "execution_count": 116
        }
      ]
    },
    {
      "cell_type": "code",
      "source": [
        "pie = langdistribution.plot.pie(y = \"count\", figsize = (13,13), autopct = \"%1.1f%%\")\n",
        "pie.legend(loc = \"upper left\");\n",
        "pie.set(title = \"language\", ylabel = \"% tweets\");"
      ],
      "metadata": {
        "colab": {
          "base_uri": "https://localhost:8080/",
          "height": 1000
        },
        "id": "trmoz-Iw5sN2",
        "outputId": "07444719-a74d-4d6c-d6cb-00df5ace9dc3"
      },
      "execution_count": null,
      "outputs": [
        {
          "output_type": "display_data",
          "data": {
            "text/plain": [
              "<Figure size 936x936 with 1 Axes>"
            ],
            "image/png": "[encoded data removed]"
          },
          "metadata": {}
        }
      ]
    },
    {
      "cell_type": "markdown",
      "source": [
        "5. Restricting to English"
      ],
      "metadata": {
        "id": "jNMg8odD6iuN"
      }
    },
    {
      "cell_type": "code",
      "source": [
        "# Choose English -- most tweets\n",
        "english_select=raw_df.where(raw_df.language == \"en\")"
      ],
      "metadata": {
        "id": "c_PCusMMcMpN"
      },
      "execution_count": null,
      "outputs": []
    },
    {
      "cell_type": "code",
      "source": [
        "english_select.show(truncate=False)"
      ],
      "metadata": {
        "colab": {
          "base_uri": "https://localhost:8080/"
        },
        "id": "XQG5BdnZgCGy",
        "outputId": "8e528f1f-4467-4cc3-d45f-3e87bbf69fc8"
      },
      "execution_count": null,
      "outputs": [
        {
          "output_type": "stream",
          "name": "stdout",
          "text": [
            "+-------+-------------------+---------------+----------------------------------------------------------------------------------------------------------------------------------------------------------------+------------------------------+---------+---------+-----------+--------------------------+-------------------+-------------------+------------+---------------------------------------------------------------------------------------------------------------------------------------------------------------------------------------------------------------------------------------------------------------------------------------------------------------------------------------+----------------------------------------------------------------------------------------------------------------------------------------------------------------------------------------------------------------------------------+--------+-----------+--------------+--------------------------+\n",
            "|_c0    |userid             |username       |acctdesc                                                                                                                                                        |location                      |following|followers|totaltweets|usercreatedts             |tweetid            |tweetcreatedts     |retweetcount|text                                                                                                                                                                                                                                                                                                                                   |hashtags                                                                                                                                                                                                                          |language|coordinates|favorite_count|extractedts               |\n",
            "+-------+-------------------+---------------+----------------------------------------------------------------------------------------------------------------------------------------------------------------+------------------------------+---------+---------+-----------+--------------------------+-------------------+-------------------+------------+---------------------------------------------------------------------------------------------------------------------------------------------------------------------------------------------------------------------------------------------------------------------------------------------------------------------------------------+----------------------------------------------------------------------------------------------------------------------------------------------------------------------------------------------------------------------------------+--------+-----------+--------------+--------------------------+\n",
            "|1141800|1466752038960656385|Curtin2Tiffany |I am just like everyone else.  The universe experiencing itself.                                                                                                |Colorado, USA                 |253      |40       |94         |2021-12-03 12:52:22.000000|1497724980259262467|2022-02-27 00:07:16|5           |#UkraineRussiaWar Captured Russian soldiers\\n\\n\"They said what their own battalion, where they are from and then told him it was just training and did not know they are in ukraine.\"\\n#RussianArmy #Soldiers #Україна #Ukraine #UkraineRussiaWar https://t.co/KVIPqs7TzJ https://t.co/LdlzDnxCzG                                      |[{'text': 'UkraineRussiaWar', 'indices': [19, 36]}]                                                                                                                                                                               |en      |null       |0             |2022-02-27 00:09:33.084131|\n",
            "|1141801|1111276809302216710|5ela60         |الأب ..الأخ ..الجار ..الحبيب .. السديك                                                                                                                          |null                          |167      |9        |656        |2019-03-28 14:40:12.000000|1497724980271984641|2022-02-27 00:07:16|28          |Like everybody else I am rooting for Ukraine to fight off Russia, but seeing this video is truly sad. These soldiers are clueless and lost and are forced to fight for a corrupted dictator that is Vladimir Putin. They don’t want this. #UkraineRussiaWar #UkraineUnderAttack #Ukrania https://t.co/IckHqDBbQC                       |[]                                                                                                                                                                                                                                |en      |null       |0             |2022-02-27 00:09:33.068011|\n",
            "|1141803|597779527          |OurTurnToRescue|Issues: Threats to Democracy, Racism, GOP corruption, Climate Change, and Health Care\\nCellist, Zen Buddhist, Lover of animals                                  |null                          |4847     |4080     |33666      |2012-06-02 21:53:59.000000|1497724980573966346|2022-02-27 00:07:16|1           |We elected a game show host and got a clown. #Ukraine elected a comedian and got a hero. (Source: Unknown)                                                                                                                                                                                                                             |[{'text': 'Ukraine', 'indices': [63, 71]}]                                                                                                                                                                                        |en      |null       |0             |2022-02-27 00:09:33.051823|\n",
            "|1141804|1646145848         |DrWAVeSportCd1 |Addicted to News, Music, Cooking, Gardens, Outdoors, Tennis, Politics. 🖕🏼T, @GOP, @NRA #Putin‼️ 💙 #Democrats #Resist #LGBTQ FAMILIES #Veterans #USA #Biden   |USA                           |5002     |3950     |466629     |2013-08-04 21:07:08.000000|1497724980653694976|2022-02-27 00:07:16|277         |Ukrainian soldiers wearing sunflowers in their hair\\n\\n🌻Sunflowers are the national flower of Ukraine🇺🇦\\n\\n#Ukraine #Ukrania #UkraineRussiaWar https://t.co/md7nPCUxQE                                                                                                                                                              |[{'text': 'Ukraine', 'indices': [122, 130]}, {'text': 'Ukrania', 'indices': [131, 139]}]                                                                                                                                          |en      |null       |0             |2022-02-27 00:09:33.043812|\n",
            "|1141805|2191952909         |WyvernReports  |In war, truth is the first casualty. Focus #Syria & #Libya. Contributor to @Liveuamap & @Bellingcat. (Re)tweets, follows and likes are not endorsement.         |The Blue Marble               |700      |6424     |20689      |2013-11-22 21:51:19.000000|1497724980833968129|2022-02-27 00:07:16|565         |russian troops destroyed a commercial oil base near Vasylkiv.  This is ecological catastrophe not only for Ukraine, but also for the all #Europe \\n\\n#StopRussia #StopRussianAggression #Ukraine https://t.co/PnVr3ezoH4                                                                                                               |[]                                                                                                                                                                                                                                |en      |null       |0             |2022-02-27 00:09:33.035798|\n",
            "|1141808|23611466           |isunja         |null                                                                                                                                                            |Göteborg, Sweden              |710      |219      |1328       |2009-03-10 16:23:20.000000|1497724981157023749|2022-02-27 00:07:16|53          |Some scenes from #Kyiv this morning: The building at Lobanovskyi Prospekt hit by a missile at 8am, (no dead), people in shelter (Perry the dog) and firemen trying to extinguish the fire in a gym underneath. #ukraine https://t.co/qsaJbkWoAQ                                                                                        |[{'text': 'Kyiv', 'indices': [32, 37]}]                                                                                                                                                                                           |en      |null       |0             |2022-02-27 00:09:33.003577|\n",
            "|1141809|875055153157722112 |manonatelier   |WordPress • Designer Dork • Art Lover • Hometown NYC • Scorpio/Snake • GenX • She/her • Ayiti parentage • Header art: Von Stuck's \"Péché\"                       |NY/PA                         |2779     |582      |116858     |2017-06-14 18:19:41.000000|1497724981538660357|2022-02-27 00:07:16|40          |Meanwhile American “intelligence” pretended an emailed risotto recipe was the greatest national security threat we’d ever faced. 😒 #UkraineRussiaWar https://t.co/UbPBPgbd5s https://t.co/lDc0E9SB2C                                                                                                                                  |[]                                                                                                                                                                                                                                |en      |null       |0             |2022-02-27 00:09:32.995537|\n",
            "|1141810|2415248203         |bumaktooms     |Founder of: 1. AMI INT. UKRAINE 2. Business Gate Ukraine 3 TECHNO FIT Fitness Center Abu Dhabi 4. Ruwwad 1010 micro investments Abu Dhabi 4. WME dig.  Marketing|UAE                           |1021     |680      |26359      |2014-03-28 02:50:27.000000|1497724981542895618|2022-02-27 00:07:16|94          |To remind the world: Gaza has lived through 4 wars in 12 years, The children of Gaza after the wars suffer from post-traumatic stress disorder, the world is not fair. \\n🇵🇸🇵🇸🇵🇸🇵🇸🇵🇸🇵🇸🇵🇸🇷🇺🇺🇦🇷🇺🇺🇦🇷🇺🇺🇦🇷🇺\\n#Ukraine #RussiaUkraineWar #Russia #UkraineRussia #روسيا_واوكرانيا #أوكرانيا https://t.co/osBDnqStMm|[]                                                                                                                                                                                                                                |en      |null       |0             |2022-02-27 00:09:32.987465|\n",
            "|1141811|1396997667612512262|CaptainNostrad1|🚫Lists Plz #DemCastGa🌊 #ONEV1🌊 #DemCast🌊 🚫DM's Please 🙏 🇺🇸 #Resist Helping To Build Back Better ⚓Blue Dot Red State 4Th Generation Veteran 🇺🇸         |Georgia, USA                  |2957     |2533     |8305       |2021-05-25 01:13:14.000000|1497724981714767875|2022-02-27 00:07:16|134         |Please pass it on if you can spot the difference. 🤔\\n#UkraineUnderAttack #Ukraine https://t.co/lgjRbF9Nvt                                                                                                                                                                                                                             |[{'text': 'UkraineUnderAttack', 'indices': [66, 85]}, {'text': 'Ukraine', 'indices': [86, 94]}]                                                                                                                                   |en      |null       |0             |2022-02-27 00:09:32.979423|\n",
            "|1141812|1447403355618304003|Heather86556656|null                                                                                                                                                            |null                          |114      |97       |4638       |2021-10-11 03:28:07.000000|1497724982004178945|2022-02-27 00:07:16|1044        |In their coverage @FoxNews actually sound disappointed that #Ukraine is holding off Russia.\\n\\nThat's where the Republican party is in 2022.\\n\\nRooting for Russia.                                                                                                                                                                    |[{'text': 'Ukraine', 'indices': [76, 84]}]                                                                                                                                                                                        |en      |null       |0             |2022-02-27 00:09:32.971370|\n",
            "|1141813|2387627840         |tomassugar     |null                                                                                                                                                            |Brno, Česká republika         |13       |13       |14         |2014-03-13 18:23:29.000000|1497724982067142660|2022-02-27 00:07:16|0           |@KAT96060497 @KChimaev Please, stop involving the man's family. I don't want him to do anything crazy. People of Ukraine are dying and we are close to WW3. Everything counts. That`s all. #saynotowar #UkraineWar                                                                                                                     |[{'text': 'saynotowar', 'indices': [187, 198]}, {'text': 'UkraineWar', 'indices': [199, 210]}]                                                                                                                                    |en      |null       |0             |2022-02-27 00:09:32.963297|\n",
            "|1141814|1193399359238475777|SensibleThough3|Trying to make sense of it all\\nObservations from the sanitarium \\nDrivel from my brain to yours\\nWidow with 3 little birds to help launch                      |Earth                         |20       |56       |9889       |2019-11-10 05:26:11.000000|1497724982092173313|2022-02-27 00:07:16|3           |@christogrozev My beautiful #Kyiv. This is what we were all afraid of. May God protect #Ukraine and its defenders tonight. #russianinvasion #UnitedWithUkraine                                                                                                                                                                         |[{'text': 'Kyiv', 'indices': [46, 51]}, {'text': 'Ukraine', 'indices': [105, 113]}]                                                                                                                                               |en      |null       |0             |2022-02-27 00:09:32.947090|\n",
            "|1141815|130378207          |rose_a87       |29. She/They. Taco Enthusiast. Serving my overlord, Misha Collins. My Danneel shirt made Jensen laugh 😌 FA11🐧                                                 |Texas, USA                    |789      |833      |31172      |2010-04-07 03:40:34.000000|1497724982155227140|2022-02-27 00:07:16|75          |Long lines at Laika today, a Ukrainian-owned cheesecake &amp; espresso shop in San Antonio, as employees sold 1,400 cheesecake jars &amp; 288 slices of cheesecake. Employees said all proceeds will be donated to aid Ukrainian humanitarian groups as Russia continues to attack #Ukraine. https://t.co/n0OMrv3cHr                   |[]                                                                                                                                                                                                                                |en      |null       |0             |2022-02-27 00:09:32.938989|\n",
            "|1141818|1372570359585763332|CraesOne       |I stand with Tigray all Tigray lives matters Tigray people need food Tigray people need freedom Tigray people need alon my heart broken 😞                      |null                          |882      |761      |29429      |2021-03-18 15:28:22.000000|1497724982671065090|2022-02-27 00:07:16|3           |The Int community has displayed their condemnation towards Russia, in light of the devastation in #Ukraine - while aiding and endorsing the genocidal regime in #Ethiopia. The selective outrage is leaving the Tigrayan people stuck in a genocidal war. #TigrayGenocide @jeremycorbyn                                                |[{'text': 'Ukraine', 'indices': [98, 106]}, {'text': 'Ethiopia', 'indices': [160, 169]}, {'text': 'TigrayGenocide', 'indices': [250, 265]}]                                                                                       |en      |null       |3             |2022-02-27 00:09:32.914647|\n",
            "|1141819|1286787672         |NSamarets      |null                                                                                                                                                            |null                          |14       |9        |88         |2013-03-21 19:45:22.000000|1497724982671118346|2022-02-27 00:07:16|0           |#UkraineWar #UkraineRussia #StopRussia Anonymous prevent Russian occupiers from communicating https://t.co/UHo9Gfkz4d                                                                                                                                                                                                                  |[{'text': 'UkraineWar', 'indices': [0, 11]}, {'text': 'UkraineRussia', 'indices': [12, 26]}, {'text': 'StopRussia', 'indices': [27, 38]}]                                                                                         |en      |null       |0             |2022-02-27 00:09:32.906439|\n",
            "|1141820|49303023           |DC4Hope        |Just a girl living in DC waiting for the world to change. Still With HER! 🙋‍♀️🇺🇸 #RESIST #TraitorTrUMP #FightFascism 🥁🐝#FreePress #DCStatehoodNOW          |Washington DC                 |980      |3263     |522333     |2009-06-21 12:24:44.000000|1497724982687715330|2022-02-27 00:07:16|2           |My heart is with everyone suffering in #Ukraine. May there be a fast and peaceful resolution that maintains their right to sovereignty and self-determination 🇺🇦 https://t.co/lyPXSjMeoP                                                                                                                                             |[{'text': 'Ukraine', 'indices': [53, 61]}]                                                                                                                                                                                        |en      |null       |0             |2022-02-27 00:09:32.898391|\n",
            "|1141821|866570158810255360 |RomanTkach7    |Ukraine. Ravens fan.                                                                                                                                            |Україна                       |242      |39       |43         |2017-05-22 08:23:20.000000|1497724982763339776|2022-02-27 00:07:16|0           |Ghost of Kyiv locked our Capital’s sky. This man have entered 10 battles with russian jets. He’s 10-0. THATS SOME COVERAGE. #ghostofkyiv #Legend #Ukranine #UkraineRussia #war https://t.co/AL9dkJBuu2                                                                                                                                 |[{'text': 'ghostofkyiv', 'indices': [124, 136]}, {'text': 'Legend', 'indices': [137, 144]}, {'text': 'Ukranine', 'indices': [145, 154]}, {'text': 'UkraineRussia', 'indices': [155, 169]}, {'text': 'war', 'indices': [170, 174]}]|en      |null       |3             |2022-02-27 00:09:32.890263|\n",
            "|1141822|2997348674         |ahmadMehs      |Muzammali | Believe in constitution | Civilian supremacy | Democracy.                                                                                           |Islamabad, Pakistan           |621      |259      |7605       |2015-01-26 17:41:14.000000|1497724982818111491|2022-02-27 00:07:16|264         |The sky in Kyiv right now. #Ukraine https://t.co/fGgfycXGbL                                                                                                                                                                                                                                                                            |[{'text': 'Ukraine', 'indices': [47, 55]}]                                                                                                                                                                                        |en      |null       |0             |2022-02-27 00:09:32.882185|\n",
            "|1141823|15108492           |Autumnseer     |Doomed in Florida. Progressive Christian. Ever curious. Healthcare worker. Justice, compassion, truth. Get freakin vaccinated!! #DeathSantis                    |In FL hoping for the mountains|1037     |295      |3866       |2008-06-13 15:51:19.000000|1497724982855704577|2022-02-27 00:07:16|17          |@Xenta777 I STAND WITH #UKRAINE AND UKRAINIAN PRESIDENT @ZelenskyyUa \\n\\n🌻🌻🌻🌻🌻🌻🌻🌻🌻\\n\\n#StandWithUkraine \\n#PuckFutin #Kyiv https://t.co/WAQgSmRO9g                                                                                                                                                                            |[{'text': 'UKRAINE', 'indices': [43, 51]}, {'text': 'StandWithUkraine', 'indices': [102, 119]}, {'text': 'PuckFutin', 'indices': [121, 131]}, {'text': 'Kyiv', 'indices': [132, 137]}]                                            |en      |null       |0             |2022-02-27 00:09:32.874156|\n",
            "|1141824|1050715828763668480|DrakulicIlija  |Real change can only follow from citizens informing themselves and applying pressure.                                                                           |Belgrade, Republic of Serbia  |4796     |758      |38495      |2018-10-12 11:52:29.000000|1497724982868291591|2022-02-27 00:07:16|14          |We call all hackers and digital activists to be united as one. If this war is not won with weapons, it will be won with cyberweapons. Democracy and freedom will destroy fascism and imperialism. #Anonymous #Ukraine #Russia #PutinIsaWarCriminal https://t.co/MYEZn0CKLR                                                             |[]                                                                                                                                                                                                                                |en      |null       |0             |2022-02-27 00:09:32.866047|\n",
            "+-------+-------------------+---------------+----------------------------------------------------------------------------------------------------------------------------------------------------------------+------------------------------+---------+---------+-----------+--------------------------+-------------------+-------------------+------------+---------------------------------------------------------------------------------------------------------------------------------------------------------------------------------------------------------------------------------------------------------------------------------------------------------------------------------------+----------------------------------------------------------------------------------------------------------------------------------------------------------------------------------------------------------------------------------+--------+-----------+--------------+--------------------------+\n",
            "only showing top 20 rows\n",
            "\n"
          ]
        }
      ]
    },
    {
      "cell_type": "code",
      "source": [
        "filtered_df = english_select.select(\"text\")"
      ],
      "metadata": {
        "id": "j9Ga-F-vgBPN"
      },
      "execution_count": null,
      "outputs": []
    },
    {
      "cell_type": "code",
      "source": [
        "filtered_df.show(truncate=False)"
      ],
      "metadata": {
        "colab": {
          "base_uri": "https://localhost:8080/"
        },
        "id": "q8zVaal-tljf",
        "outputId": "a7772625-a08d-4e42-e3e0-5c4a78571f09"
      },
      "execution_count": null,
      "outputs": [
        {
          "output_type": "stream",
          "name": "stdout",
          "text": [
            "+---------------------------------------------------------------------------------------------------------------------------------------------------------------------------------------------------------------------------------------------------------------------------------------------------------------------------------------+\n",
            "|text                                                                                                                                                                                                                                                                                                                                   |\n",
            "+---------------------------------------------------------------------------------------------------------------------------------------------------------------------------------------------------------------------------------------------------------------------------------------------------------------------------------------+\n",
            "|#UkraineRussiaWar Captured Russian soldiers\\n\\n\"They said what their own battalion, where they are from and then told him it was just training and did not know they are in ukraine.\"\\n#RussianArmy #Soldiers #Україна #Ukraine #UkraineRussiaWar https://t.co/KVIPqs7TzJ https://t.co/LdlzDnxCzG                                      |\n",
            "|Like everybody else I am rooting for Ukraine to fight off Russia, but seeing this video is truly sad. These soldiers are clueless and lost and are forced to fight for a corrupted dictator that is Vladimir Putin. They don’t want this. #UkraineRussiaWar #UkraineUnderAttack #Ukrania https://t.co/IckHqDBbQC                       |\n",
            "|We elected a game show host and got a clown. #Ukraine elected a comedian and got a hero. (Source: Unknown)                                                                                                                                                                                                                             |\n",
            "|Ukrainian soldiers wearing sunflowers in their hair\\n\\n🌻Sunflowers are the national flower of Ukraine🇺🇦\\n\\n#Ukraine #Ukrania #UkraineRussiaWar https://t.co/md7nPCUxQE                                                                                                                                                              |\n",
            "|russian troops destroyed a commercial oil base near Vasylkiv.  This is ecological catastrophe not only for Ukraine, but also for the all #Europe \\n\\n#StopRussia #StopRussianAggression #Ukraine https://t.co/PnVr3ezoH4                                                                                                               |\n",
            "|Some scenes from #Kyiv this morning: The building at Lobanovskyi Prospekt hit by a missile at 8am, (no dead), people in shelter (Perry the dog) and firemen trying to extinguish the fire in a gym underneath. #ukraine https://t.co/qsaJbkWoAQ                                                                                        |\n",
            "|Meanwhile American “intelligence” pretended an emailed risotto recipe was the greatest national security threat we’d ever faced. 😒 #UkraineRussiaWar https://t.co/UbPBPgbd5s https://t.co/lDc0E9SB2C                                                                                                                                  |\n",
            "|To remind the world: Gaza has lived through 4 wars in 12 years, The children of Gaza after the wars suffer from post-traumatic stress disorder, the world is not fair. \\n🇵🇸🇵🇸🇵🇸🇵🇸🇵🇸🇵🇸🇵🇸🇷🇺🇺🇦🇷🇺🇺🇦🇷🇺🇺🇦🇷🇺\\n#Ukraine #RussiaUkraineWar #Russia #UkraineRussia #روسيا_واوكرانيا #أوكرانيا https://t.co/osBDnqStMm|\n",
            "|Please pass it on if you can spot the difference. 🤔\\n#UkraineUnderAttack #Ukraine https://t.co/lgjRbF9Nvt                                                                                                                                                                                                                             |\n",
            "|In their coverage @FoxNews actually sound disappointed that #Ukraine is holding off Russia.\\n\\nThat's where the Republican party is in 2022.\\n\\nRooting for Russia.                                                                                                                                                                    |\n",
            "|@KAT96060497 @KChimaev Please, stop involving the man's family. I don't want him to do anything crazy. People of Ukraine are dying and we are close to WW3. Everything counts. That`s all. #saynotowar #UkraineWar                                                                                                                     |\n",
            "|@christogrozev My beautiful #Kyiv. This is what we were all afraid of. May God protect #Ukraine and its defenders tonight. #russianinvasion #UnitedWithUkraine                                                                                                                                                                         |\n",
            "|Long lines at Laika today, a Ukrainian-owned cheesecake &amp; espresso shop in San Antonio, as employees sold 1,400 cheesecake jars &amp; 288 slices of cheesecake. Employees said all proceeds will be donated to aid Ukrainian humanitarian groups as Russia continues to attack #Ukraine. https://t.co/n0OMrv3cHr                   |\n",
            "|The Int community has displayed their condemnation towards Russia, in light of the devastation in #Ukraine - while aiding and endorsing the genocidal regime in #Ethiopia. The selective outrage is leaving the Tigrayan people stuck in a genocidal war. #TigrayGenocide @jeremycorbyn                                                |\n",
            "|#UkraineWar #UkraineRussia #StopRussia Anonymous prevent Russian occupiers from communicating https://t.co/UHo9Gfkz4d                                                                                                                                                                                                                  |\n",
            "|My heart is with everyone suffering in #Ukraine. May there be a fast and peaceful resolution that maintains their right to sovereignty and self-determination 🇺🇦 https://t.co/lyPXSjMeoP                                                                                                                                             |\n",
            "|Ghost of Kyiv locked our Capital’s sky. This man have entered 10 battles with russian jets. He’s 10-0. THATS SOME COVERAGE. #ghostofkyiv #Legend #Ukranine #UkraineRussia #war https://t.co/AL9dkJBuu2                                                                                                                                 |\n",
            "|The sky in Kyiv right now. #Ukraine https://t.co/fGgfycXGbL                                                                                                                                                                                                                                                                            |\n",
            "|@Xenta777 I STAND WITH #UKRAINE AND UKRAINIAN PRESIDENT @ZelenskyyUa \\n\\n🌻🌻🌻🌻🌻🌻🌻🌻🌻\\n\\n#StandWithUkraine \\n#PuckFutin #Kyiv https://t.co/WAQgSmRO9g                                                                                                                                                                            |\n",
            "|We call all hackers and digital activists to be united as one. If this war is not won with weapons, it will be won with cyberweapons. Democracy and freedom will destroy fascism and imperialism. #Anonymous #Ukraine #Russia #PutinIsaWarCriminal https://t.co/MYEZn0CKLR                                                             |\n",
            "+---------------------------------------------------------------------------------------------------------------------------------------------------------------------------------------------------------------------------------------------------------------------------------------------------------------------------------------+\n",
            "only showing top 20 rows\n",
            "\n"
          ]
        }
      ]
    },
    {
      "cell_type": "markdown",
      "source": [
        "6. Define PreProcessing Pipeline"
      ],
      "metadata": {
        "id": "R4uzW30-LIXV"
      }
    },
    {
      "cell_type": "code",
      "source": [
        "# In this step we define a sparkNLP pipeline which will preprocess our data\n",
        "# by tokenizing it and removing unwanted tokens\n",
        "\n",
        "from sparknlp.base import *\n",
        "from sparknlp.annotator import *\n",
        "\n",
        "def create_preprocessing_pipeline():\n",
        "  documentAssembler = DocumentAssembler().setInputCol(\"text\").setOutputCol(\"document\")\n",
        "  tokenizer = Tokenizer().setInputCols([\"document\"]).setOutputCol(\"token\")\n",
        "    #remove links\n",
        "  linkRemover = Normalizer().setInputCols([\"token\"]).setOutputCol(\"tokensWoutLinks\") \\\n",
        "  .setCleanupPatterns([\"http\\S+|www\\S+|https\\S+\"]).setLowercase(True)#convert to lowercase\n",
        "      #no whitespace or http (:)\n",
        "    #[^\\s]--keep spaces\n",
        "    #[^\\d]--keep numbers\n",
        "    #[^\\w]--keep letters\n",
        "#remove punctuation\n",
        "  punctuationRemover = Normalizer().setInputCols([\"tokensWoutLinks\"]).setOutputCol(\"tokensWoutLinksAndPuct\") \\\n",
        "    .setCleanupPatterns([\"&(amp)|@[A-Za-z0-9]+|[^\\w ]|_|\"])#regex remove all '!\"#$%&\\'()*+,-./:;<=>?@[\\\\]^_`{|}~' \n",
        "  #keep spaces\n",
        "  stopWordsCleaner =  StopWordsCleaner.pretrained('stopwords_en', 'en').setInputCols(\"tokensWoutLinksAndPuct\").setOutputCol(\"cleanedTokens\")\\\n",
        "      .setCaseSensitive(False)\n",
        "  stemmer = Stemmer().setInputCols([\"cleanedTokens\"]).setOutputCol(\"cleanedStemmedTokens\")\n",
        "  \n",
        "  return Pipeline().setStages([\n",
        "    documentAssembler,\n",
        "    tokenizer,\n",
        "    linkRemover,\n",
        "    punctuationRemover,\n",
        "    stopWordsCleaner,\n",
        "    stemmer\n",
        "])\n",
        "def apply_preprocessing_pipeline(pipeline, dataframe):\n",
        "    return pipeline.fit(dataframe).transform(dataframe).selectExpr(\"cleanedStemmedTokens.result\")"
      ],
      "metadata": {
        "id": "ZHiSXwPZxwLH"
      },
      "execution_count": 21,
      "outputs": []
    },
    {
      "cell_type": "code",
      "source": [
        "preprocessed_df=apply_preprocessing_pipeline(create_preprocessing_pipeline(),filtered_df)"
      ],
      "metadata": {
        "colab": {
          "base_uri": "https://localhost:8080/"
        },
        "id": "hWk7mgWVMScN",
        "outputId": "f84c74cb-04ce-4878-ad30-72d774c2c672"
      },
      "execution_count": null,
      "outputs": [
        {
          "output_type": "stream",
          "name": "stdout",
          "text": [
            "stopwords_en download started this may take some time.\n",
            "Approximate size to download 2.9 KB\n",
            "[OK!]\n"
          ]
        }
      ]
    },
    {
      "cell_type": "code",
      "source": [
        "preprocessed_df.show(truncate=False)"
      ],
      "metadata": {
        "colab": {
          "base_uri": "https://localhost:8080/"
        },
        "id": "xJf0FG2vpqhA",
        "outputId": "fd47ded5-4f45-4ecd-95dd-1a5b1dedcded"
      },
      "execution_count": null,
      "outputs": [
        {
          "output_type": "stream",
          "name": "stdout",
          "text": [
            "+------------------------------------------------------------------------------------------------------------------------------------------------------------------------------------------------------------------------------------------+\n",
            "|result                                                                                                                                                                                                                                    |\n",
            "+------------------------------------------------------------------------------------------------------------------------------------------------------------------------------------------------------------------------------------------+\n",
            "|[ukrainerussiawar, captur, russian, soldier, battalion, told, train, ukrain, russianarmi, soldier, ukrain, ukrainerussiawar]                                                                                                              |\n",
            "|[root, ukrain, fight, russia, video, sad, soldier, clueless, lost, forc, fight, corrupt, dictat, vladimir, putin, dont, ukrainerussiawar, ukraineunderattack, ukrania]                                                                    |\n",
            "|[elect, game, show, host, clown, ukrain, elect, comedian, hero, sourc, unknown]                                                                                                                                                           |\n",
            "|[ukrainian, soldier, wear, sunflow, hair, sunflow, nation, flower, ukrain, ukrain, ukrania, ukrainerussiawar]                                                                                                                             |\n",
            "|[russian, troop, destroi, commerci, oil, base, vasylkiv, ecolog, catastroph, ukrain, europ, stoprussia, stoprussianaggress, ukrain]                                                                                                       |\n",
            "|[scene, kyiv, morn, build, lobanovskyi, prospekt, hit, missil, 8am, dead, peopl, shelter, perri, dog, firemen, extinguish, fire, gym, underneath, ukrain]                                                                                 |\n",
            "|[american, intellig, pretend, email, risotto, recip, greatest, nation, secur, threat, wed, face, ukrainerussiawar]                                                                                                                        |\n",
            "|[remind, world, gaza, live, 4, war, 12, year, children, gaza, war, suffer, posttraumat, stress, disord, world, fair, ukrain, russiaukrainewar, russia, ukrainerussia]                                                                     |\n",
            "|[pass, spot, differ, ukraineunderattack, ukrain]                                                                                                                                                                                          |\n",
            "|[coverag, sound, disappoint, ukrain, hold, russia, republican, parti, 2022, root, russia]                                                                                                                                                 |\n",
            "|[stop, involv, man, famili, dont, crazi, peopl, ukrain, dy, close, ww3, count, saynotowar, ukrainewar]                                                                                                                                    |\n",
            "|[beauti, kyiv, afraid, god, protect, ukrain, defend, tonight, russianinvas, unitedwithukrain]                                                                                                                                             |\n",
            "|[long, line, laika, todai, ukrainianown, cheesecak, espresso, shop, san, antonio, employe, sold, 1400, cheesecak, jar, 288, slice, cheesecak, employe, proce, donat, aid, ukrainian, humanitarian, group, russia, continu, attack, ukrain]|\n",
            "|[int, commun, displai, condemn, russia, light, devast, ukrain, aid, endors, genocid, regim, ethiopia, select, outrag, leav, tigrayan, peopl, stuck, genocid, war, tigraygenocid]                                                          |\n",
            "|[ukrainewar, ukrainerussia, stoprussia, anonym, prevent, russian, occupi, commun]                                                                                                                                                         |\n",
            "|[heart, suffer, ukrain, fast, peac, resolut, maintain, sovereignti, selfdetermin]                                                                                                                                                         |\n",
            "|[ghost, kyiv, lock, capit, sky, man, enter, 10, battl, russian, jet, he, 100, coverag, ghostofkyiv, legend, ukranin, ukrainerussia, war]                                                                                                  |\n",
            "|[sky, kyiv, ukrain]                                                                                                                                                                                                                       |\n",
            "|[stand, ukrain, ukrainian, presid, standwithukrain, puckfutin, kyiv]                                                                                                                                                                      |\n",
            "|[call, hacker, digit, activist, unit, war, won, weapon, won, cyberweapon, democraci, freedom, destroi, fascism, imperi, anonym, ukrain, russia, putinisawarcrimin]                                                                        |\n",
            "+------------------------------------------------------------------------------------------------------------------------------------------------------------------------------------------------------------------------------------------+\n",
            "only showing top 20 rows\n",
            "\n"
          ]
        }
      ]
    },
    {
      "cell_type": "markdown",
      "source": [
        "6. Implement A-priori algorithm on sample"
      ],
      "metadata": {
        "id": "FOqBIp5z6rCH"
      }
    },
    {
      "cell_type": "code",
      "source": [
        "#Remove duplicates\n",
        "input_rdd = preprocessed_df.rdd.map(lambda x: ( list(set(x[0]))))#reorder\n",
        "input_rdd.take(2)"
      ],
      "metadata": {
        "colab": {
          "base_uri": "https://localhost:8080/"
        },
        "id": "6-wlo04qrGda",
        "outputId": "e4b4710a-bc6e-41c9-b9f5-b5c78e9c1824"
      },
      "execution_count": null,
      "outputs": [
        {
          "output_type": "execute_result",
          "data": {
            "text/plain": [
              "[['train',\n",
              "  'captur',\n",
              "  'ukrain',\n",
              "  'russianarmi',\n",
              "  'battalion',\n",
              "  'soldier',\n",
              "  'ukrainerussiawar',\n",
              "  'told',\n",
              "  'russian'],\n",
              " ['clueless',\n",
              "  'ukrain',\n",
              "  'corrupt',\n",
              "  'ukraineunderattack',\n",
              "  'dictat',\n",
              "  'vladimir',\n",
              "  'fight',\n",
              "  'dont',\n",
              "  'soldier',\n",
              "  'putin',\n",
              "  'russia',\n",
              "  'ukrainerussiawar',\n",
              "  'ukrania',\n",
              "  'forc',\n",
              "  'lost',\n",
              "  'sad',\n",
              "  'video',\n",
              "  'root']]"
            ]
          },
          "metadata": {},
          "execution_count": 125
        }
      ]
    },
    {
      "cell_type": "code",
      "source": [
        "#If needed --save to file to inspect\n",
        "#!rm -rf itemsets.txt\n",
        "#input_rdd.saveAsTextFile('itemsets.txt')"
      ],
      "metadata": {
        "id": "WL2RiBNCCyVL"
      },
      "execution_count": null,
      "outputs": []
    },
    {
      "cell_type": "code",
      "source": [
        "n_of_baskets = input_rdd.count()#countlenght\n",
        "MIN_SUPPORT_PERC = 0.2\n",
        "MIN_SUPPORT = math.ceil(n_of_baskets * MIN_SUPPORT_PERC)\n"
      ],
      "metadata": {
        "id": "oZAZDF8B_Vkf"
      },
      "execution_count": null,
      "outputs": []
    },
    {
      "cell_type": "code",
      "source": [
        "MIN_SUPPORT"
      ],
      "metadata": {
        "colab": {
          "base_uri": "https://localhost:8080/"
        },
        "id": "1Lj3NoaZw1m-",
        "outputId": "929d3350-0479-4b1e-860b-08afda2208b1"
      },
      "execution_count": null,
      "outputs": [
        {
          "output_type": "execute_result",
          "data": {
            "text/plain": [
              "45503"
            ]
          },
          "metadata": {},
          "execution_count": 132
        }
      ]
    },
    {
      "cell_type": "code",
      "source": [
        "\n",
        "#FREQUENT SINGLETONS\n",
        "\n",
        "singleton_itemsets_rdd = input_rdd.flatMap(lambda x:x).map(lambda x: (x,1))\n",
        "\n",
        "# Compute frequencies using a reduce operation --count\n",
        "singleton_itemsets_w_frequencies_rdd = singleton_itemsets_rdd.reduceByKey(lambda x,y: x + y)\n",
        "\n",
        "# Filter singletons with a frequency higher than THRESHOLD\n",
        "frequent_singleton_itemsets_rdd = singleton_itemsets_w_frequencies_rdd.map(lambda x: (x[0], x[1])).filter(lambda x: x[1] > MIN_SUPPORT)\n",
        "\n",
        "# These are examples of frequent singleton itemsets with the relative frequency\n",
        "frequent_singleton_itemsets_rdd.take(10)\n"
      ],
      "metadata": {
        "colab": {
          "base_uri": "https://localhost:8080/"
        },
        "id": "_ZLnJc9Kqbpu",
        "outputId": "fa1f82b3-435e-4d71-dafb-82631d9be813"
      },
      "execution_count": null,
      "outputs": [
        {
          "output_type": "execute_result",
          "data": {
            "text/plain": [
              "[('ukrain', 163217), ('russian', 63249), ('putin', 46503), ('russia', 83932)]"
            ]
          },
          "metadata": {},
          "execution_count": 133
        }
      ]
    },
    {
      "cell_type": "code",
      "source": [
        "frequents_RDD= frequent_singleton_itemsets_rdd.map(lambda x:x[0])  \n",
        "frequents_RDD.take(10)##this must not be empty ..first 10 elemnts"
      ],
      "metadata": {
        "colab": {
          "base_uri": "https://localhost:8080/"
        },
        "id": "nrAjHwUmw_d9",
        "outputId": "5326d85b-29e8-4a53-f309-7e221fb425c9"
      },
      "execution_count": null,
      "outputs": [
        {
          "output_type": "execute_result",
          "data": {
            "text/plain": [
              "['ukrain', 'russian', 'putin', 'russia']"
            ]
          },
          "metadata": {},
          "execution_count": 134
        }
      ]
    },
    {
      "cell_type": "markdown",
      "source": [
        "**Important functions**\n",
        "<br>**Get All Possible Candidates(frequent_k-1_set, n)**\n",
        "<br>Generate all the possible k-candidates from the previous frequent (k-1)candidate itemset (where k>1)\n",
        "<br>**count_candidates(transaction_set, candidates_k_set)**\n",
        "<br>Equivalent to a filter and map function. Filter applied on whether the item is present in the initial transaction list, map (yes=1, no=0).\n",
        "<br>Will perform a flatMap(count_candidates(itemset,get_all_possible_candidates))\n"
      ],
      "metadata": {
        "id": "n9z8sUu6LUdu"
      }
    },
    {
      "cell_type": "code",
      "source": [
        "import itertools\n",
        "def get_all_possible_candidates(frequents,n):#all possible combo.\n",
        "  frequents=frequents.collect()#all of them\n",
        "  #Get all of the single items -- remove duplicates\n",
        "  if (n==2):#receive singlets\n",
        "    singles = set()\n",
        "    for item in frequents:#for item\n",
        "      singles.add(item)#add if unique\n",
        "    \n",
        "  if (n>2):#will recieve n-uplets (split)\n",
        "    singles=set() \n",
        "    for itemsets in frequents: \n",
        "      for item in itemsets: #Get each individual item>\n",
        "        singles.add(item) \n",
        "  \n",
        "  print(singles)\n",
        "  #Combine single to form n-uples (no repetition)      \n",
        "  candidates=[set(itemsets) for itemsets in list(itertools.combinations(singles, n))] \n",
        "  print(candidates)\n",
        "  return candidates"
      ],
      "metadata": {
        "id": "UvWRexpcx8Gm"
      },
      "execution_count": 14,
      "outputs": []
    },
    {
      "cell_type": "code",
      "source": [
        "#If given candidate (e.g. combo of item) is a subset of the initial transaction set then append 1 -- if freq\n",
        "def count_candidates(transaction_set, candidates):\n",
        "    c_list = []\n",
        "    for itemsets in candidates:\n",
        "        print(itemsets)                     \n",
        "        if set(list(itemsets)).issubset(set(transaction_set)):#if candidate \n",
        "            c_list.append([tuple(itemsets), 1])\n",
        "            print(c_list)\n",
        "        else:\n",
        "            c_list.append([tuple(itemsets), 0])\n",
        "    return c_list"
      ],
      "metadata": {
        "id": "i189kcdh0glI"
      },
      "execution_count": 15,
      "outputs": []
    },
    {
      "cell_type": "code",
      "source": [
        "def get_frequent_itemsets(candidates, itemsets_rdd, MIN_SUPPORT):\n",
        "    frequent_item_set = itemsets_rdd.flatMap(lambda x: count_candidates(x, candidates)).reduceByKey(lambda a, b: a+b).map(lambda x: x).filter(lambda x: x[1]>=MIN_SUPPORT)\n",
        "    return frequent_item_set"
      ],
      "metadata": {
        "id": "q1OzOD9H0aqw"
      },
      "execution_count": 16,
      "outputs": []
    },
    {
      "cell_type": "code",
      "source": [
        "candidate_sets = get_all_possible_candidates(frequents_RDD, 2)"
      ],
      "metadata": {
        "colab": {
          "base_uri": "https://localhost:8080/"
        },
        "id": "kSID7gXzx9Qa",
        "outputId": "df2d858e-95e7-4303-9d05-077093b6f10d"
      },
      "execution_count": null,
      "outputs": [
        {
          "output_type": "stream",
          "name": "stdout",
          "text": [
            "{'putin', 'russia', 'ukrain', 'russian'}\n",
            "[{'putin', 'russia'}, {'putin', 'ukrain'}, {'putin', 'russian'}, {'russia', 'ukrain'}, {'russia', 'russian'}, {'ukrain', 'russian'}]\n"
          ]
        }
      ]
    },
    {
      "cell_type": "code",
      "source": [
        "len(candidate_sets)##6 possible comb (4!/(2!*2!))"
      ],
      "metadata": {
        "colab": {
          "base_uri": "https://localhost:8080/"
        },
        "id": "VZ3dH62n1YOm",
        "outputId": "e332318f-43cb-41fe-c190-4c75cc0b5a6c"
      },
      "execution_count": null,
      "outputs": [
        {
          "output_type": "execute_result",
          "data": {
            "text/plain": [
              "6"
            ]
          },
          "metadata": {},
          "execution_count": 139
        }
      ]
    },
    {
      "cell_type": "code",
      "source": [
        "candidate_sets"
      ],
      "metadata": {
        "colab": {
          "base_uri": "https://localhost:8080/"
        },
        "id": "3HJcidfpyL-d",
        "outputId": "f1b88fec-cac2-4e02-d7db-c74449f2e1b9"
      },
      "execution_count": null,
      "outputs": [
        {
          "output_type": "execute_result",
          "data": {
            "text/plain": [
              "[{'putin', 'russia'},\n",
              " {'putin', 'ukrain'},\n",
              " {'putin', 'russian'},\n",
              " {'russia', 'ukrain'},\n",
              " {'russia', 'russian'},\n",
              " {'russian', 'ukrain'}]"
            ]
          },
          "metadata": {},
          "execution_count": 140
        }
      ]
    },
    {
      "cell_type": "code",
      "source": [
        "frequent_itemsets = get_frequent_itemsets(candidate_sets, input_rdd, MIN_SUPPORT)"
      ],
      "metadata": {
        "id": "_dGpf9G4A59T"
      },
      "execution_count": null,
      "outputs": []
    },
    {
      "cell_type": "code",
      "source": [
        "frequents_pair_RDD = frequent_itemsets.map(lambda x:x[0])"
      ],
      "metadata": {
        "id": "Y8-k_7KPFM0U"
      },
      "execution_count": null,
      "outputs": []
    },
    {
      "cell_type": "code",
      "source": [
        "frequent_itemsets.take(5)"
      ],
      "metadata": {
        "colab": {
          "base_uri": "https://localhost:8080/"
        },
        "id": "dV-AlywaFQ2m",
        "outputId": "af4a4691-83c8-46e0-9095-97fe8098a3ee"
      },
      "execution_count": null,
      "outputs": [
        {
          "output_type": "execute_result",
          "data": {
            "text/plain": [
              "[(('russia', 'ukrain'), 63693), (('ukrain', 'russian'), 49165)]"
            ]
          },
          "metadata": {},
          "execution_count": 143
        }
      ]
    },
    {
      "cell_type": "code",
      "source": [
        "frequents_pair_RDD.take(5)"
      ],
      "metadata": {
        "colab": {
          "base_uri": "https://localhost:8080/"
        },
        "id": "VUKKkuEeGqe7",
        "outputId": "f9091d3c-04de-4286-fffa-ce568d79d0b7"
      },
      "execution_count": null,
      "outputs": [
        {
          "output_type": "execute_result",
          "data": {
            "text/plain": [
              "[('russia', 'ukrain'), ('ukrain', 'russian')]"
            ]
          },
          "metadata": {},
          "execution_count": 144
        }
      ]
    },
    {
      "cell_type": "code",
      "source": [
        "candidate_sets = get_all_possible_candidates(frequents_pair_RDD, 3)#items --list"
      ],
      "metadata": {
        "colab": {
          "base_uri": "https://localhost:8080/"
        },
        "id": "pdX-77lbLwbL",
        "outputId": "b692d4f6-ac0d-4250-c0cb-1b02e534b4f3"
      },
      "execution_count": null,
      "outputs": [
        {
          "output_type": "stream",
          "name": "stdout",
          "text": [
            "{'russia', 'russian', 'ukrain'}\n",
            "[{'russia', 'russian', 'ukrain'}]\n"
          ]
        }
      ]
    },
    {
      "cell_type": "code",
      "source": [
        "frequent_itemsets = get_frequent_itemsets(candidate_sets, input_rdd, MIN_SUPPORT)"
      ],
      "metadata": {
        "id": "kNx0rpRALxTa"
      },
      "execution_count": null,
      "outputs": []
    },
    {
      "cell_type": "code",
      "source": [
        "frequents_trip_RDD = frequent_itemsets.map(lambda x:x[0])\n"
      ],
      "metadata": {
        "id": "VC5yc9gqL7vo"
      },
      "execution_count": null,
      "outputs": []
    },
    {
      "cell_type": "code",
      "source": [
        "frequents_trip_RDD.take(10)"
      ],
      "metadata": {
        "colab": {
          "base_uri": "https://localhost:8080/"
        },
        "id": "witYukLTL-5U",
        "outputId": "27ba91ab-db71-4d9d-b1d0-05e4d199f373"
      },
      "execution_count": null,
      "outputs": [
        {
          "output_type": "execute_result",
          "data": {
            "text/plain": [
              "[]"
            ]
          },
          "metadata": {},
          "execution_count": 148
        }
      ]
    },
    {
      "cell_type": "markdown",
      "source": [
        "7. Experiments -- size/support vs runtime, trends in user tendencies"
      ],
      "metadata": {
        "id": "Lt6hwlXF9HUE"
      }
    },
    {
      "cell_type": "markdown",
      "source": [
        "Get specific date shell script"
      ],
      "metadata": {
        "id": "hGOzFpIYLcmp"
      }
    },
    {
      "cell_type": "code",
      "source": [
        "sh = \"\"\"\n",
        "specialformat=true\n",
        "if  [ $1 = \"02\" ]\n",
        "then\n",
        "  var=\"FEB\"\n",
        "  echo $var\n",
        "elif  [ $1 = \"03\" ]\n",
        "then\n",
        "  var=\"MAR\"\n",
        "  echo $var\n",
        "else\n",
        "  specialformat=false\n",
        "fi\n",
        "if $specialformat\n",
        "then\n",
        "  (find $PWD -type f -iname \"*$var$2*\" )|tee out\n",
        "else\n",
        "  (find $PWD -type f -iname \"*$1$2*\" )|tee out\n",
        "fi\n",
        "\n",
        "\"\"\"\n",
        "with open('find_file_data.sh', 'w') as file:\n",
        "  file.write(sh)"
      ],
      "metadata": {
        "id": "22f2-qt-X3T-"
      },
      "execution_count": 51,
      "outputs": []
    },
    {
      "cell_type": "markdown",
      "source": [
        "**Additional important functions**\n",
        "<br>**not_empty(freq_sets)**\n",
        "<br>If frequent k-set is not empty return True "
      ],
      "metadata": {
        "id": "JjLHNrDA9XsW"
      }
    },
    {
      "cell_type": "code",
      "source": [
        "#Generate a priori algorithm\n",
        "  #need a while loop\n",
        "def not_empty(freq_sets):\n",
        "    return (freq_sets.count() > 0) and (freq_sets is not None)"
      ],
      "metadata": {
        "id": "FKwrfOui3VEC"
      },
      "execution_count": 17,
      "outputs": []
    },
    {
      "cell_type": "markdown",
      "source": [
        "**Putting everything together in the following functions:**\n",
        "<br>- **apriori(input_rdd,MIN_SUPPORT)**\n",
        "<br> *Find frequent 1->k-uple items using Apriori*\n",
        "<br>- **apply_preprocessing_pipeline(pipeline, dataframe)**\n",
        "<br> *applying the preprocessing pipeline to the selected dataframe*\n",
        "<br>- **generate_results(FILENAME, preprocessing_pipeline, THRESHOLD_PERCENTAGE)**\n",
        "<br> *Generate the results (frequent k-uples) for a specific filename (and a given preprocessing pipeline)*"
      ],
      "metadata": {
        "id": "1-l4T5fD--WT"
      }
    },
    {
      "cell_type": "code",
      "source": [
        "def apriori(input_rdd,MIN_SUPPORT):\n",
        "      \n",
        "   tweet_freqRDD=(input_rdd.flatMap(lambda x:x).map(lambda i: (i, 1)).reduceByKey(lambda a,b: a+b))\n",
        "   ##Frequent_items_and_count_RDD shall be used to saveall the frequent items from 1->k\n",
        "   frequent_items_and_count_RDD= tweet_freqRDD.map(lambda x: (x[0], x[1])).filter(lambda x: x[1]>=MIN_SUPPORT)    \n",
        "   frequent_items_RDD= frequent_items_and_count_RDD.map(lambda x:x[0])\n",
        "   n=2\n",
        "   input_rdd.cache()#taken several times\n",
        "   frequent_itemsets_list = sc.parallelize([])\n",
        "   frequent_itemsets_list+=frequent_items_RDD  \n",
        "\n",
        "   while not_empty(frequent_items_RDD):\n",
        "     \n",
        "     candidate_sets = get_all_possible_candidates(frequent_items_RDD, n)\n",
        "     frequent_itemsets = get_frequent_itemsets(candidate_sets, input_rdd, MIN_SUPPORT)\n",
        "     frequent_items_RDD = frequent_itemsets.map(lambda x:x[0])\n",
        "     #Save all the frequent items from 1->k\n",
        "     frequent_itemsets_list += frequent_items_RDD\n",
        "#     frequent_items_and_count_RDD  = frequent_items_and_count_RDD.union(frequent_itemsets)\n",
        "   \n",
        "     n += 1\n",
        "   input_rdd.unpersist()#once i found all the frequent (1 to k)uples then unpersist\n",
        "   return frequent_itemsets_list"
      ],
      "metadata": {
        "id": "6zvGnRZv3jt4"
      },
      "execution_count": 67,
      "outputs": []
    },
    {
      "cell_type": "code",
      "source": [
        "def apply_preprocessing_pipeline(pipeline, dataframe):\n",
        "    return pipeline.fit(dataframe).transform(dataframe).selectExpr(\"cleanedStemmedTokens.result\")"
      ],
      "metadata": {
        "id": "Gm5uLNnwKBHm"
      },
      "execution_count": 20,
      "outputs": []
    },
    {
      "cell_type": "code",
      "source": [
        "#Try to get a story out of the different tweets\n",
        "# for FEB28 we specify only part1\n",
        "\n",
        "def generate_results(FILENAME, preprocessing_pipeline, THRESHOLD_PERCENTAGE):\n",
        "\n",
        "  # Reading and filtering the dataset acc.g to language\n",
        "  raw_df = spark.read.csv(FILENAME, header=True, escape=\"\\\"\", quote=\"\\\"\", multiLine=True)\n",
        "  filtered_df = raw_df.where(raw_df.language == \"en\").select(\"text\")\n",
        "\n",
        "  # Apply preprocessing pipeline to dataframe.\n",
        "  preprocessed_df = apply_preprocessing_pipeline(preprocessing_pipeline,filtered_df)\n",
        "  # Preparing the RDD for the a_priori_algorithm\n",
        "  input_rdd = preprocessed_df.rdd.map(lambda x: (list(set(x[0]))))\n",
        "\n",
        "  # Defining the threshold\n",
        "  n_of_baskets = input_rdd.count()#countlenght -> 227,513 (rows)\n",
        "  print('No of tweets are ', n_of_baskets)\n",
        "  THRESHOLD = math.ceil(n_of_baskets * THRESHOLD_PERCENTAGE)\n",
        "  print('Min support is ' , THRESHOLD)\n",
        "  # Print the runtime, return frequent 1-kuple \n",
        "  import time \n",
        "  start_time = time.time()\n",
        "  result = apriori(input_rdd, THRESHOLD)\n",
        "  end_time = time.time()\n",
        "  print('Runtime is' , end_time - start_time)\n",
        "\n",
        "  return result"
      ],
      "metadata": {
        "id": "oVkG7o5GMuvV"
      },
      "execution_count": 53,
      "outputs": []
    },
    {
      "cell_type": "code",
      "source": [
        "# Defining the pipeline once (donwload stopwords only once)\n",
        "preprocessing_pipeline = create_preprocessing_pipeline()"
      ],
      "metadata": {
        "colab": {
          "base_uri": "https://localhost:8080/"
        },
        "id": "8S2ecJOVSIBF",
        "outputId": "8d9c173e-65d0-414c-89f8-ba6ac3ac572d"
      },
      "execution_count": 72,
      "outputs": [
        {
          "output_type": "stream",
          "name": "stdout",
          "text": [
            "stopwords_en download started this may take some time.\n",
            "Approximate size to download 2.9 KB\n",
            "[OK!]\n"
          ]
        }
      ]
    },
    {
      "cell_type": "markdown",
      "source": [
        "27th of February - support_percentage = 0.05"
      ],
      "metadata": {
        "id": "fQLbYF-IzAYJ"
      }
    },
    {
      "cell_type": "code",
      "source": [
        "!rm out\n",
        "!bash find_file_data.sh 02 27\n",
        "with open('out', 'r') as file:\n",
        "    PATHNAME = file.readline().strip()\n",
        "    if(PATHNAME == ''):\n",
        "      print(\"Data not found -- exit\")\n",
        "    else:\n",
        "      result_27_02_C005=generate_results(PATHNAME, preprocessing_pipeline,0.05)"
      ],
      "metadata": {
        "colab": {
          "base_uri": "https://localhost:8080/"
        },
        "id": "S2P6mpgWHAyY",
        "outputId": "4eea4da2-e4b5-48ac-f18e-2397088d317f"
      },
      "execution_count": 73,
      "outputs": [
        {
          "output_type": "stream",
          "name": "stdout",
          "text": [
            "FEB\n",
            "/content/UkrWar/UkraineCombinedTweetsDeduped_FEB27.csv.gz\n",
            "No of tweets are  227513\n",
            "Min support is  11376\n",
            "{'russian', 'militari', 'russia', 'peopl', 'war', 'anonym', 'countri', 'kyiv', 'support', 'standwithukrain', 'ukrainian', 'ukrainerussiawar', 'ukrainewar', 'ukrain', 'ukraineunderattack', 'world', 'putin', 'russiaukrainewar'}\n",
            "[{'russian', 'militari'}, {'russian', 'russia'}, {'russian', 'peopl'}, {'war', 'russian'}, {'anonym', 'russian'}, {'russian', 'countri'}, {'russian', 'kyiv'}, {'russian', 'support'}, {'russian', 'standwithukrain'}, {'russian', 'ukrainian'}, {'russian', 'ukrainerussiawar'}, {'russian', 'ukrainewar'}, {'russian', 'ukrain'}, {'ukraineunderattack', 'russian'}, {'russian', 'world'}, {'russian', 'putin'}, {'russian', 'russiaukrainewar'}, {'militari', 'russia'}, {'militari', 'peopl'}, {'war', 'militari'}, {'anonym', 'militari'}, {'countri', 'militari'}, {'militari', 'kyiv'}, {'militari', 'support'}, {'militari', 'standwithukrain'}, {'militari', 'ukrainian'}, {'militari', 'ukrainerussiawar'}, {'militari', 'ukrainewar'}, {'militari', 'ukrain'}, {'ukraineunderattack', 'militari'}, {'militari', 'world'}, {'militari', 'putin'}, {'militari', 'russiaukrainewar'}, {'russia', 'peopl'}, {'war', 'russia'}, {'anonym', 'russia'}, {'countri', 'russia'}, {'kyiv', 'russia'}, {'support', 'russia'}, {'russia', 'standwithukrain'}, {'ukrainian', 'russia'}, {'ukrainerussiawar', 'russia'}, {'russia', 'ukrainewar'}, {'russia', 'ukrain'}, {'ukraineunderattack', 'russia'}, {'world', 'russia'}, {'russia', 'putin'}, {'russia', 'russiaukrainewar'}, {'war', 'peopl'}, {'anonym', 'peopl'}, {'countri', 'peopl'}, {'kyiv', 'peopl'}, {'support', 'peopl'}, {'standwithukrain', 'peopl'}, {'ukrainian', 'peopl'}, {'ukrainerussiawar', 'peopl'}, {'ukrainewar', 'peopl'}, {'ukrain', 'peopl'}, {'ukraineunderattack', 'peopl'}, {'world', 'peopl'}, {'putin', 'peopl'}, {'russiaukrainewar', 'peopl'}, {'war', 'anonym'}, {'war', 'countri'}, {'war', 'kyiv'}, {'war', 'support'}, {'war', 'standwithukrain'}, {'war', 'ukrainian'}, {'war', 'ukrainerussiawar'}, {'war', 'ukrainewar'}, {'war', 'ukrain'}, {'war', 'ukraineunderattack'}, {'war', 'world'}, {'war', 'putin'}, {'war', 'russiaukrainewar'}, {'anonym', 'countri'}, {'anonym', 'kyiv'}, {'anonym', 'support'}, {'anonym', 'standwithukrain'}, {'anonym', 'ukrainian'}, {'anonym', 'ukrainerussiawar'}, {'anonym', 'ukrainewar'}, {'anonym', 'ukrain'}, {'anonym', 'ukraineunderattack'}, {'anonym', 'world'}, {'anonym', 'putin'}, {'anonym', 'russiaukrainewar'}, {'countri', 'kyiv'}, {'countri', 'support'}, {'countri', 'standwithukrain'}, {'countri', 'ukrainian'}, {'countri', 'ukrainerussiawar'}, {'countri', 'ukrainewar'}, {'countri', 'ukrain'}, {'ukraineunderattack', 'countri'}, {'countri', 'world'}, {'countri', 'putin'}, {'countri', 'russiaukrainewar'}, {'kyiv', 'support'}, {'kyiv', 'standwithukrain'}, {'kyiv', 'ukrainian'}, {'kyiv', 'ukrainerussiawar'}, {'kyiv', 'ukrainewar'}, {'kyiv', 'ukrain'}, {'ukraineunderattack', 'kyiv'}, {'kyiv', 'world'}, {'kyiv', 'putin'}, {'kyiv', 'russiaukrainewar'}, {'support', 'standwithukrain'}, {'support', 'ukrainian'}, {'support', 'ukrainerussiawar'}, {'support', 'ukrainewar'}, {'support', 'ukrain'}, {'ukraineunderattack', 'support'}, {'support', 'world'}, {'support', 'putin'}, {'support', 'russiaukrainewar'}, {'ukrainian', 'standwithukrain'}, {'ukrainerussiawar', 'standwithukrain'}, {'ukrainewar', 'standwithukrain'}, {'ukrain', 'standwithukrain'}, {'ukraineunderattack', 'standwithukrain'}, {'world', 'standwithukrain'}, {'putin', 'standwithukrain'}, {'russiaukrainewar', 'standwithukrain'}, {'ukrainian', 'ukrainerussiawar'}, {'ukrainian', 'ukrainewar'}, {'ukrainian', 'ukrain'}, {'ukraineunderattack', 'ukrainian'}, {'ukrainian', 'world'}, {'ukrainian', 'putin'}, {'ukrainian', 'russiaukrainewar'}, {'ukrainerussiawar', 'ukrainewar'}, {'ukrainerussiawar', 'ukrain'}, {'ukraineunderattack', 'ukrainerussiawar'}, {'world', 'ukrainerussiawar'}, {'ukrainerussiawar', 'putin'}, {'ukrainerussiawar', 'russiaukrainewar'}, {'ukrainewar', 'ukrain'}, {'ukraineunderattack', 'ukrainewar'}, {'world', 'ukrainewar'}, {'ukrainewar', 'putin'}, {'ukrainewar', 'russiaukrainewar'}, {'ukraineunderattack', 'ukrain'}, {'world', 'ukrain'}, {'putin', 'ukrain'}, {'russiaukrainewar', 'ukrain'}, {'ukraineunderattack', 'world'}, {'ukraineunderattack', 'putin'}, {'ukraineunderattack', 'russiaukrainewar'}, {'world', 'putin'}, {'world', 'russiaukrainewar'}, {'putin', 'russiaukrainewar'}]\n",
            "{'russian', 'russia', 'peopl', 'war', 'anonym', 'countri', 'kyiv', 'support', 'ukrainian', 'ukrainerussiawar', 'ukrainewar', 'ukrain', 'ukraineunderattack', 'world', 'putin'}\n",
            "[{'russian', 'russia', 'peopl'}, {'war', 'russian', 'russia'}, {'anonym', 'russian', 'russia'}, {'russian', 'russia', 'countri'}, {'russian', 'kyiv', 'russia'}, {'russian', 'support', 'russia'}, {'russian', 'ukrainian', 'russia'}, {'russian', 'ukrainerussiawar', 'russia'}, {'russian', 'russia', 'ukrainewar'}, {'russian', 'russia', 'ukrain'}, {'ukraineunderattack', 'russian', 'russia'}, {'russian', 'world', 'russia'}, {'russian', 'russia', 'putin'}, {'war', 'russian', 'peopl'}, {'anonym', 'russian', 'peopl'}, {'russian', 'countri', 'peopl'}, {'russian', 'kyiv', 'peopl'}, {'russian', 'support', 'peopl'}, {'russian', 'ukrainian', 'peopl'}, {'russian', 'ukrainerussiawar', 'peopl'}, {'russian', 'ukrainewar', 'peopl'}, {'russian', 'ukrain', 'peopl'}, {'ukraineunderattack', 'russian', 'peopl'}, {'russian', 'world', 'peopl'}, {'russian', 'putin', 'peopl'}, {'war', 'anonym', 'russian'}, {'war', 'russian', 'countri'}, {'war', 'russian', 'kyiv'}, {'war', 'russian', 'support'}, {'war', 'russian', 'ukrainian'}, {'war', 'russian', 'ukrainerussiawar'}, {'war', 'russian', 'ukrainewar'}, {'war', 'russian', 'ukrain'}, {'war', 'ukraineunderattack', 'russian'}, {'war', 'russian', 'world'}, {'war', 'russian', 'putin'}, {'anonym', 'russian', 'countri'}, {'anonym', 'russian', 'kyiv'}, {'anonym', 'russian', 'support'}, {'anonym', 'russian', 'ukrainian'}, {'anonym', 'russian', 'ukrainerussiawar'}, {'anonym', 'russian', 'ukrainewar'}, {'anonym', 'russian', 'ukrain'}, {'anonym', 'russian', 'ukraineunderattack'}, {'anonym', 'russian', 'world'}, {'anonym', 'russian', 'putin'}, {'russian', 'kyiv', 'countri'}, {'russian', 'support', 'countri'}, {'russian', 'ukrainian', 'countri'}, {'russian', 'ukrainerussiawar', 'countri'}, {'russian', 'countri', 'ukrainewar'}, {'russian', 'countri', 'ukrain'}, {'ukraineunderattack', 'russian', 'countri'}, {'russian', 'world', 'countri'}, {'russian', 'countri', 'putin'}, {'russian', 'kyiv', 'support'}, {'russian', 'kyiv', 'ukrainian'}, {'russian', 'kyiv', 'ukrainerussiawar'}, {'russian', 'kyiv', 'ukrainewar'}, {'russian', 'kyiv', 'ukrain'}, {'ukraineunderattack', 'russian', 'kyiv'}, {'russian', 'kyiv', 'world'}, {'russian', 'kyiv', 'putin'}, {'russian', 'support', 'ukrainian'}, {'russian', 'support', 'ukrainerussiawar'}, {'russian', 'support', 'ukrainewar'}, {'russian', 'support', 'ukrain'}, {'ukraineunderattack', 'russian', 'support'}, {'russian', 'support', 'world'}, {'russian', 'support', 'putin'}, {'russian', 'ukrainian', 'ukrainerussiawar'}, {'russian', 'ukrainian', 'ukrainewar'}, {'russian', 'ukrainian', 'ukrain'}, {'ukraineunderattack', 'russian', 'ukrainian'}, {'russian', 'ukrainian', 'world'}, {'russian', 'ukrainian', 'putin'}, {'russian', 'ukrainerussiawar', 'ukrainewar'}, {'russian', 'ukrainerussiawar', 'ukrain'}, {'ukraineunderattack', 'russian', 'ukrainerussiawar'}, {'russian', 'ukrainerussiawar', 'world'}, {'russian', 'ukrainerussiawar', 'putin'}, {'russian', 'ukrainewar', 'ukrain'}, {'ukraineunderattack', 'russian', 'ukrainewar'}, {'russian', 'world', 'ukrainewar'}, {'russian', 'ukrainewar', 'putin'}, {'ukraineunderattack', 'russian', 'ukrain'}, {'russian', 'world', 'ukrain'}, {'russian', 'putin', 'ukrain'}, {'ukraineunderattack', 'russian', 'world'}, {'ukraineunderattack', 'russian', 'putin'}, {'russian', 'world', 'putin'}, {'war', 'russia', 'peopl'}, {'anonym', 'russia', 'peopl'}, {'countri', 'russia', 'peopl'}, {'kyiv', 'russia', 'peopl'}, {'support', 'russia', 'peopl'}, {'ukrainian', 'russia', 'peopl'}, {'ukrainerussiawar', 'russia', 'peopl'}, {'russia', 'ukrainewar', 'peopl'}, {'ukrain', 'russia', 'peopl'}, {'ukraineunderattack', 'russia', 'peopl'}, {'world', 'russia', 'peopl'}, {'russia', 'putin', 'peopl'}, {'war', 'anonym', 'russia'}, {'war', 'countri', 'russia'}, {'war', 'kyiv', 'russia'}, {'war', 'support', 'russia'}, {'war', 'ukrainian', 'russia'}, {'war', 'ukrainerussiawar', 'russia'}, {'war', 'russia', 'ukrainewar'}, {'war', 'russia', 'ukrain'}, {'war', 'ukraineunderattack', 'russia'}, {'war', 'world', 'russia'}, {'war', 'russia', 'putin'}, {'anonym', 'countri', 'russia'}, {'anonym', 'kyiv', 'russia'}, {'anonym', 'support', 'russia'}, {'anonym', 'ukrainian', 'russia'}, {'anonym', 'ukrainerussiawar', 'russia'}, {'anonym', 'russia', 'ukrainewar'}, {'anonym', 'russia', 'ukrain'}, {'anonym', 'russia', 'ukraineunderattack'}, {'anonym', 'world', 'russia'}, {'anonym', 'russia', 'putin'}, {'countri', 'kyiv', 'russia'}, {'countri', 'support', 'russia'}, {'countri', 'ukrainian', 'russia'}, {'countri', 'ukrainerussiawar', 'russia'}, {'countri', 'russia', 'ukrainewar'}, {'countri', 'russia', 'ukrain'}, {'ukraineunderattack', 'countri', 'russia'}, {'countri', 'world', 'russia'}, {'countri', 'russia', 'putin'}, {'support', 'kyiv', 'russia'}, {'kyiv', 'russia', 'ukrainian'}, {'kyiv', 'ukrainerussiawar', 'russia'}, {'kyiv', 'russia', 'ukrainewar'}, {'kyiv', 'russia', 'ukrain'}, {'ukraineunderattack', 'kyiv', 'russia'}, {'kyiv', 'world', 'russia'}, {'kyiv', 'russia', 'putin'}, {'support', 'russia', 'ukrainian'}, {'support', 'ukrainerussiawar', 'russia'}, {'support', 'russia', 'ukrainewar'}, {'support', 'russia', 'ukrain'}, {'ukraineunderattack', 'support', 'russia'}, {'support', 'world', 'russia'}, {'support', 'russia', 'putin'}, {'ukrainian', 'ukrainerussiawar', 'russia'}, {'ukrainian', 'russia', 'ukrainewar'}, {'ukrainian', 'russia', 'ukrain'}, {'ukraineunderattack', 'ukrainian', 'russia'}, {'ukrainian', 'world', 'russia'}, {'ukrainian', 'russia', 'putin'}, {'ukrainerussiawar', 'russia', 'ukrainewar'}, {'ukrainerussiawar', 'russia', 'ukrain'}, {'ukraineunderattack', 'ukrainerussiawar', 'russia'}, {'world', 'ukrainerussiawar', 'russia'}, {'ukrainerussiawar', 'russia', 'putin'}, {'russia', 'ukrainewar', 'ukrain'}, {'ukraineunderattack', 'russia', 'ukrainewar'}, {'world', 'russia', 'ukrainewar'}, {'russia', 'ukrainewar', 'putin'}, {'ukraineunderattack', 'russia', 'ukrain'}, {'world', 'russia', 'ukrain'}, {'russia', 'putin', 'ukrain'}, {'ukraineunderattack', 'world', 'russia'}, {'ukraineunderattack', 'russia', 'putin'}, {'world', 'russia', 'putin'}, {'war', 'anonym', 'peopl'}, {'war', 'countri', 'peopl'}, {'war', 'kyiv', 'peopl'}, {'war', 'support', 'peopl'}, {'war', 'ukrainian', 'peopl'}, {'war', 'ukrainerussiawar', 'peopl'}, {'war', 'ukrainewar', 'peopl'}, {'war', 'ukrain', 'peopl'}, {'war', 'ukraineunderattack', 'peopl'}, {'war', 'world', 'peopl'}, {'war', 'putin', 'peopl'}, {'anonym', 'countri', 'peopl'}, {'anonym', 'kyiv', 'peopl'}, {'anonym', 'support', 'peopl'}, {'anonym', 'ukrainian', 'peopl'}, {'anonym', 'ukrainerussiawar', 'peopl'}, {'anonym', 'ukrainewar', 'peopl'}, {'anonym', 'ukrain', 'peopl'}, {'anonym', 'ukraineunderattack', 'peopl'}, {'anonym', 'world', 'peopl'}, {'anonym', 'putin', 'peopl'}, {'countri', 'kyiv', 'peopl'}, {'countri', 'support', 'peopl'}, {'countri', 'ukrainian', 'peopl'}, {'countri', 'ukrainerussiawar', 'peopl'}, {'countri', 'ukrainewar', 'peopl'}, {'countri', 'ukrain', 'peopl'}, {'ukraineunderattack', 'countri', 'peopl'}, {'countri', 'world', 'peopl'}, {'countri', 'putin', 'peopl'}, {'kyiv', 'support', 'peopl'}, {'kyiv', 'ukrainian', 'peopl'}, {'kyiv', 'ukrainerussiawar', 'peopl'}, {'kyiv', 'ukrainewar', 'peopl'}, {'ukrain', 'kyiv', 'peopl'}, {'ukraineunderattack', 'kyiv', 'peopl'}, {'kyiv', 'world', 'peopl'}, {'kyiv', 'putin', 'peopl'}, {'support', 'ukrainian', 'peopl'}, {'support', 'ukrainerussiawar', 'peopl'}, {'support', 'ukrainewar', 'peopl'}, {'ukrain', 'support', 'peopl'}, {'ukraineunderattack', 'support', 'peopl'}, {'support', 'world', 'peopl'}, {'support', 'putin', 'peopl'}, {'ukrainian', 'ukrainerussiawar', 'peopl'}, {'ukrainian', 'ukrainewar', 'peopl'}, {'ukrain', 'ukrainian', 'peopl'}, {'ukraineunderattack', 'ukrainian', 'peopl'}, {'ukrainian', 'world', 'peopl'}, {'ukrainian', 'putin', 'peopl'}, {'ukrainerussiawar', 'ukrainewar', 'peopl'}, {'ukrain', 'ukrainerussiawar', 'peopl'}, {'ukraineunderattack', 'ukrainerussiawar', 'peopl'}, {'world', 'ukrainerussiawar', 'peopl'}, {'ukrainerussiawar', 'putin', 'peopl'}, {'ukrain', 'ukrainewar', 'peopl'}, {'ukraineunderattack', 'ukrainewar', 'peopl'}, {'world', 'ukrainewar', 'peopl'}, {'ukrainewar', 'putin', 'peopl'}, {'ukraineunderattack', 'ukrain', 'peopl'}, {'ukrain', 'world', 'peopl'}, {'ukrain', 'putin', 'peopl'}, {'ukraineunderattack', 'world', 'peopl'}, {'ukraineunderattack', 'putin', 'peopl'}, {'world', 'putin', 'peopl'}, {'war', 'anonym', 'countri'}, {'war', 'anonym', 'kyiv'}, {'war', 'anonym', 'support'}, {'war', 'anonym', 'ukrainian'}, {'war', 'anonym', 'ukrainerussiawar'}, {'war', 'anonym', 'ukrainewar'}, {'war', 'anonym', 'ukrain'}, {'war', 'anonym', 'ukraineunderattack'}, {'war', 'anonym', 'world'}, {'war', 'anonym', 'putin'}, {'war', 'countri', 'kyiv'}, {'war', 'countri', 'support'}, {'war', 'countri', 'ukrainian'}, {'war', 'countri', 'ukrainerussiawar'}, {'war', 'countri', 'ukrainewar'}, {'war', 'countri', 'ukrain'}, {'war', 'ukraineunderattack', 'countri'}, {'war', 'countri', 'world'}, {'war', 'countri', 'putin'}, {'war', 'kyiv', 'support'}, {'war', 'kyiv', 'ukrainian'}, {'war', 'kyiv', 'ukrainerussiawar'}, {'war', 'kyiv', 'ukrainewar'}, {'war', 'kyiv', 'ukrain'}, {'war', 'ukraineunderattack', 'kyiv'}, {'war', 'kyiv', 'world'}, {'war', 'kyiv', 'putin'}, {'war', 'support', 'ukrainian'}, {'war', 'support', 'ukrainerussiawar'}, {'war', 'support', 'ukrainewar'}, {'war', 'support', 'ukrain'}, {'war', 'ukraineunderattack', 'support'}, {'war', 'support', 'world'}, {'war', 'support', 'putin'}, {'war', 'ukrainian', 'ukrainerussiawar'}, {'war', 'ukrainian', 'ukrainewar'}, {'war', 'ukrainian', 'ukrain'}, {'war', 'ukraineunderattack', 'ukrainian'}, {'war', 'ukrainian', 'world'}, {'war', 'ukrainian', 'putin'}, {'war', 'ukrainerussiawar', 'ukrainewar'}, {'war', 'ukrainerussiawar', 'ukrain'}, {'war', 'ukraineunderattack', 'ukrainerussiawar'}, {'war', 'world', 'ukrainerussiawar'}, {'war', 'ukrainerussiawar', 'putin'}, {'war', 'ukrainewar', 'ukrain'}, {'war', 'ukraineunderattack', 'ukrainewar'}, {'war', 'world', 'ukrainewar'}, {'war', 'ukrainewar', 'putin'}, {'war', 'ukraineunderattack', 'ukrain'}, {'war', 'world', 'ukrain'}, {'war', 'putin', 'ukrain'}, {'war', 'ukraineunderattack', 'world'}, {'war', 'ukraineunderattack', 'putin'}, {'war', 'world', 'putin'}, {'anonym', 'countri', 'kyiv'}, {'anonym', 'countri', 'support'}, {'anonym', 'countri', 'ukrainian'}, {'anonym', 'countri', 'ukrainerussiawar'}, {'anonym', 'countri', 'ukrainewar'}, {'anonym', 'countri', 'ukrain'}, {'anonym', 'countri', 'ukraineunderattack'}, {'anonym', 'countri', 'world'}, {'anonym', 'countri', 'putin'}, {'anonym', 'kyiv', 'support'}, {'anonym', 'kyiv', 'ukrainian'}, {'anonym', 'kyiv', 'ukrainerussiawar'}, {'anonym', 'kyiv', 'ukrainewar'}, {'anonym', 'kyiv', 'ukrain'}, {'anonym', 'kyiv', 'ukraineunderattack'}, {'anonym', 'kyiv', 'world'}, {'anonym', 'kyiv', 'putin'}, {'anonym', 'support', 'ukrainian'}, {'anonym', 'support', 'ukrainerussiawar'}, {'anonym', 'support', 'ukrainewar'}, {'anonym', 'support', 'ukrain'}, {'anonym', 'support', 'ukraineunderattack'}, {'anonym', 'support', 'world'}, {'anonym', 'support', 'putin'}, {'anonym', 'ukrainian', 'ukrainerussiawar'}, {'anonym', 'ukrainian', 'ukrainewar'}, {'anonym', 'ukrainian', 'ukrain'}, {'anonym', 'ukrainian', 'ukraineunderattack'}, {'anonym', 'ukrainian', 'world'}, {'anonym', 'ukrainian', 'putin'}, {'anonym', 'ukrainerussiawar', 'ukrainewar'}, {'anonym', 'ukrainerussiawar', 'ukrain'}, {'anonym', 'ukrainerussiawar', 'ukraineunderattack'}, {'anonym', 'world', 'ukrainerussiawar'}, {'anonym', 'ukrainerussiawar', 'putin'}, {'anonym', 'ukrainewar', 'ukrain'}, {'anonym', 'ukrainewar', 'ukraineunderattack'}, {'anonym', 'world', 'ukrainewar'}, {'anonym', 'ukrainewar', 'putin'}, {'anonym', 'ukraineunderattack', 'ukrain'}, {'anonym', 'world', 'ukrain'}, {'anonym', 'putin', 'ukrain'}, {'anonym', 'world', 'ukraineunderattack'}, {'anonym', 'putin', 'ukraineunderattack'}, {'anonym', 'world', 'putin'}, {'countri', 'kyiv', 'support'}, {'countri', 'kyiv', 'ukrainian'}, {'countri', 'kyiv', 'ukrainerussiawar'}, {'countri', 'kyiv', 'ukrainewar'}, {'countri', 'kyiv', 'ukrain'}, {'ukraineunderattack', 'countri', 'kyiv'}, {'countri', 'kyiv', 'world'}, {'countri', 'kyiv', 'putin'}, {'countri', 'support', 'ukrainian'}, {'countri', 'support', 'ukrainerussiawar'}, {'countri', 'support', 'ukrainewar'}, {'countri', 'support', 'ukrain'}, {'ukraineunderattack', 'countri', 'support'}, {'countri', 'support', 'world'}, {'countri', 'support', 'putin'}, {'countri', 'ukrainian', 'ukrainerussiawar'}, {'countri', 'ukrainian', 'ukrainewar'}, {'countri', 'ukrainian', 'ukrain'}, {'ukraineunderattack', 'countri', 'ukrainian'}, {'countri', 'ukrainian', 'world'}, {'countri', 'ukrainian', 'putin'}, {'countri', 'ukrainerussiawar', 'ukrainewar'}, {'countri', 'ukrainerussiawar', 'ukrain'}, {'ukraineunderattack', 'countri', 'ukrainerussiawar'}, {'countri', 'ukrainerussiawar', 'world'}, {'countri', 'ukrainerussiawar', 'putin'}, {'countri', 'ukrainewar', 'ukrain'}, {'ukraineunderattack', 'countri', 'ukrainewar'}, {'countri', 'world', 'ukrainewar'}, {'countri', 'ukrainewar', 'putin'}, {'ukraineunderattack', 'countri', 'ukrain'}, {'countri', 'world', 'ukrain'}, {'countri', 'putin', 'ukrain'}, {'ukraineunderattack', 'countri', 'world'}, {'ukraineunderattack', 'countri', 'putin'}, {'countri', 'world', 'putin'}, {'kyiv', 'support', 'ukrainian'}, {'kyiv', 'ukrainerussiawar', 'support'}, {'kyiv', 'support', 'ukrainewar'}, {'kyiv', 'support', 'ukrain'}, {'ukraineunderattack', 'kyiv', 'support'}, {'kyiv', 'world', 'support'}, {'kyiv', 'support', 'putin'}, {'kyiv', 'ukrainerussiawar', 'ukrainian'}, {'kyiv', 'ukrainewar', 'ukrainian'}, {'kyiv', 'ukrainian', 'ukrain'}, {'ukraineunderattack', 'kyiv', 'ukrainian'}, {'kyiv', 'world', 'ukrainian'}, {'kyiv', 'putin', 'ukrainian'}, {'kyiv', 'ukrainerussiawar', 'ukrainewar'}, {'kyiv', 'ukrainerussiawar', 'ukrain'}, {'ukraineunderattack', 'kyiv', 'ukrainerussiawar'}, {'world', 'kyiv', 'ukrainerussiawar'}, {'kyiv', 'ukrainerussiawar', 'putin'}, {'kyiv', 'ukrainewar', 'ukrain'}, {'ukraineunderattack', 'kyiv', 'ukrainewar'}, {'kyiv', 'world', 'ukrainewar'}, {'kyiv', 'ukrainewar', 'putin'}, {'ukraineunderattack', 'kyiv', 'ukrain'}, {'kyiv', 'world', 'ukrain'}, {'kyiv', 'putin', 'ukrain'}, {'ukraineunderattack', 'kyiv', 'world'}, {'ukraineunderattack', 'kyiv', 'putin'}, {'kyiv', 'world', 'putin'}, {'support', 'ukrainerussiawar', 'ukrainian'}, {'support', 'ukrainewar', 'ukrainian'}, {'support', 'ukrainian', 'ukrain'}, {'ukraineunderattack', 'support', 'ukrainian'}, {'support', 'world', 'ukrainian'}, {'support', 'putin', 'ukrainian'}, {'support', 'ukrainerussiawar', 'ukrainewar'}, {'support', 'ukrainerussiawar', 'ukrain'}, {'ukraineunderattack', 'support', 'ukrainerussiawar'}, {'world', 'support', 'ukrainerussiawar'}, {'support', 'ukrainerussiawar', 'putin'}, {'support', 'ukrainewar', 'ukrain'}, {'ukraineunderattack', 'support', 'ukrainewar'}, {'support', 'world', 'ukrainewar'}, {'support', 'ukrainewar', 'putin'}, {'ukraineunderattack', 'support', 'ukrain'}, {'support', 'world', 'ukrain'}, {'support', 'putin', 'ukrain'}, {'ukraineunderattack', 'support', 'world'}, {'ukraineunderattack', 'support', 'putin'}, {'support', 'world', 'putin'}, {'ukrainian', 'ukrainerussiawar', 'ukrainewar'}, {'ukrainian', 'ukrainerussiawar', 'ukrain'}, {'ukraineunderattack', 'ukrainian', 'ukrainerussiawar'}, {'world', 'ukrainian', 'ukrainerussiawar'}, {'ukrainian', 'ukrainerussiawar', 'putin'}, {'ukrainian', 'ukrainewar', 'ukrain'}, {'ukraineunderattack', 'ukrainian', 'ukrainewar'}, {'ukrainian', 'world', 'ukrainewar'}, {'ukrainian', 'ukrainewar', 'putin'}, {'ukraineunderattack', 'ukrainian', 'ukrain'}, {'ukrainian', 'world', 'ukrain'}, {'ukrainian', 'putin', 'ukrain'}, {'ukraineunderattack', 'ukrainian', 'world'}, {'ukraineunderattack', 'ukrainian', 'putin'}, {'ukrainian', 'world', 'putin'}, {'ukrainerussiawar', 'ukrainewar', 'ukrain'}, {'ukraineunderattack', 'ukrainerussiawar', 'ukrainewar'}, {'world', 'ukrainerussiawar', 'ukrainewar'}, {'ukrainerussiawar', 'ukrainewar', 'putin'}, {'ukraineunderattack', 'ukrainerussiawar', 'ukrain'}, {'world', 'ukrainerussiawar', 'ukrain'}, {'ukrainerussiawar', 'putin', 'ukrain'}, {'ukraineunderattack', 'world', 'ukrainerussiawar'}, {'ukraineunderattack', 'ukrainerussiawar', 'putin'}, {'world', 'ukrainerussiawar', 'putin'}, {'ukraineunderattack', 'ukrainewar', 'ukrain'}, {'world', 'ukrainewar', 'ukrain'}, {'ukrainewar', 'putin', 'ukrain'}, {'ukraineunderattack', 'world', 'ukrainewar'}, {'ukraineunderattack', 'ukrainewar', 'putin'}, {'world', 'ukrainewar', 'putin'}, {'ukraineunderattack', 'world', 'ukrain'}, {'ukraineunderattack', 'putin', 'ukrain'}, {'world', 'putin', 'ukrain'}, {'ukraineunderattack', 'world', 'putin'}]\n",
            "{'russian', 'russia', 'war', 'ukrainian', 'ukrain', 'putin'}\n",
            "[{'war', 'russian', 'ukrainian', 'russia'}, {'war', 'russian', 'russia', 'ukrain'}, {'war', 'russian', 'russia', 'putin'}, {'russian', 'ukrainian', 'russia', 'ukrain'}, {'russian', 'ukrainian', 'russia', 'putin'}, {'russian', 'russia', 'putin', 'ukrain'}, {'war', 'russian', 'ukrainian', 'ukrain'}, {'war', 'russian', 'ukrainian', 'putin'}, {'war', 'russian', 'putin', 'ukrain'}, {'russian', 'ukrainian', 'putin', 'ukrain'}, {'war', 'ukrainian', 'russia', 'ukrain'}, {'war', 'ukrainian', 'russia', 'putin'}, {'war', 'russia', 'putin', 'ukrain'}, {'ukrainian', 'russia', 'putin', 'ukrain'}, {'war', 'ukrainian', 'putin', 'ukrain'}]\n",
            "Runtime is 5703.1376576423645\n"
          ]
        }
      ]
    },
    {
      "cell_type": "code",
      "source": [
        "result_27_02_C005.collect()"
      ],
      "metadata": {
        "colab": {
          "base_uri": "https://localhost:8080/"
        },
        "id": "ccGPF2vi0QnN",
        "outputId": "38c17ac5-0ae4-47e4-943a-3598f56c3fb6"
      },
      "execution_count": 74,
      "outputs": [
        {
          "output_type": "execute_result",
          "data": {
            "text/plain": [
              "['ukrain',\n",
              " 'ukrainerussiawar',\n",
              " 'russian',\n",
              " 'ukraineunderattack',\n",
              " 'putin',\n",
              " 'russia',\n",
              " 'ukrainian',\n",
              " 'kyiv',\n",
              " 'peopl',\n",
              " 'world',\n",
              " 'war',\n",
              " 'russiaukrainewar',\n",
              " 'ukrainewar',\n",
              " 'anonym',\n",
              " 'standwithukrain',\n",
              " 'support',\n",
              " 'militari',\n",
              " 'countri',\n",
              " ('russia', 'russian'),\n",
              " ('ukrainian', 'russian'),\n",
              " ('ukrain', 'russian'),\n",
              " ('putin', 'russian'),\n",
              " ('russia', 'war'),\n",
              " ('russia', 'ukrainian'),\n",
              " ('russia', 'ukrain'),\n",
              " ('putin', 'russia'),\n",
              " ('peopl', 'ukrain'),\n",
              " ('ukrain', 'war'),\n",
              " ('anonym', 'ukrain'),\n",
              " ('countri', 'ukrain'),\n",
              " ('ukrain', 'kyiv'),\n",
              " ('ukrain', 'support'),\n",
              " ('ukrain', 'ukrainian'),\n",
              " ('ukrainerussiawar', 'ukrain'),\n",
              " ('ukrainewar', 'ukrain'),\n",
              " ('ukrain', 'ukraineunderattack'),\n",
              " ('ukrain', 'world'),\n",
              " ('putin', 'ukrain'),\n",
              " ('russia', 'ukrain', 'russian'),\n",
              " ('ukrain', 'ukrainian', 'russian'),\n",
              " ('russia', 'ukrain', 'war'),\n",
              " ('russia', 'ukrain', 'ukrainian'),\n",
              " ('putin', 'russia', 'ukrain')]"
            ]
          },
          "metadata": {},
          "execution_count": 74
        }
      ]
    },
    {
      "cell_type": "markdown",
      "source": [
        "27th of February - support_percentage = 0.1\n",
        "\n"
      ],
      "metadata": {
        "id": "zSqa3VheCWSA"
      }
    },
    {
      "cell_type": "code",
      "source": [
        "#Focus on one day (largest) -- but vary LIMIT--record time (take 5 measures). Find best compromise for future ones\n",
        "#find file\n",
        "!rm out\n",
        "!bash find_file_data.sh 02 27\n",
        "with open('out', 'r') as file:\n",
        "    PATHNAME = file.readline().strip()\n",
        "    if(PATHNAME == ''):\n",
        "      print(\"Data not found -- exit\")\n",
        "    else:\n",
        "      result_27_02_C01=generate_results(PATHNAME, preprocessing_pipeline,0.1)"
      ],
      "metadata": {
        "colab": {
          "base_uri": "https://localhost:8080/"
        },
        "id": "9iPqxCDDYrrP",
        "outputId": "eb0474b1-77aa-4177-80c3-d9d3c09b3bc1"
      },
      "execution_count": 75,
      "outputs": [
        {
          "output_type": "stream",
          "name": "stdout",
          "text": [
            "FEB\n",
            "/content/UkrWar/UkraineCombinedTweetsDeduped_FEB27.csv.gz\n",
            "No of tweets are  227513\n",
            "Min support is  22752\n",
            "{'russian', 'russia', 'peopl', 'war', 'kyiv', 'ukrainian', 'ukrainerussiawar', 'ukrain', 'putin'}\n",
            "[{'russian', 'russia'}, {'russian', 'peopl'}, {'war', 'russian'}, {'russian', 'kyiv'}, {'russian', 'ukrainian'}, {'russian', 'ukrainerussiawar'}, {'russian', 'ukrain'}, {'russian', 'putin'}, {'russia', 'peopl'}, {'war', 'russia'}, {'kyiv', 'russia'}, {'ukrainian', 'russia'}, {'ukrainerussiawar', 'russia'}, {'russia', 'ukrain'}, {'russia', 'putin'}, {'war', 'peopl'}, {'kyiv', 'peopl'}, {'ukrainian', 'peopl'}, {'ukrainerussiawar', 'peopl'}, {'ukrain', 'peopl'}, {'putin', 'peopl'}, {'war', 'kyiv'}, {'war', 'ukrainian'}, {'war', 'ukrainerussiawar'}, {'war', 'ukrain'}, {'war', 'putin'}, {'kyiv', 'ukrainian'}, {'kyiv', 'ukrainerussiawar'}, {'kyiv', 'ukrain'}, {'kyiv', 'putin'}, {'ukrainian', 'ukrainerussiawar'}, {'ukrainian', 'ukrain'}, {'ukrainian', 'putin'}, {'ukrainerussiawar', 'ukrain'}, {'ukrainerussiawar', 'putin'}, {'putin', 'ukrain'}]\n",
            "{'russian', 'russia', 'war', 'ukrainian', 'ukrain', 'putin'}\n",
            "[{'war', 'russian', 'russia'}, {'russian', 'ukrainian', 'russia'}, {'russian', 'russia', 'ukrain'}, {'russian', 'russia', 'putin'}, {'war', 'russian', 'ukrainian'}, {'war', 'russian', 'ukrain'}, {'war', 'russian', 'putin'}, {'russian', 'ukrainian', 'ukrain'}, {'russian', 'ukrainian', 'putin'}, {'russian', 'putin', 'ukrain'}, {'war', 'ukrainian', 'russia'}, {'war', 'russia', 'ukrain'}, {'war', 'russia', 'putin'}, {'ukrainian', 'russia', 'ukrain'}, {'ukrainian', 'russia', 'putin'}, {'russia', 'putin', 'ukrain'}, {'war', 'ukrainian', 'ukrain'}, {'war', 'ukrainian', 'putin'}, {'war', 'putin', 'ukrain'}, {'ukrainian', 'putin', 'ukrain'}]\n",
            "Runtime is 855.9578392505646\n"
          ]
        }
      ]
    },
    {
      "cell_type": "code",
      "source": [
        "result_27_02_C01.collect()"
      ],
      "metadata": {
        "colab": {
          "base_uri": "https://localhost:8080/"
        },
        "id": "LkRbhqlP_n3k",
        "outputId": "20566667-1dcd-472e-a554-fd69dcef964c"
      },
      "execution_count": 76,
      "outputs": [
        {
          "output_type": "execute_result",
          "data": {
            "text/plain": [
              "['ukrain',\n",
              " 'ukrainerussiawar',\n",
              " 'russian',\n",
              " 'putin',\n",
              " 'russia',\n",
              " 'ukrainian',\n",
              " 'kyiv',\n",
              " 'peopl',\n",
              " 'war',\n",
              " ('russia', 'russian'),\n",
              " ('ukrain', 'russian'),\n",
              " ('russia', 'ukrain'),\n",
              " ('ukrain', 'war'),\n",
              " ('ukrain', 'ukrainian'),\n",
              " ('putin', 'ukrain')]"
            ]
          },
          "metadata": {},
          "execution_count": 76
        }
      ]
    },
    {
      "cell_type": "markdown",
      "source": [
        "27th of February - support_percentage = 0.15"
      ],
      "metadata": {
        "id": "Ric-RDnKzCQP"
      }
    },
    {
      "cell_type": "code",
      "source": [
        "#Focus on one day (largest)-- but vary LIMIT--record time (take 5 measures). Find best compromise for future ones\n",
        "#find file\n",
        "!rm out\n",
        "!bash find_file_data.sh 02 27\n",
        "with open('out', 'r') as file:\n",
        "    PATHNAME = file.readline().strip()\n",
        "    if(PATHNAME == ''):\n",
        "      print(\"Data not found -- exit\")\n",
        "    else:\n",
        "      result_27_02_C015=generate_results(PATHNAME, preprocessing_pipeline,0.15)"
      ],
      "metadata": {
        "colab": {
          "base_uri": "https://localhost:8080/"
        },
        "id": "o6d50hIMU0fU",
        "outputId": "1c2f2cd8-46e7-4a21-96e6-78549ba6d71f"
      },
      "execution_count": 77,
      "outputs": [
        {
          "output_type": "stream",
          "name": "stdout",
          "text": [
            "FEB\n",
            "/content/UkrWar/UkraineCombinedTweetsDeduped_FEB27.csv.gz\n",
            "No of tweets are  227513\n",
            "Min support is  34127\n",
            "{'russian', 'russia', 'ukrainian', 'ukrain', 'putin'}\n",
            "[{'russian', 'russia'}, {'russian', 'ukrainian'}, {'russian', 'ukrain'}, {'russian', 'putin'}, {'ukrainian', 'russia'}, {'russia', 'ukrain'}, {'russia', 'putin'}, {'ukrainian', 'ukrain'}, {'ukrainian', 'putin'}, {'putin', 'ukrain'}]\n",
            "{'russian', 'russia', 'ukrain'}\n",
            "[{'russian', 'russia', 'ukrain'}]\n",
            "Runtime is 612.6119410991669\n"
          ]
        }
      ]
    },
    {
      "cell_type": "code",
      "source": [
        "result_27_02_C015.collect()"
      ],
      "metadata": {
        "colab": {
          "base_uri": "https://localhost:8080/"
        },
        "id": "oW6jW0Sm_o-P",
        "outputId": "56260785-7702-4da4-8fdb-2f23ed0c923a"
      },
      "execution_count": 78,
      "outputs": [
        {
          "output_type": "execute_result",
          "data": {
            "text/plain": [
              "['ukrain',\n",
              " 'russian',\n",
              " 'putin',\n",
              " 'russia',\n",
              " 'ukrainian',\n",
              " ('ukrain', 'russian'),\n",
              " ('russia', 'ukrain')]"
            ]
          },
          "metadata": {},
          "execution_count": 78
        }
      ]
    },
    {
      "cell_type": "markdown",
      "source": [
        "27th of February - support_percentage = 0.2"
      ],
      "metadata": {
        "id": "3STivxghzD63"
      }
    },
    {
      "cell_type": "code",
      "source": [
        "#Focus on one day (largest)-- but vary LIMIT--record time (take 5 measures). Find best compromise for future ones\n",
        "#find file\n",
        "!rm out\n",
        "!bash find_file_data.sh 02 27\n",
        "with open('out', 'r') as file:\n",
        "    PATHNAME = file.readline().strip()\n",
        "    if(PATHNAME == ''):\n",
        "      print(\"Data not found -- exit\")\n",
        "    else:\n",
        "      result_27_02_C02=generate_results(PATHNAME, preprocessing_pipeline,0.2)"
      ],
      "metadata": {
        "colab": {
          "base_uri": "https://localhost:8080/"
        },
        "id": "i5ssYVFBWUUV",
        "outputId": "52ae7e3b-9f79-4b97-c47b-d44493941e4c"
      },
      "execution_count": 79,
      "outputs": [
        {
          "output_type": "stream",
          "name": "stdout",
          "text": [
            "FEB\n",
            "/content/UkrWar/UkraineCombinedTweetsDeduped_FEB27.csv.gz\n",
            "No of tweets are  227513\n",
            "Min support is  45503\n",
            "{'russia', 'russian', 'putin', 'ukrain'}\n",
            "[{'russian', 'russia'}, {'russia', 'putin'}, {'russia', 'ukrain'}, {'russian', 'putin'}, {'russian', 'ukrain'}, {'putin', 'ukrain'}]\n",
            "{'russian', 'russia', 'ukrain'}\n",
            "[{'russian', 'russia', 'ukrain'}]\n",
            "Runtime is 578.6665155887604\n"
          ]
        }
      ]
    },
    {
      "cell_type": "code",
      "source": [
        "result_27_02_C02.collect()"
      ],
      "metadata": {
        "colab": {
          "base_uri": "https://localhost:8080/"
        },
        "id": "1PRA8bB5_qwz",
        "outputId": "a82cea63-0b65-4813-b701-a5083e0bfc2a"
      },
      "execution_count": 80,
      "outputs": [
        {
          "output_type": "execute_result",
          "data": {
            "text/plain": [
              "['ukrain',\n",
              " 'russian',\n",
              " 'putin',\n",
              " 'russia',\n",
              " ('russia', 'ukrain'),\n",
              " ('ukrain', 'russian')]"
            ]
          },
          "metadata": {},
          "execution_count": 80
        }
      ]
    },
    {
      "cell_type": "markdown",
      "source": [
        "27th of February - support_percentage = 0.25"
      ],
      "metadata": {
        "id": "kFhvSS2FzFIJ"
      }
    },
    {
      "cell_type": "code",
      "source": [
        "#Focus on one day (largest)-- but vary LIMIT--record time (take 5 measures). Find best compromise for future ones\n",
        "#find file\n",
        "!rm out\n",
        "!bash find_file_data.sh 02 27\n",
        "with open('out', 'r') as file:\n",
        "    PATHNAME = file.readline().strip()\n",
        "    if(PATHNAME == ''):\n",
        "      print(\"Data not found -- exit\")\n",
        "    else:\n",
        "      result_27_02_C03=generate_results(PATHNAME, preprocessing_pipeline,0.3)\n"
      ],
      "metadata": {
        "colab": {
          "base_uri": "https://localhost:8080/"
        },
        "id": "1pjcILGeZ8u1",
        "outputId": "ecea7d37-100f-4b1b-c5b6-0755e96cc24a"
      },
      "execution_count": 81,
      "outputs": [
        {
          "output_type": "stream",
          "name": "stdout",
          "text": [
            "FEB\n",
            "/content/UkrWar/UkraineCombinedTweetsDeduped_FEB27.csv.gz\n",
            "No of tweets are  227513\n",
            "Min support is  68254\n",
            "{'russia', 'ukrain'}\n",
            "[{'russia', 'ukrain'}]\n",
            "Runtime is 558.7506256103516\n"
          ]
        }
      ]
    },
    {
      "cell_type": "code",
      "source": [
        "result_27_02_C03.collect()"
      ],
      "metadata": {
        "colab": {
          "base_uri": "https://localhost:8080/"
        },
        "id": "gH7dkBtf_tBr",
        "outputId": "56ec1399-9ffe-4d14-aef2-fc2e380016ac"
      },
      "execution_count": 82,
      "outputs": [
        {
          "output_type": "execute_result",
          "data": {
            "text/plain": [
              "['ukrain', 'russia']"
            ]
          },
          "metadata": {},
          "execution_count": 82
        }
      ]
    },
    {
      "cell_type": "code",
      "source": [
        "#for feb 27\n",
        "#68254 Runtime is 1164.8368389606476 (.3)\n",
        "#45503 Runtime is 1277.746163368225 (.2)\n",
        "#34127 Runtime is 1318.6258103847504 (.15)\n",
        "#22752 Runtime is 1856.7753727436066 (.1)\n",
        "#11376 Runtime is 10375.439755678177 (.05)\n",
        "\n",
        "import matplotlib.pyplot as plt\n",
        "#threshold=[68254,45503,34127,22752,11376]\n",
        "threshold_perc=[.3,.2,.15,.1,.05]\n",
        "elapsed_time=[589,579.7,613,856,5703]\n",
        "\n",
        "time_threshold_perc_ratio = pd.DataFrame()\n",
        "time_threshold_perc_ratio['Elapsed_time'] = elapsed_time\n",
        "time_threshold_perc_ratio['Threshold'] = threshold_perc\n",
        "plt.plot(time_threshold_perc_ratio['Threshold'], time_threshold_perc_ratio['Elapsed_time'],\n",
        "         label = 'A-Priori algorithm', marker = 'o')\n",
        "plt.xlabel('Threshold percentage (of # baskets)')\n",
        "plt.ylabel('Elapsed time in seconds')\n",
        "plt.savefig('time_threshold_perc_ratio.jpg')\n",
        "plt.legend()\n",
        "plt.grid()\n",
        "plt.title('Time/Threshold Percentage')\n",
        "plt.show()"
      ],
      "metadata": {
        "colab": {
          "base_uri": "https://localhost:8080/",
          "height": 295
        },
        "id": "j22aiNc5ORdr",
        "outputId": "69920ebe-4ee0-42d8-8f7f-594b364cbf6f"
      },
      "execution_count": 4,
      "outputs": [
        {
          "output_type": "display_data",
          "data": {
            "text/plain": [
              "<Figure size 432x288 with 1 Axes>"
            ],
            "image/png": "[encoded data removed]"
          },
          "metadata": {
            "needs_background": "light"
          }
        }
      ]
    },
    {
      "cell_type": "markdown",
      "source": [
        "Settle on a BEST_MIN_SUPPORT"
      ],
      "metadata": {
        "id": "ZDXl0wpFB-Mk"
      }
    },
    {
      "cell_type": "code",
      "source": [
        "BEST_MIN_SUPPORT=0.1"
      ],
      "metadata": {
        "id": "Kp15LPbFWfUq"
      },
      "execution_count": 84,
      "outputs": []
    },
    {
      "cell_type": "code",
      "source": [
        "#          278455064           732598840  62.0% UkraineCombinedTweetsDeduped20220227-131611.csv\n",
        "#          82892498           209652014  60.5% UkraineCombinedTweetsDeduped_FEB27.csv\n",
        "#          35812015            97510321  63.3% 0722_UkraineCombinedTweetsDeduped.csv\n",
        "#          28378314            72450067  60.8% 0921_UkraineCombinedTweetsDeduped.csv.gzip\n",
        "#          14550285            38189130  61.9% 1005_UkraineCombinedTweetsDeduped.csv.gzip\n",
        "#          12507492            33878722  63.1% 0818_UkraineCombinedTweetsDeduped.csv\n"
      ],
      "metadata": {
        "id": "gUEc_8IgM_RT"
      },
      "execution_count": 85,
      "outputs": []
    },
    {
      "cell_type": "markdown",
      "source": [
        "6th of March - support_percentage = 0.1"
      ],
      "metadata": {
        "id": "3qzIZiy_CKHl"
      }
    },
    {
      "cell_type": "code",
      "source": [
        "!rm out\n",
        "!bash find_file_data.sh 03 06\n",
        "with open('out', 'r') as file:\n",
        "    PATHNAME = file.readline().strip()\n",
        "    if(PATHNAME == ''):\n",
        "      print(\"Data not found -- exit\")\n",
        "    else:\n",
        "      result_06_03_C01=generate_results(PATHNAME, preprocessing_pipeline,BEST_MIN_SUPPORT)"
      ],
      "metadata": {
        "id": "OIM8qmTN5Md6",
        "colab": {
          "base_uri": "https://localhost:8080/"
        },
        "outputId": "db5b2312-b687-4a12-e009-41c124827e89"
      },
      "execution_count": 86,
      "outputs": [
        {
          "output_type": "stream",
          "name": "stdout",
          "text": [
            "MAR\n",
            "/content/UkrWar/UkraineCombinedTweetsDeduped_MAR06.csv.gz\n",
            "No of tweets are  396249\n",
            "Min support is  39625\n",
            "{'russian', 'russia', 'weapon', 'stop', 'war', 'civilian', 'peopl', 'provid', 'innoc', 'standwithukrain', 'ukrainian', 'defend', 'ukrainerussianwar', 'humanitarian', 'ukrain', 'putin'}\n",
            "[{'russian', 'russia'}, {'russian', 'weapon'}, {'russian', 'stop'}, {'war', 'russian'}, {'russian', 'civilian'}, {'russian', 'peopl'}, {'russian', 'provid'}, {'russian', 'innoc'}, {'russian', 'standwithukrain'}, {'russian', 'ukrainian'}, {'russian', 'defend'}, {'russian', 'ukrainerussianwar'}, {'russian', 'humanitarian'}, {'russian', 'ukrain'}, {'russian', 'putin'}, {'russia', 'weapon'}, {'russia', 'stop'}, {'war', 'russia'}, {'russia', 'civilian'}, {'russia', 'peopl'}, {'provid', 'russia'}, {'innoc', 'russia'}, {'russia', 'standwithukrain'}, {'ukrainian', 'russia'}, {'defend', 'russia'}, {'ukrainerussianwar', 'russia'}, {'russia', 'humanitarian'}, {'russia', 'ukrain'}, {'russia', 'putin'}, {'weapon', 'stop'}, {'war', 'weapon'}, {'weapon', 'civilian'}, {'weapon', 'peopl'}, {'provid', 'weapon'}, {'innoc', 'weapon'}, {'weapon', 'standwithukrain'}, {'ukrainian', 'weapon'}, {'defend', 'weapon'}, {'ukrainerussianwar', 'weapon'}, {'humanitarian', 'weapon'}, {'weapon', 'ukrain'}, {'putin', 'weapon'}, {'war', 'stop'}, {'civilian', 'stop'}, {'peopl', 'stop'}, {'provid', 'stop'}, {'innoc', 'stop'}, {'standwithukrain', 'stop'}, {'ukrainian', 'stop'}, {'defend', 'stop'}, {'ukrainerussianwar', 'stop'}, {'humanitarian', 'stop'}, {'ukrain', 'stop'}, {'putin', 'stop'}, {'war', 'civilian'}, {'war', 'peopl'}, {'war', 'provid'}, {'war', 'innoc'}, {'war', 'standwithukrain'}, {'war', 'ukrainian'}, {'war', 'defend'}, {'war', 'ukrainerussianwar'}, {'war', 'humanitarian'}, {'war', 'ukrain'}, {'war', 'putin'}, {'peopl', 'civilian'}, {'provid', 'civilian'}, {'innoc', 'civilian'}, {'standwithukrain', 'civilian'}, {'ukrainian', 'civilian'}, {'defend', 'civilian'}, {'ukrainerussianwar', 'civilian'}, {'humanitarian', 'civilian'}, {'ukrain', 'civilian'}, {'putin', 'civilian'}, {'provid', 'peopl'}, {'innoc', 'peopl'}, {'standwithukrain', 'peopl'}, {'ukrainian', 'peopl'}, {'defend', 'peopl'}, {'ukrainerussianwar', 'peopl'}, {'humanitarian', 'peopl'}, {'ukrain', 'peopl'}, {'putin', 'peopl'}, {'provid', 'innoc'}, {'provid', 'standwithukrain'}, {'ukrainian', 'provid'}, {'provid', 'defend'}, {'ukrainerussianwar', 'provid'}, {'provid', 'humanitarian'}, {'provid', 'ukrain'}, {'provid', 'putin'}, {'innoc', 'standwithukrain'}, {'ukrainian', 'innoc'}, {'defend', 'innoc'}, {'ukrainerussianwar', 'innoc'}, {'innoc', 'humanitarian'}, {'innoc', 'ukrain'}, {'innoc', 'putin'}, {'ukrainian', 'standwithukrain'}, {'defend', 'standwithukrain'}, {'ukrainerussianwar', 'standwithukrain'}, {'humanitarian', 'standwithukrain'}, {'ukrain', 'standwithukrain'}, {'putin', 'standwithukrain'}, {'ukrainian', 'defend'}, {'ukrainian', 'ukrainerussianwar'}, {'ukrainian', 'humanitarian'}, {'ukrainian', 'ukrain'}, {'ukrainian', 'putin'}, {'ukrainerussianwar', 'defend'}, {'defend', 'humanitarian'}, {'defend', 'ukrain'}, {'defend', 'putin'}, {'ukrainerussianwar', 'humanitarian'}, {'ukrainerussianwar', 'ukrain'}, {'ukrainerussianwar', 'putin'}, {'humanitarian', 'ukrain'}, {'putin', 'humanitarian'}, {'putin', 'ukrain'}]\n",
            "{'russian', 'russia', 'stop', 'civilian', 'provid', 'humanitarian', 'ukrain', 'putin'}\n",
            "[{'russian', 'russia', 'stop'}, {'russian', 'russia', 'civilian'}, {'russian', 'provid', 'russia'}, {'russian', 'russia', 'humanitarian'}, {'russian', 'russia', 'ukrain'}, {'russian', 'russia', 'putin'}, {'russian', 'civilian', 'stop'}, {'russian', 'provid', 'stop'}, {'russian', 'humanitarian', 'stop'}, {'russian', 'ukrain', 'stop'}, {'russian', 'putin', 'stop'}, {'russian', 'provid', 'civilian'}, {'russian', 'humanitarian', 'civilian'}, {'russian', 'ukrain', 'civilian'}, {'russian', 'putin', 'civilian'}, {'russian', 'provid', 'humanitarian'}, {'russian', 'provid', 'ukrain'}, {'russian', 'provid', 'putin'}, {'russian', 'humanitarian', 'ukrain'}, {'russian', 'putin', 'humanitarian'}, {'russian', 'putin', 'ukrain'}, {'civilian', 'russia', 'stop'}, {'provid', 'russia', 'stop'}, {'russia', 'humanitarian', 'stop'}, {'ukrain', 'russia', 'stop'}, {'russia', 'putin', 'stop'}, {'provid', 'russia', 'civilian'}, {'russia', 'humanitarian', 'civilian'}, {'ukrain', 'russia', 'civilian'}, {'russia', 'putin', 'civilian'}, {'provid', 'russia', 'humanitarian'}, {'provid', 'russia', 'ukrain'}, {'provid', 'russia', 'putin'}, {'russia', 'humanitarian', 'ukrain'}, {'russia', 'humanitarian', 'putin'}, {'russia', 'putin', 'ukrain'}, {'provid', 'civilian', 'stop'}, {'civilian', 'humanitarian', 'stop'}, {'ukrain', 'civilian', 'stop'}, {'civilian', 'putin', 'stop'}, {'provid', 'humanitarian', 'stop'}, {'ukrain', 'provid', 'stop'}, {'provid', 'putin', 'stop'}, {'ukrain', 'humanitarian', 'stop'}, {'putin', 'humanitarian', 'stop'}, {'ukrain', 'putin', 'stop'}, {'provid', 'humanitarian', 'civilian'}, {'ukrain', 'provid', 'civilian'}, {'provid', 'putin', 'civilian'}, {'ukrain', 'humanitarian', 'civilian'}, {'putin', 'humanitarian', 'civilian'}, {'ukrain', 'putin', 'civilian'}, {'provid', 'humanitarian', 'ukrain'}, {'provid', 'putin', 'humanitarian'}, {'provid', 'putin', 'ukrain'}, {'putin', 'humanitarian', 'ukrain'}]\n",
            "Runtime is 3736.001730442047\n"
          ]
        }
      ]
    },
    {
      "cell_type": "code",
      "source": [
        "result_06_03_C01.collect()"
      ],
      "metadata": {
        "colab": {
          "base_uri": "https://localhost:8080/"
        },
        "id": "dqutTfwD_9Rm",
        "outputId": "c4aa56d2-0e21-4641-8bba-5d7d0dbeff80"
      },
      "execution_count": 87,
      "outputs": [
        {
          "output_type": "execute_result",
          "data": {
            "text/plain": [
              "['russia',\n",
              " 'russian',\n",
              " 'putin',\n",
              " 'ukrain',\n",
              " 'stop',\n",
              " 'war',\n",
              " 'ukrainian',\n",
              " 'innoc',\n",
              " 'provid',\n",
              " 'weapon',\n",
              " 'defend',\n",
              " 'humanitarian',\n",
              " 'civilian',\n",
              " 'peopl',\n",
              " 'ukrainerussianwar',\n",
              " 'standwithukrain',\n",
              " ('ukrain', 'russian'),\n",
              " ('russia', 'ukrain'),\n",
              " ('stop', 'ukrain'),\n",
              " ('putin', 'stop'),\n",
              " ('ukrain', 'civilian'),\n",
              " ('provid', 'ukrain'),\n",
              " ('humanitarian', 'ukrain'),\n",
              " ('putin', 'ukrain')]"
            ]
          },
          "metadata": {},
          "execution_count": 87
        }
      ]
    },
    {
      "cell_type": "markdown",
      "source": [
        "7th of April - support_percentage = 0.1"
      ],
      "metadata": {
        "id": "YqSWjTKECcYq"
      }
    },
    {
      "cell_type": "code",
      "source": [
        "!rm out\n",
        "#month -day\n",
        "!bash find_file_data.sh 04 07\n",
        "with open('out', 'r') as file:\n",
        "    PATHNAME = file.readline().strip()\n",
        "    if(PATHNAME == ''):\n",
        "      print(\"Data not found -- exit\")\n",
        "    else:\n",
        "      result_07_04_C01=generate_results(PATHNAME, preprocessing_pipeline,BEST_MIN_SUPPORT)"
      ],
      "metadata": {
        "id": "gOzR1Xt-5VNN",
        "colab": {
          "base_uri": "https://localhost:8080/"
        },
        "outputId": "b7172d5e-5df1-4949-a885-15dfd974b5eb"
      },
      "execution_count": 88,
      "outputs": [
        {
          "output_type": "stream",
          "name": "stdout",
          "text": [
            "/content/UkrWar/0407_UkraineCombinedTweetsDeduped.csv.gz\n",
            "No of tweets are  259123\n",
            "Min support is  25913\n",
            "{'russian', 'russia', 'peopl', 'war', 'standwithukrain', 'ukrainian', 'bucha', 'ukrain'}\n",
            "[{'russian', 'russia'}, {'russian', 'peopl'}, {'war', 'russian'}, {'russian', 'standwithukrain'}, {'russian', 'ukrainian'}, {'russian', 'bucha'}, {'russian', 'ukrain'}, {'russia', 'peopl'}, {'war', 'russia'}, {'russia', 'standwithukrain'}, {'ukrainian', 'russia'}, {'bucha', 'russia'}, {'russia', 'ukrain'}, {'war', 'peopl'}, {'standwithukrain', 'peopl'}, {'ukrainian', 'peopl'}, {'bucha', 'peopl'}, {'ukrain', 'peopl'}, {'war', 'standwithukrain'}, {'war', 'ukrainian'}, {'war', 'bucha'}, {'war', 'ukrain'}, {'ukrainian', 'standwithukrain'}, {'bucha', 'standwithukrain'}, {'ukrain', 'standwithukrain'}, {'ukrainian', 'bucha'}, {'ukrainian', 'ukrain'}, {'bucha', 'ukrain'}]\n",
            "{'russian', 'ukrainian', 'russia', 'ukrain'}\n",
            "[{'russian', 'ukrainian', 'russia'}, {'russian', 'ukrainian', 'ukrain'}, {'russian', 'russia', 'ukrain'}, {'ukrainian', 'russia', 'ukrain'}]\n",
            "Runtime is 955.4909703731537\n"
          ]
        }
      ]
    },
    {
      "cell_type": "code",
      "source": [
        "result_07_04_C01.collect()"
      ],
      "metadata": {
        "colab": {
          "base_uri": "https://localhost:8080/"
        },
        "id": "S0Z1i2H9ABvG",
        "outputId": "1dbf5b77-b9ed-4a7d-c768-468a1e889763"
      },
      "execution_count": 89,
      "outputs": [
        {
          "output_type": "execute_result",
          "data": {
            "text/plain": [
              "['peopl',\n",
              " 'ukrain',\n",
              " 'russia',\n",
              " 'war',\n",
              " 'standwithukrain',\n",
              " 'ukrainian',\n",
              " 'bucha',\n",
              " 'russian',\n",
              " ('ukrain', 'russian'),\n",
              " ('russia', 'ukrain'),\n",
              " ('ukrain', 'ukrainian')]"
            ]
          },
          "metadata": {},
          "execution_count": 89
        }
      ]
    },
    {
      "cell_type": "markdown",
      "source": [
        "16th of May - support_percentage = 0.1"
      ],
      "metadata": {
        "id": "1TbEC-iFCfXO"
      }
    },
    {
      "cell_type": "code",
      "source": [
        "!rm out\n",
        "!bash find_file_data.sh 05 16\n",
        "with open('out', 'r') as file:\n",
        "    PATHNAME = file.readline().strip()\n",
        "    if(PATHNAME == ''):\n",
        "      print(\"Data not found -- exit\")\n",
        "    else:\n",
        "      result_16_05_C01=generate_results(PATHNAME, preprocessing_pipeline,BEST_MIN_SUPPORT)"
      ],
      "metadata": {
        "id": "0gWqdiRt5n8z",
        "colab": {
          "base_uri": "https://localhost:8080/"
        },
        "outputId": "4af04339-bb55-44bb-b52c-ccb1d642ffdb"
      },
      "execution_count": 90,
      "outputs": [
        {
          "output_type": "stream",
          "name": "stdout",
          "text": [
            "/content/UkrWar/0516_UkraineCombinedTweetsDeduped.csv.gz\n",
            "No of tweets are  258309\n",
            "Min support is  25831\n",
            "{'russian', 'russia', 'ukrainian', 'ukrain', 'tigrai'}\n",
            "[{'russian', 'russia'}, {'russian', 'ukrainian'}, {'russian', 'ukrain'}, {'russian', 'tigrai'}, {'ukrainian', 'russia'}, {'russia', 'ukrain'}, {'russia', 'tigrai'}, {'ukrainian', 'ukrain'}, {'ukrainian', 'tigrai'}, {'tigrai', 'ukrain'}]\n",
            "{'russian', 'ukrain'}\n",
            "[]\n",
            "Runtime is 816.6065902709961\n"
          ]
        }
      ]
    },
    {
      "cell_type": "code",
      "source": [
        "result_16_05_C01.collect()"
      ],
      "metadata": {
        "colab": {
          "base_uri": "https://localhost:8080/"
        },
        "id": "yyxAOEpmAGhC",
        "outputId": "0f980e21-556e-4aab-e66e-b51ad70818d3"
      },
      "execution_count": 91,
      "outputs": [
        {
          "output_type": "execute_result",
          "data": {
            "text/plain": [
              "['ukrain', 'ukrainian', 'russia', 'russian', 'tigrai', ('ukrain', 'russian')]"
            ]
          },
          "metadata": {},
          "execution_count": 91
        }
      ]
    },
    {
      "cell_type": "markdown",
      "source": [
        "10th of June - support_percentage = 0.1"
      ],
      "metadata": {
        "id": "wy--MbEmCit0"
      }
    },
    {
      "cell_type": "code",
      "source": [
        "!rm out\n",
        "!bash find_file_data.sh 06 10\n",
        "with open('out', 'r') as file:\n",
        "    PATHNAME = file.readline().strip()\n",
        "    if(PATHNAME == ''):\n",
        "      print(\"Data not found -- exit\")\n",
        "    else:\n",
        "      result_10_06_C01=generate_results(PATHNAME, preprocessing_pipeline,BEST_MIN_SUPPORT)"
      ],
      "metadata": {
        "colab": {
          "base_uri": "https://localhost:8080/"
        },
        "id": "CN9K_YP_H4_v",
        "outputId": "f19eb8f3-3d25-47aa-a460-bc8653b6bc38"
      },
      "execution_count": 92,
      "outputs": [
        {
          "output_type": "stream",
          "name": "stdout",
          "text": [
            "/content/UkrWar/0610_UkraineCombinedTweetsDeduped.csv.gz\n",
            "No of tweets are  182985\n",
            "Min support is  18299\n",
            "{'russian', 'russia', 'war', 'ukrainian', 'ukrain', 'tigrai'}\n",
            "[{'russian', 'russia'}, {'war', 'russian'}, {'russian', 'ukrainian'}, {'russian', 'ukrain'}, {'russian', 'tigrai'}, {'war', 'russia'}, {'ukrainian', 'russia'}, {'russia', 'ukrain'}, {'russia', 'tigrai'}, {'war', 'ukrainian'}, {'war', 'ukrain'}, {'war', 'tigrai'}, {'ukrainian', 'ukrain'}, {'ukrainian', 'tigrai'}, {'tigrai', 'ukrain'}]\n",
            "{'russian', 'ukrainian', 'russia', 'ukrain'}\n",
            "[{'russian', 'ukrainian', 'russia'}, {'russian', 'ukrainian', 'ukrain'}, {'russian', 'russia', 'ukrain'}, {'ukrainian', 'russia', 'ukrain'}]\n",
            "Runtime is 624.6565210819244\n"
          ]
        }
      ]
    },
    {
      "cell_type": "code",
      "source": [
        "result_10_06_C01.collect()"
      ],
      "metadata": {
        "colab": {
          "base_uri": "https://localhost:8080/"
        },
        "id": "Mu2uoFeXAKw_",
        "outputId": "9dd286a3-a7c8-4c55-d2dd-a270334983df"
      },
      "execution_count": 93,
      "outputs": [
        {
          "output_type": "execute_result",
          "data": {
            "text/plain": [
              "['war',\n",
              " 'ukrain',\n",
              " 'ukrainian',\n",
              " 'russia',\n",
              " 'russian',\n",
              " 'tigrai',\n",
              " ('ukrain', 'russian'),\n",
              " ('russia', 'ukrain'),\n",
              " ('ukrain', 'ukrainian')]"
            ]
          },
          "metadata": {},
          "execution_count": 93
        }
      ]
    },
    {
      "cell_type": "markdown",
      "source": [
        "22nd of July - support_percentage = 0.1"
      ],
      "metadata": {
        "id": "llE8DkzUCnYO"
      }
    },
    {
      "cell_type": "code",
      "source": [
        "!rm out\n",
        "!bash find_file_data.sh 07 22\n",
        "with open('out', 'r') as file:\n",
        "    PATHNAME = file.readline().strip()\n",
        "    if(PATHNAME == ''):\n",
        "      print(\"Data not found -- exit\")\n",
        "    else:\n",
        "      result_22_07_C01=generate_results(PATHNAME, preprocessing_pipeline,BEST_MIN_SUPPORT)"
      ],
      "metadata": {
        "id": "hJ6MniJi5p7t",
        "colab": {
          "base_uri": "https://localhost:8080/"
        },
        "outputId": "9673757e-f72f-4b7b-8e83-e04daacda36d"
      },
      "execution_count": 94,
      "outputs": [
        {
          "output_type": "stream",
          "name": "stdout",
          "text": [
            "/content/UkrWar/0722_UkraineCombinedTweetsDeduped.csv.gz\n",
            "No of tweets are  88929\n",
            "Min support is  8893\n",
            "{'russian', 'russia', 'war', 'standwithukrain', 'ukrainian', 'ukrain', 'world', 'putin'}\n",
            "[{'russian', 'russia'}, {'war', 'russian'}, {'russian', 'standwithukrain'}, {'russian', 'ukrainian'}, {'russian', 'ukrain'}, {'russian', 'world'}, {'russian', 'putin'}, {'war', 'russia'}, {'russia', 'standwithukrain'}, {'ukrainian', 'russia'}, {'russia', 'ukrain'}, {'world', 'russia'}, {'russia', 'putin'}, {'war', 'standwithukrain'}, {'war', 'ukrainian'}, {'war', 'ukrain'}, {'war', 'world'}, {'war', 'putin'}, {'ukrainian', 'standwithukrain'}, {'ukrain', 'standwithukrain'}, {'world', 'standwithukrain'}, {'putin', 'standwithukrain'}, {'ukrainian', 'ukrain'}, {'ukrainian', 'world'}, {'ukrainian', 'putin'}, {'world', 'ukrain'}, {'putin', 'ukrain'}, {'world', 'putin'}]\n",
            "{'russian', 'russia', 'ukrain'}\n",
            "[{'russian', 'russia', 'ukrain'}]\n",
            "Runtime is 311.36044931411743\n"
          ]
        }
      ]
    },
    {
      "cell_type": "code",
      "source": [
        "result_22_07_C01.collect()"
      ],
      "metadata": {
        "colab": {
          "base_uri": "https://localhost:8080/"
        },
        "id": "xumpjfepAOm2",
        "outputId": "c6c2111e-7c95-4eaa-d6ee-cf2947ee1fb2"
      },
      "execution_count": 95,
      "outputs": [
        {
          "output_type": "execute_result",
          "data": {
            "text/plain": [
              "['russia',\n",
              " 'ukrain',\n",
              " 'war',\n",
              " 'russian',\n",
              " 'putin',\n",
              " 'ukrainian',\n",
              " 'standwithukrain',\n",
              " 'world',\n",
              " ('ukrain', 'russian'),\n",
              " ('russia', 'ukrain')]"
            ]
          },
          "metadata": {},
          "execution_count": 95
        }
      ]
    },
    {
      "cell_type": "markdown",
      "source": [
        "18th of August - support_percentage = 0.1"
      ],
      "metadata": {
        "id": "lVj8x-2SCptf"
      }
    },
    {
      "cell_type": "code",
      "source": [
        "!rm out\n",
        "!bash find_file_data.sh 08 18\n",
        "with open('out', 'r') as file:\n",
        "    PATHNAME = file.readline().strip()\n",
        "    if(PATHNAME == ''):\n",
        "      print(\"Data not found -- exit\")\n",
        "    else:\n",
        "      results_08_18_C_01 = generate_results(PATHNAME, preprocessing_pipeline,BEST_MIN_SUPPORT)"
      ],
      "metadata": {
        "id": "68gLloC45qCo",
        "colab": {
          "base_uri": "https://localhost:8080/"
        },
        "outputId": "4f85f31f-eac9-4e27-8571-b4d124fa2604"
      },
      "execution_count": 96,
      "outputs": [
        {
          "output_type": "stream",
          "name": "stdout",
          "text": [
            "/content/UkrWar/0818_UkraineCombinedTweetsDeduped.csv.gz\n",
            "No of tweets are  22991\n",
            "Min support is  2300\n",
            "{'russian', 'russia', 'war', 'ukrainian', 'ukrain'}\n",
            "[{'russian', 'russia'}, {'war', 'russian'}, {'russian', 'ukrainian'}, {'russian', 'ukrain'}, {'war', 'russia'}, {'ukrainian', 'russia'}, {'russia', 'ukrain'}, {'war', 'ukrainian'}, {'war', 'ukrain'}, {'ukrainian', 'ukrain'}]\n",
            "{'russia', 'ukrain'}\n",
            "[]\n",
            "Runtime is 64.48895788192749\n"
          ]
        }
      ]
    },
    {
      "cell_type": "code",
      "source": [
        "results_08_18_C_01.collect()"
      ],
      "metadata": {
        "colab": {
          "base_uri": "https://localhost:8080/"
        },
        "id": "JBwK0Ifp7tnh",
        "outputId": "58b66244-cc57-434a-8ce0-84980c632bbf"
      },
      "execution_count": 97,
      "outputs": [
        {
          "output_type": "execute_result",
          "data": {
            "text/plain": [
              "['ukrain', 'russia', 'russian', 'ukrainian', 'war', ('russia', 'ukrain')]"
            ]
          },
          "metadata": {},
          "execution_count": 97
        }
      ]
    },
    {
      "cell_type": "markdown",
      "source": [
        "18th of August - support_percentage = 0.05 (small dataset)"
      ],
      "metadata": {
        "id": "fliWagIcCxw5"
      }
    },
    {
      "cell_type": "code",
      "source": [
        "!rm out\n",
        "!bash find_file_data.sh 08 18\n",
        "with open('out', 'r') as file:\n",
        "    PATHNAME = file.readline().strip()\n",
        "    if(PATHNAME == ''):\n",
        "      print(\"Data not found -- exit\")\n",
        "    else:\n",
        "      results_18_08_C_005=generate_results(PATHNAME, preprocessing_pipeline,0.05)"
      ],
      "metadata": {
        "colab": {
          "base_uri": "https://localhost:8080/"
        },
        "id": "N6FKa8mN8jpT",
        "outputId": "958a6b38-925f-43cc-fc78-6e5464f1ca9e"
      },
      "execution_count": 98,
      "outputs": [
        {
          "output_type": "stream",
          "name": "stdout",
          "text": [
            "/content/UkrWar/0818_UkraineCombinedTweetsDeduped.csv.gz\n",
            "No of tweets are  22991\n",
            "Min support is  1150\n",
            "{'russian', 'militari', 'russiaisateroristst', 'russia', 'china', 'peopl', 'war', 'russiaisaterroristst', 'standwithukrain', 'ukrainian', 'ukrainerussiawar', 'biden', 'ukrain', 'putin'}\n",
            "[{'russian', 'militari'}, {'russian', 'russiaisateroristst'}, {'russian', 'russia'}, {'russian', 'china'}, {'russian', 'peopl'}, {'war', 'russian'}, {'russian', 'russiaisaterroristst'}, {'russian', 'standwithukrain'}, {'russian', 'ukrainian'}, {'russian', 'ukrainerussiawar'}, {'russian', 'biden'}, {'russian', 'ukrain'}, {'russian', 'putin'}, {'militari', 'russiaisateroristst'}, {'militari', 'russia'}, {'militari', 'china'}, {'militari', 'peopl'}, {'war', 'militari'}, {'militari', 'russiaisaterroristst'}, {'militari', 'standwithukrain'}, {'militari', 'ukrainian'}, {'militari', 'ukrainerussiawar'}, {'militari', 'biden'}, {'militari', 'ukrain'}, {'militari', 'putin'}, {'russia', 'russiaisateroristst'}, {'china', 'russiaisateroristst'}, {'peopl', 'russiaisateroristst'}, {'war', 'russiaisateroristst'}, {'russiaisaterroristst', 'russiaisateroristst'}, {'standwithukrain', 'russiaisateroristst'}, {'ukrainian', 'russiaisateroristst'}, {'ukrainerussiawar', 'russiaisateroristst'}, {'biden', 'russiaisateroristst'}, {'ukrain', 'russiaisateroristst'}, {'putin', 'russiaisateroristst'}, {'russia', 'china'}, {'russia', 'peopl'}, {'war', 'russia'}, {'russiaisaterroristst', 'russia'}, {'russia', 'standwithukrain'}, {'ukrainian', 'russia'}, {'ukrainerussiawar', 'russia'}, {'biden', 'russia'}, {'russia', 'ukrain'}, {'russia', 'putin'}, {'china', 'peopl'}, {'war', 'china'}, {'russiaisaterroristst', 'china'}, {'china', 'standwithukrain'}, {'ukrainian', 'china'}, {'ukrainerussiawar', 'china'}, {'biden', 'china'}, {'china', 'ukrain'}, {'putin', 'china'}, {'war', 'peopl'}, {'russiaisaterroristst', 'peopl'}, {'standwithukrain', 'peopl'}, {'ukrainian', 'peopl'}, {'ukrainerussiawar', 'peopl'}, {'biden', 'peopl'}, {'ukrain', 'peopl'}, {'putin', 'peopl'}, {'war', 'russiaisaterroristst'}, {'war', 'standwithukrain'}, {'war', 'ukrainian'}, {'war', 'ukrainerussiawar'}, {'war', 'biden'}, {'war', 'ukrain'}, {'war', 'putin'}, {'russiaisaterroristst', 'standwithukrain'}, {'ukrainian', 'russiaisaterroristst'}, {'ukrainerussiawar', 'russiaisaterroristst'}, {'russiaisaterroristst', 'biden'}, {'russiaisaterroristst', 'ukrain'}, {'russiaisaterroristst', 'putin'}, {'ukrainian', 'standwithukrain'}, {'ukrainerussiawar', 'standwithukrain'}, {'biden', 'standwithukrain'}, {'ukrain', 'standwithukrain'}, {'putin', 'standwithukrain'}, {'ukrainian', 'ukrainerussiawar'}, {'ukrainian', 'biden'}, {'ukrainian', 'ukrain'}, {'ukrainian', 'putin'}, {'ukrainerussiawar', 'biden'}, {'ukrainerussiawar', 'ukrain'}, {'ukrainerussiawar', 'putin'}, {'biden', 'ukrain'}, {'biden', 'putin'}, {'putin', 'ukrain'}]\n",
            "{'russian', 'russia', 'war', 'ukrainian', 'ukrain'}\n",
            "[{'war', 'russian', 'russia'}, {'russian', 'ukrainian', 'russia'}, {'russian', 'russia', 'ukrain'}, {'war', 'russian', 'ukrainian'}, {'war', 'russian', 'ukrain'}, {'russian', 'ukrainian', 'ukrain'}, {'war', 'ukrainian', 'russia'}, {'war', 'russia', 'ukrain'}, {'ukrainian', 'russia', 'ukrain'}, {'war', 'ukrainian', 'ukrain'}]\n",
            "Runtime is 109.06491684913635\n"
          ]
        }
      ]
    },
    {
      "cell_type": "code",
      "source": [
        "results_18_08_C_005.collect()"
      ],
      "metadata": {
        "colab": {
          "base_uri": "https://localhost:8080/"
        },
        "id": "0EQ_g8PEAWoT",
        "outputId": "a54e909e-9ee4-49f5-98da-038142c70013"
      },
      "execution_count": 99,
      "outputs": [
        {
          "output_type": "execute_result",
          "data": {
            "text/plain": [
              "['ukrain',\n",
              " 'russia',\n",
              " 'russian',\n",
              " 'militari',\n",
              " 'biden',\n",
              " 'putin',\n",
              " 'standwithukrain',\n",
              " 'russiaisaterroristst',\n",
              " 'ukrainian',\n",
              " 'war',\n",
              " 'china',\n",
              " 'russiaisateroristst',\n",
              " 'peopl',\n",
              " 'ukrainerussiawar',\n",
              " ('russia', 'russian'),\n",
              " ('ukrain', 'russian'),\n",
              " ('russia', 'ukrain'),\n",
              " ('ukrain', 'war'),\n",
              " ('ukrain', 'ukrainian')]"
            ]
          },
          "metadata": {},
          "execution_count": 99
        }
      ]
    },
    {
      "cell_type": "markdown",
      "source": [
        "21st of September - support_percentage = 0.1"
      ],
      "metadata": {
        "id": "HgjdicP8C3nl"
      }
    },
    {
      "cell_type": "code",
      "source": [
        "!rm out\n",
        "!bash find_file_data.sh 09 21\n",
        "with open('out', 'r') as file:\n",
        "    PATHNAME = file.readline().strip()\n",
        "    if(PATHNAME == ''):\n",
        "      print(\"Data not found -- exit\")\n",
        "    else:\n",
        "      results_21_09_C_01=generate_results(PATHNAME, preprocessing_pipeline,BEST_MIN_SUPPORT)"
      ],
      "metadata": {
        "id": "RV--fMhG5qMD",
        "colab": {
          "base_uri": "https://localhost:8080/"
        },
        "outputId": "c30b0593-9735-40a0-d3e7-3d9ce164fed6"
      },
      "execution_count": 100,
      "outputs": [
        {
          "output_type": "stream",
          "name": "stdout",
          "text": [
            "/content/UkrWar/0921_UkraineCombinedTweetsDeduped.csv.gzip.gzip.gz\n",
            "No of tweets are  47859\n",
            "Min support is  4786\n",
            "{'russian', 'russia', 'war', 'ukrainerussiawar', 'ukrain', 'putin'}\n",
            "[{'russian', 'russia'}, {'war', 'russian'}, {'russian', 'ukrainerussiawar'}, {'russian', 'ukrain'}, {'russian', 'putin'}, {'war', 'russia'}, {'ukrainerussiawar', 'russia'}, {'russia', 'ukrain'}, {'russia', 'putin'}, {'war', 'ukrainerussiawar'}, {'war', 'ukrain'}, {'war', 'putin'}, {'ukrainerussiawar', 'ukrain'}, {'ukrainerussiawar', 'putin'}, {'putin', 'ukrain'}]\n",
            "{'russia', 'putin', 'ukrain'}\n",
            "[{'russia', 'putin', 'ukrain'}]\n",
            "Runtime is 137.04011249542236\n"
          ]
        }
      ]
    },
    {
      "cell_type": "code",
      "source": [
        "results_21_09_C_01.collect()"
      ],
      "metadata": {
        "colab": {
          "base_uri": "https://localhost:8080/"
        },
        "id": "imVnjP-WAcoG",
        "outputId": "d244e2a8-8573-46be-e267-96d42b84439c"
      },
      "execution_count": 101,
      "outputs": [
        {
          "output_type": "execute_result",
          "data": {
            "text/plain": [
              "['ukrain',\n",
              " 'war',\n",
              " 'putin',\n",
              " 'russia',\n",
              " 'russian',\n",
              " 'ukrainerussiawar',\n",
              " ('russia', 'ukrain'),\n",
              " ('putin', 'russia'),\n",
              " ('putin', 'ukrain')]"
            ]
          },
          "metadata": {},
          "execution_count": 101
        }
      ]
    },
    {
      "cell_type": "markdown",
      "source": [
        "21st of September - support_percentage = 0.05 (smaller dataset)"
      ],
      "metadata": {
        "id": "tjNicc4CC8vT"
      }
    },
    {
      "cell_type": "code",
      "source": [
        "!rm out\n",
        "!bash find_file_data.sh 09 21\n",
        "with open('out', 'r') as file:\n",
        "    PATHNAME = file.readline().strip()\n",
        "    if(PATHNAME == ''):\n",
        "      print(\"Data not found -- exit\")\n",
        "    else:\n",
        "      results_21_09_C_005=generate_results(PATHNAME, preprocessing_pipeline,0.05)"
      ],
      "metadata": {
        "colab": {
          "base_uri": "https://localhost:8080/"
        },
        "id": "avspp8326IaS",
        "outputId": "1278f080-a095-4fb7-e7f9-2e17b6ce44c3"
      },
      "execution_count": 102,
      "outputs": [
        {
          "output_type": "stream",
          "name": "stdout",
          "text": [
            "/content/UkrWar/0921_UkraineCombinedTweetsDeduped.csv.gzip.gzip.gz\n",
            "No of tweets are  47859\n",
            "Min support is  2393\n",
            "{'russian', 'russia', 'peopl', 'war', 'mobil', 'ukrainian', 'ukrainerussiawar', 'biden', 'ukrain', 'world', 'putin'}\n",
            "[{'russian', 'russia'}, {'russian', 'peopl'}, {'war', 'russian'}, {'russian', 'mobil'}, {'russian', 'ukrainian'}, {'russian', 'ukrainerussiawar'}, {'russian', 'biden'}, {'russian', 'ukrain'}, {'russian', 'world'}, {'russian', 'putin'}, {'russia', 'peopl'}, {'war', 'russia'}, {'mobil', 'russia'}, {'ukrainian', 'russia'}, {'ukrainerussiawar', 'russia'}, {'biden', 'russia'}, {'russia', 'ukrain'}, {'world', 'russia'}, {'russia', 'putin'}, {'war', 'peopl'}, {'mobil', 'peopl'}, {'ukrainian', 'peopl'}, {'ukrainerussiawar', 'peopl'}, {'biden', 'peopl'}, {'ukrain', 'peopl'}, {'world', 'peopl'}, {'putin', 'peopl'}, {'war', 'mobil'}, {'war', 'ukrainian'}, {'war', 'ukrainerussiawar'}, {'war', 'biden'}, {'war', 'ukrain'}, {'war', 'world'}, {'war', 'putin'}, {'ukrainian', 'mobil'}, {'ukrainerussiawar', 'mobil'}, {'mobil', 'biden'}, {'mobil', 'ukrain'}, {'world', 'mobil'}, {'mobil', 'putin'}, {'ukrainian', 'ukrainerussiawar'}, {'ukrainian', 'biden'}, {'ukrainian', 'ukrain'}, {'ukrainian', 'world'}, {'ukrainian', 'putin'}, {'ukrainerussiawar', 'biden'}, {'ukrainerussiawar', 'ukrain'}, {'world', 'ukrainerussiawar'}, {'ukrainerussiawar', 'putin'}, {'biden', 'ukrain'}, {'world', 'biden'}, {'biden', 'putin'}, {'world', 'ukrain'}, {'putin', 'ukrain'}, {'world', 'putin'}]\n",
            "{'russian', 'russia', 'war', 'mobil', 'ukrainerussiawar', 'ukrain', 'putin'}\n",
            "[{'war', 'russian', 'russia'}, {'russian', 'mobil', 'russia'}, {'russian', 'ukrainerussiawar', 'russia'}, {'russian', 'russia', 'ukrain'}, {'russian', 'russia', 'putin'}, {'war', 'russian', 'mobil'}, {'war', 'russian', 'ukrainerussiawar'}, {'war', 'russian', 'ukrain'}, {'war', 'russian', 'putin'}, {'ukrainerussiawar', 'russian', 'mobil'}, {'russian', 'mobil', 'ukrain'}, {'russian', 'mobil', 'putin'}, {'russian', 'ukrainerussiawar', 'ukrain'}, {'russian', 'ukrainerussiawar', 'putin'}, {'russian', 'putin', 'ukrain'}, {'war', 'mobil', 'russia'}, {'war', 'ukrainerussiawar', 'russia'}, {'war', 'russia', 'ukrain'}, {'war', 'russia', 'putin'}, {'ukrainerussiawar', 'mobil', 'russia'}, {'mobil', 'russia', 'ukrain'}, {'mobil', 'russia', 'putin'}, {'ukrainerussiawar', 'russia', 'ukrain'}, {'ukrainerussiawar', 'russia', 'putin'}, {'russia', 'putin', 'ukrain'}, {'war', 'ukrainerussiawar', 'mobil'}, {'war', 'mobil', 'ukrain'}, {'war', 'mobil', 'putin'}, {'war', 'ukrainerussiawar', 'ukrain'}, {'war', 'ukrainerussiawar', 'putin'}, {'war', 'putin', 'ukrain'}, {'ukrainerussiawar', 'mobil', 'ukrain'}, {'ukrainerussiawar', 'mobil', 'putin'}, {'mobil', 'putin', 'ukrain'}, {'ukrainerussiawar', 'putin', 'ukrain'}]\n",
            "{'russia', 'putin', 'ukrain'}\n",
            "[]\n",
            "Runtime is 214.18995642662048\n"
          ]
        }
      ]
    },
    {
      "cell_type": "code",
      "source": [
        "results_21_09_C_005.collect()"
      ],
      "metadata": {
        "colab": {
          "base_uri": "https://localhost:8080/"
        },
        "id": "lKIRSIBgAfor",
        "outputId": "84436dc2-e5b8-44e2-aeaa-d1276e7dee47"
      },
      "execution_count": 103,
      "outputs": [
        {
          "output_type": "execute_result",
          "data": {
            "text/plain": [
              "['ukrain',\n",
              " 'war',\n",
              " 'putin',\n",
              " 'russia',\n",
              " 'biden',\n",
              " 'russian',\n",
              " 'ukrainerussiawar',\n",
              " 'ukrainian',\n",
              " 'world',\n",
              " 'mobil',\n",
              " 'peopl',\n",
              " ('russia', 'russian'),\n",
              " ('ukrain', 'russian'),\n",
              " ('putin', 'russian'),\n",
              " ('russia', 'war'),\n",
              " ('russia', 'mobil'),\n",
              " ('ukrainerussiawar', 'russia'),\n",
              " ('russia', 'ukrain'),\n",
              " ('putin', 'russia'),\n",
              " ('ukrain', 'war'),\n",
              " ('putin', 'war'),\n",
              " ('ukrainerussiawar', 'ukrain'),\n",
              " ('putin', 'ukrain'),\n",
              " ('putin', 'russia', 'ukrain')]"
            ]
          },
          "metadata": {},
          "execution_count": 103
        }
      ]
    },
    {
      "cell_type": "markdown",
      "source": [
        "5th of October - support_percentage = 0.1"
      ],
      "metadata": {
        "id": "ufKlMI6RDArX"
      }
    },
    {
      "cell_type": "code",
      "source": [
        "!rm out\n",
        "!bash find_file_data.sh 10 05\n",
        "with open('out', 'r') as file:\n",
        "    PATHNAME = file.readline().strip()\n",
        "    if(PATHNAME == ''):\n",
        "      print(\"Data not found -- exit\")\n",
        "    else:\n",
        "      results_05_10_C_01=generate_results(PATHNAME, preprocessing_pipeline,BEST_MIN_SUPPORT)"
      ],
      "metadata": {
        "id": "bCSPl12z58u1",
        "colab": {
          "base_uri": "https://localhost:8080/"
        },
        "outputId": "850b9422-ead4-4d78-de91-2a89983f3b2c"
      },
      "execution_count": 104,
      "outputs": [
        {
          "output_type": "stream",
          "name": "stdout",
          "text": [
            "/content/UkrWar/1005_UkraineCombinedTweetsDeduped.csv.gzip.gzip.gz\n",
            "No of tweets are  25546\n",
            "Min support is  2555\n",
            "{'russian', 'russia', 'war', 'ukrainian', 'ukrain', 'putin'}\n",
            "[{'russian', 'russia'}, {'war', 'russian'}, {'russian', 'ukrainian'}, {'russian', 'ukrain'}, {'russian', 'putin'}, {'war', 'russia'}, {'ukrainian', 'russia'}, {'russia', 'ukrain'}, {'russia', 'putin'}, {'war', 'ukrainian'}, {'war', 'ukrain'}, {'war', 'putin'}, {'ukrainian', 'ukrain'}, {'ukrainian', 'putin'}, {'putin', 'ukrain'}]\n",
            "{'russian', 'russia', 'ukrain'}\n",
            "[{'russian', 'russia', 'ukrain'}]\n",
            "Runtime is 84.84578037261963\n"
          ]
        }
      ]
    },
    {
      "cell_type": "code",
      "source": [
        "results_05_10_C_01.collect()"
      ],
      "metadata": {
        "colab": {
          "base_uri": "https://localhost:8080/"
        },
        "id": "dRS2nO-XAoIo",
        "outputId": "49806396-31be-4079-d56e-38233ff14537"
      },
      "execution_count": 105,
      "outputs": [
        {
          "output_type": "execute_result",
          "data": {
            "text/plain": [
              "['ukrain',\n",
              " 'war',\n",
              " 'russia',\n",
              " 'russian',\n",
              " 'putin',\n",
              " 'ukrainian',\n",
              " ('ukrain', 'russian'),\n",
              " ('russia', 'ukrain')]"
            ]
          },
          "metadata": {},
          "execution_count": 105
        }
      ]
    },
    {
      "cell_type": "markdown",
      "source": [
        "5th of October - support_percentage = 0.05"
      ],
      "metadata": {
        "id": "xtxL0mj8DUqq"
      }
    },
    {
      "cell_type": "code",
      "source": [
        "!rm out\n",
        "!bash find_file_data.sh 10 05\n",
        "with open('out', 'r') as file:\n",
        "    PATHNAME = file.readline().strip()\n",
        "    if(PATHNAME == ''):\n",
        "      print(\"Data not found -- exit\")\n",
        "    else:\n",
        "      results_05_10_C_005=generate_results(PATHNAME, preprocessing_pipeline,0.05)"
      ],
      "metadata": {
        "colab": {
          "base_uri": "https://localhost:8080/"
        },
        "id": "Cdd1dRHa6M1E",
        "outputId": "f124b82d-f0ae-4821-b36d-2933492f96fa"
      },
      "execution_count": 106,
      "outputs": [
        {
          "output_type": "stream",
          "name": "stdout",
          "text": [
            "/content/UkrWar/1005_UkraineCombinedTweetsDeduped.csv.gzip.gzip.gz\n",
            "No of tweets are  25546\n",
            "Min support is  1278\n",
            "{'region', 'russian', 'russia', 'war', 'standwithukrain', 'forc', 'ukrainian', 'ukrainerussiawar', 'putin', 'ukrain', 'kherson', 'world', 'ukrainewar', 'nato'}\n",
            "[{'region', 'russian'}, {'region', 'russia'}, {'war', 'region'}, {'region', 'standwithukrain'}, {'forc', 'region'}, {'region', 'ukrainian'}, {'region', 'ukrainerussiawar'}, {'region', 'putin'}, {'region', 'ukrain'}, {'kherson', 'region'}, {'region', 'world'}, {'region', 'ukrainewar'}, {'region', 'nato'}, {'russian', 'russia'}, {'war', 'russian'}, {'russian', 'standwithukrain'}, {'forc', 'russian'}, {'russian', 'ukrainian'}, {'russian', 'ukrainerussiawar'}, {'russian', 'putin'}, {'russian', 'ukrain'}, {'kherson', 'russian'}, {'russian', 'world'}, {'russian', 'ukrainewar'}, {'russian', 'nato'}, {'war', 'russia'}, {'russia', 'standwithukrain'}, {'forc', 'russia'}, {'ukrainian', 'russia'}, {'ukrainerussiawar', 'russia'}, {'russia', 'putin'}, {'russia', 'ukrain'}, {'kherson', 'russia'}, {'world', 'russia'}, {'russia', 'ukrainewar'}, {'russia', 'nato'}, {'war', 'standwithukrain'}, {'war', 'forc'}, {'war', 'ukrainian'}, {'war', 'ukrainerussiawar'}, {'war', 'putin'}, {'war', 'ukrain'}, {'war', 'kherson'}, {'war', 'world'}, {'war', 'ukrainewar'}, {'war', 'nato'}, {'forc', 'standwithukrain'}, {'ukrainian', 'standwithukrain'}, {'ukrainerussiawar', 'standwithukrain'}, {'putin', 'standwithukrain'}, {'ukrain', 'standwithukrain'}, {'kherson', 'standwithukrain'}, {'world', 'standwithukrain'}, {'ukrainewar', 'standwithukrain'}, {'nato', 'standwithukrain'}, {'forc', 'ukrainian'}, {'forc', 'ukrainerussiawar'}, {'forc', 'putin'}, {'forc', 'ukrain'}, {'forc', 'kherson'}, {'forc', 'world'}, {'forc', 'ukrainewar'}, {'forc', 'nato'}, {'ukrainian', 'ukrainerussiawar'}, {'ukrainian', 'putin'}, {'ukrainian', 'ukrain'}, {'kherson', 'ukrainian'}, {'ukrainian', 'world'}, {'ukrainian', 'ukrainewar'}, {'ukrainian', 'nato'}, {'ukrainerussiawar', 'putin'}, {'ukrainerussiawar', 'ukrain'}, {'kherson', 'ukrainerussiawar'}, {'world', 'ukrainerussiawar'}, {'ukrainerussiawar', 'ukrainewar'}, {'ukrainerussiawar', 'nato'}, {'putin', 'ukrain'}, {'kherson', 'putin'}, {'world', 'putin'}, {'putin', 'ukrainewar'}, {'putin', 'nato'}, {'kherson', 'ukrain'}, {'world', 'ukrain'}, {'ukrainewar', 'ukrain'}, {'nato', 'ukrain'}, {'kherson', 'world'}, {'kherson', 'ukrainewar'}, {'kherson', 'nato'}, {'world', 'ukrainewar'}, {'world', 'nato'}, {'ukrainewar', 'nato'}]\n",
            "{'russian', 'russia', 'war', 'ukrainian', 'ukrain', 'putin'}\n",
            "[{'war', 'russian', 'russia'}, {'russian', 'ukrainian', 'russia'}, {'russian', 'russia', 'ukrain'}, {'russian', 'russia', 'putin'}, {'war', 'russian', 'ukrainian'}, {'war', 'russian', 'ukrain'}, {'war', 'russian', 'putin'}, {'russian', 'ukrainian', 'ukrain'}, {'russian', 'ukrainian', 'putin'}, {'russian', 'putin', 'ukrain'}, {'war', 'ukrainian', 'russia'}, {'war', 'russia', 'ukrain'}, {'war', 'russia', 'putin'}, {'ukrainian', 'russia', 'ukrain'}, {'ukrainian', 'russia', 'putin'}, {'russia', 'putin', 'ukrain'}, {'war', 'ukrainian', 'ukrain'}, {'war', 'ukrainian', 'putin'}, {'war', 'putin', 'ukrain'}, {'ukrainian', 'putin', 'ukrain'}]\n",
            "Runtime is 129.58631539344788\n"
          ]
        }
      ]
    },
    {
      "cell_type": "code",
      "source": [
        "results_05_10_C_005.collect()"
      ],
      "metadata": {
        "colab": {
          "base_uri": "https://localhost:8080/"
        },
        "id": "6dX4mOo6AmA-",
        "outputId": "145357cc-7c49-43c3-e5b1-55273ca1098c"
      },
      "execution_count": 107,
      "outputs": [
        {
          "output_type": "execute_result",
          "data": {
            "text/plain": [
              "['ukrain',\n",
              " 'kherson',\n",
              " 'standwithukrain',\n",
              " 'war',\n",
              " 'russia',\n",
              " 'region',\n",
              " 'ukrainerussiawar',\n",
              " 'russian',\n",
              " 'forc',\n",
              " 'nato',\n",
              " 'ukrainewar',\n",
              " 'putin',\n",
              " 'ukrainian',\n",
              " 'world',\n",
              " ('russia', 'russian'),\n",
              " ('ukrain', 'russian'),\n",
              " ('putin', 'russia'),\n",
              " ('russia', 'ukrain'),\n",
              " ('ukrain', 'war'),\n",
              " ('ukrain', 'ukrainian'),\n",
              " ('putin', 'ukrain')]"
            ]
          },
          "metadata": {},
          "execution_count": 107
        }
      ]
    },
    {
      "cell_type": "code",
      "source": [
        "import pandas as pd\n",
        "##Larger datasets\n",
        "#feb 22,752 - 1856.8 ---find a lot of words\n",
        "#mar 39,625 - 2835.2 -----find a lot of words\n",
        "\n",
        "##Avg datasets\n",
        "#apr 25,913 - 768.7 \n",
        "#may 25,813 - 646.52\n",
        "#jun 18,299 - 496.02\n",
        "#jul  8,893 -253.820 \n",
        "\n",
        "##Considerably smaller dataset -- can incr support perc given runtime.\n",
        "#aug  2,300 -62.7 \n",
        "#sep  4,786 - 119.0\n",
        "#oct  2,555 - 64.93\n",
        "import matplotlib.pyplot as plt\n",
        "samplesize=[396249, 249227,227513, 182985, 88929, 47859, 22911]\n",
        "elapsed_time=[3736,955.5,856.0,624.7,311.3,137.0,64.5]\n",
        "\n",
        "time_threshold_ratio = pd.DataFrame()\n",
        "time_threshold_ratio['Elapsed_time'] = elapsed_time\n",
        "time_threshold_ratio['Sample Size'] = samplesize\n",
        "plt.plot(time_threshold_ratio['Sample Size'], time_threshold_ratio['Elapsed_time'],\n",
        "         label = 'A-Priori algorithm', marker = 'o')\n",
        "plt.xlabel('Sample Size')\n",
        "plt.ylabel('Elapsed time in seconds')\n",
        "plt.savefig('time_size.jpg')\n",
        "plt.legend()\n",
        "plt.title('Time/Size')\n",
        "plt.show()"
      ],
      "metadata": {
        "colab": {
          "base_uri": "https://localhost:8080/",
          "height": 295
        },
        "id": "02PSNRaTJnsc",
        "outputId": "257922f3-3e82-4994-e64f-27ea119257eb"
      },
      "execution_count": 3,
      "outputs": [
        {
          "output_type": "display_data",
          "data": {
            "text/plain": [
              "<Figure size 432x288 with 1 Axes>"
            ],
            "image/png": "[encoded data removed]"
          },
          "metadata": {
            "needs_background": "light"
          }
        }
      ]
    }
  ]
}